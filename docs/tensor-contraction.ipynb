{
 "cells": [
  {
   "cell_type": "markdown",
   "id": "d446ce25-344f-4c86-9486-29c9cb196e88",
   "metadata": {
    "raw_mimetype": "text/restructuredtext",
    "tags": []
   },
   "source": [
    "(tensor-network-contraction)=\n",
    "\n",
    "# Contraction\n",
    "\n",
    "One of the core tasks of any tensor network algorithm is *contracting* a\n",
    "network of tensors into the single tensor, be it a scalar or a\n",
    "multi-dimensional, that it implicitly represents.\n",
    "\n",
    "\n",
    "one of the core tasks of any tensor network algorithm: collection of tensors -> single tensor defined as sum of products\n",
    "$$\n",
    "T_{\\{ e_\\mathrm{out} \\}} = \\sum_{ \\{ e\\} / \\{ e_\\mathrm{out} \\} }  \\prod_v T^{[v]}_{\\{ e_v \\}}\n",
    "$$\n",
    "\n",
    "exponentially slow to do sum directly since we would have evaluate every single\n",
    "combination of index value assignments."
   ]
  },
  {
   "cell_type": "code",
   "execution_count": 1,
   "id": "bc8a4ba6-5d2b-4e8a-b95d-48672d131e42",
   "metadata": {},
   "outputs": [
    {
     "data": {
      "image/svg+xml": [
       "<?xml version=\"1.0\" encoding=\"UTF-8\"?><!DOCTYPE svg  PUBLIC '-//W3C//DTD SVG 1.1//EN'  'http://www.w3.org/Graphics/SVG/1.1/DTD/svg11.dtd'><svg width=\"402.24pt\" height=\"187.68pt\" version=\"1.1\" viewBox=\"0 0 402.24 187.68\" xmlns=\"http://www.w3.org/2000/svg\" xmlns:xlink=\"http://www.w3.org/1999/xlink\"><defs><style type=\"text/css\">*{stroke-linejoin: round; stroke-linecap: butt}</style></defs><path d=\"m0 187.68h402.24v-187.68h-402.24v187.68z\" opacity=\"0\"/><path d=\"m252.92 35.926 85.799-25.321\" clip-path=\"url(#ce235d102f6)\" fill=\"none\" stroke=\"#737880\" stroke-linecap=\"round\" stroke-opacity=\".5\"/><path d=\"m252.92 35.926-78.274-13.239\" clip-path=\"url(#ce235d102f6)\" fill=\"none\" stroke=\"#737880\" stroke-linecap=\"round\" stroke-opacity=\".5\" stroke-width=\"1.585\"/><path d=\"m252.92 35.926-78.04 50.34\" clip-path=\"url(#ce235d102f6)\" fill=\"none\" stroke=\"#737880\" stroke-linecap=\"round\" stroke-opacity=\".5\" stroke-width=\"1.585\"/><path d=\"m174.88 86.266-78.409-49.765\" clip-path=\"url(#ce235d102f6)\" fill=\"none\" stroke=\"#737880\" stroke-linecap=\"round\" stroke-opacity=\".5\" stroke-width=\"1.585\"/><path d=\"m174.88 86.266 0.3335 90.806\" clip-path=\"url(#ce235d102f6)\" fill=\"none\" stroke=\"#737880\" stroke-linecap=\"round\" stroke-opacity=\".5\" stroke-width=\"1.585\"/><path d=\"m174.88 86.266-0.23361-63.579\" clip-path=\"url(#ce235d102f6)\" fill=\"none\" stroke=\"#737880\" stroke-linecap=\"round\" stroke-opacity=\".5\" stroke-width=\"2\"/><path d=\"m96.47 36.502-85.988-24.693\" clip-path=\"url(#ce235d102f6)\" fill=\"none\" stroke=\"#737880\" stroke-linecap=\"round\" stroke-opacity=\".5\" stroke-width=\"1.585\"/><path d=\"m96.47 36.502 78.175-13.815\" clip-path=\"url(#ce235d102f6)\" fill=\"none\" stroke=\"#737880\" stroke-linecap=\"round\" stroke-opacity=\".5\" stroke-width=\"2\"/><path d=\"m338.72 10.606z\" clip-path=\"url(#ce235d102f6)\" fill=\"#ffffff\"/><path d=\"m175.21 177.07z\" clip-path=\"url(#ce235d102f6)\" fill=\"#ffffff\"/><path d=\"m10.482 11.809z\" clip-path=\"url(#ce235d102f6)\" fill=\"#ffffff\"/><path d=\"m252.92 48.453c3.3221 0 6.5085-1.3199 8.8576-3.6689 2.3491-2.3491 3.6689-5.5355 3.6689-8.8576 0-3.3221-1.3199-6.5085-3.6689-8.8576-2.3491-2.3491-5.5355-3.6689-8.8576-3.6689-3.3221 0-6.5085 1.3199-8.8576 3.6689-2.3491 2.3491-3.6689 5.5355-3.6689 8.8576 0 3.3221 1.3199 6.5085 3.6689 8.8576 2.3491 2.3491 5.5355 3.6689 8.8576 3.6689z\" clip-path=\"url(#ce235d102f6)\" fill=\"#56b4e9\" stroke=\"#4da2d2\" stroke-width=\"1.7885\"/><path d=\"m174.88 98.793c3.3221 0 6.5085-1.3199 8.8576-3.6689 2.3491-2.3491 3.6689-5.5355 3.6689-8.8576 0-3.3221-1.3199-6.5085-3.6689-8.8576-2.3491-2.3491-5.5355-3.6689-8.8576-3.6689-3.3221 0-6.5085 1.3199-8.8576 3.6689-2.3491 2.3491-3.6689 5.5355-3.6689 8.8576 0 3.3221 1.3199 6.5085 3.6689 8.8576 2.3491 2.3491 5.5355 3.6689 8.8576 3.6689z\" clip-path=\"url(#ce235d102f6)\" fill=\"#e69f00\" stroke=\"#cf8f00\" stroke-width=\"1.7885\"/><path d=\"m96.47 49.028c3.3221 0 6.5085-1.3199 8.8576-3.6689 2.3491-2.3491 3.6689-5.5355 3.6689-8.8576 0-3.3221-1.3199-6.5085-3.6689-8.8576-2.3491-2.3491-5.5355-3.6689-8.8576-3.6689s-6.5085 1.3199-8.8576 3.6689c-2.3491 2.3491-3.6689 5.5355-3.6689 8.8576 0 3.3221 1.3199 6.5085 3.6689 8.8576 2.3491 2.3491 5.5355 3.6689 8.8576 3.6689z\" clip-path=\"url(#ce235d102f6)\" fill=\"#009e73\" stroke=\"#008e68\" stroke-width=\"1.7885\"/><path d=\"m174.64 35.214c3.3221 0 6.5085-1.3199 8.8576-3.6689 2.3491-2.3491 3.6689-5.5355 3.6689-8.8576 0-3.3221-1.3199-6.5085-3.6689-8.8576-2.3491-2.3491-5.5355-3.6689-8.8576-3.6689-3.3221 0-6.5085 1.3199-8.8576 3.6689-2.3491 2.3491-3.6689 5.5355-3.6689 8.8576 0 3.3221 1.3199 6.5085 3.6689 8.8576 2.3491 2.3491 5.5355 3.6689 8.8576 3.6689z\" clip-path=\"url(#ce235d102f6)\" fill=\"#d55e00\" stroke=\"#c05500\" stroke-width=\"1.7885\"/><g transform=\"translate(336.61 12.556) scale(.07 -.07)\" fill=\"#545759\"><defs><path id=\"DejaVuSansMono-61\" transform=\"scale(.015625)\" d=\"m2194 1759h-191q-503 0-758-177-254-176-254-526 0-315 190-490 191-175 528-175 475 0 747 329 272 330 275 911v128h-537zm1115 238v-1997h-578v519q-184-313-464-462-279-148-679-148-535 0-854 302-318 302-318 808 0 584 392 887t1151 303h772v91q-3 419-213 608-209 189-668 189-294 0-594-85-300-84-584-246v575q319 122 611 182 292 61 567 61 434 0 742-128t499-384q118-156 168-386t50-689z\"/></defs><use xlink:href=\"#DejaVuSansMono-61\"/></g><g transform=\"translate(173.1 179.02) scale(.07 -.07)\" fill=\"#545759\"><defs><path id=\"DejaVuSansMono-65\" transform=\"scale(.015625)\" d=\"m3475 1894v-281h-2491v-19q0-572 298-885 299-312 843-312 275 0 575 87 300 88 641 266v-572q-328-134-633-201-305-68-589-68-816 0-1276 489-459 490-459 1349 0 837 450 1337t1200 500q669 0 1055-453t386-1237zm-575 169q-12 506-239 770t-652 264q-415 0-684-275t-319-763l1894 4z\"/></defs><use xlink:href=\"#DejaVuSansMono-65\"/></g><g transform=\"translate(8.3752 13.711) scale(.07 -.07)\" fill=\"#545759\"><defs><path id=\"DejaVuSansMono-67\" transform=\"scale(.015625)\" d=\"m2681 1778q0 647-211 983t-614 336q-422 0-644-336-221-336-221-983t223-986q224-339 649-339 396 0 607 340 211 341 211 985zm575-1553q0-788-372-1194-371-406-1093-406-238 0-498 44-259 43-518 128v569q306-144 556-213t460-69q465 0 677 254 213 253 213 803v25 390q-137-293-375-437-237-144-578-144-612 0-978 490-366 491-366 1313 0 825 366 1315 366 491 978 491 338 0 572-134t381-416v454h575v-3263z\"/></defs><use xlink:href=\"#DejaVuSansMono-67\"/></g><g transform=\"translate(249.91 38.712) scale(.1 -.1)\" fill=\"#545759\"><defs><path id=\"DejaVuSansMono-41\" transform=\"scale(.015625)\" d=\"m1925 4109-666-2387h1332l-666 2387zm-381 557h765l1429-4666h-654l-343 1216h-1635l-337-1216h-653l1428 4666z\"/></defs><use xlink:href=\"#DejaVuSansMono-41\"/></g><g transform=\"translate(171.87 89.052) scale(.1 -.1)\" fill=\"#545759\"><defs><path id=\"DejaVuSansMono-42\" transform=\"scale(.015625)\" d=\"m1153 2228v-1709h747q550 0 784 192 235 192 235 633 0 456-247 670t-772 214h-747zm0 1919v-1406h735q456 0 660 175 205 175 205 565 0 353-202 509-201 157-663 157h-735zm-634 519h1381q716 0 1103-310 388-309 388-875 0-428-205-675t-614-309q459-69 720-393 261-323 261-823 0-634-416-958-415-323-1237-323h-1381v4666z\"/></defs><use xlink:href=\"#DejaVuSansMono-42\"/></g><g transform=\"translate(93.46 39.288) scale(.1 -.1)\" fill=\"#545759\"><defs><path id=\"DejaVuSansMono-43\" transform=\"scale(.015625)\" d=\"m3353 166q-240-128-494-192-253-65-537-65-897 0-1393 634-495 635-495 1785 0 1144 498 1783 499 639 1390 639 284 0 537-64 254-64 494-192v-647q-231 191-497 291-265 100-534 100-616 0-922-475t-306-1435q0-956 306-1431t922-475q275 0 539 100t492 291v-647z\"/></defs><use xlink:href=\"#DejaVuSansMono-43\"/></g><g transform=\"translate(171.63 25.473) scale(.1 -.1)\" fill=\"#545759\"><defs><path id=\"DejaVuSansMono-44\" transform=\"scale(.015625)\" d=\"m1363 519q796 0 1112 392t316 1417q0 1035-314 1427t-1114 392h-300v-3628h300zm12 4147q1069 0 1575-569t506-1769q0-1194-506-1761t-1575-567h-947v4666h947z\"/></defs><use xlink:href=\"#DejaVuSansMono-44\"/></g><path d=\"m349 123.95h44.041q2 0 2-2v-57.925q0-2-2-2h-44.041q-2 0-2 2v57.925q0 2 2 2z\" fill=\"none\" stroke=\"#999999\" stroke-opacity=\".2\"/><defs><path id=\"2859e77e770\" d=\"m0 5c1.326 0 2.5979-0.52683 3.5355-1.4645 0.93763-0.93764 1.4645-2.2095 1.4645-3.5355s-0.52683-2.5979-1.4645-3.5355c-0.93764-0.93763-2.2095-1.4645-3.5355-1.4645s-2.5979 0.52683-3.5355 1.4645c-0.93763 0.93764-1.4645 2.2095-1.4645 3.5355s0.52683 2.5979 1.4645 3.5355c0.93764 0.93763 2.2095 1.4645 3.5355 1.4645z\" stroke=\"#4da2d2\"/></defs><use x=\"361\" y=\"70.179218\" fill=\"#56b4e9\" stroke=\"#4da2d2\" xlink:href=\"#2859e77e770\"/><g transform=\"translate(379 73.679) scale(.1 -.1)\" fill=\"#545759\"><defs></defs><use xlink:href=\"#DejaVuSansMono-20\"/><use x=\"60.205078\" xlink:href=\"#DejaVuSansMono-41\"/></g><defs><path id=\"600cfe9305f\" d=\"m0 5c1.326 0 2.5979-0.52683 3.5355-1.4645 0.93763-0.93764 1.4645-2.2095 1.4645-3.5355s-0.52683-2.5979-1.4645-3.5355c-0.93764-0.93763-2.2095-1.4645-3.5355-1.4645s-2.5979 0.52683-3.5355 1.4645c-0.93763 0.93764-1.4645 2.2095-1.4645 3.5355s0.52683 2.5979 1.4645 3.5355c0.93764 0.93763 2.2095 1.4645 3.5355 1.4645z\" stroke=\"#cf8f00\"/></defs><use x=\"361\" y=\"84.910468\" fill=\"#e69f00\" stroke=\"#cf8f00\" xlink:href=\"#600cfe9305f\"/><g transform=\"translate(379 88.41) scale(.1 -.1)\" fill=\"#545759\"><use xlink:href=\"#DejaVuSansMono-20\"/><use x=\"60.205078\" xlink:href=\"#DejaVuSansMono-42\"/></g><defs><path id=\"4d46c25cd24\" d=\"m0 5c1.326 0 2.5979-0.52683 3.5355-1.4645 0.93763-0.93764 1.4645-2.2095 1.4645-3.5355s-0.52683-2.5979-1.4645-3.5355c-0.93764-0.93763-2.2095-1.4645-3.5355-1.4645s-2.5979 0.52683-3.5355 1.4645c-0.93763 0.93764-1.4645 2.2095-1.4645 3.5355s0.52683 2.5979 1.4645 3.5355c0.93764 0.93763 2.2095 1.4645 3.5355 1.4645z\" stroke=\"#008e68\"/></defs><use x=\"361\" y=\"99.641718\" fill=\"#009e73\" stroke=\"#008e68\" xlink:href=\"#4d46c25cd24\"/><g transform=\"translate(379 103.14) scale(.1 -.1)\" fill=\"#545759\"><use xlink:href=\"#DejaVuSansMono-20\"/><use x=\"60.205078\" xlink:href=\"#DejaVuSansMono-43\"/></g><defs><path id=\"b80af3d02ca\" d=\"m0 5c1.326 0 2.5979-0.52683 3.5355-1.4645 0.93763-0.93764 1.4645-2.2095 1.4645-3.5355s-0.52683-2.5979-1.4645-3.5355c-0.93764-0.93763-2.2095-1.4645-3.5355-1.4645s-2.5979 0.52683-3.5355 1.4645c-0.93763 0.93764-1.4645 2.2095-1.4645 3.5355s0.52683 2.5979 1.4645 3.5355c0.93764 0.93763 2.2095 1.4645 3.5355 1.4645z\" stroke=\"#c05500\"/></defs><use x=\"361\" y=\"114.372968\" fill=\"#d55e00\" stroke=\"#c05500\" xlink:href=\"#b80af3d02ca\"/><g transform=\"translate(379 117.87) scale(.1 -.1)\" fill=\"#545759\"><use xlink:href=\"#DejaVuSansMono-20\"/><use x=\"60.205078\" xlink:href=\"#DejaVuSansMono-44\"/></g><defs><clipPath id=\"ce235d102f6\"><rect x=\"7.2\" y=\"7.2263\" width=\"334.8\" height=\"171.53\"/></clipPath></defs></svg>"
      ],
      "text/plain": [
       "<Figure size 600x600 with 1 Axes>"
      ]
     },
     "metadata": {
      "needs_background": "light"
     },
     "output_type": "display_data"
    },
    {
     "data": {
      "image/svg+xml": [
       "<?xml version=\"1.0\" encoding=\"UTF-8\"?><!DOCTYPE svg  PUBLIC '-//W3C//DTD SVG 1.1//EN'  'http://www.w3.org/Graphics/SVG/1.1/DTD/svg11.dtd'><svg width=\"355.52pt\" height=\"347.33pt\" version=\"1.1\" viewBox=\"0 0 355.52 347.33\" xmlns=\"http://www.w3.org/2000/svg\" xmlns:xlink=\"http://www.w3.org/1999/xlink\"><defs><style type=\"text/css\">*{stroke-linejoin: round; stroke-linecap: butt}</style></defs><path d=\"m0 347.33h355.52v-347.33h-355.52v347.33z\" opacity=\"0\"/><path d=\"m198.31 173.66h-188.28\" clip-path=\"url(#ce235d102f6)\" fill=\"none\" stroke=\"#737880\" stroke-linecap=\"round\" stroke-opacity=\".5\"/><path d=\"m198.31 173.66 94.142-163.06\" clip-path=\"url(#ce235d102f6)\" fill=\"none\" stroke=\"#737880\" stroke-linecap=\"round\" stroke-opacity=\".5\" stroke-width=\"1.585\"/><path d=\"m198.31 173.66 94.142 163.06\" clip-path=\"url(#ce235d102f6)\" fill=\"none\" stroke=\"#737880\" stroke-linecap=\"round\" stroke-opacity=\".5\" stroke-width=\"1.585\"/><path d=\"m10.024 173.66z\" clip-path=\"url(#ce235d102f6)\" fill=\"#ffffff\"/><path d=\"m292.45 10.606z\" clip-path=\"url(#ce235d102f6)\" fill=\"#ffffff\"/><path d=\"m292.45 336.72z\" clip-path=\"url(#ce235d102f6)\" fill=\"#ffffff\"/><path d=\"m212.72 208.46c9.2234-3.8205 16.559-11.156 20.38-20.38s3.8205-19.598 0-28.821l-34.79 14.411z\" clip-path=\"url(#ce235d102f6)\" fill=\"#56b4e9\" stroke=\"#4da2d2\" stroke-width=\"2.6833\"/><path d=\"m233.1 159.25c-3.8205-9.2234-11.156-16.559-20.38-20.38s-19.598-3.8205-28.821 0l14.411 34.79z\" clip-path=\"url(#ce235d102f6)\" fill=\"#e69f00\" stroke=\"#cf8f00\" stroke-width=\"2.6833\"/><path d=\"m183.9 138.87c-9.2234 3.8205-16.559 11.156-20.38 20.38s-3.8205 19.598 0 28.821l34.79-14.411z\" clip-path=\"url(#ce235d102f6)\" fill=\"#009e73\" stroke=\"#008e68\" stroke-width=\"2.6833\"/><path d=\"m163.52 188.08c1.8924 4.5686 4.6663 8.7201 8.163 12.217 3.4967 3.4967 7.6481 6.2706 12.217 8.163 4.5686 1.8924 9.4656 2.8665 14.411 2.8665s9.842-0.97407 14.411-2.8665l-14.411-34.79z\" clip-path=\"url(#ce235d102f6)\" fill=\"#d55e00\" stroke=\"#c05500\" stroke-width=\"2.6833\"/><g transform=\"translate(7.9172 175.61) scale(.07 -.07)\" fill=\"#545759\"><defs><path id=\"DejaVuSansMono-61\" transform=\"scale(.015625)\" d=\"m2194 1759h-191q-503 0-758-177-254-176-254-526 0-315 190-490 191-175 528-175 475 0 747 329 272 330 275 911v128h-537zm1115 238v-1997h-578v519q-184-313-464-462-279-148-679-148-535 0-854 302-318 302-318 808 0 584 392 887t1151 303h772v91q-3 419-213 608-209 189-668 189-294 0-594-85-300-84-584-246v575q319 122 611 182 292 61 567 61 434 0 742-128t499-384q118-156 168-386t50-689z\"/></defs><use xlink:href=\"#DejaVuSansMono-61\"/></g><g transform=\"translate(290.34 12.556) scale(.07 -.07)\" fill=\"#545759\"><defs><path id=\"DejaVuSansMono-65\" transform=\"scale(.015625)\" d=\"m3475 1894v-281h-2491v-19q0-572 298-885 299-312 843-312 275 0 575 87 300 88 641 266v-572q-328-134-633-201-305-68-589-68-816 0-1276 489-459 490-459 1349 0 837 450 1337t1200 500q669 0 1055-453t386-1237zm-575 169q-12 506-239 770t-652 264q-415 0-684-275t-319-763l1894 4z\"/></defs><use xlink:href=\"#DejaVuSansMono-65\"/></g><g transform=\"translate(290.34 338.63) scale(.07 -.07)\" fill=\"#545759\"><defs><path id=\"DejaVuSansMono-67\" transform=\"scale(.015625)\" d=\"m2681 1778q0 647-211 983t-614 336q-422 0-644-336-221-336-221-983t223-986q224-339 649-339 396 0 607 340 211 341 211 985zm575-1553q0-788-372-1194-371-406-1093-406-238 0-498 44-259 43-518 128v569q306-144 556-213t460-69q465 0 677 254 213 253 213 803v25 390q-137-293-375-437-237-144-578-144-612 0-978 490-366 491-366 1313 0 825 366 1315 366 491 978 491 338 0 572-134t381-416v454h575v-3263z\"/></defs><use xlink:href=\"#DejaVuSansMono-67\"/></g><g transform=\"translate(168.21 176.45) scale(.1 -.1)\" fill=\"#545759\"><defs><path id=\"DejaVuSansMono-41\" transform=\"scale(.015625)\" d=\"m1925 4109-666-2387h1332l-666 2387zm-381 557h765l1429-4666h-654l-343 1216h-1635l-337-1216h-653l1428 4666z\"/><path id=\"DejaVuSansMono-2c\" transform=\"scale(.015625)\" d=\"m1569 947h787v-647l-615-1197h-482l310 1197v647z\"/><path id=\"DejaVuSansMono-42\" transform=\"scale(.015625)\" d=\"m1153 2228v-1709h747q550 0 784 192 235 192 235 633 0 456-247 670t-772 214h-747zm0 1919v-1406h735q456 0 660 175 205 175 205 565 0 353-202 509-201 157-663 157h-735zm-634 519h1381q716 0 1103-310 388-309 388-875 0-428-205-675t-614-309q459-69 720-393 261-323 261-823 0-634-416-958-415-323-1237-323h-1381v4666z\"/><path id=\"DejaVuSansMono-43\" transform=\"scale(.015625)\" d=\"m3353 166q-240-128-494-192-253-65-537-65-897 0-1393 634-495 635-495 1785 0 1144 498 1783 499 639 1390 639 284 0 537-64 254-64 494-192v-647q-231 191-497 291-265 100-534 100-616 0-922-475t-306-1435q0-956 306-1431t922-475q275 0 539 100t492 291v-647z\"/><path id=\"DejaVuSansMono-44\" transform=\"scale(.015625)\" d=\"m1363 519q796 0 1112 392t316 1417q0 1035-314 1427t-1114 392h-300v-3628h300zm12 4147q1069 0 1575-569t506-1769q0-1194-506-1761t-1575-567h-947v4666h947z\"/></defs><use xlink:href=\"#DejaVuSansMono-41\"/><use x=\"60.205078\" xlink:href=\"#DejaVuSansMono-2c\"/><use x=\"120.410156\" xlink:href=\"#DejaVuSansMono-20\"/><use x=\"180.615234\" xlink:href=\"#DejaVuSansMono-42\"/><use x=\"240.820312\" xlink:href=\"#DejaVuSansMono-2c\"/><use x=\"301.025391\" xlink:href=\"#DejaVuSansMono-20\"/><use x=\"361.230469\" xlink:href=\"#DejaVuSansMono-43\"/><use x=\"421.435547\" xlink:href=\"#DejaVuSansMono-2c\"/><use x=\"481.640625\" xlink:href=\"#DejaVuSansMono-20\"/><use x=\"541.845703\" xlink:href=\"#DejaVuSansMono-44\"/></g><path d=\"m302.27 204.63h44.041q2 0 2-2v-57.925q0-2-2-2h-44.041q-2 0-2 2v57.925q0 2 2 2z\" fill=\"none\" stroke=\"#999999\" stroke-opacity=\".2\"/><defs><path id=\"2859e77e770\" d=\"m0 5c1.326 0 2.5979-0.52683 3.5355-1.4645 0.93763-0.93764 1.4645-2.2095 1.4645-3.5355s-0.52683-2.5979-1.4645-3.5355c-0.93764-0.93763-2.2095-1.4645-3.5355-1.4645s-2.5979 0.52683-3.5355 1.4645c-0.93763 0.93764-1.4645 2.2095-1.4645 3.5355s0.52683 2.5979 1.4645 3.5355c0.93764 0.93763 2.2095 1.4645 3.5355 1.4645z\" stroke=\"#4da2d2\"/></defs><use x=\"314.27469\" y=\"150.853824\" fill=\"#56b4e9\" stroke=\"#4da2d2\" xlink:href=\"#2859e77e770\"/><g transform=\"translate(332.27 154.35) scale(.1 -.1)\" fill=\"#545759\"><use xlink:href=\"#DejaVuSansMono-20\"/><use x=\"60.205078\" xlink:href=\"#DejaVuSansMono-41\"/></g><defs><path id=\"600cfe9305f\" d=\"m0 5c1.326 0 2.5979-0.52683 3.5355-1.4645 0.93763-0.93764 1.4645-2.2095 1.4645-3.5355s-0.52683-2.5979-1.4645-3.5355c-0.93764-0.93763-2.2095-1.4645-3.5355-1.4645s-2.5979 0.52683-3.5355 1.4645c-0.93763 0.93764-1.4645 2.2095-1.4645 3.5355s0.52683 2.5979 1.4645 3.5355c0.93764 0.93763 2.2095 1.4645 3.5355 1.4645z\" stroke=\"#cf8f00\"/></defs><use x=\"314.27469\" y=\"165.585074\" fill=\"#e69f00\" stroke=\"#cf8f00\" xlink:href=\"#600cfe9305f\"/><g transform=\"translate(332.27 169.09) scale(.1 -.1)\" fill=\"#545759\"><use xlink:href=\"#DejaVuSansMono-20\"/><use x=\"60.205078\" xlink:href=\"#DejaVuSansMono-42\"/></g><defs><path id=\"4d46c25cd24\" d=\"m0 5c1.326 0 2.5979-0.52683 3.5355-1.4645 0.93763-0.93764 1.4645-2.2095 1.4645-3.5355s-0.52683-2.5979-1.4645-3.5355c-0.93764-0.93763-2.2095-1.4645-3.5355-1.4645s-2.5979 0.52683-3.5355 1.4645c-0.93763 0.93764-1.4645 2.2095-1.4645 3.5355s0.52683 2.5979 1.4645 3.5355c0.93764 0.93763 2.2095 1.4645 3.5355 1.4645z\" stroke=\"#008e68\"/></defs><use x=\"314.27469\" y=\"180.316324\" fill=\"#009e73\" stroke=\"#008e68\" xlink:href=\"#4d46c25cd24\"/><g transform=\"translate(332.27 183.82) scale(.1 -.1)\" fill=\"#545759\"><use xlink:href=\"#DejaVuSansMono-20\"/><use x=\"60.205078\" xlink:href=\"#DejaVuSansMono-43\"/></g><defs><path id=\"b80af3d02ca\" d=\"m0 5c1.326 0 2.5979-0.52683 3.5355-1.4645 0.93763-0.93764 1.4645-2.2095 1.4645-3.5355s-0.52683-2.5979-1.4645-3.5355c-0.93764-0.93763-2.2095-1.4645-3.5355-1.4645s-2.5979 0.52683-3.5355 1.4645c-0.93763 0.93764-1.4645 2.2095-1.4645 3.5355s0.52683 2.5979 1.4645 3.5355c0.93764 0.93763 2.2095 1.4645 3.5355 1.4645z\" stroke=\"#c05500\"/></defs><use x=\"314.27469\" y=\"195.047574\" fill=\"#d55e00\" stroke=\"#c05500\" xlink:href=\"#b80af3d02ca\"/><g transform=\"translate(332.27 198.55) scale(.1 -.1)\" fill=\"#545759\"><use xlink:href=\"#DejaVuSansMono-20\"/><use x=\"60.205078\" xlink:href=\"#DejaVuSansMono-44\"/></g><defs><clipPath id=\"ce235d102f6\"><rect x=\"7.2\" y=\"7.3448\" width=\"288.07\" height=\"332.64\"/></clipPath></defs></svg>"
      ],
      "text/plain": [
       "<Figure size 600x600 with 1 Axes>"
      ]
     },
     "metadata": {
      "needs_background": "light"
     },
     "output_type": "display_data"
    }
   ],
   "source": [
    "%config InlineBackend.figure_formats = ['svg']\n",
    "import quimb.tensor as qtn\n",
    "\n",
    "ts = (\n",
    "    qtn.rand_tensor([2, 3, 3], ['a', 'b', 'c'], 'A'),\n",
    "    qtn.rand_tensor([3, 3, 3, 4], ['c', 'd', 'e', 'f'], 'B'),\n",
    "    qtn.rand_tensor([3, 3, 4], ['d', 'g', 'h'], 'C'),\n",
    "    qtn.rand_tensor([4, 3, 4], ['h', 'b', 'f'], 'D'),\n",
    ")\n",
    "tn = qtn.TensorNetwork(ts)\n",
    "\n",
    "tn.draw(['A', 'B', 'C', 'D'])\n",
    "tn.contract().draw(['A', 'B', 'C', 'D'])"
   ]
  },
  {
   "cell_type": "markdown",
   "id": "444090fd-a0a4-4602-bdeb-6135cc61cc63",
   "metadata": {
    "raw_mimetype": "text/restructuredtext",
    "tags": []
   },
   "source": [
    "Instead pairwise path of intermediates always best cost wise -> contracting a\n",
    "pair of tenosrs can remove indices entirely from the rest of the contraction\n",
    "\n",
    "specified by \"contraction tree\", cost is incredibly sensitive\n",
    "to the choice and the space of these trees is very large -> tricky problem,\n",
    "but can be automated.\n",
    "\n",
    "Tradeoff between time spent finding the path and the time spent actually doing\n",
    "the contraction.\n",
    "\n",
    "The `optimize` kwarg.\n",
    "\n",
    "\n",
    "## contraction interfaces\n",
    "\n",
    "* [`qtn.tensor_contract`](quimb.tensor.tensor_core.tensor_contract)\n",
    "* [`ta @ tb`](quimb.tensor.tensor_core.Tensor.__matmul__)\n",
    "  for simple two tensor contract\n",
    "* [`TensorNewtork.contract`](quimb.tensor.tensor_core.TensorNetwork.contract)\n",
    "\n",
    "special forms of contraction\n",
    "\n",
    "* [`TensorNetwork.contract_tags`](quimb.tensor.tensor_core.TensorNetwork.contract_tags)\n",
    "* [`TensorNetwork.contract_between`](quimb.tensor.tensor_core.TensorNetwork.contract_between)\n",
    "* [`TensorNetwork.contract_ind`](quimb.tensor.tensor_core.TensorNetwork.contract_ind)\n",
    "* [`TensorNetwork.contract_cumulative`](quimb.tensor.tensor_core.TensorNetwork.contract_cumulative)\n",
    "* [`TensorNetwork.to_dense`](quimb.tensor.tensor_core.TensorNetwork.to_dense)\n",
    "* [`TensorNetwork.trace`](quimb.tensor.tensor_core.TensorNetwork.trace)\n",
    "\n",
    "And information methods:\n",
    "\n",
    "* [`TensorNetwork.contraction_path`](quimb.tensor.tensor_core.TensorNetwork.contraction_path)\n",
    "  : the [`opt_einsum`](https://optimized-einsum.readthedocs.io) path\n",
    "* [`TensorNetwork.contraction_info`](quimb.tensor.tensor_core.TensorNetwork.contraction_info)\n",
    "  : the `opt_einsum.PathInfo` object\n",
    "* [`TensorNetwork.contraction_tree`](quimb.tensor.tensor_core.TensorNetwork.contraction_tree)\n",
    "  : the `cotengra.ContractionTree` object\n",
    "* [`TensorNetwork.contraction_width`](quimb.tensor.tensor_core.TensorNetwork.contraction_width)\n",
    "  : log2 of the maximum size of any intermediate tensor.\n",
    "* [`TensorNetwork.contraction_cost`](quimb.tensor.tensor_core.TensorNetwork.contraction_cost)\n",
    "  : the total number of scalar operations required to perform the contraction\n",
    "\n",
    "called within many algorithms (wherever you see the `optimize` kwarg)\n",
    "\n",
    "\n",
    "## Things you can supply to the `optimize` kwarg:\n",
    "\n",
    "\n",
    "### `str` preset\n",
    "\n",
    "\n",
    "\n",
    "### `cotengra` `HyperOptimizer`\n",
    "\n",
    "### `opt_einsum` `PathOptimizer`\n",
    "\n",
    "\n",
    "### explicit contraction path\n",
    "\n",
    "### path, ssa_path, tree\n",
    "\n",
    "\n",
    "### path caching\n",
    "\n",
    "geometry hash\n",
    "\n",
    "caching within cotengra\n",
    "\n",
    "\n",
    "## Hyper edges\n",
    "\n",
    "most general einsum equation\n",
    "\n",
    "\n",
    "## Structured Contractions\n",
    "\n",
    "e.g. 1D chain\n",
    "\n",
    "\n",
    "## Approximate boundary contraction\n",
    "\n",
    "coarse graining contractions\n",
    "\n",
    "hyper edges not supported\n",
    "\n",
    "\n",
    "## Automatic approximate / compressed contraction\n",
    "\n",
    "* contract_copmressed\n",
    "* contract_around"
   ]
  }
 ],
 "metadata": {
  "kernelspec": {
   "display_name": "Python 3",
   "language": "python",
   "name": "python3"
  },
  "language_info": {
   "codemirror_mode": {
    "name": "ipython",
    "version": 3
   },
   "file_extension": ".py",
   "mimetype": "text/x-python",
   "name": "python",
   "nbconvert_exporter": "python",
   "pygments_lexer": "ipython3",
   "version": "3"
  },
  "vscode": {
   "interpreter": {
    "hash": "39c10650315d977fb13868ea1402e99f3e10e9885c2c202e692ae90b8995050d"
   }
  }
 },
 "nbformat": 4,
 "nbformat_minor": 5
}
