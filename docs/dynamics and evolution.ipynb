{
 "cells": [
  {
   "cell_type": "markdown",
   "id": "dc15734d-8749-49ae-be80-c3392e9699e1",
   "metadata": {
    "raw_mimetype": "text/restructuredtext"
   },
   "source": [
    "# Time Evolution\n",
    "\n",
    "Time evolutions in `quimb` are handled by the class {class}`~quimb.evo.Evolution`, which is initialized with a starting state and hamiltonian.\n",
    "\n",
    "## Basic Usage\n",
    "\n",
    "Set up the {class}`~quimb.evo.Evolution` object with a initial state and hamiltonian."
   ]
  },
  {
   "cell_type": "code",
   "execution_count": 1,
   "id": "1330c133-a456-4273-b4e9-0f5edab0040d",
   "metadata": {},
   "outputs": [],
   "source": [
    "from quimb import *\n",
    "\n",
    "p0 = rand_ket(2**10)\n",
    "h = ham_heis(10, sparse=True)\n",
    "evo = Evolution(p0, h)"
   ]
  },
  {
   "cell_type": "markdown",
   "id": "bad44ff5-2dcc-43e1-912c-aff549e44221",
   "metadata": {},
   "source": [
    "Update it in a single shot to a new time and get the state,"
   ]
  },
  {
   "cell_type": "code",
   "execution_count": 2,
   "id": "2edbe41e-48c8-4e69-b393-f3dbce606845",
   "metadata": {},
   "outputs": [
    {
     "data": {
      "text/plain": [
       "[[0.006074+0.011257j]\n",
       " [0.028495+0.016557j]\n",
       " [0.01617 -0.015705j]\n",
       " ...\n",
       " [0.018271+0.026071j]\n",
       " [0.018582-0.016482j]\n",
       " [0.027511+0.048377j]]"
      ]
     },
     "execution_count": 2,
     "metadata": {},
     "output_type": "execute_result"
    }
   ],
   "source": [
    "evo.update_to(1)\n",
    "evo.pt"
   ]
  },
  {
   "cell_type": "markdown",
   "id": "b5764132-0502-4650-a401-0c83f4cf23d6",
   "metadata": {},
   "source": [
    "Lazily generate the state at multiple times:"
   ]
  },
  {
   "cell_type": "code",
   "execution_count": 3,
   "id": "2b138fbe-6ac1-4ceb-beb8-6b5c2e3e0184",
   "metadata": {},
   "outputs": [
    {
     "name": "stdout",
     "output_type": "stream",
     "text": [
      "0.003244693043705576\n",
      "0.008360765055266119\n",
      "0.009413166876677937\n"
     ]
    }
   ],
   "source": [
    "for pt in evo.at_times([2, 3, 4]):\n",
    "    print(expec(pt, p0))"
   ]
  },
  {
   "cell_type": "markdown",
   "id": "3c8ea54a-ac64-4afd-81ef-7e87608aaaef",
   "metadata": {
    "raw_mimetype": "text/restructuredtext"
   },
   "source": [
    "## Methods of Updating\n",
    "\n",
    "There are three methods of updating the state:\n",
    "\n",
    "> - `Evolution(..., method='integrate')`: use definite integration.\n",
    ">   Get system at each time step, only need action of Hamiltonian on\n",
    ">   state. Generally efficient. For pure and mixed states. The\n",
    ">   additional option `int_small_step={False, True}` determines\n",
    ">   whether a low or high order adaptive stepping scheme is used,\n",
    ">   giving naturally smaller or larger times steps. See\n",
    ">   {class}`scipy.integrate.ode` for details, `False` corresponds\n",
    ">   to `\"dop853\"`, `True` to `\"dopri5\"`.\n",
    "> - `Evolution(..., method='solve')`. Diagonalize the hamiltonian,\n",
    ">   which once done, allows quickly updating to arbitrary times.\n",
    ">   Supports pure and mixed states, recomended for small systems.\n",
    "> - `Evolution(..., method='expm')`: compute the evolved state\n",
    ">   using the action of the matrix exponential in a 'single shot'\n",
    ">   style. Only needs action of Hamiltonian, for very large systems\n",
    ">   can use distributed MPI. Only for pure states.\n",
    "\n",
    "## Computing on the fly\n",
    "\n",
    "Sometimes, if integrating, it is best to just query the state at time-steps chosen dynamically by the adaptive scheme. This is achieved using the `compute` keyword supplied to `Evolution`. It can also just be a convenient way to set up calculations as well:"
   ]
  },
  {
   "cell_type": "code",
   "execution_count": 4,
   "id": "0dc964f7-5ac2-44ad-aaeb-320609078861",
   "metadata": {},
   "outputs": [
    {
     "name": "stderr",
     "output_type": "stream",
     "text": [
      "100%|##########| 100/100 [00:00<00:00, 20144.58%/s]\n"
     ]
    }
   ],
   "source": [
    "p0 = rand_product_state(10)\n",
    "h = ham_heis(10, sparse=True)\n",
    "\n",
    "dims = [2] * 10\n",
    "sysa, sysb = (0, 1), (2, 3)\n",
    "\n",
    "def calc_t_and_logneg(t, pt):\n",
    "    ln = logneg_subsys(pt, dims, sysa, sysb)\n",
    "    return t, ln\n",
    "\n",
    "evo = Evolution(p0, h, compute=calc_t_and_logneg, progbar=True)\n",
    "evo.update_to(1)\n",
    "\n",
    "ts, lns = zip(*evo.results)"
   ]
  },
  {
   "cell_type": "code",
   "execution_count": 5,
   "id": "2387b525-54e8-4dca-ae42-8d5eca0b9916",
   "metadata": {},
   "outputs": [
    {
     "data": {
      "text/plain": [
       "(0.0,\n",
       " 0.2494153162899183,\n",
       " 0.4631400312076022,\n",
       " 0.6768647461252861,\n",
       " 0.9475557600771725,\n",
       " 1.0)"
      ]
     },
     "execution_count": 5,
     "metadata": {},
     "output_type": "execute_result"
    }
   ],
   "source": [
    "ts"
   ]
  },
  {
   "cell_type": "code",
   "execution_count": 6,
   "id": "0908d890-675e-449e-aa3c-a82c7d03aab8",
   "metadata": {},
   "outputs": [
    {
     "data": {
      "text/plain": [
       "(0.0,\n",
       " 0.2589846231770502,\n",
       " 0.4423181326621942,\n",
       " 0.592697104829058,\n",
       " 0.7379099150663264,\n",
       " 0.7601643146969251)"
      ]
     },
     "execution_count": 6,
     "metadata": {},
     "output_type": "execute_result"
    }
   ],
   "source": [
    "lns"
   ]
  },
  {
   "cell_type": "markdown",
   "id": "2636ba38-c42b-4f56-b495-e968c8d8d464",
   "metadata": {
    "raw_mimetype": "text/restructuredtext"
   },
   "source": [
    "If a dict of callables is supplied to `compute`, (each should take two arguments, the time, and the state, as above), `Evolution.results` will itself be a dictionary containing the results of each function at each time step, under the respective key. This can be more convenient:"
   ]
  },
  {
   "cell_type": "code",
   "execution_count": 7,
   "id": "55c0a8d7-ad7b-43ff-8b6d-ff60560001f6",
   "metadata": {},
   "outputs": [
    {
     "name": "stderr",
     "output_type": "stream",
     "text": [
      "100%|##########| 100/100 [00:00<00:00, 18631.41%/s]\n"
     ]
    }
   ],
   "source": [
    "def calc_t(t, _):\n",
    "    return t\n",
    "\n",
    "def calc_logneg(_, pt):\n",
    "    return logneg_subsys(pt, [2]*10, 0, 1)\n",
    "\n",
    "evo = Evolution(p0, h, compute={'t': calc_t, 'ln': calc_logneg}, progbar=True)\n",
    "evo.update_to(1)"
   ]
  },
  {
   "cell_type": "code",
   "execution_count": 8,
   "id": "972f485b-64c4-46e5-86b4-16cbd93d81a2",
   "metadata": {},
   "outputs": [
    {
     "data": {
      "text/plain": [
       "{'t': [0.0,\n",
       "  0.2494153162899183,\n",
       "  0.4631400312076022,\n",
       "  0.6768647461252861,\n",
       "  0.9475557600771725,\n",
       "  1.0],\n",
       " 'ln': [0.0,\n",
       "  0.150158101589196,\n",
       "  0.23732495484813082,\n",
       "  0.2922696608578911,\n",
       "  0.3242059171688551,\n",
       "  0.3263498611123527]}"
      ]
     },
     "execution_count": 8,
     "metadata": {},
     "output_type": "execute_result"
    }
   ],
   "source": [
    "evo.results"
   ]
  },
  {
   "cell_type": "markdown",
   "id": "d904d5df-f633-4b96-98cd-234f326e98fa",
   "metadata": {
    "raw_mimetype": "text/restructuredtext"
   },
   "source": [
    "(time-dependent-evolution)=\n",
    "\n",
    "## Time-Dependent Evolutions\n",
    "\n",
    "If you are using `method='integrate'` you can supply a callable to `ham` to evolve the state with a time dependent Hamiltonian. It should take a single argument `t` and return the Hamiltonian at the time. It probably makes sense to use a custom class here to avoid reconstructing as much of the Hamiltonian as possible at each step.\n",
    "\n",
    "Here we'll evolve the Neel state:\n",
    "\n",
    "$$\n",
    "| \\psi(0) \\rangle  = | \\uparrow \\downarrow \\uparrow \\downarrow \\uparrow \\ldots \\rangle\n",
    "$$\n",
    "\n",
    "with the Hamiltonian:\n",
    "\n",
    "$$\n",
    "H(t) = \\sum_{i = 0}^{L - 1} S^Z_{i} S^Z_{i + 1} + \\cos(t) \\sum_{i}^{L} S^X_i\n",
    "$$"
   ]
  },
  {
   "cell_type": "code",
   "execution_count": 9,
   "id": "c64f70b8-a689-4fc9-ac49-eb90e2c5921c",
   "metadata": {},
   "outputs": [],
   "source": [
    "class MyTimeDepIsingHam:\n",
    "\n",
    "    def __init__(self, L):\n",
    "        self.h_interaction = ham_ising(L, sparse=True, jz=1.0, bx=0.0, cyclic=False)\n",
    "        self.h_field = ham_ising(L, sparse=True, jz=0.0, bx=1.0, cyclic=False)\n",
    "\n",
    "    def __call__(self, t):\n",
    "        return self.h_interaction + cos(t) * self.h_field"
   ]
  },
  {
   "cell_type": "code",
   "execution_count": 10,
   "id": "1480b979-aa44-4726-b01d-830f767613e4",
   "metadata": {},
   "outputs": [],
   "source": [
    "L = 16\n",
    "\n",
    "# our initial state\n",
    "psi0 = neel_state(L)\n",
    "\n",
    "# instantiate the ham object, it's __call__ method will be used by Evolution\n",
    "fn_ham_t = MyTimeDepIsingHam(L)"
   ]
  },
  {
   "cell_type": "markdown",
   "id": "0a86b6c6-8a02-44b0-ac25-85f074af69c5",
   "metadata": {},
   "source": [
    "We still want to compute some properties during the evolution:"
   ]
  },
  {
   "cell_type": "code",
   "execution_count": 11,
   "id": "67a204ea-4f14-435d-b68d-746756ad77e1",
   "metadata": {},
   "outputs": [],
   "source": [
    "compute = {\n",
    "    'time': lambda t, p: t,\n",
    "    'entropy': lambda t, p: entropy_subsys(p, dims=[2] * L, sysa=range(L // 2))\n",
    "}"
   ]
  },
  {
   "cell_type": "markdown",
   "id": "256af3bb-af91-4139-bfa9-68f6703403c9",
   "metadata": {},
   "source": [
    "Now we set up the evolution object again:"
   ]
  },
  {
   "cell_type": "code",
   "execution_count": 12,
   "id": "e2608200-f85e-461f-b347-116b8b464d24",
   "metadata": {},
   "outputs": [],
   "source": [
    "evo = Evolution(psi0, fn_ham_t, progbar=True, compute=compute)"
   ]
  },
  {
   "cell_type": "code",
   "execution_count": 13,
   "id": "d26978f4-1fb2-4f8a-b0d6-1338fff320f6",
   "metadata": {},
   "outputs": [
    {
     "name": "stderr",
     "output_type": "stream",
     "text": [
      "100%|##########| 100/100 [00:07<00:00, 12.53%/s]\n"
     ]
    }
   ],
   "source": [
    "evo.update_to(10)"
   ]
  },
  {
   "cell_type": "markdown",
   "id": "4735d921-676f-4db6-8dc8-573b42f44f3f",
   "metadata": {},
   "source": [
    "We can plot the half chain entropy that we computed on the fly:"
   ]
  },
  {
   "cell_type": "code",
   "execution_count": 14,
   "id": "e4d8cb4e-16ab-47dd-8a01-e0c91836b5dc",
   "metadata": {},
   "outputs": [
    {
     "data": {
      "image/png": "[encoded data removed]",
      "image/svg+xml": [
       "<?xml version=\"1.0\" encoding=\"UTF-8\"?><!DOCTYPE svg  PUBLIC '-//W3C//DTD SVG 1.1//EN'  'http://www.w3.org/Graphics/SVG/1.1/DTD/svg11.dtd'><svg width=\"394.42pt\" height=\"297.19pt\" version=\"1.1\" viewBox=\"0 0 394.42 297.19\" xmlns=\"http://www.w3.org/2000/svg\" xmlns:xlink=\"http://www.w3.org/1999/xlink\"><defs><style type=\"text/css\">*{stroke-linejoin: round; stroke-linecap: butt}</style></defs><path d=\"m0 297.19h394.42v-297.19h-394.42v297.19z\" fill=\"none\"/><path d=\"m30.103 273.31h357.12v-266.11h-357.12v266.11z\" fill=\"none\"/><path d=\"m46.336 273.31v-266.11\" clip-path=\"url(#a800a4d4c8c)\" fill=\"none\" stroke=\"#808080\" stroke-linecap=\"square\" stroke-opacity=\".1\" stroke-width=\".8\"/><defs><path id=\"adfbda580e3\" d=\"m0 0v3.5\" stroke=\"#808080\" stroke-width=\".8\"/></defs><use x=\"46.335852\" y=\"273.312\" fill=\"#808080\" stroke=\"#808080\" stroke-width=\".8\" xlink:href=\"#adfbda580e3\"/><g transform=\"translate(43.155 287.91) scale(.1 -.1)\" fill=\"#808080\"><defs><path id=\"DejaVuSans-30\" transform=\"scale(.015625)\" d=\"m2034 4250q-487 0-733-480-245-479-245-1442 0-959 245-1439 246-480 733-480 491 0 736 480 246 480 246 1439 0 963-246 1442-245 480-736 480zm0 500q785 0 1199-621 414-620 414-1801 0-1178-414-1799-414-620-1199-620-784 0-1198 620-414 621-414 1799 0 1181 414 1801 414 621 1198 621z\"/></defs><use xlink:href=\"#DejaVuSans-30\"/></g><path d=\"m111.27 273.31v-266.11\" clip-path=\"url(#a800a4d4c8c)\" fill=\"none\" stroke=\"#808080\" stroke-linecap=\"square\" stroke-opacity=\".1\" stroke-width=\".8\"/><use x=\"111.266761\" y=\"273.312\" fill=\"#808080\" stroke=\"#808080\" stroke-width=\".8\" xlink:href=\"#adfbda580e3\"/><g transform=\"translate(108.09 287.91) scale(.1 -.1)\" fill=\"#808080\"><defs><path id=\"DejaVuSans-32\" transform=\"scale(.015625)\" d=\"m1228 531h2203v-531h-2962v531q359 372 979 998 621 627 780 809 303 340 423 576 121 236 121 464 0 372-261 606-261 235-680 235-297 0-627-103-329-103-704-313v638q381 153 712 231 332 78 607 78 725 0 1156-363 431-362 431-968 0-288-108-546-107-257-392-607-78-91-497-524-418-433-1181-1211z\"/></defs><use xlink:href=\"#DejaVuSans-32\"/></g><path d=\"m176.2 273.31v-266.11\" clip-path=\"url(#a800a4d4c8c)\" fill=\"none\" stroke=\"#808080\" stroke-linecap=\"square\" stroke-opacity=\".1\" stroke-width=\".8\"/><use x=\"176.19767\" y=\"273.312\" fill=\"#808080\" stroke=\"#808080\" stroke-width=\".8\" xlink:href=\"#adfbda580e3\"/><g transform=\"translate(173.02 287.91) scale(.1 -.1)\" fill=\"#808080\"><defs><path id=\"DejaVuSans-34\" transform=\"scale(.015625)\" d=\"m2419 4116-1594-2491h1594v2491zm-166 550h794v-3041h666v-525h-666v-1100h-628v1100h-2106v609l1940 2957z\"/></defs><use xlink:href=\"#DejaVuSans-34\"/></g><path d=\"m241.13 273.31v-266.11\" clip-path=\"url(#a800a4d4c8c)\" fill=\"none\" stroke=\"#808080\" stroke-linecap=\"square\" stroke-opacity=\".1\" stroke-width=\".8\"/><use x=\"241.12858\" y=\"273.312\" fill=\"#808080\" stroke=\"#808080\" stroke-width=\".8\" xlink:href=\"#adfbda580e3\"/><g transform=\"translate(237.95 287.91) scale(.1 -.1)\" fill=\"#808080\"><defs><path id=\"DejaVuSans-36\" transform=\"scale(.015625)\" d=\"m2113 2584q-425 0-674-291-248-290-248-796 0-503 248-796 249-292 674-292t673 292q248 293 248 796 0 506-248 796-248 291-673 291zm1253 1979v-575q-238 112-480 171-242 60-480 60-625 0-955-422-329-422-376-1275 184 272 462 417 279 145 613 145 703 0 1111-427 408-426 408-1160 0-719-425-1154-425-434-1131-434-810 0-1238 620-428 621-428 1799 0 1106 525 1764t1409 658q238 0 480-47t505-140z\"/></defs><use xlink:href=\"#DejaVuSans-36\"/></g><path d=\"m306.06 273.31v-266.11\" clip-path=\"url(#a800a4d4c8c)\" fill=\"none\" stroke=\"#808080\" stroke-linecap=\"square\" stroke-opacity=\".1\" stroke-width=\".8\"/><use x=\"306.059489\" y=\"273.312\" fill=\"#808080\" stroke=\"#808080\" stroke-width=\".8\" xlink:href=\"#adfbda580e3\"/><g transform=\"translate(302.88 287.91) scale(.1 -.1)\" fill=\"#808080\"><defs><path id=\"DejaVuSans-38\" transform=\"scale(.015625)\" d=\"m2034 2216q-450 0-708-241-257-241-257-662 0-422 257-663 258-241 708-241t709 242q260 243 260 662 0 421-258 662-257 241-711 241zm-631 268q-406 100-633 378-226 279-226 679 0 559 398 884 399 325 1092 325 697 0 1094-325t397-884q0-400-227-679-226-278-629-378 456-106 710-416 255-309 255-755 0-679-414-1042-414-362-1186-362-771 0-1186 362-414 363-414 1042 0 446 256 755 257 310 713 416zm-231 997q0-362 226-565 227-203 636-203 407 0 636 203 230 203 230 565 0 363-230 566-229 203-636 203-409 0-636-203-226-203-226-566z\"/></defs><use xlink:href=\"#DejaVuSans-38\"/></g><path d=\"m370.99 273.31v-266.11\" clip-path=\"url(#a800a4d4c8c)\" fill=\"none\" stroke=\"#808080\" stroke-linecap=\"square\" stroke-opacity=\".1\" stroke-width=\".8\"/><use x=\"370.990398\" y=\"273.312\" fill=\"#808080\" stroke=\"#808080\" stroke-width=\".8\" xlink:href=\"#adfbda580e3\"/><g transform=\"translate(364.63 287.91) scale(.1 -.1)\" fill=\"#808080\"><defs><path id=\"DejaVuSans-31\" transform=\"scale(.015625)\" d=\"m794 531h1031v3560l-1122-225v575l1116 225h631v-4135h1031v-531h-2687v531z\"/></defs><use xlink:href=\"#DejaVuSans-31\"/><use x=\"63.623047\" xlink:href=\"#DejaVuSans-30\"/></g><defs><path id=\"9ef4a917b81\" d=\"m0 0v2\" stroke=\"#808080\" stroke-width=\".6\"/></defs><use x=\"62.56858\" y=\"273.312\" fill=\"#808080\" stroke=\"#808080\" stroke-width=\".6\" xlink:href=\"#9ef4a917b81\"/><use x=\"78.801307\" y=\"273.312\" fill=\"#808080\" stroke=\"#808080\" stroke-width=\".6\" xlink:href=\"#9ef4a917b81\"/><use x=\"95.034034\" y=\"273.312\" fill=\"#808080\" stroke=\"#808080\" stroke-width=\".6\" xlink:href=\"#9ef4a917b81\"/><use x=\"127.499489\" y=\"273.312\" fill=\"#808080\" stroke=\"#808080\" stroke-width=\".6\" xlink:href=\"#9ef4a917b81\"/><use x=\"143.732216\" y=\"273.312\" fill=\"#808080\" stroke=\"#808080\" stroke-width=\".6\" xlink:href=\"#9ef4a917b81\"/><use x=\"159.964943\" y=\"273.312\" fill=\"#808080\" stroke=\"#808080\" stroke-width=\".6\" xlink:href=\"#9ef4a917b81\"/><use x=\"192.430398\" y=\"273.312\" fill=\"#808080\" stroke=\"#808080\" stroke-width=\".6\" xlink:href=\"#9ef4a917b81\"/><use x=\"208.663125\" y=\"273.312\" fill=\"#808080\" stroke=\"#808080\" stroke-width=\".6\" xlink:href=\"#9ef4a917b81\"/><use x=\"224.895852\" y=\"273.312\" fill=\"#808080\" stroke=\"#808080\" stroke-width=\".6\" xlink:href=\"#9ef4a917b81\"/><use x=\"257.361307\" y=\"273.312\" fill=\"#808080\" stroke=\"#808080\" stroke-width=\".6\" xlink:href=\"#9ef4a917b81\"/><use x=\"273.594034\" y=\"273.312\" fill=\"#808080\" stroke=\"#808080\" stroke-width=\".6\" xlink:href=\"#9ef4a917b81\"/><use x=\"289.826761\" y=\"273.312\" fill=\"#808080\" stroke=\"#808080\" stroke-width=\".6\" xlink:href=\"#9ef4a917b81\"/><use x=\"322.292216\" y=\"273.312\" fill=\"#808080\" stroke=\"#808080\" stroke-width=\".6\" xlink:href=\"#9ef4a917b81\"/><use x=\"338.524943\" y=\"273.312\" fill=\"#808080\" stroke=\"#808080\" stroke-width=\".6\" xlink:href=\"#9ef4a917b81\"/><use x=\"354.75767\" y=\"273.312\" fill=\"#808080\" stroke=\"#808080\" stroke-width=\".6\" xlink:href=\"#9ef4a917b81\"/><use x=\"387.223125\" y=\"273.312\" fill=\"#808080\" stroke=\"#808080\" stroke-width=\".6\" xlink:href=\"#9ef4a917b81\"/><path d=\"m30.103 261.22h357.12\" clip-path=\"url(#a800a4d4c8c)\" fill=\"none\" stroke=\"#808080\" stroke-linecap=\"square\" stroke-opacity=\".1\" stroke-width=\".8\"/><defs><path id=\"0376f25d78e\" d=\"m0 0h-3.5\" stroke=\"#808080\" stroke-width=\".8\"/></defs><use x=\"30.103125\" y=\"261.216\" fill=\"#808080\" stroke=\"#808080\" stroke-width=\".8\" xlink:href=\"#0376f25d78e\"/><g transform=\"translate(7.2 265.02) scale(.1 -.1)\" fill=\"#808080\"><defs><path id=\"DejaVuSans-2e\" transform=\"scale(.015625)\" d=\"m684 794h660v-794h-660v794z\"/></defs><use xlink:href=\"#DejaVuSans-30\"/><use x=\"63.623047\" xlink:href=\"#DejaVuSans-2e\"/><use x=\"95.410156\" xlink:href=\"#DejaVuSans-30\"/></g><path d=\"m30.103 230.04h357.12\" clip-path=\"url(#a800a4d4c8c)\" fill=\"none\" stroke=\"#808080\" stroke-linecap=\"square\" stroke-opacity=\".1\" stroke-width=\".8\"/><use x=\"30.103125\" y=\"230.042009\" fill=\"#808080\" stroke=\"#808080\" stroke-width=\".8\" xlink:href=\"#0376f25d78e\"/><g transform=\"translate(7.2 233.84) scale(.1 -.1)\" fill=\"#808080\"><use xlink:href=\"#DejaVuSans-30\"/><use x=\"63.623047\" xlink:href=\"#DejaVuSans-2e\"/><use x=\"95.410156\" xlink:href=\"#DejaVuSans-32\"/></g><path d=\"m30.103 198.87h357.12\" clip-path=\"url(#a800a4d4c8c)\" fill=\"none\" stroke=\"#808080\" stroke-linecap=\"square\" stroke-opacity=\".1\" stroke-width=\".8\"/><use x=\"30.103125\" y=\"198.868019\" fill=\"#808080\" stroke=\"#808080\" stroke-width=\".8\" xlink:href=\"#0376f25d78e\"/><g transform=\"translate(7.2 202.67) scale(.1 -.1)\" fill=\"#808080\"><use xlink:href=\"#DejaVuSans-30\"/><use x=\"63.623047\" xlink:href=\"#DejaVuSans-2e\"/><use x=\"95.410156\" xlink:href=\"#DejaVuSans-34\"/></g><path d=\"m30.103 167.69h357.12\" clip-path=\"url(#a800a4d4c8c)\" fill=\"none\" stroke=\"#808080\" stroke-linecap=\"square\" stroke-opacity=\".1\" stroke-width=\".8\"/><use x=\"30.103125\" y=\"167.694028\" fill=\"#808080\" stroke=\"#808080\" stroke-width=\".8\" xlink:href=\"#0376f25d78e\"/><g transform=\"translate(7.2 171.49) scale(.1 -.1)\" fill=\"#808080\"><use xlink:href=\"#DejaVuSans-30\"/><use x=\"63.623047\" xlink:href=\"#DejaVuSans-2e\"/><use x=\"95.410156\" xlink:href=\"#DejaVuSans-36\"/></g><path d=\"m30.103 136.52h357.12\" clip-path=\"url(#a800a4d4c8c)\" fill=\"none\" stroke=\"#808080\" stroke-linecap=\"square\" stroke-opacity=\".1\" stroke-width=\".8\"/><use x=\"30.103125\" y=\"136.520038\" fill=\"#808080\" stroke=\"#808080\" stroke-width=\".8\" xlink:href=\"#0376f25d78e\"/><g transform=\"translate(7.2 140.32) scale(.1 -.1)\" fill=\"#808080\"><use xlink:href=\"#DejaVuSans-30\"/><use x=\"63.623047\" xlink:href=\"#DejaVuSans-2e\"/><use x=\"95.410156\" xlink:href=\"#DejaVuSans-38\"/></g><path d=\"m30.103 105.35h357.12\" clip-path=\"url(#a800a4d4c8c)\" fill=\"none\" stroke=\"#808080\" stroke-linecap=\"square\" stroke-opacity=\".1\" stroke-width=\".8\"/><use x=\"30.103125\" y=\"105.346047\" fill=\"#808080\" stroke=\"#808080\" stroke-width=\".8\" xlink:href=\"#0376f25d78e\"/><g transform=\"translate(7.2 109.15) scale(.1 -.1)\" fill=\"#808080\"><use xlink:href=\"#DejaVuSans-31\"/><use x=\"63.623047\" xlink:href=\"#DejaVuSans-2e\"/><use x=\"95.410156\" xlink:href=\"#DejaVuSans-30\"/></g><path d=\"m30.103 74.172h357.12\" clip-path=\"url(#a800a4d4c8c)\" fill=\"none\" stroke=\"#808080\" stroke-linecap=\"square\" stroke-opacity=\".1\" stroke-width=\".8\"/><use x=\"30.103125\" y=\"74.172057\" fill=\"#808080\" stroke=\"#808080\" stroke-width=\".8\" xlink:href=\"#0376f25d78e\"/><g transform=\"translate(7.2 77.971) scale(.1 -.1)\" fill=\"#808080\"><use xlink:href=\"#DejaVuSans-31\"/><use x=\"63.623047\" xlink:href=\"#DejaVuSans-2e\"/><use x=\"95.410156\" xlink:href=\"#DejaVuSans-32\"/></g><path d=\"m30.103 42.998h357.12\" clip-path=\"url(#a800a4d4c8c)\" fill=\"none\" stroke=\"#808080\" stroke-linecap=\"square\" stroke-opacity=\".1\" stroke-width=\".8\"/><use x=\"30.103125\" y=\"42.998066\" fill=\"#808080\" stroke=\"#808080\" stroke-width=\".8\" xlink:href=\"#0376f25d78e\"/><g transform=\"translate(7.2 46.797) scale(.1 -.1)\" fill=\"#808080\"><use xlink:href=\"#DejaVuSans-31\"/><use x=\"63.623047\" xlink:href=\"#DejaVuSans-2e\"/><use x=\"95.410156\" xlink:href=\"#DejaVuSans-34\"/></g><path d=\"m30.103 11.824h357.12\" clip-path=\"url(#a800a4d4c8c)\" fill=\"none\" stroke=\"#808080\" stroke-linecap=\"square\" stroke-opacity=\".1\" stroke-width=\".8\"/><use x=\"30.103125\" y=\"11.824076\" fill=\"#808080\" stroke=\"#808080\" stroke-width=\".8\" xlink:href=\"#0376f25d78e\"/><g transform=\"translate(7.2 15.623) scale(.1 -.1)\" fill=\"#808080\"><use xlink:href=\"#DejaVuSans-31\"/><use x=\"63.623047\" xlink:href=\"#DejaVuSans-2e\"/><use x=\"95.410156\" xlink:href=\"#DejaVuSans-36\"/></g><defs><path id=\"75d839a94e7\" d=\"m0 0h-2\" stroke=\"#808080\" stroke-width=\".6\"/></defs><use x=\"30.103125\" y=\"269.009498\" fill=\"#808080\" stroke=\"#808080\" stroke-width=\".6\" xlink:href=\"#75d839a94e7\"/><use x=\"30.103125\" y=\"253.422502\" fill=\"#808080\" stroke=\"#808080\" stroke-width=\".6\" xlink:href=\"#75d839a94e7\"/><use x=\"30.103125\" y=\"245.629005\" fill=\"#808080\" stroke=\"#808080\" stroke-width=\".6\" xlink:href=\"#75d839a94e7\"/><use x=\"30.103125\" y=\"237.835507\" fill=\"#808080\" stroke=\"#808080\" stroke-width=\".6\" xlink:href=\"#75d839a94e7\"/><use x=\"30.103125\" y=\"222.248512\" fill=\"#808080\" stroke=\"#808080\" stroke-width=\".6\" xlink:href=\"#75d839a94e7\"/><use x=\"30.103125\" y=\"214.455014\" fill=\"#808080\" stroke=\"#808080\" stroke-width=\".6\" xlink:href=\"#75d839a94e7\"/><use x=\"30.103125\" y=\"206.661517\" fill=\"#808080\" stroke=\"#808080\" stroke-width=\".6\" xlink:href=\"#75d839a94e7\"/><use x=\"30.103125\" y=\"191.074521\" fill=\"#808080\" stroke=\"#808080\" stroke-width=\".6\" xlink:href=\"#75d839a94e7\"/><use x=\"30.103125\" y=\"183.281024\" fill=\"#808080\" stroke=\"#808080\" stroke-width=\".6\" xlink:href=\"#75d839a94e7\"/><use x=\"30.103125\" y=\"175.487526\" fill=\"#808080\" stroke=\"#808080\" stroke-width=\".6\" xlink:href=\"#75d839a94e7\"/><use x=\"30.103125\" y=\"159.900531\" fill=\"#808080\" stroke=\"#808080\" stroke-width=\".6\" xlink:href=\"#75d839a94e7\"/><use x=\"30.103125\" y=\"152.107033\" fill=\"#808080\" stroke=\"#808080\" stroke-width=\".6\" xlink:href=\"#75d839a94e7\"/><use x=\"30.103125\" y=\"144.313536\" fill=\"#808080\" stroke=\"#808080\" stroke-width=\".6\" xlink:href=\"#75d839a94e7\"/><use x=\"30.103125\" y=\"128.72654\" fill=\"#808080\" stroke=\"#808080\" stroke-width=\".6\" xlink:href=\"#75d839a94e7\"/><use x=\"30.103125\" y=\"120.933043\" fill=\"#808080\" stroke=\"#808080\" stroke-width=\".6\" xlink:href=\"#75d839a94e7\"/><use x=\"30.103125\" y=\"113.139545\" fill=\"#808080\" stroke=\"#808080\" stroke-width=\".6\" xlink:href=\"#75d839a94e7\"/><use x=\"30.103125\" y=\"97.55255\" fill=\"#808080\" stroke=\"#808080\" stroke-width=\".6\" xlink:href=\"#75d839a94e7\"/><use x=\"30.103125\" y=\"89.759052\" fill=\"#808080\" stroke=\"#808080\" stroke-width=\".6\" xlink:href=\"#75d839a94e7\"/><use x=\"30.103125\" y=\"81.965555\" fill=\"#808080\" stroke=\"#808080\" stroke-width=\".6\" xlink:href=\"#75d839a94e7\"/><use x=\"30.103125\" y=\"66.378559\" fill=\"#808080\" stroke=\"#808080\" stroke-width=\".6\" xlink:href=\"#75d839a94e7\"/><use x=\"30.103125\" y=\"58.585062\" fill=\"#808080\" stroke=\"#808080\" stroke-width=\".6\" xlink:href=\"#75d839a94e7\"/><use x=\"30.103125\" y=\"50.791564\" fill=\"#808080\" stroke=\"#808080\" stroke-width=\".6\" xlink:href=\"#75d839a94e7\"/><use x=\"30.103125\" y=\"35.204569\" fill=\"#808080\" stroke=\"#808080\" stroke-width=\".6\" xlink:href=\"#75d839a94e7\"/><use x=\"30.103125\" y=\"27.411071\" fill=\"#808080\" stroke=\"#808080\" stroke-width=\".6\" xlink:href=\"#75d839a94e7\"/><use x=\"30.103125\" y=\"19.617574\" fill=\"#808080\" stroke=\"#808080\" stroke-width=\".6\" xlink:href=\"#75d839a94e7\"/><path d=\"m46.336 261.22 2.3114-4e-6 2.2575-2.08e-4 2.5217-0.002247 3.0272-0.014671 3.486-0.065039 3.9587-0.21886 4.3864-0.58032 4.5913-1.195 4.8022-2.0848 5.3637-3.4512 6.3354-5.529 7.8687-8.5356 9.0047-10.758 6.5666-7.4581 5.4023-5.2313 4.4496-3.3488 4.4496-2.2569 3.3261-0.90108 3.3261-0.23061 3.1549 0.34069 3.3208 0.81771 3.4776 1.1423 3.792 1.2324 4.1781 0.84894 4.4133-0.21236 4.7618-1.8843 4.8324-3.6619 4.826-5.0371 4.8604-5.9047 5.0016-6.3798 5.2459-6.5615 5.8635-6.8694 6.8324-7.3192 9.1704-9.08 7.7003-7.4792 6.1957-6.0565 5.4942-5.2829 5.4599-4.9765 4.439-3.7454 4.439-3.4786 4.1111-3.0738 3.7851-2.8292 3.6951-2.8847 3.6862-3.1012 3.7807-3.4834 3.9244-3.9719 4.0309-4.4471 4.3003-5.1052 4.5514-5.7251 4.723-6.1862 5.0984-6.8397 5.6623-7.6652 6.5374-8.8022 8.2138-10.78 8.0106-9.8481 6.3987-6.9299 6.0784-5.3148 5.5735-3.4181 5.1071-1.7686 4.7648-0.58449 3.9332 0.048277 3.9332 0.20067 3.9843-0.020543 4.0036-0.6204 4.0372-1.5172 3.9717-2.4925 3.8638-3.3506\" clip-path=\"url(#a800a4d4c8c)\" fill=\"none\" stroke=\"#1f77b4\" stroke-linecap=\"square\" stroke-width=\"1.5\"/><path d=\"m30.103 273.31v-266.11\" fill=\"none\" stroke=\"#808080\" stroke-linecap=\"square\" stroke-width=\".8\"/><path d=\"m30.103 273.31h357.12\" fill=\"none\" stroke=\"#808080\" stroke-linecap=\"square\" stroke-width=\".8\"/><defs><clipPath id=\"a800a4d4c8c\"><rect x=\"30.103\" y=\"7.2\" width=\"357.12\" height=\"266.11\"/></clipPath></defs></svg>"
      ],
      "text/plain": [
       "<Figure size 640x480 with 1 Axes>"
      ]
     },
     "metadata": {
      "needs_background": "light"
     },
     "output_type": "display_data"
    }
   ],
   "source": [
    "%matplotlib inline\n",
    "\n",
    "import matplotlib.pyplot as plt\n",
    "\n",
    "with plt.style.context(NEUTRAL_STYLE):\n",
    "    plt.plot(evo.results['time'], evo.results['entropy'])"
   ]
  },
  {
   "cell_type": "markdown",
   "id": "59aa8c6a-e5ee-4720-a132-f54966e3a9d7",
   "metadata": {},
   "source": [
    "Or we can use the final state:"
   ]
  },
  {
   "cell_type": "code",
   "execution_count": 15,
   "id": "81f8058b-7128-42f5-9e70-56699dc6ff32",
   "metadata": {},
   "outputs": [
    {
     "data": {
      "text/plain": [
       "0.003302180752068547"
      ]
     },
     "execution_count": 15,
     "metadata": {},
     "output_type": "execute_result"
    }
   ],
   "source": [
    "fidelity(psi0, evo.pt)"
   ]
  }
 ],
 "metadata": {
  "celltoolbar": "Raw Cell Format",
  "kernelspec": {
   "display_name": "Python 3",
   "language": "python",
   "name": "python3"
  },
  "language_info": {
   "codemirror_mode": {
    "name": "ipython",
    "version": 3
   },
   "file_extension": ".py",
   "mimetype": "text/x-python",
   "name": "python",
   "nbconvert_exporter": "python",
   "pygments_lexer": "ipython3",
   "version": "3"
  },
  "vscode": {
   "interpreter": {
    "hash": "39c10650315d977fb13868ea1402e99f3e10e9885c2c202e692ae90b8995050d"
   }
  }
 },
 "nbformat": 4,
 "nbformat_minor": 4
}
