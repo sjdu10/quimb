{
 "cells": [
  {
   "cell_type": "markdown",
   "id": "82df20ab-b6ea-444f-bcef-dd154163ddce",
   "metadata": {},
   "source": [
    "MPI Interior Eigensolve with Lazy, Projected Operators\n",
    "========================="
   ]
  },
  {
   "cell_type": "markdown",
   "id": "1c7a1aea-3e53-453c-b7dc-812ce2681a2f",
   "metadata": {},
   "source": [
    "This example demonstrates some 'advanced' methods for diagonalizing large Hamiltonians.\n",
    "\n",
    "First of all, assuming we are using ``slepc4py``, we can specify the 'arch' we want to use. In this case, there is an optimized version of 'petsc' and 'slepc', compiled with float scalars, named `'arch-auto-real'`:"
   ]
  },
  {
   "cell_type": "code",
   "execution_count": 1,
   "id": "1154f25f-2b6c-43cd-8057-3344f54022fd",
   "metadata": {},
   "outputs": [],
   "source": [
    "# optional - comment or ignore this cell to use the default arch\n",
    "#     or specify your own arch\n",
    "import os\n",
    "os.environ['PETSC_ARCH'] = 'arch-auto-real'"
   ]
  },
  {
   "cell_type": "markdown",
   "id": "8198add2-fff9-4153-a6d0-b806abe2032a",
   "metadata": {},
   "source": [
    "For real problems (like below) this generally gives a bit of a speed boost. After doing that we can import `quimb`:"
   ]
  },
  {
   "cell_type": "code",
   "execution_count": 2,
   "id": "3488c180-b346-4c23-beac-689e591b3f77",
   "metadata": {},
   "outputs": [],
   "source": [
    "import quimb as qu"
   ]
  },
  {
   "cell_type": "markdown",
   "id": "5b4c0a6e-017c-4317-ac00-41592d5aa6aa",
   "metadata": {},
   "source": [
    "We are not going to contsruct the Hamiltonian directly, instead leave it as a `Lazy` object, so that each MPI process can construct its own rows and avoid redudant communication and memory. To do that we need to know the size of the matrix first:"
   ]
  },
  {
   "cell_type": "code",
   "execution_count": 3,
   "id": "4918a5f1-792d-41bf-b21e-bf67116695f7",
   "metadata": {},
   "outputs": [
    {
     "data": {
      "text/plain": [
       "<Lazy(ham_mbl, shape=(262144, 262144))>"
      ]
     },
     "execution_count": 3,
     "metadata": {},
     "output_type": "execute_result"
    }
   ],
   "source": [
    "# total hilbert space for 18 spin-1/2s\n",
    "n = 18\n",
    "d = 2**n\n",
    "shape = (d, d)\n",
    "\n",
    "# And make the lazy representation\n",
    "H_opts = {'n': n, 'dh': 3.0, 'sparse': True, 'seed': 9}\n",
    "H = qu.Lazy(qu.ham_mbl, **H_opts, shape=shape)\n",
    "H"
   ]
  },
  {
   "cell_type": "markdown",
   "id": "9d11e45c-7a47-46d4-b4c4-43375ffe82ba",
   "metadata": {},
   "source": [
    "This Hamiltonian also conserves z-spin, which we can use to make the effective problem significantly smaller. This is done by supplying a projector onto the subspace we are targeting. We also need to know its size first if we want to leave it 'unconstructed':"
   ]
  },
  {
   "cell_type": "code",
   "execution_count": 4,
   "id": "91a38a3f-3544-4905-8b89-5dfc287594e2",
   "metadata": {},
   "outputs": [
    {
     "data": {
      "text/plain": [
       "<Lazy(zspin_projector, shape=(262144, 48620))>"
      ]
     },
     "execution_count": 4,
     "metadata": {},
     "output_type": "execute_result"
    }
   ],
   "source": [
    "# total Sz=0 subspace size (n choose n / 2)\n",
    "from scipy.special import comb\n",
    "\n",
    "ds = comb(n, n // 2, exact=True)\n",
    "shape = (d, ds)\n",
    "\n",
    "# And make the lazy representation\n",
    "P = qu.Lazy(qu.zspin_projector, n=n, shape=shape)\n",
    "P"
   ]
  },
  {
   "cell_type": "markdown",
   "id": "e5fa9e38-df77-404f-9e32-ca2d295b71b2",
   "metadata": {},
   "source": [
    "Now we can solve the hamiltoniain, for 5 eigenpairs centered around energy `0`:"
   ]
  },
  {
   "cell_type": "code",
   "execution_count": 5,
   "id": "ad9b4518-6674-4e0f-a777-3f8421925b64",
   "metadata": {},
   "outputs": [
    {
     "name": "stdout",
     "output_type": "stream",
     "text": [
      "energies: [-9.10482079e-04 -7.21481890e-04 -2.40962026e-04 -1.77843488e-04\n",
      " -5.45274570e-05]\n",
      "CPU times: user 292 ms, sys: 182 ms, total: 474 ms\n",
      "Wall time: 14.1 s\n"
     ]
    }
   ],
   "source": [
    "%%time\n",
    "lk, vk = qu.eigh(H, P=P, k=5, sigma=0.0, backend='slepc')\n",
    "print('energies:', lk)"
   ]
  },
  {
   "cell_type": "markdown",
   "id": "5b59ebf1-a43c-4b44-a93b-983713498cd8",
   "metadata": {},
   "source": [
    "`eigh` takes care of projecting `H` into the subspace ($\\tilde{H} = P^{\\dagger} H P$), and mapping the eigenvectors back the computation basis once found.\n",
    "\n",
    "Here we specified the `'slepc'` backend. In an interactive session, this will spawn the MPI workers for you (using `mpi4py`). Other options would be to run this in a script using  ``quimb-mpi-python`` which would pro-actively spawn workers from the get-go, and ``quimb-mpi-python --syncro`` which is the more traditional 'syncronised' MPI mode. These modes would be more suitable for a cluster and large problems (see `docs/examples/ex_mpi_expm_evo.py`).\n",
    "\n",
    "Now we have the 5 eigenpairs, we can compute the 'entanglement matrix' for each, with varying block size. However, seeing as we have a pool of MPI workers already, let's also reuse it to parallelize the computation:"
   ]
  },
  {
   "cell_type": "code",
   "execution_count": 6,
   "id": "95cdea7d-fe49-4454-81d4-653f89b3011e",
   "metadata": {},
   "outputs": [
    {
     "data": {
      "text/plain": [
       "[[<Future at 0x7f93354b96d8 state=running>,\n",
       "  <Future at 0x7f9302eef1d0 state=running>,\n",
       "  <Future at 0x7f9302ed8f60 state=running>,\n",
       "  <Future at 0x7f9302eef0f0 state=running>],\n",
       " [<Future at 0x7f9302eef2e8 state=pending>,\n",
       "  <Future at 0x7f9302eef240 state=pending>,\n",
       "  <Future at 0x7f9302eef3c8 state=pending>,\n",
       "  <Future at 0x7f9302eef438 state=pending>],\n",
       " [<Future at 0x7f9302eef4a8 state=pending>,\n",
       "  <Future at 0x7f9302eef518 state=pending>,\n",
       "  <Future at 0x7f9302eef588 state=pending>,\n",
       "  <Future at 0x7f9302eef5f8 state=pending>],\n",
       " [<Future at 0x7f9302eef668 state=pending>,\n",
       "  <Future at 0x7f9302eef6d8 state=pending>,\n",
       "  <Future at 0x7f9302eef748 state=pending>,\n",
       "  <Future at 0x7f9302eef7b8 state=pending>],\n",
       " [<Future at 0x7f9302eef828 state=pending>,\n",
       "  <Future at 0x7f9302eef898 state=pending>,\n",
       "  <Future at 0x7f9302eef940 state=pending>,\n",
       "  <Future at 0x7f9302eef9e8 state=pending>]]"
      ]
     },
     "execution_count": 6,
     "metadata": {},
     "output_type": "execute_result"
    }
   ],
   "source": [
    "# get an MPI executor pool\n",
    "pool = qu.linalg.mpi_launcher.get_mpi_pool()\n",
    "\n",
    "# 'submit' the function with args to the pool\n",
    "e_k_b_ij = [[pool.submit(qu.ent_cross_matrix, vk[:, [k]], sz_blc=b)\n",
    "             for b in [1, 2, 3, 4]]\n",
    "            for k in range(5)]\n",
    "\n",
    "e_k_b_ij"
   ]
  },
  {
   "cell_type": "markdown",
   "id": "0149cd2b-2511-479b-b855-df8bf8419074",
   "metadata": {},
   "source": [
    "Once we have submitted all this work to the pool (which works in any of the modes described above), we can retrieve the results:"
   ]
  },
  {
   "cell_type": "code",
   "execution_count": 7,
   "id": "c4614fb7-dde8-4f32-bad7-5e8d106d3bd9",
   "metadata": {},
   "outputs": [],
   "source": [
    "# convert each 'Future' into its result\n",
    "e_k_b_ij = [[f.result()\n",
    "             for f in e_b_ij]\n",
    "            for e_b_ij in e_k_b_ij]"
   ]
  },
  {
   "cell_type": "code",
   "execution_count": 8,
   "id": "587fbca9-159f-4bbb-af13-57a0fed823b7",
   "metadata": {},
   "outputs": [
    {
     "data": {
      "image/png": "[encoded data removed]",
      "text/plain": [
       "<Figure size 1080x720 with 20 Axes>"
      ]
     },
     "metadata": {
      "needs_background": "light"
     },
     "output_type": "display_data"
    }
   ],
   "source": [
    "%matplotlib inline\n",
    "\n",
    "from matplotlib import pyplot as plt\n",
    "\n",
    "fig, axes = plt.subplots(4, 5, figsize=(15, 10), squeeze=True)\n",
    "\n",
    "for k in range(5):\n",
    "    for b in [1, 2, 3, 4]:\n",
    "        e_ij = e_k_b_ij[k][b - 1]\n",
    "        axes[b - 1, k].imshow(e_ij, vmax=1)"
   ]
  },
  {
   "cell_type": "markdown",
   "id": "82d777a8-ddc5-4b4a-b320-dbf1e49df8f3",
   "metadata": {},
   "source": [
    "Above, each column is a different spin-z=0 eigenstate, and each row a different blocking. The diagonal of each plot shows the entanglement of each block with its whole environment, and the off-diagonal shows the entanglement with other blocks."
   ]
  }
 ],
 "metadata": {
  "kernelspec": {
   "display_name": "Python 3",
   "language": "python",
   "name": "python3"
  },
  "language_info": {
   "codemirror_mode": {
    "name": "ipython",
    "version": 3
   },
   "file_extension": ".py",
   "mimetype": "text/x-python",
   "name": "python",
   "nbconvert_exporter": "python",
   "pygments_lexer": "ipython3",
   "version": "3"
  }
 },
 "nbformat": 4,
 "nbformat_minor": 2
}
