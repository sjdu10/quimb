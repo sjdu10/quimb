{
 "cells": [
  {
   "cell_type": "markdown",
   "id": "522c9747-df9f-4c37-924e-4192bad04e32",
   "metadata": {},
   "source": [
    "# Generic Tensor Fitting\n",
    "\n",
    "`quimb` has support for fitting arbitrary tensor networks to other tensors or tensor networks.\n",
    "Here we show decomposing a 4-tensor into a ring."
   ]
  },
  {
   "cell_type": "code",
   "execution_count": 1,
   "id": "56573127-196d-4ae7-8b6d-8486df737416",
   "metadata": {},
   "outputs": [],
   "source": [
    "%config InlineBackend.figure_formats = ['svg']\n",
    "import numpy as np\n",
    "import quimb.tensor as qtn"
   ]
  },
  {
   "attachments": {},
   "cell_type": "markdown",
   "id": "c088716c",
   "metadata": {},
   "source": [
    "Create a target 10x10x10x10 tensor with uniform positive entries:"
   ]
  },
  {
   "cell_type": "code",
   "execution_count": 2,
   "id": "aaf7d353",
   "metadata": {},
   "outputs": [
    {
     "data": {
      "text/html": [
       "<samp style='font-size: 12px;'><details><summary><b style=\"color: #e55471;\">Tensor</b>(shape=(<b style=\"color: #31d651;\">10</b>, <b style=\"color: #31d651;\">10</b>, <b style=\"color: #31d651;\">10</b>, <b style=\"color: #31d651;\">10</b>), inds=[<b style=\"color: #7aacd4;\">a</b>, <b style=\"color: #b9e292;\">b</b>, <b style=\"color: #5db6d5;\">c</b>, <b style=\"color: #4ee480;\">d</b>], tags={}),</summary>backend=<b style=\"color: #7fdd73;\">numpy</b>, dtype=<b style=\"color: #75d2c6;\">float64</b>, data=...</details></samp>"
      ],
      "text/plain": [
       "Tensor(shape=(10, 10, 10, 10), inds=('a', 'b', 'c', 'd'), tags=oset([]))"
      ]
     },
     "execution_count": 2,
     "metadata": {},
     "output_type": "execute_result"
    }
   ],
   "source": [
    "t_target = qtn.Tensor(\n",
    "    data=np.random.uniform(size=(10, 10, 10, 10)),\n",
    "    inds=('a', 'b', 'c', 'd'),\n",
    ")\n",
    "t_target"
   ]
  },
  {
   "cell_type": "code",
   "execution_count": 3,
   "id": "4c6b020d",
   "metadata": {},
   "outputs": [],
   "source": [
    "# normalize for better sense of how good the fit is\n",
    "t_target /= t_target.norm()"
   ]
  },
  {
   "attachments": {},
   "cell_type": "markdown",
   "id": "8894bcff",
   "metadata": {},
   "source": [
    "The target could also be an arbitrary tensor network.\n",
    "\n",
    "Now we manually create the decomposed geometry, i.e. a ring of 4 tensors."
   ]
  },
  {
   "cell_type": "code",
   "execution_count": 4,
   "id": "d9353a5c",
   "metadata": {},
   "outputs": [
    {
     "data": {
      "text/html": [
       "<samp style='font-size: 12px;'><details><summary><b style=\"color: #3645cd;\">TensorNetwork</b>(tensors=4, indices=8)</summary><samp style='font-size: 12px;'><details><summary><b style=\"color: #e55471;\">Tensor</b>(shape=(<b style=\"color: #31d651;\">10</b>, <b style=\"color: #7355d7;\">5</b>, <b style=\"color: #7355d7;\">5</b>), inds=[<b style=\"color: #7aacd4;\">a</b>, <b style=\"color: #61d838;\">left</b>, <b style=\"color: #87d586;\">up</b>], tags={}),</summary>backend=<b style=\"color: #7fdd73;\">numpy</b>, dtype=<b style=\"color: #75d2c6;\">float64</b>, data=...</details></samp><samp style='font-size: 12px;'><details><summary><b style=\"color: #e55471;\">Tensor</b>(shape=(<b style=\"color: #31d651;\">10</b>, <b style=\"color: #7355d7;\">5</b>, <b style=\"color: #7355d7;\">5</b>), inds=[<b style=\"color: #b9e292;\">b</b>, <b style=\"color: #87d586;\">up</b>, <b style=\"color: #d75471;\">right</b>], tags={}),</summary>backend=<b style=\"color: #7fdd73;\">numpy</b>, dtype=<b style=\"color: #75d2c6;\">float64</b>, data=...</details></samp><samp style='font-size: 12px;'><details><summary><b style=\"color: #e55471;\">Tensor</b>(shape=(<b style=\"color: #31d651;\">10</b>, <b style=\"color: #7355d7;\">5</b>, <b style=\"color: #7355d7;\">5</b>), inds=[<b style=\"color: #5db6d5;\">c</b>, <b style=\"color: #d75471;\">right</b>, <b style=\"color: #34e33f;\">bottom</b>], tags={}),</summary>backend=<b style=\"color: #7fdd73;\">numpy</b>, dtype=<b style=\"color: #75d2c6;\">float64</b>, data=...</details></samp><samp style='font-size: 12px;'><details><summary><b style=\"color: #e55471;\">Tensor</b>(shape=(<b style=\"color: #31d651;\">10</b>, <b style=\"color: #7355d7;\">5</b>, <b style=\"color: #7355d7;\">5</b>), inds=[<b style=\"color: #4ee480;\">d</b>, <b style=\"color: #34e33f;\">bottom</b>, <b style=\"color: #61d838;\">left</b>], tags={}),</summary>backend=<b style=\"color: #7fdd73;\">numpy</b>, dtype=<b style=\"color: #75d2c6;\">float64</b>, data=...</details></samp></details></samp>"
      ],
      "text/plain": [
       "TensorNetwork(tensors=4, indices=8)"
      ]
     },
     "execution_count": 4,
     "metadata": {},
     "output_type": "execute_result"
    }
   ],
   "source": [
    "rank = 5\n",
    "\n",
    "tn_guess = qtn.TensorNetwork([\n",
    "    qtn.Tensor(np.random.normal(size=(10, rank, rank)), inds=('a', 'left', 'up')),\n",
    "    qtn.Tensor(np.random.normal(size=(10, rank, rank)), inds=('b', 'up', 'right')),\n",
    "    qtn.Tensor(np.random.normal(size=(10, rank, rank)), inds=('c', 'right', 'bottom')),\n",
    "    qtn.Tensor(np.random.normal(size=(10, rank, rank)), inds=('d', 'bottom', 'left')),\n",
    "])\n",
    "tn_guess"
   ]
  },
  {
   "attachments": {},
   "cell_type": "markdown",
   "id": "d83ca2a2",
   "metadata": {},
   "source": [
    "We could have any internal structure, as long as the other indices match (and\n",
    "the contraction is possible)."
   ]
  },
  {
   "cell_type": "code",
   "execution_count": 5,
   "id": "c96cafb3",
   "metadata": {},
   "outputs": [
    {
     "data": {
      "image/svg+xml": [
       "<?xml version=\"1.0\" encoding=\"UTF-8\"?><!DOCTYPE svg  PUBLIC '-//W3C//DTD SVG 1.1//EN'  'http://www.w3.org/Graphics/SVG/1.1/DTD/svg11.dtd'><svg width=\"347.04pt\" height=\"347.33pt\" version=\"1.1\" viewBox=\"0 0 347.04 347.33\" xmlns=\"http://www.w3.org/2000/svg\" xmlns:xlink=\"http://www.w3.org/1999/xlink\"><defs><style type=\"text/css\">*{stroke-linejoin: round; stroke-linecap: butt}</style></defs><path d=\"m0 347.33h347.04v-347.33h-347.04v347.33z\" opacity=\"0\"/><path d=\"m104.84 243.21-92.356 93.517\" clip-path=\"url(#3e47adeb2b2)\" fill=\"none\" stroke=\"#ff3333\" stroke-linecap=\"round\" stroke-opacity=\".5\" stroke-width=\"3.3219\"/><path d=\"m104.84 243.21-0.8633-138.22\" clip-path=\"url(#3e47adeb2b2)\" fill=\"none\" stroke=\"#737880\" stroke-linecap=\"round\" stroke-opacity=\".5\" stroke-width=\"2.3219\"/><g transform=\"translate(102.41 165.68) rotate(89.642) scale(.07 -.07)\" fill=\"#545759\"><defs><path id=\"DejaVuSansMono-6c\" transform=\"scale(.015625)\" d=\"m1997 1269q0-388 142-585 142-196 420-196h672v-488h-728q-515 0-798 331-283 332-283 938v3178h-922v450h1497v-3628z\"/><path id=\"DejaVuSansMono-65\" transform=\"scale(.015625)\" d=\"m3475 1894v-281h-2491v-19q0-572 298-885 299-312 843-312 275 0 575 87 300 88 641 266v-572q-328-134-633-201-305-68-589-68-816 0-1276 489-459 490-459 1349 0 837 450 1337t1200 500q669 0 1055-453t386-1237zm-575 169q-12 506-239 770t-652 264q-415 0-684-275t-319-763l1894 4z\"/><path id=\"DejaVuSansMono-66\" transform=\"scale(.015625)\" d=\"m3322 4863v-479h-653q-310 0-430-127-120-126-120-448v-309h1203v-447h-1203v-3053h-575v3053h-935v447h935v244q0 575 264 847t823 272h691z\"/><path id=\"DejaVuSansMono-74\" transform=\"scale(.015625)\" d=\"m1919 4494v-994h1306v-447h-1306v-1900q0-387 147-541 147-153 512-153h647v-459h-703q-647 0-913 259-265 260-265 894v1900h-935v447h935v994h575z\"/></defs><use xlink:href=\"#DejaVuSansMono-6c\"/><use x=\"60.205078\" xlink:href=\"#DejaVuSansMono-65\"/><use x=\"120.410156\" xlink:href=\"#DejaVuSansMono-66\"/><use x=\"180.615234\" xlink:href=\"#DejaVuSansMono-74\"/></g><path d=\"m104.84 243.21 138.22-0.86246\" clip-path=\"url(#3e47adeb2b2)\" fill=\"none\" stroke=\"#737880\" stroke-linecap=\"round\" stroke-opacity=\".5\" stroke-width=\"2.3219\"/><g transform=\"translate(169.75 244.75) rotate(-.3575) scale(.07 -.07)\" fill=\"#545759\"><defs><path id=\"DejaVuSansMono-75\" transform=\"scale(.015625)\" d=\"m609 1325v2169h575v-2169q0-472 167-694 168-222 518-222 406 0 621 286 216 286 216 821v1978h578v-3494h-578v525q-153-303-417-460-264-156-617-156-538 0-801 352-262 352-262 1064z\"/><path id=\"DejaVuSansMono-70\" transform=\"scale(.015625)\" d=\"m1172 441v-1772h-578v4831h578v-447q144 260 383 395 239 136 551 136 635 0 996-491 361-490 361-1359 0-853-363-1339-362-486-994-486-318 0-558 136-239 136-376 396zm1687 1306q0 669-211 1009-210 341-626 341-419 0-635-342-215-342-215-1008 0-663 215-1007 216-343 635-343 416 0 626 340 211 341 211 1010z\"/></defs><use xlink:href=\"#DejaVuSansMono-75\"/><use x=\"60.205078\" xlink:href=\"#DejaVuSansMono-70\"/></g><path d=\"m243.06 242.34 93.517 92.356\" clip-path=\"url(#3e47adeb2b2)\" fill=\"none\" stroke=\"#ff3333\" stroke-linecap=\"round\" stroke-opacity=\".5\" stroke-width=\"3.3219\"/><path d=\"m243.06 242.34-0.86335-138.22\" clip-path=\"url(#3e47adeb2b2)\" fill=\"none\" stroke=\"#737880\" stroke-linecap=\"round\" stroke-opacity=\".5\" stroke-width=\"2.3219\"/><g transform=\"translate(240.66 162.71) rotate(89.642) scale(.07 -.07)\" fill=\"#545759\"><defs><path id=\"DejaVuSansMono-72\" transform=\"scale(.015625)\" d=\"m3609 2778q-184 144-375 209-190 66-418 66-538 0-823-338-284-337-284-974v-1741h-578v3500h578v-684q144 372 442 570 299 198 708 198 213 0 397-53 185-53 353-165v-588z\"/><path id=\"DejaVuSansMono-69\" transform=\"scale(.015625)\" d=\"m800 3500h1472v-3053h1141v-447h-2857v447h1141v2606h-897v447zm897 1363h575v-729h-575v729z\"/><path id=\"DejaVuSansMono-67\" transform=\"scale(.015625)\" d=\"m2681 1778q0 647-211 983t-614 336q-422 0-644-336-221-336-221-983t223-986q224-339 649-339 396 0 607 340 211 341 211 985zm575-1553q0-788-372-1194-371-406-1093-406-238 0-498 44-259 43-518 128v569q306-144 556-213t460-69q465 0 677 254 213 253 213 803v25 390q-137-293-375-437-237-144-578-144-612 0-978 490-366 491-366 1313 0 825 366 1315 366 491 978 491 338 0 572-134t381-416v454h575v-3263z\"/><path id=\"DejaVuSansMono-68\" transform=\"scale(.015625)\" d=\"m3284 2169v-2169h-578v2169q0 472-166 693-165 222-518 222-403 0-621-286-217-285-217-820v-1978h-575v4863h575v-1888q154 300 416 454 263 155 622 155 534 0 798-352 264-351 264-1063z\"/></defs><use xlink:href=\"#DejaVuSansMono-72\"/><use x=\"60.205078\" xlink:href=\"#DejaVuSansMono-69\"/><use x=\"120.410156\" xlink:href=\"#DejaVuSansMono-67\"/><use x=\"180.615234\" xlink:href=\"#DejaVuSansMono-68\"/><use x=\"240.820312\" xlink:href=\"#DejaVuSansMono-74\"/></g><path d=\"m242.2 104.12 92.356-93.517\" clip-path=\"url(#3e47adeb2b2)\" fill=\"none\" stroke=\"#ff3333\" stroke-linecap=\"round\" stroke-opacity=\".5\" stroke-width=\"3.3219\"/><path d=\"m242.2 104.12-138.22 0.86252\" clip-path=\"url(#3e47adeb2b2)\" fill=\"none\" stroke=\"#737880\" stroke-linecap=\"round\" stroke-opacity=\".5\" stroke-width=\"2.3219\"/><g transform=\"translate(160.46 106.58) rotate(-.35753) scale(.07 -.07)\" fill=\"#545759\"><defs><path id=\"DejaVuSansMono-62\" transform=\"scale(.015625)\" d=\"m2869 1747q0 669-213 1009-212 341-628 341-419 0-635-342-215-342-215-1008 0-663 215-1007 216-343 635-343 416 0 628 340 213 341 213 1010zm-1691 1306q138 256 380 393 242 138 561 138 631 0 993-486 363-485 363-1339 0-865-364-1358-364-492-998-492-313 0-552 136t-383 396v-441h-575v4863h575v-1810z\"/><path id=\"DejaVuSansMono-6f\" transform=\"scale(.015625)\" d=\"m1925 3097q-437 0-662-341-225-340-225-1009 0-666 225-1008t662-342q441 0 666 342t225 1008q0 669-225 1009-225 341-666 341zm0 487q728 0 1114-472 386-471 386-1365 0-897-385-1368-384-470-1115-470-728 0-1113 470-384 471-384 1368 0 894 384 1365 385 472 1113 472z\"/><path id=\"DejaVuSansMono-6d\" transform=\"scale(.015625)\" d=\"m2113 3144q106 225 270 332 164 108 395 108 422 0 595-327 174-326 174-1229v-2028h-525v2003q0 741-83 920-83 180-301 180-250 0-343-192-92-192-92-908v-2003h-525v2003q0 750-89 925t-320 175q-228 0-317-192t-89-908v-2003h-522v3500h522v-300q103 188 257 286 155 98 352 98 237 0 395-109t246-331z\"/></defs><use xlink:href=\"#DejaVuSansMono-62\"/><use x=\"60.205078\" xlink:href=\"#DejaVuSansMono-6f\"/><use x=\"120.410156\" xlink:href=\"#DejaVuSansMono-74\"/><use x=\"180.615234\" xlink:href=\"#DejaVuSansMono-74\"/><use x=\"240.820312\" xlink:href=\"#DejaVuSansMono-6f\"/><use x=\"301.025391\" xlink:href=\"#DejaVuSansMono-6d\"/></g><path d=\"m103.98 104.99-93.517-92.356\" clip-path=\"url(#3e47adeb2b2)\" fill=\"none\" stroke=\"#ff3333\" stroke-linecap=\"round\" stroke-opacity=\".5\" stroke-width=\"3.3219\"/><path d=\"m12.485 336.72z\" clip-path=\"url(#3e47adeb2b2)\" fill=\"#ffffff\"/><path d=\"m336.58 334.7z\" clip-path=\"url(#3e47adeb2b2)\" fill=\"#ffffff\"/><path d=\"m334.56 10.606z\" clip-path=\"url(#3e47adeb2b2)\" fill=\"#ffffff\"/><path d=\"m10.461 12.629z\" clip-path=\"url(#3e47adeb2b2)\" fill=\"#ffffff\"/><path d=\"m104.84 260.68c4.6348 0 9.0803-1.8414 12.358-5.1187s5.1187-7.7228 5.1187-12.358-1.8414-9.0803-5.1187-12.358-7.7228-5.1187-12.358-5.1187c-4.6348 0-9.0803 1.8414-12.358 5.1187-3.2773 3.2773-5.1187 7.7228-5.1187 12.358s1.8414 9.0803 5.1187 12.358c3.2773 3.2773 7.7228 5.1187 12.358 5.1187z\" clip-path=\"url(#3e47adeb2b2)\" fill=\"#737880\" stroke=\"#5d6167\" stroke-width=\"1.7525\"/><path d=\"m243.06 259.82c4.6348 0 9.0803-1.8414 12.358-5.1187s5.1187-7.7228 5.1187-12.358c0-4.6348-1.8414-9.0803-5.1187-12.358-3.2773-3.2773-7.7228-5.1187-12.358-5.1187s-9.0803 1.8414-12.358 5.1187c-3.2773 3.2773-5.1187 7.7228-5.1187 12.358 0 4.6348 1.8414 9.0803 5.1187 12.358s7.7228 5.1187 12.358 5.1187z\" clip-path=\"url(#3e47adeb2b2)\" fill=\"#737880\" stroke=\"#5d6167\" stroke-width=\"1.7525\"/><path d=\"m242.2 121.6c4.6348 0 9.0803-1.8414 12.358-5.1187s5.1187-7.7228 5.1187-12.358-1.8414-9.0803-5.1187-12.358-7.7228-5.1187-12.358-5.1187c-4.6348 0-9.0803 1.8414-12.358 5.1187-3.2773 3.2773-5.1187 7.7228-5.1187 12.358s1.8414 9.0803 5.1187 12.358c3.2773 3.2773 7.7228 5.1187 12.358 5.1187z\" clip-path=\"url(#3e47adeb2b2)\" fill=\"#737880\" stroke=\"#5d6167\" stroke-width=\"1.7525\"/><path d=\"m103.98 122.46c4.6348 0 9.0803-1.8414 12.358-5.1187 3.2773-3.2773 5.1187-7.7228 5.1187-12.358 0-4.6348-1.8414-9.0803-5.1187-12.358s-7.7228-5.1187-12.358-5.1187-9.0803 1.8414-12.358 5.1187-5.1187 7.7228-5.1187 12.358c0 4.6348 1.8414 9.0803 5.1187 12.358 3.2773 3.2773 7.7228 5.1187 12.358 5.1187z\" clip-path=\"url(#3e47adeb2b2)\" fill=\"#737880\" stroke=\"#5d6167\" stroke-width=\"1.7525\"/><g transform=\"translate(10.378 338.67) scale(.07 -.07)\" fill=\"#545759\"><defs><path id=\"DejaVuSansMono-61\" transform=\"scale(.015625)\" d=\"m2194 1759h-191q-503 0-758-177-254-176-254-526 0-315 190-490 191-175 528-175 475 0 747 329 272 330 275 911v128h-537zm1115 238v-1997h-578v519q-184-313-464-462-279-148-679-148-535 0-854 302-318 302-318 808 0 584 392 887t1151 303h772v91q-3 419-213 608-209 189-668 189-294 0-594-85-300-84-584-246v575q319 122 611 182 292 61 567 61 434 0 742-128t499-384q118-156 168-386t50-689z\"/></defs><use xlink:href=\"#DejaVuSansMono-61\"/></g><g transform=\"translate(334.47 336.65) scale(.07 -.07)\" fill=\"#545759\"><use xlink:href=\"#DejaVuSansMono-62\"/></g><g transform=\"translate(332.45 12.556) scale(.07 -.07)\" fill=\"#545759\"><defs><path id=\"DejaVuSansMono-63\" transform=\"scale(.015625)\" d=\"m3316 178q-232-134-477-201-245-68-501-68-813 0-1271 487-458 488-458 1351 0 862 458 1349 458 488 1271 488 253 0 493-66 241-65 485-202v-603q-228 203-458 293-230 91-520 91-541 0-832-350-290-350-290-1e3 0-647 292-999 292-351 830-351 300 0 537 92 238 92 441 286v-597z\"/></defs><use xlink:href=\"#DejaVuSansMono-63\"/></g><g transform=\"translate(8.3541 14.579) scale(.07 -.07)\" fill=\"#545759\"><defs><path id=\"DejaVuSansMono-64\" transform=\"scale(.015625)\" d=\"m2681 3053v1810h575v-4863h-575v441q-143-260-383-396-239-136-551-136-634 0-999 492-364 493-364 1358 0 854 366 1339 366 486 997 486 316 0 556-136 241-135 378-395zm-1690-1306q0-669 212-1010 213-340 628-340 416 0 633 343 217 344 217 1007 0 666-217 1008t-633 342q-415 0-628-341-212-340-212-1009z\"/></defs><use xlink:href=\"#DejaVuSansMono-64\"/></g><defs><clipPath id=\"3e47adeb2b2\"><rect x=\"7.2\" y=\"7.3448\" width=\"332.64\" height=\"332.64\"/></clipPath></defs></svg>"
      ],
      "text/plain": [
       "<Figure size 600x600 with 1 Axes>"
      ]
     },
     "metadata": {
      "needs_background": "light"
     },
     "output_type": "display_data"
    }
   ],
   "source": [
    "tn_guess.draw(show_inds='all', highlight_inds=['a', 'b', 'c', 'd'])"
   ]
  },
  {
   "attachments": {},
   "cell_type": "markdown",
   "id": "f0a34b16",
   "metadata": {},
   "source": [
    "Compute the initial distance (in terms of frobeius norm):"
   ]
  },
  {
   "cell_type": "code",
   "execution_count": 6,
   "id": "068ddd36",
   "metadata": {},
   "outputs": [
    {
     "data": {
      "text/plain": [
       "np.float64(2450.808525296577)"
      ]
     },
     "execution_count": 6,
     "metadata": {},
     "output_type": "execute_result"
    }
   ],
   "source": [
    "tn_guess.distance(t_target)"
   ]
  },
  {
   "attachments": {},
   "cell_type": "markdown",
   "id": "cde20331",
   "metadata": {},
   "source": [
    "Perform the initial fitting using ALS (alternating least squares), see the\n",
    "function [`TensorNetwork.fit`](TensorNetwork.fit) for more details:"
   ]
  },
  {
   "cell_type": "code",
   "execution_count": 7,
   "id": "9269e5e8",
   "metadata": {},
   "outputs": [
    {
     "name": "stderr",
     "output_type": "stream",
     "text": [
      "0.4697: 100%|██████████| 1000/1000 [00:01<00:00, 565.85it/s]\n"
     ]
    }
   ],
   "source": [
    "tn_fitted = tn_guess.fit(t_target, method='als', steps=1000, progbar=True)"
   ]
  },
  {
   "attachments": {},
   "cell_type": "markdown",
   "id": "49e80711",
   "metadata": {},
   "source": [
    "Sometimes, autodiff based optimization can do better than ALS, see\n",
    "[`TNOptimizer`](TNOptimizer) for more details:"
   ]
  },
  {
   "cell_type": "code",
   "execution_count": 8,
   "id": "66d5011f",
   "metadata": {},
   "outputs": [
    {
     "name": "stderr",
     "output_type": "stream",
     "text": [
      "+0.457260587804 [best: +0.457260587804] :  21%|██▏       | 214/1000 [00:00<00:01, 546.10it/s]\n"
     ]
    },
    {
     "data": {
      "text/html": [
       "<samp style='font-size: 12px;'><details><summary><b style=\"color: #3645cd;\">TensorNetwork</b>(tensors=4, indices=8)</summary><samp style='font-size: 12px;'><details><summary><b style=\"color: #e55471;\">Tensor</b>(shape=(<b style=\"color: #31d651;\">10</b>, <b style=\"color: #7355d7;\">5</b>, <b style=\"color: #7355d7;\">5</b>), inds=[<b style=\"color: #7aacd4;\">a</b>, <b style=\"color: #61d838;\">left</b>, <b style=\"color: #87d586;\">up</b>], tags={}),</summary>backend=<b style=\"color: #7fdd73;\">numpy</b>, dtype=<b style=\"color: #75d2c6;\">float64</b>, data=...</details></samp><samp style='font-size: 12px;'><details><summary><b style=\"color: #e55471;\">Tensor</b>(shape=(<b style=\"color: #31d651;\">10</b>, <b style=\"color: #7355d7;\">5</b>, <b style=\"color: #7355d7;\">5</b>), inds=[<b style=\"color: #b9e292;\">b</b>, <b style=\"color: #87d586;\">up</b>, <b style=\"color: #d75471;\">right</b>], tags={}),</summary>backend=<b style=\"color: #7fdd73;\">numpy</b>, dtype=<b style=\"color: #75d2c6;\">float64</b>, data=...</details></samp><samp style='font-size: 12px;'><details><summary><b style=\"color: #e55471;\">Tensor</b>(shape=(<b style=\"color: #31d651;\">10</b>, <b style=\"color: #7355d7;\">5</b>, <b style=\"color: #7355d7;\">5</b>), inds=[<b style=\"color: #5db6d5;\">c</b>, <b style=\"color: #d75471;\">right</b>, <b style=\"color: #34e33f;\">bottom</b>], tags={}),</summary>backend=<b style=\"color: #7fdd73;\">numpy</b>, dtype=<b style=\"color: #75d2c6;\">float64</b>, data=...</details></samp><samp style='font-size: 12px;'><details><summary><b style=\"color: #e55471;\">Tensor</b>(shape=(<b style=\"color: #31d651;\">10</b>, <b style=\"color: #7355d7;\">5</b>, <b style=\"color: #7355d7;\">5</b>), inds=[<b style=\"color: #4ee480;\">d</b>, <b style=\"color: #34e33f;\">bottom</b>, <b style=\"color: #61d838;\">left</b>], tags={}),</summary>backend=<b style=\"color: #7fdd73;\">numpy</b>, dtype=<b style=\"color: #75d2c6;\">float64</b>, data=...</details></samp></details></samp>"
      ],
      "text/plain": [
       "TensorNetwork(tensors=4, indices=8)"
      ]
     },
     "execution_count": 8,
     "metadata": {},
     "output_type": "execute_result"
    }
   ],
   "source": [
    "tn_fitted.fit_(t_target, method='autodiff', steps=1000, progbar=True)"
   ]
  },
  {
   "cell_type": "markdown",
   "id": "f25b486e",
   "metadata": {},
   "source": [
    "Double check the new fitted tensor network is close to the target:"
   ]
  },
  {
   "cell_type": "code",
   "execution_count": 9,
   "id": "776da76a",
   "metadata": {},
   "outputs": [
    {
     "data": {
      "text/plain": [
       "np.float64(0.45725182227607436)"
      ]
     },
     "execution_count": 9,
     "metadata": {},
     "output_type": "execute_result"
    }
   ],
   "source": [
    "tn_fitted.distance(t_target)"
   ]
  },
  {
   "attachments": {},
   "cell_type": "markdown",
   "id": "b1a82a5d",
   "metadata": {},
   "source": [
    "Considering the target as a wavefunction, our fitted network has an overlap of:"
   ]
  },
  {
   "cell_type": "code",
   "execution_count": 10,
   "id": "356e54fb",
   "metadata": {},
   "outputs": [
    {
     "data": {
      "text/plain": [
       "0.895422046569203"
      ]
     },
     "execution_count": 10,
     "metadata": {},
     "output_type": "execute_result"
    }
   ],
   "source": [
    "tn_fitted @ t_target.H"
   ]
  },
  {
   "attachments": {},
   "cell_type": "markdown",
   "id": "e2afad2d",
   "metadata": {},
   "source": [
    "Note random tensors are generally not that easy to fit, resulting in a not\n",
    "great fidelity."
   ]
  }
 ],
 "metadata": {
  "kernelspec": {
   "display_name": "Python 3",
   "language": "python",
   "name": "python3"
  },
  "language_info": {
   "codemirror_mode": {
    "name": "ipython",
    "version": 3
   },
   "file_extension": ".py",
   "mimetype": "text/x-python",
   "name": "python",
   "nbconvert_exporter": "python",
   "pygments_lexer": "ipython3",
   "version": "3"
  }
 },
 "nbformat": 4,
 "nbformat_minor": 5
}
