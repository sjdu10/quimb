{
 "cells": [
  {
   "attachments": {},
   "cell_type": "markdown",
   "id": "51f916b5-d6eb-4aad-9d56-b0f9e82f0595",
   "metadata": {
    "raw_mimetype": "text/restructuredtext"
   },
   "source": [
    "(tensor-network-basics)=\n",
    "\n",
    "# Basics\n",
    "\n",
    "\n",
    "The tensor network functionality in `quimb` aims to be versatile and interactive, whilst not compromising ease and efficiency. Some key features are the following:\n",
    "\n",
    "- a core tensor network object orientated around handling arbitrary graph geometries including hyper edges\n",
    "- a flexible tensor tagging system to structure and organise these\n",
    "- dispatching of array operations to [`autoray`](https://autoray.readthedocs.io) so that many backends can be used\n",
    "- automated contraction of many tensors using [`cotengra`](https://cotengra.readthedocs.io)\n",
    "- automated drawing of arbitrary tensor networks\n",
    "\n",
    "Roughly speaking ``quimb`` works on five levels, each useful for different tasks:\n",
    "\n",
    "1. **'array'** objects: the underlying **CPU, GPU or abstract data** that ``quimb`` manipulates using [`autoray`](https://github.com/jcmgray/autoray);\n",
    "2. [`Tensor`](quimb.tensor.tensor_core.Tensor) objects: these wrap the array, labelling the dimensions as **indices** and also carrying an arbitrary number of **tags** identifying them, such as their position in a lattice etc.;\n",
    "3. [`TensorNetwork`](quimb.tensor.tensor_core.TensorNetwork) objects: these store a collection of tensors, tracking all index and tag locations and allowing methods based on the network structure;\n",
    "4. **Specialized tensor networks**, such as [`MatrixProductState`](quimb.tensor.tensor_1d.MatrixProductState), that promise a particular structure, enabling specialized methods;\n",
    "5. **High level interfaces and algorithms,** such as [`Circuit`](quimb.tensor.circuit.Circuit) and [`DMRG2`](quimb.tensor.tensor_dmrg.DMRG2), which handle manipulating one or more tensor networks for you.\n",
    "\n",
    "A more detailed breakdown of this design can be found on the page {ref}`tensor-network-design`. This page introduces the basic ideas of the first three levels."
   ]
  },
  {
   "cell_type": "code",
   "execution_count": 1,
   "id": "9f2756c6-1df3-4ff4-9054-7fb7423176e4",
   "metadata": {},
   "outputs": [],
   "source": [
    "%config InlineBackend.figure_formats = ['svg']\n",
    "import quimb as qu\n",
    "import quimb.tensor as qtn"
   ]
  },
  {
   "cell_type": "markdown",
   "id": "0b3e1355-f577-429e-b65e-1ca43dde5c54",
   "metadata": {
    "raw_mimetype": "text/restructuredtext"
   },
   "source": [
    "## Creating Tensors\n",
    "\n",
    "To create a Tensor you just need:\n",
    "\n",
    "* `data` - a raw array, and\n",
    "* `inds` - a set of 'indices' to label each dimension with.\n",
    "\n",
    "Whilst naming the dimensions is useful so you don't have to remember which axis is which, the crucial point is that tensors simply sharing the same index name automatically form a 'bond' or implicit contraction when put together. Tensors can also carry an arbitrary number of identifiers - `tags` - which you can use to refer to single or groups of tensors once they are embedded in networks.\n",
    "\n",
    "For example, let's create the singlet state in tensor form, i.e., an index for each qubit:"
   ]
  },
  {
   "cell_type": "code",
   "execution_count": 2,
   "id": "f8e575b2-8f76-40ca-8eb3-8a00ec3be204",
   "metadata": {},
   "outputs": [
    {
     "data": {
      "text/html": [
       "<samp style='font-size: 12px;'><details><summary><b style=\"color: #e55471;\">Tensor</b>(shape=(<b style=\"color: #828fdd;\">2</b>, <b style=\"color: #828fdd;\">2</b>), inds=[<b style=\"color: #b1dc61;\">k0</b>, <b style=\"color: #8aa5db;\">k1</b>], tags={<b style=\"color: #e4c44b;\">KET</b>}),</summary>backend=<b style=\"color: #7fdd73;\">numpy</b>, dtype=<b style=\"color: #443ce1;\">complex128</b>, data=array([[ 0.        +0.j,  0.70710678+0.j],\n",
       "       [-0.70710678+0.j,  0.        +0.j]])</details></samp>"
      ],
      "text/plain": [
       "Tensor(shape=(2, 2), inds=('k0', 'k1'), tags=oset(['KET']))"
      ]
     },
     "execution_count": 2,
     "metadata": {},
     "output_type": "execute_result"
    }
   ],
   "source": [
    "data = qu.bell_state('psi-').reshape(2, 2)\n",
    "inds = ('k0', 'k1')\n",
    "tags = ('KET',)\n",
    "\n",
    "ket = qtn.Tensor(data=data, inds=inds, tags=tags)\n",
    "ket"
   ]
  },
  {
   "cell_type": "code",
   "execution_count": 3,
   "id": "2cb31903-aef9-4653-8e17-20cd092952e6",
   "metadata": {},
   "outputs": [
    {
     "data": {
      "image/svg+xml": [
       "<?xml version=\"1.0\" encoding=\"UTF-8\"?><!DOCTYPE svg  PUBLIC '-//W3C//DTD SVG 1.1//EN'  'http://www.w3.org/Graphics/SVG/1.1/DTD/svg11.dtd'><svg width=\"351.06pt\" height=\"88.056pt\" version=\"1.1\" viewBox=\"0 0 351.06 88.056\" xmlns=\"http://www.w3.org/2000/svg\" xmlns:xlink=\"http://www.w3.org/1999/xlink\"><defs><style type=\"text/css\">*{stroke-linejoin: round; stroke-linecap: butt}</style></defs><path d=\"m0 88.056h351.06v-88.056h-351.06v88.056z\" opacity=\"0\"/><path d=\"m175.53 44.028h-164.12\" clip-path=\"url(#8a4ef73d81c)\" fill=\"none\" stroke=\"#737880\" stroke-linecap=\"round\" stroke-opacity=\".5\"/><path d=\"m175.53 44.028h164.12\" clip-path=\"url(#8a4ef73d81c)\" fill=\"none\" stroke=\"#737880\" stroke-linecap=\"round\" stroke-opacity=\".5\"/><path d=\"m11.414 44.028z\" clip-path=\"url(#8a4ef73d81c)\" fill=\"#ffffff\"/><path d=\"m339.65 44.028z\" clip-path=\"url(#8a4ef73d81c)\" fill=\"#ffffff\"/><path d=\"m175.53 76.852c8.7049 0 17.054-3.4585 23.21-9.6138s9.6138-14.505 9.6138-23.21-3.4585-17.054-9.6138-23.21-14.505-9.6138-23.21-9.6138-17.054 3.4585-23.21 9.6138-9.6138 14.505-9.6138 23.21 3.4585 17.054 9.6138 23.21 14.505 9.6138 23.21 9.6138z\" clip-path=\"url(#8a4ef73d81c)\" fill=\"#737880\" stroke=\"#5d6167\" stroke-width=\"2.6833\"/><g transform=\"translate(7.2 45.978) scale(.07 -.07)\" fill=\"#545759\"><defs><path id=\"DejaVuSansMono-6b\" transform=\"scale(.015625)\" d=\"m738 4863h593v-2816l1510 1453h700l-1378-1319 1593-2181h-703l-1294 1806-428-403v-1403h-593v4863z\"/><path id=\"DejaVuSansMono-30\" transform=\"scale(.015625)\" d=\"m1509 2344q0 172 120 297 121 125 290 125 175 0 300-125t125-297q0-175-124-297-123-122-301-122-175 0-293 119-117 119-117 300zm416 1906q-441 0-658-475t-217-1447q0-969 217-1444t658-475q444 0 661 475t217 1444q0 972-217 1447t-661 475zm0 500q747 0 1130-613 383-612 383-1809 0-1194-383-1807-383-612-1130-612t-1128 612q-381 613-381 1807 0 1197 381 1809 381 613 1128 613z\"/></defs><use xlink:href=\"#DejaVuSansMono-6b\"/><use x=\"60.205078\" xlink:href=\"#DejaVuSansMono-30\"/></g><g transform=\"translate(335.44 45.978) scale(.07 -.07)\" fill=\"#545759\"><defs><path id=\"DejaVuSansMono-31\" transform=\"scale(.015625)\" d=\"m844 531h981v3566l-1056-238v575l1050 232h631v-4135h969v-531h-2575v531z\"/></defs><use xlink:href=\"#DejaVuSansMono-6b\"/><use x=\"60.205078\" xlink:href=\"#DejaVuSansMono-31\"/></g><g transform=\"translate(166.5 46.814) scale(.1 -.1)\" fill=\"#545759\"><defs><path id=\"DejaVuSansMono-4b\" transform=\"scale(.015625)\" d=\"m428 4666h635v-2075l1971 2075h741l-1816-1907 1869-2759h-762l-1522 2338-481-513v-1825h-635v4666z\"/><path id=\"DejaVuSansMono-45\" transform=\"scale(.015625)\" d=\"m616 4666h2768v-532h-2137v-1381h2044v-531h-2044v-1691h2197v-531h-2828v4666z\"/><path id=\"DejaVuSansMono-54\" transform=\"scale(.015625)\" d=\"m147 4666h3559v-532h-1459v-4134h-634v4134h-1466v532z\"/></defs><use xlink:href=\"#DejaVuSansMono-4b\"/><use x=\"60.205078\" xlink:href=\"#DejaVuSansMono-45\"/><use x=\"120.410156\" xlink:href=\"#DejaVuSansMono-54\"/></g><defs><clipPath id=\"8a4ef73d81c\"><rect x=\"8.1319\" y=\"7.2\" width=\"334.8\" height=\"73.656\"/></clipPath></defs></svg>"
      ],
      "text/plain": [
       "<Figure size 600x600 with 1 Axes>"
      ]
     },
     "metadata": {
      "needs_background": "light"
     },
     "output_type": "display_data"
    }
   ],
   "source": [
    "ket.draw()"
   ]
  },
  {
   "cell_type": "markdown",
   "id": "88d2446b-bfda-4442-a75c-4c83291f6e58",
   "metadata": {
    "raw_mimetype": "text/restructuredtext"
   },
   "source": [
    "This is pretty much like a n-dimensional array, but with a few key differences:\n",
    "\n",
    "1. Methods manipulating dimensions use the names of indices, thus provided these are labelled correctly, their specific permutation doesn't matter.\n",
    "2. The underlying `data` object can be anything that [autoray](https://github.com/jcmgray/autoray) supports - for example a symbolic or GPU array. These are passed around by reference and assumed to be immutable.\n",
    "\n",
    "Some common [`Tensor`](quimb.tensor.tensor_core.Tensor) methods are:\n",
    "\n",
    "- [`Tensor.reindex`](quimb.tensor.tensor_core.Tensor.reindex)\n",
    "- [`Tensor.retag`](quimb.tensor.tensor_core.Tensor.retag)\n",
    "- [`Tensor.fuse`](quimb.tensor.tensor_core.Tensor.fuse)\n",
    "- [`Tensor.squeeze`](quimb.tensor.tensor_core.Tensor.squeeze)\n",
    "- [`Tensor.gate`](quimb.tensor.tensor_core.Tensor.gate)\n",
    "- [`Tensor.isel`](quimb.tensor.tensor_core.Tensor.isel)\n",
    "- [`Tensor.new_ind`](quimb.tensor.tensor_core.Tensor.new_ind)\n",
    "- [`Tensor.transpose`](quimb.tensor.tensor_core.Tensor.transpose)\n",
    "- [`Tensor.trace`](quimb.tensor.tensor_core.Tensor.trace)\n",
    "- [`Tensor.norm`](quimb.tensor.tensor_core.Tensor.norm)\n",
    "\n",
    ":::{hint}\n",
    "Many of these have inplace versions with an underscore appended,\n",
    "so that `ket.transpose_('k1', 'k0')` would perform a\n",
    "tranposition on `ket` directly, rather than making a new\n",
    "tensor. The same convention is used for many\n",
    "[`TensorNetwork`](quimb.tensor.tensor_core.TensorNetwork) methods.\n",
    ":::\n",
    "\n",
    "Let's also create some tensor paulis, with indices that act on the bell state and map the physical indices into two new ones:"
   ]
  },
  {
   "cell_type": "code",
   "execution_count": 4,
   "id": "cee2ae1c-1c7e-442c-8c44-59baed4508b2",
   "metadata": {},
   "outputs": [],
   "source": [
    "X = qtn.Tensor(qu.pauli('X'), inds=('k0', 'b0'), tags=['PAULI', 'X', '0'])\n",
    "Y = qtn.Tensor(qu.pauli('Y'), inds=('k1', 'b1'), tags=['PAULI', 'Y', '1'])"
   ]
  },
  {
   "cell_type": "markdown",
   "id": "be211a49-32b5-4512-a916-7639590f2bae",
   "metadata": {},
   "source": [
    "And finally, a random 'bra' to complete the inner product:"
   ]
  },
  {
   "cell_type": "code",
   "execution_count": 5,
   "id": "cbea620b-317a-4de2-9272-e4c758feb6ff",
   "metadata": {},
   "outputs": [],
   "source": [
    "bra = qtn.Tensor(qu.rand_ket(4).reshape(2, 2), inds=('b0', 'b1'), tags=['BRA'])"
   ]
  },
  {
   "cell_type": "markdown",
   "id": "db757fb1-bd13-4f65-8978-c6dd11d18303",
   "metadata": {
    "raw_mimetype": "text/restructuredtext"
   },
   "source": [
    "Note how repeating an index name is all that is required to define a contraction.\n",
    "If you want to join two tensors and have the index generated automatically\n",
    "you can use the function [`qtn.connect`](quimb.tensor.tensor_core.connect)."
   ]
  },
  {
   "cell_type": "markdown",
   "id": "e5bba4e1-7799-4dd9-b088-a31709a68712",
   "metadata": {
    "raw_mimetype": "text/restructuredtext"
   },
   "source": [
    ":::{note}\n",
    "Indices and tags should be strings - though this is currently not enforced.\n",
    "A useful convention is to keep `inds` lower case, and `tags` upper.\n",
    "Whilst the order of `tags` doesn't specifically matter, it is kept internally as a ordered set - [`oset`](quimb.utils.oset) - so that all operations are deterministic.\n",
    ":::\n",
    "\n",
    "## Creating Tensor Networks\n",
    "\n",
    "We can now combine these into a [`TensorNetwork`](quimb.tensor.tensor_core.TensorNetwork) using the `&` operator overload:"
   ]
  },
  {
   "cell_type": "code",
   "execution_count": 6,
   "id": "c3af54e0-0fd8-4429-90a4-767287a57475",
   "metadata": {},
   "outputs": [
    {
     "name": "stdout",
     "output_type": "stream",
     "text": [
      "TensorNetwork([\n",
      "    Tensor(shape=(2, 2), inds=('k0', 'k1'), tags=oset(['KET'])),\n",
      "    Tensor(shape=(2, 2), inds=('k0', 'b0'), tags=oset(['PAULI', 'X', '0'])),\n",
      "    Tensor(shape=(2, 2), inds=('k1', 'b1'), tags=oset(['PAULI', 'Y', '1'])),\n",
      "    Tensor(shape=(2, 2), inds=('b0', 'b1'), tags=oset(['BRA'])),\n",
      "], tensors=4, indices=4)\n"
     ]
    }
   ],
   "source": [
    "TN = ket.H & X & Y & bra\n",
    "print(TN)"
   ]
  },
  {
   "cell_type": "markdown",
   "id": "aaee6ec9-7bba-4d70-893a-7a8fd69ad75f",
   "metadata": {
    "raw_mimetype": "text/restructuredtext"
   },
   "source": [
    "(note that `.H` conjugates the data but leaves the indices).\n",
    "We could also use the [`TensorNetwork`](quimb.tensor.tensor_core.TensorNetwork)\n",
    "constructor, which takes any sequence of tensors and/or tensor networks,\n",
    "and has various advanced options.\n",
    "\n",
    "The geometry of this network is completely defined by the repeated\n",
    "indices forming edges between tensors, as well as arbitrary tags\n",
    "identifying the tensors. The internal data of the tensor network\n",
    "allows efficient access to any tensors based on their `tags` or `inds`.\n",
    "\n",
    ":::{warning}\n",
    "In order to naturally maintain networks geometry, bonds (repeated\n",
    "indices) can be mangled when two tensor networks are combined.\n",
    "As a result of this, only exterior indices are guaranteed to\n",
    "keep their absolute value - since these define the overall object.\n",
    "The [`qtn.bonds`](quimb.tensor.tensor_core.bonds) function can be used to\n",
    "find the names of indices connecting tensors if explicitly required.\n",
    ":::\n",
    "\n",
    "Some common [`TensorNetwork`](quimb.tensor.tensor_core.TensorNetwork) methods\n",
    "are:\n",
    "\n",
    "- [`TensorNetwork.reindex`](quimb.tensor.tensor_core.TensorNetwork.reindex)\n",
    "- [`TensorNetwork.retag`](quimb.tensor.tensor_core.TensorNetwork.retag)\n",
    "- [`TensorNetwork.gate_inds`](quimb.tensor.tensor_core.TensorNetwork.gate_inds)\n",
    "- [`TensorNetwork.isel`](quimb.tensor.tensor_core.TensorNetwork.isel)\n",
    "- [`TensorNetwork.trace`](quimb.tensor.tensor_core.TensorNetwork.trace)\n",
    "- [`TensorNetwork.contract`](quimb.tensor.tensor_core.TensorNetwork.contract)\n",
    "- [`TensorNetwork.norm`](quimb.tensor.tensor_core.TensorNetwork.norm)\n",
    "\n",
    "Note that many of these are shared with\n",
    "[`Tensor`](quimb.tensor.tensor_core.Tensor), meaning it is possible to\n",
    "write many agnostic functions that operate on either.\n",
    "\n",
    "Any network can also be drawn using\n",
    "[`TensorNetwork.draw`](quimb.tensor.tensor_core.TensorNetwork.draw), which will pick\n",
    "a layout and also represent bond size as edge thickness, and optionally\n",
    "color the nodes based on `tags`."
   ]
  },
  {
   "cell_type": "code",
   "execution_count": 7,
   "id": "16c76c97-2640-46e3-a724-7a69d595658a",
   "metadata": {},
   "outputs": [
    {
     "data": {
      "image/svg+xml": [
       "<?xml version=\"1.0\" encoding=\"UTF-8\"?><!DOCTYPE svg  PUBLIC '-//W3C//DTD SVG 1.1//EN'  'http://www.w3.org/Graphics/SVG/1.1/DTD/svg11.dtd'><svg width=\"332.87pt\" height=\"236.16pt\" version=\"1.1\" viewBox=\"0 0 332.87 236.16\" xmlns=\"http://www.w3.org/2000/svg\" xmlns:xlink=\"http://www.w3.org/1999/xlink\"><defs><style type=\"text/css\">*{stroke-linejoin: round; stroke-linecap: butt}</style></defs><path d=\"m0 236.16h332.87v-236.16h-332.87v236.16z\" opacity=\"0\"/><path d=\"m233.93 215.32-193.62-0.85451\" clip-path=\"url(#80545767863)\" fill=\"none\" stroke=\"#737880\" stroke-linecap=\"round\" stroke-opacity=\".5\"/><g transform=\"translate(132.9 216.82) rotate(.25286) scale(.07 -.07)\" fill=\"#545759\"><defs><path id=\"DejaVuSansMono-6b\" transform=\"scale(.015625)\" d=\"m738 4863h593v-2816l1510 1453h700l-1378-1319 1593-2181h-703l-1294 1806-428-403v-1403h-593v4863z\"/><path id=\"DejaVuSansMono-30\" transform=\"scale(.015625)\" d=\"m1509 2344q0 172 120 297 121 125 290 125 175 0 300-125t125-297q0-175-124-297-123-122-301-122-175 0-293 119-117 119-117 300zm416 1906q-441 0-658-475t-217-1447q0-969 217-1444t658-475q444 0 661 475t217 1444q0 972-217 1447t-661 475zm0 500q747 0 1130-613 383-612 383-1809 0-1194-383-1807-383-612-1130-612t-1128 612q-381 613-381 1807 0 1197 381 1809 381 613 1128 613z\"/></defs><use xlink:href=\"#DejaVuSansMono-6b\"/><use x=\"60.205078\" xlink:href=\"#DejaVuSansMono-30\"/></g><path d=\"m233.93 215.32 0.96893-193.62\" clip-path=\"url(#80545767863)\" fill=\"none\" stroke=\"#737880\" stroke-linecap=\"round\" stroke-opacity=\".5\"/><g transform=\"translate(236.35 122.73) rotate(-89.713) scale(.07 -.07)\" fill=\"#545759\"><defs><path id=\"DejaVuSansMono-31\" transform=\"scale(.015625)\" d=\"m844 531h981v3566l-1056-238v575l1050 232h631v-4135h969v-531h-2575v531z\"/></defs><use xlink:href=\"#DejaVuSansMono-6b\"/><use x=\"60.205078\" xlink:href=\"#DejaVuSansMono-31\"/></g><path d=\"m40.312 214.46 0.96893-193.62\" clip-path=\"url(#80545767863)\" fill=\"none\" stroke=\"#737880\" stroke-linecap=\"round\" stroke-opacity=\".5\"/><g transform=\"translate(42.725 121.88) rotate(-89.713) scale(.07 -.07)\" fill=\"#545759\"><defs><path id=\"DejaVuSansMono-62\" transform=\"scale(.015625)\" d=\"m2869 1747q0 669-213 1009-212 341-628 341-419 0-635-342-215-342-215-1008 0-663 215-1007 216-343 635-343 416 0 628 340 213 341 213 1010zm-1691 1306q138 256 380 393 242 138 561 138 631 0 993-486 363-485 363-1339 0-865-364-1358-364-492-998-492-313 0-552 136t-383 396v-441h-575v4863h575v-1810z\"/></defs><use xlink:href=\"#DejaVuSansMono-62\"/><use x=\"60.205078\" xlink:href=\"#DejaVuSansMono-30\"/></g><path d=\"m234.9 21.696-193.62-0.85451\" clip-path=\"url(#80545767863)\" fill=\"none\" stroke=\"#737880\" stroke-linecap=\"round\" stroke-opacity=\".5\"/><g transform=\"translate(133.87 23.2) rotate(.25286) scale(.07 -.07)\" fill=\"#545759\"><use xlink:href=\"#DejaVuSansMono-62\"/><use x=\"60.205078\" xlink:href=\"#DejaVuSansMono-31\"/></g><path d=\"m233.93 225.74c2.7647 0 5.4165-1.0984 7.3715-3.0534 1.9549-1.9549 3.0534-4.6068 3.0534-7.3715s-1.0984-5.4165-3.0534-7.3715c-1.9549-1.9549-4.6068-3.0534-7.3715-3.0534s-5.4165 1.0984-7.3715 3.0534c-1.9549 1.9549-3.0534 4.6068-3.0534 7.3715s1.0984 5.4165 3.0534 7.3715c1.9549 1.9549 4.6068 3.0534 7.3715 3.0534z\" clip-path=\"url(#80545767863)\" fill=\"#56b4e9\" stroke=\"#4da2d2\" stroke-width=\"1.8491\"/><path d=\"m44.301 224.1c2.5534-1.0577 4.5842-3.0885 5.6419-5.6419 1.0577-2.5534 1.0577-5.4254 0-7.9788-1.0577-2.5534-3.0885-4.5842-5.6419-5.6419-2.5534-1.0577-5.4254-1.0577-7.9788 0l3.9894 9.6313z\" clip-path=\"url(#80545767863)\" fill=\"#e69f00\" stroke=\"#cf8f00\" stroke-width=\"1.8491\"/><path d=\"m36.322 204.83c-1.2648 0.52389-2.4141 1.2918-3.3821 2.2598s-1.7359 2.1173-2.2598 3.3821c-0.52389 1.2648-0.79354 2.6204-0.79354 3.9894 0 1.369 0.26966 2.7246 0.79354 3.9894 0.52388 1.2648 1.2918 2.4141 2.2598 3.3821s2.1173 1.7359 3.3821 2.2598c1.2648 0.52389 2.6204 0.79354 3.9894 0.79354 1.369 0 2.7246-0.26966 3.9894-0.79354l-3.9894-9.6313z\" clip-path=\"url(#80545767863)\" fill=\"#d55e00\" stroke=\"#c05500\" stroke-width=\"1.8491\"/><path d=\"m238.89 31.327c2.5534-1.0577 4.5842-3.0885 5.6419-5.6419 1.0577-2.5534 1.0577-5.4254 0-7.9788-1.0577-2.5534-3.0885-4.5842-5.6419-5.6419-2.5534-1.0577-5.4254-1.0577-7.9788 0l3.9894 9.6313z\" clip-path=\"url(#80545767863)\" fill=\"#e69f00\" stroke=\"#cf8f00\" stroke-width=\"1.8491\"/><path d=\"m230.91 12.065c-1.2648 0.52388-2.4141 1.2918-3.3821 2.2598s-1.7359 2.1173-2.2598 3.3821c-0.52389 1.2648-0.79354 2.6204-0.79354 3.9894 0 1.369 0.26966 2.7246 0.79354 3.9894 0.52388 1.2648 1.2918 2.414 2.2598 3.3821s2.1173 1.7359 3.3821 2.2598c1.2648 0.52388 2.6204 0.79354 3.9894 0.79354 1.369 0 2.7246-0.26966 3.9894-0.79354l-3.9894-9.6313z\" clip-path=\"url(#80545767863)\" fill=\"#f0e442\" stroke=\"#d8cd3b\" stroke-width=\"1.8491\"/><path d=\"m41.281 31.266c2.7647 0 5.4165-1.0984 7.3715-3.0534 1.9549-1.9549 3.0534-4.6068 3.0534-7.3715s-1.0984-5.4165-3.0534-7.3715-4.6068-3.0534-7.3715-3.0534c-2.7647 0-5.4165 1.0984-7.3715 3.0534s-3.0534 4.6068-3.0534 7.3715 1.0984 5.4165 3.0534 7.3715c1.9549 1.9549 4.6068 3.0534 7.3715 3.0534z\" clip-path=\"url(#80545767863)\" fill=\"#009e73\" stroke=\"#008e68\" stroke-width=\"1.8491\"/><g transform=\"translate(224.9 218.1) scale(.1 -.1)\" fill=\"#545759\"><defs><path id=\"DejaVuSansMono-4b\" transform=\"scale(.015625)\" d=\"m428 4666h635v-2075l1971 2075h741l-1816-1907 1869-2759h-762l-1522 2338-481-513v-1825h-635v4666z\"/><path id=\"DejaVuSansMono-45\" transform=\"scale(.015625)\" d=\"m616 4666h2768v-532h-2137v-1381h2044v-531h-2044v-1691h2197v-531h-2828v4666z\"/><path id=\"DejaVuSansMono-54\" transform=\"scale(.015625)\" d=\"m147 4666h3559v-532h-1459v-4134h-634v4134h-1466v532z\"/></defs><use xlink:href=\"#DejaVuSansMono-4b\"/><use x=\"60.205078\" xlink:href=\"#DejaVuSansMono-45\"/><use x=\"120.410156\" xlink:href=\"#DejaVuSansMono-54\"/></g><g transform=\"translate(7.2 217.25) scale(.1 -.1)\" fill=\"#545759\"><defs><path id=\"DejaVuSansMono-50\" transform=\"scale(.015625)\" d=\"m1247 4147v-1753h731q438 0 683 231t245 647-244 645q-243 230-684 230h-731zm-631 519h1362q781 0 1184-355 404-355 404-1039 0-691-402-1044-401-353-1186-353h-731v-1875h-631v4666z\"/><path id=\"DejaVuSansMono-41\" transform=\"scale(.015625)\" d=\"m1925 4109-666-2387h1332l-666 2387zm-381 557h765l1429-4666h-654l-343 1216h-1635l-337-1216h-653l1428 4666z\"/><path id=\"DejaVuSansMono-55\" transform=\"scale(.015625)\" d=\"m459 1791v2875h635v-3163q0-340 18-486 19-145 66-223 100-185 289-279 189-93 458-93 272 0 459 93 188 94 291 279 47 78 65 221 19 144 19 482v3169h632v-2875q0-716-89-1018-89-301-308-498-206-184-472-275t-597-91q-328 0-594 91-265 91-475 275-215 194-306 501-91 308-91 1015z\"/><path id=\"DejaVuSansMono-4c\" transform=\"scale(.015625)\" d=\"m672 4666h634v-4135h2253v-531h-2887v4666z\"/><path id=\"DejaVuSansMono-49\" transform=\"scale(.015625)\" d=\"m628 4666h2591v-532h-978v-3603h978v-531h-2591v531h978v3603h-978v532z\"/><path id=\"DejaVuSansMono-2c\" transform=\"scale(.015625)\" d=\"m1569 947h787v-647l-615-1197h-482l310 1197v647z\"/><path id=\"DejaVuSansMono-58\" transform=\"scale(.015625)\" d=\"m269 4666h678l1025-1760 1044 1760h678l-1397-2194 1497-2472h-678l-1144 2009-1234-2009h-682l1563 2472-1350 2194z\"/></defs><use xlink:href=\"#DejaVuSansMono-50\"/><use x=\"60.205078\" xlink:href=\"#DejaVuSansMono-41\"/><use x=\"120.410156\" xlink:href=\"#DejaVuSansMono-55\"/><use x=\"180.615234\" xlink:href=\"#DejaVuSansMono-4c\"/><use x=\"240.820312\" xlink:href=\"#DejaVuSansMono-49\"/><use x=\"301.025391\" xlink:href=\"#DejaVuSansMono-2c\"/><use x=\"361.230469\" xlink:href=\"#DejaVuSansMono-20\"/><use x=\"421.435547\" xlink:href=\"#DejaVuSansMono-58\"/><use x=\"481.640625\" xlink:href=\"#DejaVuSansMono-2c\"/><use x=\"541.845703\" xlink:href=\"#DejaVuSansMono-20\"/><use x=\"602.050781\" xlink:href=\"#DejaVuSansMono-30\"/></g><g transform=\"translate(201.79 24.482) scale(.1 -.1)\" fill=\"#545759\"><defs><path id=\"DejaVuSansMono-59\" transform=\"scale(.015625)\" d=\"m116 4666h672l1137-2060 1134 2060h679l-1497-2572v-2094h-635v2094l-1490 2572z\"/></defs><use xlink:href=\"#DejaVuSansMono-50\"/><use x=\"60.205078\" xlink:href=\"#DejaVuSansMono-41\"/><use x=\"120.410156\" xlink:href=\"#DejaVuSansMono-55\"/><use x=\"180.615234\" xlink:href=\"#DejaVuSansMono-4c\"/><use x=\"240.820312\" xlink:href=\"#DejaVuSansMono-49\"/><use x=\"301.025391\" xlink:href=\"#DejaVuSansMono-2c\"/><use x=\"361.230469\" xlink:href=\"#DejaVuSansMono-20\"/><use x=\"421.435547\" xlink:href=\"#DejaVuSansMono-59\"/><use x=\"481.640625\" xlink:href=\"#DejaVuSansMono-2c\"/><use x=\"541.845703\" xlink:href=\"#DejaVuSansMono-20\"/><use x=\"602.050781\" xlink:href=\"#DejaVuSansMono-31\"/></g><g transform=\"translate(32.25 23.627) scale(.1 -.1)\" fill=\"#545759\"><defs><path id=\"DejaVuSansMono-42\" transform=\"scale(.015625)\" d=\"m1153 2228v-1709h747q550 0 784 192 235 192 235 633 0 456-247 670t-772 214h-747zm0 1919v-1406h735q456 0 660 175 205 175 205 565 0 353-202 509-201 157-663 157h-735zm-634 519h1381q716 0 1103-310 388-309 388-875 0-428-205-675t-614-309q459-69 720-393 261-323 261-823 0-634-416-958-415-323-1237-323h-1381v4666z\"/><path id=\"DejaVuSansMono-52\" transform=\"scale(.015625)\" d=\"m2375 2203q244-62 416-236 172-173 428-692l634-1275h-678l-556 1178q-241 503-433 648-192 146-502 146h-603v-1972h-634v4666h1300q769 0 1178-347t409-1003q0-463-252-755-251-292-707-358zm-1294 1944v-1656h691q453 0 675 203t222 622q0 403-236 617t-686 214h-666z\"/></defs><use xlink:href=\"#DejaVuSansMono-42\"/><use x=\"60.205078\" xlink:href=\"#DejaVuSansMono-52\"/><use x=\"120.410156\" xlink:href=\"#DejaVuSansMono-41\"/></g><path d=\"m255.55 156.41h68.122q2 0 2-2v-72.656q0-2-2-2h-68.122q-2 0-2 2v72.656q0 2 2 2z\" fill=\"none\" stroke=\"#999999\" stroke-opacity=\".2\"/><defs><path id=\"72e2b90ae45\" d=\"m0 5c1.326 0 2.5979-0.52683 3.5355-1.4645 0.93763-0.93764 1.4645-2.2095 1.4645-3.5355s-0.52683-2.5979-1.4645-3.5355c-0.93764-0.93763-2.2095-1.4645-3.5355-1.4645s-2.5979 0.52683-3.5355 1.4645c-0.93763 0.93764-1.4645 2.2095-1.4645 3.5355s0.52683 2.5979 1.4645 3.5355c0.93764 0.93763 2.2095 1.4645 3.5355 1.4645z\" stroke=\"#4da2d2\"/></defs><use x=\"267.546374\" y=\"87.903437\" fill=\"#56b4e9\" stroke=\"#4da2d2\" xlink:href=\"#72e2b90ae45\"/><g transform=\"translate(285.55 91.403) scale(.1 -.1)\" fill=\"#545759\"><use xlink:href=\"#DejaVuSansMono-20\"/><use x=\"60.205078\" xlink:href=\"#DejaVuSansMono-4b\"/><use x=\"120.410156\" xlink:href=\"#DejaVuSansMono-45\"/><use x=\"180.615234\" xlink:href=\"#DejaVuSansMono-54\"/></g><defs><path id=\"52ca85a76b8\" d=\"m0 5c1.326 0 2.5979-0.52683 3.5355-1.4645 0.93763-0.93764 1.4645-2.2095 1.4645-3.5355s-0.52683-2.5979-1.4645-3.5355c-0.93764-0.93763-2.2095-1.4645-3.5355-1.4645s-2.5979 0.52683-3.5355 1.4645c-0.93763 0.93764-1.4645 2.2095-1.4645 3.5355s0.52683 2.5979 1.4645 3.5355c0.93764 0.93763 2.2095 1.4645 3.5355 1.4645z\" stroke=\"#cf8f00\"/></defs><use x=\"267.546374\" y=\"102.634687\" fill=\"#e69f00\" stroke=\"#cf8f00\" xlink:href=\"#52ca85a76b8\"/><g transform=\"translate(285.55 106.13) scale(.1 -.1)\" fill=\"#545759\"><use xlink:href=\"#DejaVuSansMono-20\"/><use x=\"60.205078\" xlink:href=\"#DejaVuSansMono-50\"/><use x=\"120.410156\" xlink:href=\"#DejaVuSansMono-41\"/><use x=\"180.615234\" xlink:href=\"#DejaVuSansMono-55\"/><use x=\"240.820312\" xlink:href=\"#DejaVuSansMono-4c\"/><use x=\"301.025391\" xlink:href=\"#DejaVuSansMono-49\"/></g><defs><path id=\"14c0c1cb00f\" d=\"m0 5c1.326 0 2.5979-0.52683 3.5355-1.4645 0.93763-0.93764 1.4645-2.2095 1.4645-3.5355s-0.52683-2.5979-1.4645-3.5355c-0.93764-0.93763-2.2095-1.4645-3.5355-1.4645s-2.5979 0.52683-3.5355 1.4645c-0.93763 0.93764-1.4645 2.2095-1.4645 3.5355s0.52683 2.5979 1.4645 3.5355c0.93764 0.93763 2.2095 1.4645 3.5355 1.4645z\" stroke=\"#008e68\"/></defs><use x=\"267.546374\" y=\"117.365937\" fill=\"#009e73\" stroke=\"#008e68\" xlink:href=\"#14c0c1cb00f\"/><g transform=\"translate(285.55 120.87) scale(.1 -.1)\" fill=\"#545759\"><use xlink:href=\"#DejaVuSansMono-20\"/><use x=\"60.205078\" xlink:href=\"#DejaVuSansMono-42\"/><use x=\"120.410156\" xlink:href=\"#DejaVuSansMono-52\"/><use x=\"180.615234\" xlink:href=\"#DejaVuSansMono-41\"/></g><defs><path id=\"6135d1ce09f\" d=\"m0 5c1.326 0 2.5979-0.52683 3.5355-1.4645 0.93763-0.93764 1.4645-2.2095 1.4645-3.5355s-0.52683-2.5979-1.4645-3.5355c-0.93764-0.93763-2.2095-1.4645-3.5355-1.4645s-2.5979 0.52683-3.5355 1.4645c-0.93763 0.93764-1.4645 2.2095-1.4645 3.5355s0.52683 2.5979 1.4645 3.5355c0.93764 0.93763 2.2095 1.4645 3.5355 1.4645z\" stroke=\"#c05500\"/></defs><use x=\"267.546374\" y=\"132.097187\" fill=\"#d55e00\" stroke=\"#c05500\" xlink:href=\"#6135d1ce09f\"/><g transform=\"translate(285.55 135.6) scale(.1 -.1)\" fill=\"#545759\"><use xlink:href=\"#DejaVuSansMono-20\"/><use x=\"60.205078\" xlink:href=\"#DejaVuSansMono-58\"/></g><defs><path id=\"f0982ea1110\" d=\"m0 5c1.326 0 2.5979-0.52683 3.5355-1.4645 0.93763-0.93764 1.4645-2.2095 1.4645-3.5355s-0.52683-2.5979-1.4645-3.5355c-0.93764-0.93763-2.2095-1.4645-3.5355-1.4645s-2.5979 0.52683-3.5355 1.4645c-0.93763 0.93764-1.4645 2.2095-1.4645 3.5355s0.52683 2.5979 1.4645 3.5355c0.93764 0.93763 2.2095 1.4645 3.5355 1.4645z\" stroke=\"#d8cd3b\"/></defs><use x=\"267.546374\" y=\"146.828437\" fill=\"#f0e442\" stroke=\"#d8cd3b\" xlink:href=\"#f0982ea1110\"/><g transform=\"translate(285.55 150.33) scale(.1 -.1)\" fill=\"#545759\"><use xlink:href=\"#DejaVuSansMono-20\"/><use x=\"60.205078\" xlink:href=\"#DejaVuSansMono-59\"/></g><defs><clipPath id=\"80545767863\"><rect x=\"26.669\" y=\"7.2\" width=\"221.88\" height=\"221.76\"/></clipPath></defs></svg>"
      ],
      "text/plain": [
       "<Figure size 400x400 with 1 Axes>"
      ]
     },
     "metadata": {
      "needs_background": "light"
     },
     "output_type": "display_data"
    }
   ],
   "source": [
    "TN.draw(color=['KET', 'PAULI', 'BRA', 'X', 'Y'], figsize=(4, 4), show_inds='all')"
   ]
  },
  {
   "cell_type": "markdown",
   "id": "cdc25ee4-5a83-4241-8e25-cb761a0654f3",
   "metadata": {},
   "source": [
    "Note the tags can be used to identify both paulis at once. But they could also be uniquely identified using their ``'X'`` and ``'Y'`` tags respectively:"
   ]
  },
  {
   "cell_type": "markdown",
   "id": "b48d4fc3-b7df-48c9-9d5a-4146561e60e5",
   "metadata": {
    "raw_mimetype": "text/restructuredtext"
   },
   "source": [
    "A detailed guide to drawing can be found on the page {ref}`tensor-network-drawing`.\n",
    "\n",
    "(tn-creation-graph-style)=\n",
    "\n",
    "## Graph Orientated Tensor Network Creation\n",
    "\n",
    "Another way to create tensor networks is define the tensors (nodes)\n",
    "first and the make indices (edges) afterwards. This is mostly enabled\n",
    "by the functions [`Tensor.new_ind`](quimb.tensor.tensor_core.Tensor.new_ind) and\n",
    "[`Tensor.new_bond`](quimb.tensor.tensor_core.Tensor.new_bond). Take for example\n",
    "making a small periodic matrix product state with bond dimension 7:"
   ]
  },
  {
   "cell_type": "code",
   "execution_count": 8,
   "id": "ac74eca3-0f61-492f-8a0b-391ef1317655",
   "metadata": {},
   "outputs": [
    {
     "data": {
      "image/svg+xml": [
       "<?xml version=\"1.0\" encoding=\"UTF-8\"?><!DOCTYPE svg  PUBLIC '-//W3C//DTD SVG 1.1//EN'  'http://www.w3.org/Graphics/SVG/1.1/DTD/svg11.dtd'><svg width=\"351.06pt\" height=\"331.46pt\" version=\"1.1\" viewBox=\"0 0 351.06 331.46\" xmlns=\"http://www.w3.org/2000/svg\" xmlns:xlink=\"http://www.w3.org/1999/xlink\"><defs><style type=\"text/css\">*{stroke-linejoin: round; stroke-linecap: butt}</style></defs><path d=\"m0 331.46h351.06v-331.46h-351.06v331.46z\" opacity=\"0\"/><path d=\"m59.128 166.27 21.547-68.07\" clip-path=\"url(#47206dc6ea6)\" fill=\"none\" stroke=\"#737880\" stroke-linecap=\"round\" stroke-opacity=\".5\" stroke-width=\"2.8074\"/><path d=\"m59.128 166.27 23.136 67.713\" clip-path=\"url(#47206dc6ea6)\" fill=\"none\" stroke=\"#737880\" stroke-linecap=\"round\" stroke-opacity=\".5\" stroke-width=\"2.8074\"/><path d=\"m59.128 166.27-47.714 0.34626\" clip-path=\"url(#47206dc6ea6)\" fill=\"none\" stroke=\"#737880\" stroke-linecap=\"round\" stroke-opacity=\".5\"/><path d=\"m82.264 233.99 58.428 41.588\" clip-path=\"url(#47206dc6ea6)\" fill=\"none\" stroke=\"#737880\" stroke-linecap=\"round\" stroke-opacity=\".5\" stroke-width=\"2.8074\"/><path d=\"m82.264 233.99-38.314 28.177\" clip-path=\"url(#47206dc6ea6)\" fill=\"none\" stroke=\"#737880\" stroke-linecap=\"round\" stroke-opacity=\".5\"/><path d=\"m140.69 275.57 71.763-0.16611\" clip-path=\"url(#47206dc6ea6)\" fill=\"none\" stroke=\"#737880\" stroke-linecap=\"round\" stroke-opacity=\".5\" stroke-width=\"2.8074\"/><path d=\"m140.69 275.57-14.266 45.284\" clip-path=\"url(#47206dc6ea6)\" fill=\"none\" stroke=\"#737880\" stroke-linecap=\"round\" stroke-opacity=\".5\"/><path d=\"m212.45 275.41 57.892-42.158\" clip-path=\"url(#47206dc6ea6)\" fill=\"none\" stroke=\"#737880\" stroke-linecap=\"round\" stroke-opacity=\".5\" stroke-width=\"2.8074\"/><path d=\"m212.45 275.41 15.033 45.233\" clip-path=\"url(#47206dc6ea6)\" fill=\"none\" stroke=\"#737880\" stroke-linecap=\"round\" stroke-opacity=\".5\"/><path d=\"m270.35 233.25 21.53-68.083\" clip-path=\"url(#47206dc6ea6)\" fill=\"none\" stroke=\"#737880\" stroke-linecap=\"round\" stroke-opacity=\".5\" stroke-width=\"2.8074\"/><path d=\"m270.35 233.25 38.904 27.756\" clip-path=\"url(#47206dc6ea6)\" fill=\"none\" stroke=\"#737880\" stroke-linecap=\"round\" stroke-opacity=\".5\"/><path d=\"m291.88 165.17-23.17-67.881\" clip-path=\"url(#47206dc6ea6)\" fill=\"none\" stroke=\"#737880\" stroke-linecap=\"round\" stroke-opacity=\".5\" stroke-width=\"2.8074\"/><path d=\"m291.88 165.17 47.773-0.22942\" clip-path=\"url(#47206dc6ea6)\" fill=\"none\" stroke=\"#737880\" stroke-linecap=\"round\" stroke-opacity=\".5\"/><path d=\"m268.71 97.284-58.477-41.447\" clip-path=\"url(#47206dc6ea6)\" fill=\"none\" stroke=\"#737880\" stroke-linecap=\"round\" stroke-opacity=\".5\" stroke-width=\"2.8074\"/><path d=\"m268.71 97.284 38.211-28.276\" clip-path=\"url(#47206dc6ea6)\" fill=\"none\" stroke=\"#737880\" stroke-linecap=\"round\" stroke-opacity=\".5\"/><path d=\"m210.23 55.837-71.638 0.30024\" clip-path=\"url(#47206dc6ea6)\" fill=\"none\" stroke=\"#737880\" stroke-linecap=\"round\" stroke-opacity=\".5\" stroke-width=\"2.8074\"/><path d=\"m210.23 55.837 14.417-45.231\" clip-path=\"url(#47206dc6ea6)\" fill=\"none\" stroke=\"#737880\" stroke-linecap=\"round\" stroke-opacity=\".5\"/><path d=\"m138.59 56.137-57.917 42.066\" clip-path=\"url(#47206dc6ea6)\" fill=\"none\" stroke=\"#737880\" stroke-linecap=\"round\" stroke-opacity=\".5\" stroke-width=\"2.8074\"/><path d=\"m138.59 56.137-15.277-45.016\" clip-path=\"url(#47206dc6ea6)\" fill=\"none\" stroke=\"#737880\" stroke-linecap=\"round\" stroke-opacity=\".5\"/><path d=\"m80.675 98.202-38.894-27.646\" clip-path=\"url(#47206dc6ea6)\" fill=\"none\" stroke=\"#737880\" stroke-linecap=\"round\" stroke-opacity=\".5\"/><path d=\"m11.414 166.62z\" clip-path=\"url(#47206dc6ea6)\" fill=\"#ffffff\"/><path d=\"m43.95 262.16z\" clip-path=\"url(#47206dc6ea6)\" fill=\"#ffffff\"/><path d=\"m126.43 320.86z\" clip-path=\"url(#47206dc6ea6)\" fill=\"#ffffff\"/><path d=\"m227.49 320.64z\" clip-path=\"url(#47206dc6ea6)\" fill=\"#ffffff\"/><path d=\"m309.25 261z\" clip-path=\"url(#47206dc6ea6)\" fill=\"#ffffff\"/><path d=\"m339.65 164.94z\" clip-path=\"url(#47206dc6ea6)\" fill=\"#ffffff\"/><path d=\"m306.92 69.008z\" clip-path=\"url(#47206dc6ea6)\" fill=\"#ffffff\"/><path d=\"m224.65 10.606z\" clip-path=\"url(#47206dc6ea6)\" fill=\"#ffffff\"/><path d=\"m123.32 11.121z\" clip-path=\"url(#47206dc6ea6)\" fill=\"#ffffff\"/><path d=\"m41.781 70.556z\" clip-path=\"url(#47206dc6ea6)\" fill=\"#ffffff\"/><path d=\"m59.128 177.6c3.0028 0 5.883-1.193 8.0063-3.3163 2.1233-2.1233 3.3163-5.0035 3.3163-8.0063s-1.193-5.883-3.3163-8.0063c-2.1233-2.1233-5.0035-3.3163-8.0063-3.3163s-5.883 1.193-8.0063 3.3163-3.3163 5.0035-3.3163 8.0063 1.193 5.883 3.3163 8.0063 5.0035 3.3163 8.0063 3.3163z\" clip-path=\"url(#47206dc6ea6)\" fill=\"#737880\" stroke=\"#5d6167\" stroke-width=\"1.5771\"/><path d=\"m82.264 245.31c3.0028 0 5.883-1.193 8.0063-3.3163s3.3163-5.0035 3.3163-8.0063-1.193-5.883-3.3163-8.0063-5.0035-3.3163-8.0063-3.3163-5.883 1.193-8.0063 3.3163-3.3163 5.0035-3.3163 8.0063 1.193 5.883 3.3163 8.0063 5.0035 3.3163 8.0063 3.3163z\" clip-path=\"url(#47206dc6ea6)\" fill=\"#737880\" stroke=\"#5d6167\" stroke-width=\"1.5771\"/><path d=\"m140.69 286.9c3.0028 0 5.883-1.193 8.0063-3.3163 2.1233-2.1233 3.3163-5.0035 3.3163-8.0063 0-3.0028-1.193-5.883-3.3163-8.0063-2.1233-2.1233-5.0035-3.3163-8.0063-3.3163s-5.883 1.193-8.0063 3.3163c-2.1233 2.1233-3.3163 5.0035-3.3163 8.0063 0 3.0028 1.193 5.883 3.3163 8.0063 2.1233 2.1233 5.0035 3.3163 8.0063 3.3163z\" clip-path=\"url(#47206dc6ea6)\" fill=\"#737880\" stroke=\"#5d6167\" stroke-width=\"1.5771\"/><path d=\"m212.45 286.73c3.0028 0 5.883-1.193 8.0063-3.3163 2.1233-2.1233 3.3163-5.0035 3.3163-8.0063 0-3.0028-1.193-5.883-3.3163-8.0063-2.1233-2.1233-5.0035-3.3163-8.0063-3.3163s-5.883 1.193-8.0063 3.3163c-2.1233 2.1233-3.3163 5.0035-3.3163 8.0063 0 3.0028 1.193 5.883 3.3163 8.0063 2.1233 2.1233 5.0035 3.3163 8.0063 3.3163z\" clip-path=\"url(#47206dc6ea6)\" fill=\"#737880\" stroke=\"#5d6167\" stroke-width=\"1.5771\"/><path d=\"m270.35 244.57c3.0028 0 5.883-1.193 8.0063-3.3163s3.3163-5.0035 3.3163-8.0063-1.193-5.883-3.3163-8.0063-5.0035-3.3163-8.0063-3.3163-5.883 1.193-8.0063 3.3163-3.3163 5.0035-3.3163 8.0063 1.193 5.883 3.3163 8.0063 5.0035 3.3163 8.0063 3.3163z\" clip-path=\"url(#47206dc6ea6)\" fill=\"#737880\" stroke=\"#5d6167\" stroke-width=\"1.5771\"/><path d=\"m291.88 176.49c3.0028 0 5.883-1.193 8.0063-3.3163s3.3163-5.0035 3.3163-8.0063c0-3.0028-1.193-5.883-3.3163-8.0063-2.1233-2.1233-5.0035-3.3163-8.0063-3.3163s-5.883 1.193-8.0063 3.3163c-2.1233 2.1233-3.3163 5.0035-3.3163 8.0063 0 3.0028 1.193 5.883 3.3163 8.0063s5.0035 3.3163 8.0063 3.3163z\" clip-path=\"url(#47206dc6ea6)\" fill=\"#737880\" stroke=\"#5d6167\" stroke-width=\"1.5771\"/><path d=\"m268.71 108.61c3.0028 0 5.883-1.193 8.0063-3.3163s3.3163-5.0035 3.3163-8.0063-1.193-5.883-3.3163-8.0063-5.0035-3.3163-8.0063-3.3163-5.883 1.193-8.0063 3.3163-3.3163 5.0035-3.3163 8.0063 1.193 5.883 3.3163 8.0063 5.0035 3.3163 8.0063 3.3163z\" clip-path=\"url(#47206dc6ea6)\" fill=\"#737880\" stroke=\"#5d6167\" stroke-width=\"1.5771\"/><path d=\"m210.23 67.159c3.0028 0 5.883-1.193 8.0063-3.3163 2.1233-2.1233 3.3163-5.0035 3.3163-8.0063 0-3.0028-1.193-5.883-3.3163-8.0063-2.1233-2.1233-5.0035-3.3163-8.0063-3.3163-3.0028 0-5.883 1.193-8.0063 3.3163-2.1233 2.1233-3.3163 5.0035-3.3163 8.0063 0 3.0028 1.193 5.883 3.3163 8.0063 2.1233 2.1233 5.0035 3.3163 8.0063 3.3163z\" clip-path=\"url(#47206dc6ea6)\" fill=\"#737880\" stroke=\"#5d6167\" stroke-width=\"1.5771\"/><path d=\"m138.59 67.46c3.0028 0 5.883-1.193 8.0063-3.3163s3.3163-5.0035 3.3163-8.0063-1.193-5.883-3.3163-8.0063-5.0035-3.3163-8.0063-3.3163-5.883 1.193-8.0063 3.3163-3.3163 5.0035-3.3163 8.0063 1.193 5.883 3.3163 8.0063 5.0035 3.3163 8.0063 3.3163z\" clip-path=\"url(#47206dc6ea6)\" fill=\"#737880\" stroke=\"#5d6167\" stroke-width=\"1.5771\"/><path d=\"m80.675 109.53c3.0028 0 5.883-1.193 8.0063-3.3163s3.3163-5.0035 3.3163-8.0063-1.193-5.883-3.3163-8.0063-5.0035-3.3163-8.0063-3.3163-5.883 1.193-8.0063 3.3163-3.3163 5.0035-3.3163 8.0063 1.193 5.883 3.3163 8.0063 5.0035 3.3163 8.0063 3.3163z\" clip-path=\"url(#47206dc6ea6)\" fill=\"#737880\" stroke=\"#5d6167\" stroke-width=\"1.5771\"/><g transform=\"translate(7.2 168.57) scale(.07 -.07)\" fill=\"#545759\"><defs><path id=\"DejaVuSansMono-6b\" transform=\"scale(.015625)\" d=\"m738 4863h593v-2816l1510 1453h700l-1378-1319 1593-2181h-703l-1294 1806-428-403v-1403h-593v4863z\"/><path id=\"DejaVuSansMono-30\" transform=\"scale(.015625)\" d=\"m1509 2344q0 172 120 297 121 125 290 125 175 0 300-125t125-297q0-175-124-297-123-122-301-122-175 0-293 119-117 119-117 300zm416 1906q-441 0-658-475t-217-1447q0-969 217-1444t658-475q444 0 661 475t217 1444q0 972-217 1447t-661 475zm0 500q747 0 1130-613 383-612 383-1809 0-1194-383-1807-383-612-1130-612t-1128 612q-381 613-381 1807 0 1197 381 1809 381 613 1128 613z\"/></defs><use xlink:href=\"#DejaVuSansMono-6b\"/><use x=\"60.205078\" xlink:href=\"#DejaVuSansMono-30\"/></g><g transform=\"translate(39.736 264.11) scale(.07 -.07)\" fill=\"#545759\"><defs><path id=\"DejaVuSansMono-31\" transform=\"scale(.015625)\" d=\"m844 531h981v3566l-1056-238v575l1050 232h631v-4135h969v-531h-2575v531z\"/></defs><use xlink:href=\"#DejaVuSansMono-6b\"/><use x=\"60.205078\" xlink:href=\"#DejaVuSansMono-31\"/></g><g transform=\"translate(122.21 322.81) scale(.07 -.07)\" fill=\"#545759\"><defs><path id=\"DejaVuSansMono-32\" transform=\"scale(.015625)\" d=\"m1166 531h2143v-531h-2834v531q584 616 1021 1088 438 472 604 665 313 382 422 618t109 482q0 391-230 613-229 222-629 222-284 0-597-103-312-103-662-313v638q321 153 632 231t614 78q685 0 1102-364t417-955q0-300-139-600t-451-662q-175-203-508-563-333-359-1014-1075z\"/></defs><use xlink:href=\"#DejaVuSansMono-6b\"/><use x=\"60.205078\" xlink:href=\"#DejaVuSansMono-32\"/></g><g transform=\"translate(223.27 322.59) scale(.07 -.07)\" fill=\"#545759\"><defs><path id=\"DejaVuSansMono-33\" transform=\"scale(.015625)\" d=\"m2425 2497q459-122 703-433t244-776q0-644-433-1012-433-367-1198-367-322 0-657 60-334 59-656 172v628q319-166 628-247 310-81 616-81 519 0 797 234t278 675q0 406-278 645t-753 239h-482v519h482q434 0 678 190 244 191 244 532 0 359-227 551-227 193-645 193-278 0-575-63-297-62-622-187v581q378 100 673 150 296 50 524 50 681 0 1089-342t408-908q0-384-215-641-214-256-623-362z\"/></defs><use xlink:href=\"#DejaVuSansMono-6b\"/><use x=\"60.205078\" xlink:href=\"#DejaVuSansMono-33\"/></g><g transform=\"translate(305.04 262.95) scale(.07 -.07)\" fill=\"#545759\"><defs><path id=\"DejaVuSansMono-34\" transform=\"scale(.015625)\" d=\"m2297 4091-1472-2466h1472v2466zm-103 575h731v-3041h622v-512h-622v-1113h-628v1113h-1978v596l1875 2957z\"/></defs><use xlink:href=\"#DejaVuSansMono-6b\"/><use x=\"60.205078\" xlink:href=\"#DejaVuSansMono-34\"/></g><g transform=\"translate(335.44 166.89) scale(.07 -.07)\" fill=\"#545759\"><defs><path id=\"DejaVuSansMono-35\" transform=\"scale(.015625)\" d=\"m647 4666h2362v-532h-1787v-1146q134 50 270 73t274 23q725 0 1150-428t425-1159q0-738-446-1163-445-425-1217-425-372 0-680 50-307 50-551 150v641q287-156 578-233 291-76 594-76 522 0 804 275 283 275 283 781 0 500-292 778t-814 278q-253 0-494-58-240-57-459-173v2344z\"/></defs><use xlink:href=\"#DejaVuSansMono-6b\"/><use x=\"60.205078\" xlink:href=\"#DejaVuSansMono-35\"/></g><g transform=\"translate(302.7 70.958) scale(.07 -.07)\" fill=\"#545759\"><defs><path id=\"DejaVuSansMono-36\" transform=\"scale(.015625)\" d=\"m3097 4563v-582q-197 116-419 177t-462 61q-600 0-910-452-309-451-309-1329 150 312 415 479 266 167 610 167 675 0 1045-414 371-414 371-1173 0-756-382-1172-381-416-1072-416-812 0-1190 583t-378 1836q0 1181 454 1801 455 621 1318 621 231 0 462-49 231-48 447-138zm-1125-1972q-403 0-635-291-231-291-231-803 0-513 231-804 232-290 635-290 419 0 631 276 213 277 213 818 0 544-213 819-212 275-631 275z\"/></defs><use xlink:href=\"#DejaVuSansMono-6b\"/><use x=\"60.205078\" xlink:href=\"#DejaVuSansMono-36\"/></g><g transform=\"translate(220.43 12.556) scale(.07 -.07)\" fill=\"#545759\"><defs><path id=\"DejaVuSansMono-37\" transform=\"scale(.015625)\" d=\"m434 4666h2938v-269l-1669-4397h-659l1625 4134h-2235v532z\"/></defs><use xlink:href=\"#DejaVuSansMono-6b\"/><use x=\"60.205078\" xlink:href=\"#DejaVuSansMono-37\"/></g><g transform=\"translate(119.1 13.071) scale(.07 -.07)\" fill=\"#545759\"><defs><path id=\"DejaVuSansMono-38\" transform=\"scale(.015625)\" d=\"m1925 2216q-422 0-652-236-229-236-229-667 0-432 232-671 233-239 649-239 425 0 654 236 230 236 230 674 0 428-233 665-232 238-651 238zm-550 262q-403 103-630 384-226 282-226 679 0 556 378 882 378 327 1028 327 653 0 1031-327 378-326 378-882 0-397-227-679-226-281-629-384 469-103 717-416 249-312 249-809 0-631-403-988-403-356-1116-356-712 0-1114 355t-402 983q0 500 248 814 249 314 718 417zm-228 1003q0-375 200-572 200-196 578-196 381 0 581 196 200 197 200 572 0 382-199 582-198 200-582 200-378 0-578-202t-200-580z\"/></defs><use xlink:href=\"#DejaVuSansMono-6b\"/><use x=\"60.205078\" xlink:href=\"#DejaVuSansMono-38\"/></g><g transform=\"translate(37.567 72.507) scale(.07 -.07)\" fill=\"#545759\"><defs><path id=\"DejaVuSansMono-39\" transform=\"scale(.015625)\" d=\"m1863 2069q403 0 632 290 230 291 230 804 0 512-230 802-229 291-632 291-419 0-632-277-212-276-212-816 0-544 211-819t633-275zm-1125-1972v581q196-115 418-176t463-61q600 0 907 451 308 452 308 1330-146-313-412-480t-609-167q-675 0-1046 415-370 416-370 1179 0 753 379 1167 380 414 1074 414 813 0 1191-585 378-584 378-1837 0-1178-455-1799-455-620-1320-620-228 0-460 49-231 48-446 139z\"/></defs><use xlink:href=\"#DejaVuSansMono-6b\"/><use x=\"60.205078\" xlink:href=\"#DejaVuSansMono-39\"/></g><defs><clipPath id=\"47206dc6ea6\"><rect x=\"8.1319\" y=\"7.5034\" width=\"334.8\" height=\"316.46\"/></clipPath></defs></svg>"
      ],
      "text/plain": [
       "<Figure size 600x600 with 1 Axes>"
      ]
     },
     "metadata": {
      "needs_background": "light"
     },
     "output_type": "display_data"
    }
   ],
   "source": [
    "L = 10\n",
    "\n",
    "# create the nodes, by default just the scalar 1.0\n",
    "tensors = [qtn.Tensor() for _ in range(L)]\n",
    "\n",
    "for i in range(L):\n",
    "    # add the physical indices, each of size 2\n",
    "    tensors[i].new_ind(f'k{i}', size=2)\n",
    "\n",
    "    # add bonds between neighbouring tensors, of size 7\n",
    "    tensors[i].new_bond(tensors[(i + 1) % L], size=7)\n",
    "\n",
    "mps = qtn.TensorNetwork(tensors)\n",
    "mps.draw()"
   ]
  },
  {
   "cell_type": "markdown",
   "id": "1f61668c-9605-496b-b1f1-d67ffe96d7b0",
   "metadata": {
    "raw_mimetype": "text/restructuredtext"
   },
   "source": [
    ":::{hint}\n",
    "You can also add tensors or tensor networks in-place to an existing\n",
    "tensor using the following syntax:\n",
    "\n",
    "```python3\n",
    "# add a copy of ``t``\n",
    "tn &= t\n",
    "\n",
    "# add ``t`` virtually\n",
    "tn |= t\n",
    "```\n",
    ":::\n",
    "\n",
    "## Contraction\n",
    "\n",
    "Actually performing the implicit sum-of-products that a tensor network represents\n",
    "involves *contraction*. Specifically, to turn a tensor network of $N$ tensors\n",
    "into a single tensor with the same 'outer' shape and indices requires a sequence of\n",
    "$N - 1$ pairwise contractions. The cost of doing these intermediate contractions\n",
    "can be **very** sensitive to the exact sequence, or *'path'*, chosen. `quimb`\n",
    "automates both the path finding stage and the actual contraction stage, but there is\n",
    "a non-trivial tradeoff between how long one spends finding the path, and how long the\n",
    "actual contraction takes.\n",
    "\n",
    ":::{warning}\n",
    "By default, `quimb` employs a basic greedy path\n",
    "optimizer that has very little overhead, but won't nearly be optimal on large or complex\n",
    "graphs. See {ref}`tensor-network-contraction` for more details.\n",
    ":::\n",
    "\n",
    "To fully contract a network we can use the `^` operator, and the `...` object:"
   ]
  },
  {
   "cell_type": "code",
   "execution_count": 9,
   "id": "088405f6-6c11-4e77-8daf-dcd6f9cc8281",
   "metadata": {},
   "outputs": [
    {
     "data": {
      "text/plain": [
       "(0.556024406455527+0.28213663229389124j)"
      ]
     },
     "execution_count": 9,
     "metadata": {},
     "output_type": "execute_result"
    }
   ],
   "source": [
    "TN ^ ..."
   ]
  },
  {
   "cell_type": "markdown",
   "id": "03e3a18a-2f0c-4ae3-ab61-63a56e1757ad",
   "metadata": {},
   "source": [
    "Or if you only want to contract tensors with a specific set of tags, such as the two pauli operators,\n",
    "supply a tag or sequence of tags:"
   ]
  },
  {
   "cell_type": "code",
   "execution_count": 10,
   "id": "ea5e2905-bbb2-4f48-b801-648a174db267",
   "metadata": {},
   "outputs": [
    {
     "data": {
      "image/svg+xml": [
       "<?xml version=\"1.0\" encoding=\"UTF-8\"?><!DOCTYPE svg  PUBLIC '-//W3C//DTD SVG 1.1//EN'  'http://www.w3.org/Graphics/SVG/1.1/DTD/svg11.dtd'><svg width=\"426.32pt\" height=\"49.8pt\" version=\"1.1\" viewBox=\"0 0 426.32 49.8\" xmlns=\"http://www.w3.org/2000/svg\" xmlns:xlink=\"http://www.w3.org/1999/xlink\"><defs><style type=\"text/css\">*{stroke-linejoin: round; stroke-linecap: butt}</style></defs><path d=\"m0 49.8h426.32v-49.8h-426.32v49.8z\" opacity=\"0\"/><path d=\"m25.108 25.888q27.554-13.245 37.234-15.174c8.9876-1.7914 27.998-0.18161 37.331-0.24215 9.3326-0.060538 28.32-1.9168 37.331-0.24215q9.7042 1.8037 37.427 14.69\" clip-path=\"url(#50c8ade87fb)\" fill=\"none\" stroke=\"#737880\" stroke-linecap=\"round\" stroke-opacity=\".5\"/><path d=\"m25.108 25.888q27.723 12.886 37.427 14.69c9.0101 1.6747 27.998-0.18161 37.331-0.24215 9.3326-0.060537 28.343 1.5492 37.331-0.24215q9.68-1.9294 37.234-15.174\" clip-path=\"url(#50c8ade87fb)\" fill=\"none\" stroke=\"#737880\" stroke-linecap=\"round\" stroke-opacity=\".5\"/><path d=\"m324.09 23.949q-27.616 13.275-37.318 15.209c-9.0081 1.7955-28.062 0.18202-37.416 0.2427s-28.385 1.9212-37.416 0.2427q-9.7263-1.8078-37.513-14.724\" clip-path=\"url(#50c8ade87fb)\" fill=\"none\" stroke=\"#737880\" stroke-linecap=\"round\" stroke-opacity=\".5\"/><path d=\"m324.09 23.949q-27.786-12.916-37.513-14.724c-9.0306-1.6785-28.062 0.18202-37.416 0.2427s-28.407-1.5528-37.416 0.2427q-9.702 1.9338-37.318 15.209\" clip-path=\"url(#50c8ade87fb)\" fill=\"none\" stroke=\"#737880\" stroke-linecap=\"round\" stroke-opacity=\".5\"/><path d=\"m25.108 39.184c3.5261 0 6.9083-1.4009 9.4016-3.8943 2.4933-2.4933 3.8943-5.8755 3.8943-9.4016 0-3.5261-1.4009-6.9083-3.8943-9.4016-2.4933-2.4933-5.8755-3.8943-9.4016-3.8943s-6.9083 1.4009-9.4016 3.8943c-2.4933 2.4933-3.8943 5.8755-3.8943 9.4016 0 3.5261 1.4009 6.9083 3.8943 9.4016 2.4933 2.4933 5.8755 3.8943 9.4016 3.8943z\" clip-path=\"url(#50c8ade87fb)\" fill=\"#737880\" stroke=\"#5d6167\" stroke-width=\"1.9168\"/><path d=\"m324.09 37.245c3.5261 0 6.9083-1.4009 9.4016-3.8943 2.4933-2.4933 3.8943-5.8755 3.8943-9.4016s-1.4009-6.9083-3.8943-9.4016c-2.4933-2.4933-5.8755-3.8943-9.4016-3.8943s-6.9083 1.4009-9.4016 3.8943-3.8943 5.8755-3.8943 9.4016 1.4009 6.9083 3.8943 9.4016 5.8755 3.8943 9.4016 3.8943z\" clip-path=\"url(#50c8ade87fb)\" fill=\"#737880\" stroke=\"#5d6167\" stroke-width=\"1.9168\"/><path d=\"m174.43 38.216c3.5261 0 6.9083-1.4009 9.4016-3.8943 2.4933-2.4933 3.8943-5.8755 3.8943-9.4016 0-3.5261-1.4009-6.9083-3.8943-9.4016-2.4933-2.4933-5.8755-3.8943-9.4016-3.8943s-6.9083 1.4009-9.4016 3.8943c-2.4933 2.4933-3.8943 5.8755-3.8943 9.4016 0 3.5261 1.4009 6.9083 3.8943 9.4016 2.4933 2.4933 5.8755 3.8943 9.4016 3.8943z\" clip-path=\"url(#50c8ade87fb)\" fill=\"#56b4e9\" stroke=\"#4da2d2\" stroke-width=\"1.9168\"/><g transform=\"translate(16.077 28.674) scale(.1 -.1)\" fill=\"#545759\"><defs><path id=\"DejaVuSansMono-4b\" transform=\"scale(.015625)\" d=\"m428 4666h635v-2075l1971 2075h741l-1816-1907 1869-2759h-762l-1522 2338-481-513v-1825h-635v4666z\"/><path id=\"DejaVuSansMono-45\" transform=\"scale(.015625)\" d=\"m616 4666h2768v-532h-2137v-1381h2044v-531h-2044v-1691h2197v-531h-2828v4666z\"/><path id=\"DejaVuSansMono-54\" transform=\"scale(.015625)\" d=\"m147 4666h3559v-532h-1459v-4134h-634v4134h-1466v532z\"/></defs><use xlink:href=\"#DejaVuSansMono-4b\"/><use x=\"60.205078\" xlink:href=\"#DejaVuSansMono-45\"/><use x=\"120.410156\" xlink:href=\"#DejaVuSansMono-54\"/></g><g transform=\"translate(315.06 26.735) scale(.1 -.1)\" fill=\"#545759\"><defs><path id=\"DejaVuSansMono-42\" transform=\"scale(.015625)\" d=\"m1153 2228v-1709h747q550 0 784 192 235 192 235 633 0 456-247 670t-772 214h-747zm0 1919v-1406h735q456 0 660 175 205 175 205 565 0 353-202 509-201 157-663 157h-735zm-634 519h1381q716 0 1103-310 388-309 388-875 0-428-205-675t-614-309q459-69 720-393 261-323 261-823 0-634-416-958-415-323-1237-323h-1381v4666z\"/><path id=\"DejaVuSansMono-52\" transform=\"scale(.015625)\" d=\"m2375 2203q244-62 416-236 172-173 428-692l634-1275h-678l-556 1178q-241 503-433 648-192 146-502 146h-603v-1972h-634v4666h1300q769 0 1178-347t409-1003q0-463-252-755-251-292-707-358zm-1294 1944v-1656h691q453 0 675 203t222 622q0 403-236 617t-686 214h-666z\"/><path id=\"DejaVuSansMono-41\" transform=\"scale(.015625)\" d=\"m1925 4109-666-2387h1332l-666 2387zm-381 557h765l1429-4666h-654l-343 1216h-1635l-337-1216h-653l1428 4666z\"/></defs><use xlink:href=\"#DejaVuSansMono-42\"/><use x=\"60.205078\" xlink:href=\"#DejaVuSansMono-52\"/><use x=\"120.410156\" xlink:href=\"#DejaVuSansMono-41\"/></g><g fill=\"#545759\"><g transform=\"translate(129.28 22.075) scale(.1 -.1)\"><defs><path id=\"DejaVuSansMono-50\" transform=\"scale(.015625)\" d=\"m1247 4147v-1753h731q438 0 683 231t245 647-244 645q-243 230-684 230h-731zm-631 519h1362q781 0 1184-355 404-355 404-1039 0-691-402-1044-401-353-1186-353h-731v-1875h-631v4666z\"/><path id=\"DejaVuSansMono-55\" transform=\"scale(.015625)\" d=\"m459 1791v2875h635v-3163q0-340 18-486 19-145 66-223 100-185 289-279 189-93 458-93 272 0 459 93 188 94 291 279 47 78 65 221 19 144 19 482v3169h632v-2875q0-716-89-1018-89-301-308-498-206-184-472-275t-597-91q-328 0-594 91-265 91-475 275-215 194-306 501-91 308-91 1015z\"/><path id=\"DejaVuSansMono-4c\" transform=\"scale(.015625)\" d=\"m672 4666h634v-4135h2253v-531h-2887v4666z\"/><path id=\"DejaVuSansMono-49\" transform=\"scale(.015625)\" d=\"m628 4666h2591v-532h-978v-3603h978v-531h-2591v531h978v3603h-978v532z\"/><path id=\"DejaVuSansMono-2c\" transform=\"scale(.015625)\" d=\"m1569 947h787v-647l-615-1197h-482l310 1197v647z\"/><path id=\"DejaVuSansMono-58\" transform=\"scale(.015625)\" d=\"m269 4666h678l1025-1760 1044 1760h678l-1397-2194 1497-2472h-678l-1144 2009-1234-2009h-682l1563 2472-1350 2194z\"/><path id=\"DejaVuSansMono-30\" transform=\"scale(.015625)\" d=\"m1509 2344q0 172 120 297 121 125 290 125 175 0 300-125t125-297q0-175-124-297-123-122-301-122-175 0-293 119-117 119-117 300zm416 1906q-441 0-658-475t-217-1447q0-969 217-1444t658-475q444 0 661 475t217 1444q0 972-217 1447t-661 475zm0 500q747 0 1130-613 383-612 383-1809 0-1194-383-1807-383-612-1130-612t-1128 612q-381 613-381 1807 0 1197 381 1809 381 613 1128 613z\"/><path id=\"DejaVuSansMono-59\" transform=\"scale(.015625)\" d=\"m116 4666h672l1137-2060 1134 2060h679l-1497-2572v-2094h-635v2094l-1490 2572z\"/></defs><use xlink:href=\"#DejaVuSansMono-50\"/><use x=\"60.205078\" xlink:href=\"#DejaVuSansMono-41\"/><use x=\"120.410156\" xlink:href=\"#DejaVuSansMono-55\"/><use x=\"180.615234\" xlink:href=\"#DejaVuSansMono-4c\"/><use x=\"240.820312\" xlink:href=\"#DejaVuSansMono-49\"/><use x=\"301.025391\" xlink:href=\"#DejaVuSansMono-2c\"/><use x=\"361.230469\" xlink:href=\"#DejaVuSansMono-20\"/><use x=\"421.435547\" xlink:href=\"#DejaVuSansMono-58\"/><use x=\"481.640625\" xlink:href=\"#DejaVuSansMono-2c\"/><use x=\"541.845703\" xlink:href=\"#DejaVuSansMono-20\"/><use x=\"602.050781\" xlink:href=\"#DejaVuSansMono-30\"/><use x=\"662.255859\" xlink:href=\"#DejaVuSansMono-2c\"/><use x=\"722.460938\" xlink:href=\"#DejaVuSansMono-20\"/><use x=\"782.666016\" xlink:href=\"#DejaVuSansMono-59\"/><use x=\"842.871094\" xlink:href=\"#DejaVuSansMono-2c\"/></g><g transform=\"translate(171.42 33.337) scale(.1 -.1)\"><defs><path id=\"DejaVuSansMono-31\" transform=\"scale(.015625)\" d=\"m844 531h981v3566l-1056-238v575l1050 232h631v-4135h969v-531h-2575v531z\"/></defs><use xlink:href=\"#DejaVuSansMono-31\"/></g></g><path d=\"m349 33.766h68.122q2 0 2-2v-13.731q0-2-2-2h-68.122q-2 0-2 2v13.731q0 2 2 2z\" fill=\"none\" stroke=\"#999999\" stroke-opacity=\".2\"/><defs><path id=\"d6c448bf63b\" d=\"m0 5c1.326 0 2.5979-0.52683 3.5355-1.4645 0.93763-0.93764 1.4645-2.2095 1.4645-3.5355s-0.52683-2.5979-1.4645-3.5355c-0.93764-0.93763-2.2095-1.4645-3.5355-1.4645s-2.5979 0.52683-3.5355 1.4645c-0.93763 0.93764-1.4645 2.2095-1.4645 3.5355s0.52683 2.5979 1.4645 3.5355c0.93764 0.93763 2.2095 1.4645 3.5355 1.4645z\" stroke=\"#4da2d2\"/></defs><use x=\"361\" y=\"24.186043\" fill=\"#56b4e9\" stroke=\"#4da2d2\" xlink:href=\"#d6c448bf63b\"/><g transform=\"translate(379 27.686) scale(.1 -.1)\" fill=\"#545759\"><use xlink:href=\"#DejaVuSansMono-20\"/><use x=\"60.205078\" xlink:href=\"#DejaVuSansMono-50\"/><use x=\"120.410156\" xlink:href=\"#DejaVuSansMono-41\"/><use x=\"180.615234\" xlink:href=\"#DejaVuSansMono-55\"/><use x=\"240.820312\" xlink:href=\"#DejaVuSansMono-4c\"/><use x=\"301.025391\" xlink:href=\"#DejaVuSansMono-49\"/></g><defs><clipPath id=\"50c8ade87fb\"><rect x=\"7.2\" y=\"7.2\" width=\"334.8\" height=\"35.4\"/></clipPath></defs></svg>"
      ],
      "text/plain": [
       "<Figure size 600x600 with 1 Axes>"
      ]
     },
     "metadata": {
      "needs_background": "light"
     },
     "output_type": "display_data"
    },
    {
     "name": "stdout",
     "output_type": "stream",
     "text": [
      "TensorNetwork([\n",
      "    Tensor(shape=(2, 2), inds=('k0', 'k1'), tags=oset(['KET'])),\n",
      "    Tensor(shape=(2, 2), inds=('b0', 'b1'), tags=oset(['BRA'])),\n",
      "    Tensor(shape=(2, 2, 2, 2), inds=('k0', 'b0', 'k1', 'b1'), tags=oset(['PAULI', 'X', '0', 'Y', '1'])),\n",
      "], tensors=3, indices=4)\n"
     ]
    }
   ],
   "source": [
    "TNc = TN ^ 'PAULI'\n",
    "TNc.draw('PAULI')\n",
    "print(TNc)"
   ]
  },
  {
   "cell_type": "markdown",
   "id": "2aecb912-418c-49e2-afed-79c96db6ca40",
   "metadata": {
    "raw_mimetype": "text/restructuredtext"
   },
   "source": [
    "Note how the `tags` of the Paulis have been merged on the new tensor.\n",
    "\n",
    "The are many other contraction related options detailed in {ref}`tensor-network-contraction`, but the\n",
    "core function that all of these are routed through is [`tensor_contract`](quimb.tensor.tensor_core.tensor_contract).\n",
    "If you need to pass contraction options, such as the path finding strategy kwarg `optimize`, you'll\n",
    "need to call the method like `tn.contract(..., optimize='auto-hq')`.\n",
    "\n",
    "One useful shorthand is the 'matmul' operator, `@`, which directly contracts two tensors:"
   ]
  },
  {
   "cell_type": "code",
   "execution_count": 11,
   "id": "e2aa08f9-db49-4b03-be59-28393cf5f186",
   "metadata": {},
   "outputs": [
    {
     "data": {
      "text/html": [
       "<samp style='font-size: 12px;'><details><summary><b style=\"color: #e55471;\">Tensor</b>(shape=(<b style=\"color: #828fdd;\">2</b>, <b style=\"color: #80d749;\">4</b>), inds=[<b style=\"color: #7aacd4;\">a</b>, <b style=\"color: #b9e292;\">b</b>], tags={<b style=\"color: #d27b9c;\">A</b>, <b style=\"color: #9e54e0;\">B</b>}),</summary>backend=<b style=\"color: #7fdd73;\">numpy</b>, dtype=<b style=\"color: #75d2c6;\">float64</b>, data=array([[-1.07482966,  1.40801906,  0.97244287,  2.06712511],\n",
       "       [-1.19598176, -1.1037286 , -0.15011799,  1.1052763 ]])</details></samp>"
      ],
      "text/plain": [
       "Tensor(shape=(2, 4), inds=('a', 'b'), tags=oset(['A', 'B']))"
      ]
     },
     "execution_count": 11,
     "metadata": {},
     "output_type": "execute_result"
    }
   ],
   "source": [
    "ta = qtn.rand_tensor([2, 3], inds=['a', 'x'], tags='A')\n",
    "tb = qtn.rand_tensor([4, 3], inds=['b', 'x'], tags='B')\n",
    "\n",
    "# matrix multiplication but with indices aligned automatically\n",
    "ta @ tb"
   ]
  },
  {
   "cell_type": "markdown",
   "id": "b2554816-853e-4bf9-bf4e-83dc3a1d5d04",
   "metadata": {
    "raw_mimetype": "text/restructuredtext"
   },
   "source": [
    "Since the conjugate of a tensor network keeps the same outer indices,\n",
    "this means that `tn.H @ tn` is always the frobenius norm squared\n",
    "($\\mathrm{Tr} A^{\\dagger}A$) of any tensor network."
   ]
  },
  {
   "cell_type": "code",
   "execution_count": 12,
   "id": "b136e4aa-9ad6-4bc1-af35-ba53d319f5b4",
   "metadata": {},
   "outputs": [
    {
     "data": {
      "text/plain": [
       "0.9999999999999999"
      ]
     },
     "execution_count": 12,
     "metadata": {},
     "output_type": "execute_result"
    }
   ],
   "source": [
    "# get a normalized tensor network\n",
    "psi = qtn.MPS_rand_state(10, 7)\n",
    "\n",
    "# compute its norm squared\n",
    "psi.H @ psi  # == (tn.H & tn) ^ ..."
   ]
  },
  {
   "cell_type": "markdown",
   "id": "7963ae63-db42-4dab-b6fe-b2898a3a68f3",
   "metadata": {
    "raw_mimetype": "text/restructuredtext",
    "tags": []
   },
   "source": [
    "## Decomposition\n",
    "\n",
    "A key part of many tensor network algorithms are various linear algebra\n",
    "decompositions of tensors viewed as operators mapping one set of 'left'\n",
    "indices to the remaining 'right' indices. This functionality is handled\n",
    "by the core function [`tensor_split`](quimb.tensor.tensor_core.tensor_split)."
   ]
  },
  {
   "cell_type": "code",
   "execution_count": 13,
   "id": "227e4bfd-3b58-4879-b588-9571fe09ded4",
   "metadata": {},
   "outputs": [
    {
     "data": {
      "image/svg+xml": [
       "<?xml version=\"1.0\" encoding=\"UTF-8\"?><!DOCTYPE svg  PUBLIC '-//W3C//DTD SVG 1.1//EN'  'http://www.w3.org/Graphics/SVG/1.1/DTD/svg11.dtd'><svg width=\"173.69pt\" height=\"184.27pt\" version=\"1.1\" viewBox=\"0 0 173.69 184.27\" xmlns=\"http://www.w3.org/2000/svg\" xmlns:xlink=\"http://www.w3.org/1999/xlink\"><defs><style type=\"text/css\">*{stroke-linejoin: round; stroke-linecap: butt}</style></defs><path d=\"m0 184.27h173.69v-184.27h-173.69v184.27z\" opacity=\"0\"/><path d=\"m95.032 92.135h-85.725\" clip-path=\"url(#0fa96122dce)\" fill=\"none\" stroke=\"#737880\" stroke-linecap=\"round\" stroke-opacity=\".5\"/><path d=\"m95.032 92.135-26.491-81.529\" clip-path=\"url(#0fa96122dce)\" fill=\"none\" stroke=\"#737880\" stroke-linecap=\"round\" stroke-opacity=\".5\" stroke-width=\"1.585\"/><path d=\"m95.032 92.135 69.353-50.388\" clip-path=\"url(#0fa96122dce)\" fill=\"none\" stroke=\"#737880\" stroke-linecap=\"round\" stroke-opacity=\".5\" stroke-width=\"2\"/><path d=\"m95.032 92.135 69.353 50.388\" clip-path=\"url(#0fa96122dce)\" fill=\"none\" stroke=\"#737880\" stroke-linecap=\"round\" stroke-opacity=\".5\" stroke-width=\"2.3219\"/><path d=\"m95.032 92.135-26.491 81.529\" clip-path=\"url(#0fa96122dce)\" fill=\"none\" stroke=\"#737880\" stroke-linecap=\"round\" stroke-opacity=\".5\" stroke-width=\"2.585\"/><path d=\"m9.3071 92.135z\" clip-path=\"url(#0fa96122dce)\" fill=\"#ffffff\"/><path d=\"m68.542 10.606z\" clip-path=\"url(#0fa96122dce)\" fill=\"#ffffff\"/><path d=\"m164.39 41.747z\" clip-path=\"url(#0fa96122dce)\" fill=\"#ffffff\"/><path d=\"m164.39 142.52z\" clip-path=\"url(#0fa96122dce)\" fill=\"#ffffff\"/><path d=\"m68.542 173.66z\" clip-path=\"url(#0fa96122dce)\" fill=\"#ffffff\"/><path d=\"m95.032 109.28c4.5469 0 8.9082-1.8065 12.123-5.0217 3.2152-3.2152 5.0217-7.5764 5.0217-12.123 0-4.5469-1.8065-8.9082-5.0217-12.123-3.2152-3.2152-7.5764-5.0217-12.123-5.0217s-8.9082 1.8065-12.123 5.0217c-3.2152 3.2152-5.0217 7.5764-5.0217 12.123 0 4.5469 1.8065 8.9082 5.0217 12.123 3.2152 3.2152 7.5764 5.0217 12.123 5.0217z\" clip-path=\"url(#0fa96122dce)\" fill=\"#737880\" stroke=\"#5d6167\" stroke-width=\"2.6833\"/><g transform=\"translate(7.2 94.086) scale(.07 -.07)\" fill=\"#545759\"><defs><path id=\"DejaVuSansMono-61\" transform=\"scale(.015625)\" d=\"m2194 1759h-191q-503 0-758-177-254-176-254-526 0-315 190-490 191-175 528-175 475 0 747 329 272 330 275 911v128h-537zm1115 238v-1997h-578v519q-184-313-464-462-279-148-679-148-535 0-854 302-318 302-318 808 0 584 392 887t1151 303h772v91q-3 419-213 608-209 189-668 189-294 0-594-85-300-84-584-246v575q319 122 611 182 292 61 567 61 434 0 742-128t499-384q118-156 168-386t50-689z\"/></defs><use xlink:href=\"#DejaVuSansMono-61\"/></g><g transform=\"translate(66.435 12.556) scale(.07 -.07)\" fill=\"#545759\"><defs><path id=\"DejaVuSansMono-62\" transform=\"scale(.015625)\" d=\"m2869 1747q0 669-213 1009-212 341-628 341-419 0-635-342-215-342-215-1008 0-663 215-1007 216-343 635-343 416 0 628 340 213 341 213 1010zm-1691 1306q138 256 380 393 242 138 561 138 631 0 993-486 363-485 363-1339 0-865-364-1358-364-492-998-492-313 0-552 136t-383 396v-441h-575v4863h575v-1810z\"/></defs><use xlink:href=\"#DejaVuSansMono-62\"/></g><g transform=\"translate(162.28 43.698) scale(.07 -.07)\" fill=\"#545759\"><defs><path id=\"DejaVuSansMono-63\" transform=\"scale(.015625)\" d=\"m3316 178q-232-134-477-201-245-68-501-68-813 0-1271 487-458 488-458 1351 0 862 458 1349 458 488 1271 488 253 0 493-66 241-65 485-202v-603q-228 203-458 293-230 91-520 91-541 0-832-350-290-350-290-1e3 0-647 292-999 292-351 830-351 300 0 537 92 238 92 441 286v-597z\"/></defs><use xlink:href=\"#DejaVuSansMono-63\"/></g><g transform=\"translate(162.28 144.47) scale(.07 -.07)\" fill=\"#545759\"><defs><path id=\"DejaVuSansMono-64\" transform=\"scale(.015625)\" d=\"m2681 3053v1810h575v-4863h-575v441q-143-260-383-396-239-136-551-136-634 0-999 492-364 493-364 1358 0 854 366 1339 366 486 997 486 316 0 556-136 241-135 378-395zm-1690-1306q0-669 212-1010 213-340 628-340 416 0 633 343 217 344 217 1007 0 666-217 1008t-633 342q-415 0-628-341-212-340-212-1009z\"/></defs><use xlink:href=\"#DejaVuSansMono-64\"/></g><g transform=\"translate(66.435 175.61) scale(.07 -.07)\" fill=\"#545759\"><defs><path id=\"DejaVuSansMono-65\" transform=\"scale(.015625)\" d=\"m3475 1894v-281h-2491v-19q0-572 298-885 299-312 843-312 275 0 575 87 300 88 641 266v-572q-328-134-633-201-305-68-589-68-816 0-1276 489-459 490-459 1349 0 837 450 1337t1200 500q669 0 1055-453t386-1237zm-575 169q-12 506-239 770t-652 264q-415 0-684-275t-319-763l1894 4z\"/></defs><use xlink:href=\"#DejaVuSansMono-65\"/></g><defs><clipPath id=\"0fa96122dce\"><rect x=\"7.7563\" y=\"8.9753\" width=\"158.18\" height=\"166.32\"/></clipPath></defs></svg>"
      ],
      "text/plain": [
       "<Figure size 300x300 with 1 Axes>"
      ]
     },
     "metadata": {
      "needs_background": "light"
     },
     "output_type": "display_data"
    }
   ],
   "source": [
    "# create a tensor with 5 legs\n",
    "t = qtn.rand_tensor([2, 3, 4, 5, 6], inds=['a', 'b', 'c', 'd', 'e'])\n",
    "t.draw(figsize=(3, 3))"
   ]
  },
  {
   "cell_type": "code",
   "execution_count": 14,
   "id": "db070ecd-d78e-4db4-ad40-4735cea49f18",
   "metadata": {},
   "outputs": [
    {
     "data": {
      "image/svg+xml": [
       "<?xml version=\"1.0\" encoding=\"UTF-8\"?><!DOCTYPE svg  PUBLIC '-//W3C//DTD SVG 1.1//EN'  'http://www.w3.org/Graphics/SVG/1.1/DTD/svg11.dtd'><svg width=\"182.73pt\" height=\"116.53pt\" version=\"1.1\" viewBox=\"0 0 182.73 116.53\" xmlns=\"http://www.w3.org/2000/svg\" xmlns:xlink=\"http://www.w3.org/1999/xlink\"><defs><style type=\"text/css\">*{stroke-linejoin: round; stroke-linecap: butt}</style></defs><path d=\"m0 116.53h182.73v-116.53h-182.73v116.53z\" opacity=\"0\"/><path d=\"m62.013 60.546-11.627-49.94\" clip-path=\"url(#45517e0873a)\" fill=\"none\" stroke=\"#737880\" stroke-linecap=\"round\" stroke-opacity=\".5\"/><path d=\"m62.013 60.546-52.706-6.8225\" clip-path=\"url(#45517e0873a)\" fill=\"none\" stroke=\"#737880\" stroke-linecap=\"round\" stroke-opacity=\".5\" stroke-width=\"2\"/><path d=\"m62.013 60.546-23.961 45.378\" clip-path=\"url(#45517e0873a)\" fill=\"none\" stroke=\"#737880\" stroke-linecap=\"round\" stroke-opacity=\".5\" stroke-width=\"2.3219\"/><path d=\"m62.013 60.546 67.371 8.5987\" clip-path=\"url(#45517e0873a)\" fill=\"none\" stroke=\"#737880\" stroke-linecap=\"round\" stroke-opacity=\".5\" stroke-width=\"4.1699\"/><path d=\"m129.38 69.144 36.03 36.537\" clip-path=\"url(#45517e0873a)\" fill=\"none\" stroke=\"#737880\" stroke-linecap=\"round\" stroke-opacity=\".5\" stroke-width=\"1.585\"/><path d=\"m129.38 69.144 44.041-26.343\" clip-path=\"url(#45517e0873a)\" fill=\"none\" stroke=\"#737880\" stroke-linecap=\"round\" stroke-opacity=\".5\" stroke-width=\"2.585\"/><path d=\"m50.386 10.606z\" clip-path=\"url(#45517e0873a)\" fill=\"#ffffff\"/><path d=\"m9.3071 53.723z\" clip-path=\"url(#45517e0873a)\" fill=\"#ffffff\"/><path d=\"m38.052 105.92z\" clip-path=\"url(#45517e0873a)\" fill=\"#ffffff\"/><path d=\"m165.41 105.68z\" clip-path=\"url(#45517e0873a)\" fill=\"#ffffff\"/><path d=\"m173.42 42.802z\" clip-path=\"url(#45517e0873a)\" fill=\"#ffffff\"/><path d=\"m62.013 70.768c2.7111 0 5.3114-1.0771 7.2284-2.9941 1.917-1.917 2.9941-4.5174 2.9941-7.2284s-1.0771-5.3114-2.9941-7.2284c-1.917-1.917-4.5174-2.9941-7.2284-2.9941s-5.3114 1.0771-7.2284 2.9941c-1.917 1.917-2.9941 4.5174-2.9941 7.2284s1.0771 5.3114 2.9941 7.2284c1.917 1.917 4.5174 2.9941 7.2284 2.9941z\" clip-path=\"url(#45517e0873a)\" fill=\"#737880\" stroke=\"#5d6167\" stroke-width=\"2.1295\"/><path d=\"m129.38 79.367c2.7111 0 5.3114-1.0771 7.2284-2.9941 1.917-1.917 2.9941-4.5174 2.9941-7.2284 0-2.7111-1.0771-5.3114-2.9941-7.2284-1.917-1.917-4.5174-2.9941-7.2284-2.9941s-5.3114 1.0771-7.2284 2.9941c-1.917 1.917-2.9941 4.5174-2.9941 7.2284 0 2.7111 1.0771 5.3114 2.9941 7.2284 1.917 1.917 4.5174 2.9941 7.2284 2.9941z\" clip-path=\"url(#45517e0873a)\" fill=\"#737880\" stroke=\"#5d6167\" stroke-width=\"2.1295\"/><g transform=\"translate(48.279 12.556) scale(.07 -.07)\" fill=\"#545759\"><defs><path id=\"DejaVuSansMono-61\" transform=\"scale(.015625)\" d=\"m2194 1759h-191q-503 0-758-177-254-176-254-526 0-315 190-490 191-175 528-175 475 0 747 329 272 330 275 911v128h-537zm1115 238v-1997h-578v519q-184-313-464-462-279-148-679-148-535 0-854 302-318 302-318 808 0 584 392 887t1151 303h772v91q-3 419-213 608-209 189-668 189-294 0-594-85-300-84-584-246v575q319 122 611 182 292 61 567 61 434 0 742-128t499-384q118-156 168-386t50-689z\"/></defs><use xlink:href=\"#DejaVuSansMono-61\"/></g><g transform=\"translate(7.2 55.673) scale(.07 -.07)\" fill=\"#545759\"><defs><path id=\"DejaVuSansMono-63\" transform=\"scale(.015625)\" d=\"m3316 178q-232-134-477-201-245-68-501-68-813 0-1271 487-458 488-458 1351 0 862 458 1349 458 488 1271 488 253 0 493-66 241-65 485-202v-603q-228 203-458 293-230 91-520 91-541 0-832-350-290-350-290-1e3 0-647 292-999 292-351 830-351 300 0 537 92 238 92 441 286v-597z\"/></defs><use xlink:href=\"#DejaVuSansMono-63\"/></g><g transform=\"translate(35.945 107.87) scale(.07 -.07)\" fill=\"#545759\"><defs><path id=\"DejaVuSansMono-64\" transform=\"scale(.015625)\" d=\"m2681 3053v1810h575v-4863h-575v441q-143-260-383-396-239-136-551-136-634 0-999 492-364 493-364 1358 0 854 366 1339 366 486 997 486 316 0 556-136 241-135 378-395zm-1690-1306q0-669 212-1010 213-340 628-340 416 0 633 343 217 344 217 1007 0 666-217 1008t-633 342q-415 0-628-341-212-340-212-1009z\"/></defs><use xlink:href=\"#DejaVuSansMono-64\"/></g><g transform=\"translate(163.31 107.63) scale(.07 -.07)\" fill=\"#545759\"><defs><path id=\"DejaVuSansMono-62\" transform=\"scale(.015625)\" d=\"m2869 1747q0 669-213 1009-212 341-628 341-419 0-635-342-215-342-215-1008 0-663 215-1007 216-343 635-343 416 0 628 340 213 341 213 1010zm-1691 1306q138 256 380 393 242 138 561 138 631 0 993-486 363-485 363-1339 0-865-364-1358-364-492-998-492-313 0-552 136t-383 396v-441h-575v4863h575v-1810z\"/></defs><use xlink:href=\"#DejaVuSansMono-62\"/></g><g transform=\"translate(171.32 44.752) scale(.07 -.07)\" fill=\"#545759\"><defs><path id=\"DejaVuSansMono-65\" transform=\"scale(.015625)\" d=\"m3475 1894v-281h-2491v-19q0-572 298-885 299-312 843-312 275 0 575 87 300 88 641 266v-572q-328-134-633-201-305-68-589-68-816 0-1276 489-459 490-459 1349 0 837 450 1337t1200 500q669 0 1055-453t386-1237zm-575 169q-12 506-239 770t-652 264q-415 0-684-275t-319-763l1894 4z\"/></defs><use xlink:href=\"#DejaVuSansMono-65\"/></g><defs><clipPath id=\"45517e0873a\"><rect x=\"7.6659\" y=\"9.6528\" width=\"167.4\" height=\"97.224\"/></clipPath></defs></svg>"
      ],
      "text/plain": [
       "<Figure size 300x300 with 1 Axes>"
      ]
     },
     "metadata": {
      "needs_background": "light"
     },
     "output_type": "display_data"
    }
   ],
   "source": [
    "# split the tensor, by grouping some indices as 'left'\n",
    "tn = t.split(['a', 'c', 'd'])\n",
    "tn.draw(figsize=(3, 3))"
   ]
  },
  {
   "cell_type": "markdown",
   "id": "691cda75-a0ec-4bc8-b87e-df5db5aa931a",
   "metadata": {
    "raw_mimetype": "text/restructuredtext",
    "tags": []
   },
   "source": [
    "There are many options that can be passed to {func}`~quimb.tensor.tensor_core.tensor_split` such as:\n",
    "\n",
    "- which decomposition to use\n",
    "- how or whether to absorb any singular values\n",
    "- specific `tags` or `inds` to introduce\n",
    "\n",
    "Often it is convenient to perform a decomposition within a tensor network, here we decompose\n",
    "a central tensor of an MPS, introducing a new tensor that will sit on the bond:"
   ]
  },
  {
   "cell_type": "code",
   "execution_count": 15,
   "id": "2b21499c-40be-426a-9d3b-0226025580e5",
   "metadata": {},
   "outputs": [
    {
     "data": {
      "image/svg+xml": [
       "<?xml version=\"1.0\" encoding=\"UTF-8\"?><!DOCTYPE svg  PUBLIC '-//W3C//DTD SVG 1.1//EN'  'http://www.w3.org/Graphics/SVG/1.1/DTD/svg11.dtd'><svg width=\"351.06pt\" height=\"106.82pt\" version=\"1.1\" viewBox=\"0 0 351.06 106.82\" xmlns=\"http://www.w3.org/2000/svg\" xmlns:xlink=\"http://www.w3.org/1999/xlink\"><defs><style type=\"text/css\">*{stroke-linejoin: round; stroke-linecap: butt}</style></defs><path d=\"m0 106.82h351.06v-106.82h-351.06v106.82z\" opacity=\"0\"/><path d=\"m44.517 27.849 40.773 24.417\" clip-path=\"url(#9eb0c6e2072)\" fill=\"none\" stroke=\"#737880\" stroke-linecap=\"round\" stroke-opacity=\".5\" stroke-width=\"3.3219\"/><path d=\"m44.517 27.849-33.103-17.243\" clip-path=\"url(#9eb0c6e2072)\" fill=\"none\" stroke=\"#737880\" stroke-linecap=\"round\" stroke-opacity=\".5\"/><path d=\"m85.29 52.266 55.725 11.307\" clip-path=\"url(#9eb0c6e2072)\" fill=\"none\" stroke=\"#737880\" stroke-linecap=\"round\" stroke-opacity=\".5\" stroke-width=\"3.3219\"/><path d=\"m85.29 52.266-28.502 21.682\" clip-path=\"url(#9eb0c6e2072)\" fill=\"none\" stroke=\"#737880\" stroke-linecap=\"round\" stroke-opacity=\".5\"/><path d=\"m141.02 63.573 59.271-2.2842\" clip-path=\"url(#9eb0c6e2072)\" fill=\"none\" stroke=\"#737880\" stroke-linecap=\"round\" stroke-opacity=\".5\" stroke-width=\"3.3219\"/><path d=\"m141.02 63.573-8.499 32.641\" clip-path=\"url(#9eb0c6e2072)\" fill=\"none\" stroke=\"#737880\" stroke-linecap=\"round\" stroke-opacity=\".5\"/><path d=\"m200.29 61.289 54.331-16.076\" clip-path=\"url(#9eb0c6e2072)\" fill=\"none\" stroke=\"#737880\" stroke-linecap=\"round\" stroke-opacity=\".5\" stroke-width=\"3.3219\"/><path d=\"m200.29 61.289 12.156 31.556\" clip-path=\"url(#9eb0c6e2072)\" fill=\"none\" stroke=\"#737880\" stroke-linecap=\"round\" stroke-opacity=\".5\"/><path d=\"m254.62 45.213 47.585 4.251\" clip-path=\"url(#9eb0c6e2072)\" fill=\"none\" stroke=\"#737880\" stroke-linecap=\"round\" stroke-opacity=\".5\" stroke-width=\"3.3219\"/><path d=\"m254.62 45.213 14.556-32.318\" clip-path=\"url(#9eb0c6e2072)\" fill=\"none\" stroke=\"#737880\" stroke-linecap=\"round\" stroke-opacity=\".5\"/><path d=\"m302.2 49.464 37.448 1.7931\" clip-path=\"url(#9eb0c6e2072)\" fill=\"none\" stroke=\"#737880\" stroke-linecap=\"round\" stroke-opacity=\".5\"/><path d=\"m11.414 10.606z\" clip-path=\"url(#9eb0c6e2072)\" fill=\"#ffffff\"/><path d=\"m56.788 73.948z\" clip-path=\"url(#9eb0c6e2072)\" fill=\"#ffffff\"/><path d=\"m132.52 96.214z\" clip-path=\"url(#9eb0c6e2072)\" fill=\"#ffffff\"/><path d=\"m212.44 92.845z\" clip-path=\"url(#9eb0c6e2072)\" fill=\"#ffffff\"/><path d=\"m269.17 12.895z\" clip-path=\"url(#9eb0c6e2072)\" fill=\"#ffffff\"/><path d=\"m339.65 51.257z\" clip-path=\"url(#9eb0c6e2072)\" fill=\"#ffffff\"/><path d=\"m44.517 37.59c2.5833 0 5.0612-1.0264 6.8879-2.8531s2.8531-4.3046 2.8531-6.8879-1.0264-5.0612-2.8531-6.8879c-1.8267-1.8267-4.3046-2.8531-6.8879-2.8531-2.5833 0-5.0612 1.0264-6.8879 2.8531-1.8267 1.8267-2.8531 4.3046-2.8531 6.8879s1.0264 5.0612 2.8531 6.8879 4.3046 2.8531 6.8879 2.8531z\" clip-path=\"url(#9eb0c6e2072)\" fill=\"#737880\" stroke=\"#5d6167\" stroke-width=\"1.4696\"/><path d=\"m85.29 62.007c2.5833 0 5.0612-1.0264 6.8879-2.8531 1.8267-1.8267 2.8531-4.3046 2.8531-6.8879 0-2.5833-1.0264-5.0612-2.8531-6.8879-1.8267-1.8267-4.3046-2.8531-6.8879-2.8531s-5.0612 1.0264-6.8879 2.8531c-1.8267 1.8267-2.8531 4.3046-2.8531 6.8879 0 2.5833 1.0264 5.0612 2.8531 6.8879 1.8267 1.8267 4.3046 2.8531 6.8879 2.8531z\" clip-path=\"url(#9eb0c6e2072)\" fill=\"#737880\" stroke=\"#5d6167\" stroke-width=\"1.4696\"/><path d=\"m141.02 73.314c2.5833 0 5.0612-1.0264 6.8879-2.8531s2.8531-4.3046 2.8531-6.8879c0-2.5833-1.0264-5.0612-2.8531-6.8879s-4.3046-2.8531-6.8879-2.8531c-2.5833 0-5.0612 1.0264-6.8879 2.8531s-2.8531 4.3046-2.8531 6.8879c0 2.5833 1.0264 5.0612 2.8531 6.8879s4.3046 2.8531 6.8879 2.8531z\" clip-path=\"url(#9eb0c6e2072)\" fill=\"#737880\" stroke=\"#5d6167\" stroke-width=\"1.4696\"/><path d=\"m200.29 71.03c2.5833 0 5.0612-1.0264 6.8879-2.8531s2.8531-4.3046 2.8531-6.8879-1.0264-5.0612-2.8531-6.8879c-1.8267-1.8267-4.3046-2.8531-6.8879-2.8531-2.5833 0-5.0612 1.0264-6.8879 2.8531-1.8267 1.8267-2.8531 4.3046-2.8531 6.8879s1.0264 5.0612 2.8531 6.8879 4.3046 2.8531 6.8879 2.8531z\" clip-path=\"url(#9eb0c6e2072)\" fill=\"#737880\" stroke=\"#5d6167\" stroke-width=\"1.4696\"/><path d=\"m254.62 54.954c2.5833 0 5.0612-1.0264 6.8879-2.8531 1.8267-1.8267 2.8531-4.3046 2.8531-6.8879 0-2.5833-1.0264-5.0612-2.8531-6.8879-1.8267-1.8267-4.3046-2.8531-6.8879-2.8531s-5.0612 1.0264-6.8879 2.8531-2.8531 4.3046-2.8531 6.8879c0 2.5833 1.0264 5.0612 2.8531 6.8879s4.3046 2.8531 6.8879 2.8531z\" clip-path=\"url(#9eb0c6e2072)\" fill=\"#737880\" stroke=\"#5d6167\" stroke-width=\"1.4696\"/><path d=\"m302.2 59.205c2.5833 0 5.0612-1.0264 6.8879-2.8531 1.8267-1.8267 2.8531-4.3046 2.8531-6.8879 0-2.5833-1.0264-5.0612-2.8531-6.8879-1.8267-1.8267-4.3046-2.8531-6.8879-2.8531-2.5833 0-5.0612 1.0264-6.8879 2.8531s-2.8531 4.3046-2.8531 6.8879c0 2.5833 1.0264 5.0612 2.8531 6.8879 1.8267 1.8267 4.3046 2.8531 6.8879 2.8531z\" clip-path=\"url(#9eb0c6e2072)\" fill=\"#737880\" stroke=\"#5d6167\" stroke-width=\"1.4696\"/><g transform=\"translate(7.2 12.556) scale(.07 -.07)\" fill=\"#545759\"><defs><path id=\"DejaVuSansMono-6b\" transform=\"scale(.015625)\" d=\"m738 4863h593v-2816l1510 1453h700l-1378-1319 1593-2181h-703l-1294 1806-428-403v-1403h-593v4863z\"/><path id=\"DejaVuSansMono-30\" transform=\"scale(.015625)\" d=\"m1509 2344q0 172 120 297 121 125 290 125 175 0 300-125t125-297q0-175-124-297-123-122-301-122-175 0-293 119-117 119-117 300zm416 1906q-441 0-658-475t-217-1447q0-969 217-1444t658-475q444 0 661 475t217 1444q0 972-217 1447t-661 475zm0 500q747 0 1130-613 383-612 383-1809 0-1194-383-1807-383-612-1130-612t-1128 612q-381 613-381 1807 0 1197 381 1809 381 613 1128 613z\"/></defs><use xlink:href=\"#DejaVuSansMono-6b\"/><use x=\"60.205078\" xlink:href=\"#DejaVuSansMono-30\"/></g><g transform=\"translate(52.574 75.898) scale(.07 -.07)\" fill=\"#545759\"><defs><path id=\"DejaVuSansMono-31\" transform=\"scale(.015625)\" d=\"m844 531h981v3566l-1056-238v575l1050 232h631v-4135h969v-531h-2575v531z\"/></defs><use xlink:href=\"#DejaVuSansMono-6b\"/><use x=\"60.205078\" xlink:href=\"#DejaVuSansMono-31\"/></g><g transform=\"translate(128.3 98.164) scale(.07 -.07)\" fill=\"#545759\"><defs><path id=\"DejaVuSansMono-32\" transform=\"scale(.015625)\" d=\"m1166 531h2143v-531h-2834v531q584 616 1021 1088 438 472 604 665 313 382 422 618t109 482q0 391-230 613-229 222-629 222-284 0-597-103-312-103-662-313v638q321 153 632 231t614 78q685 0 1102-364t417-955q0-300-139-600t-451-662q-175-203-508-563-333-359-1014-1075z\"/></defs><use xlink:href=\"#DejaVuSansMono-6b\"/><use x=\"60.205078\" xlink:href=\"#DejaVuSansMono-32\"/></g><g transform=\"translate(208.23 94.795) scale(.07 -.07)\" fill=\"#545759\"><defs><path id=\"DejaVuSansMono-33\" transform=\"scale(.015625)\" d=\"m2425 2497q459-122 703-433t244-776q0-644-433-1012-433-367-1198-367-322 0-657 60-334 59-656 172v628q319-166 628-247 310-81 616-81 519 0 797 234t278 675q0 406-278 645t-753 239h-482v519h482q434 0 678 190 244 191 244 532 0 359-227 551-227 193-645 193-278 0-575-63-297-62-622-187v581q378 100 673 150 296 50 524 50 681 0 1089-342t408-908q0-384-215-641-214-256-623-362z\"/></defs><use xlink:href=\"#DejaVuSansMono-6b\"/><use x=\"60.205078\" xlink:href=\"#DejaVuSansMono-33\"/></g><g transform=\"translate(264.96 14.845) scale(.07 -.07)\" fill=\"#545759\"><defs><path id=\"DejaVuSansMono-34\" transform=\"scale(.015625)\" d=\"m2297 4091-1472-2466h1472v2466zm-103 575h731v-3041h622v-512h-622v-1113h-628v1113h-1978v596l1875 2957z\"/></defs><use xlink:href=\"#DejaVuSansMono-6b\"/><use x=\"60.205078\" xlink:href=\"#DejaVuSansMono-34\"/></g><g transform=\"translate(335.44 53.207) scale(.07 -.07)\" fill=\"#545759\"><defs><path id=\"DejaVuSansMono-35\" transform=\"scale(.015625)\" d=\"m647 4666h2362v-532h-1787v-1146q134 50 270 73t274 23q725 0 1150-428t425-1159q0-738-446-1163-445-425-1217-425-372 0-680 50-307 50-551 150v641q287-156 578-233 291-76 594-76 522 0 804 275 283 275 283 781 0 500-292 778t-814 278q-253 0-494-58-240-57-459-173v2344z\"/></defs><use xlink:href=\"#DejaVuSansMono-6b\"/><use x=\"60.205078\" xlink:href=\"#DejaVuSansMono-35\"/></g><g transform=\"translate(38.497 30.635) scale(.1 -.1)\" fill=\"#545759\"><defs><path id=\"DejaVuSansMono-49\" transform=\"scale(.015625)\" d=\"m628 4666h2591v-532h-978v-3603h978v-531h-2591v531h978v3603h-978v532z\"/></defs><use xlink:href=\"#DejaVuSansMono-49\"/><use x=\"60.205078\" xlink:href=\"#DejaVuSansMono-30\"/></g><g transform=\"translate(79.27 55.052) scale(.1 -.1)\" fill=\"#545759\"><use xlink:href=\"#DejaVuSansMono-49\"/><use x=\"60.205078\" xlink:href=\"#DejaVuSansMono-31\"/></g><g transform=\"translate(135 66.359) scale(.1 -.1)\" fill=\"#545759\"><use xlink:href=\"#DejaVuSansMono-49\"/><use x=\"60.205078\" xlink:href=\"#DejaVuSansMono-32\"/></g><g transform=\"translate(194.27 64.075) scale(.1 -.1)\" fill=\"#545759\"><use xlink:href=\"#DejaVuSansMono-49\"/><use x=\"60.205078\" xlink:href=\"#DejaVuSansMono-33\"/></g><g transform=\"translate(248.6 47.999) scale(.1 -.1)\" fill=\"#545759\"><use xlink:href=\"#DejaVuSansMono-49\"/><use x=\"60.205078\" xlink:href=\"#DejaVuSansMono-34\"/></g><g transform=\"translate(296.18 52.25) scale(.1 -.1)\" fill=\"#545759\"><use xlink:href=\"#DejaVuSansMono-49\"/><use x=\"60.205078\" xlink:href=\"#DejaVuSansMono-35\"/></g><defs><clipPath id=\"9eb0c6e2072\"><rect x=\"8.1319\" y=\"9.7499\" width=\"334.8\" height=\"87.321\"/></clipPath></defs></svg>"
      ],
      "text/plain": [
       "<Figure size 600x600 with 1 Axes>"
      ]
     },
     "metadata": {
      "needs_background": "light"
     },
     "output_type": "display_data"
    }
   ],
   "source": [
    "psi = qtn.MPS_rand_state(6, 10)\n",
    "psi.draw()"
   ]
  },
  {
   "cell_type": "code",
   "execution_count": 16,
   "id": "af444a50-b491-4895-89fa-7f1c861b3644",
   "metadata": {},
   "outputs": [
    {
     "data": {
      "image/svg+xml": [
       "<?xml version=\"1.0\" encoding=\"UTF-8\"?><!DOCTYPE svg  PUBLIC '-//W3C//DTD SVG 1.1//EN'  'http://www.w3.org/Graphics/SVG/1.1/DTD/svg11.dtd'><svg width=\"415.21pt\" height=\"82.661pt\" version=\"1.1\" viewBox=\"0 0 415.21 82.661\" xmlns=\"http://www.w3.org/2000/svg\" xmlns:xlink=\"http://www.w3.org/1999/xlink\"><defs><style type=\"text/css\">*{stroke-linejoin: round; stroke-linecap: butt}</style></defs><path d=\"m0 82.661h415.21v-82.661h-415.21v82.661z\" opacity=\"0\"/><path d=\"m42.175 39.662 38.938 7.092\" clip-path=\"url(#8ffaa88b448)\" fill=\"none\" stroke=\"#737880\" stroke-linecap=\"round\" stroke-opacity=\".5\" stroke-width=\"3.3219\"/><path d=\"m42.175 39.662-30.761-4.2027\" clip-path=\"url(#8ffaa88b448)\" fill=\"none\" stroke=\"#737880\" stroke-linecap=\"round\" stroke-opacity=\".5\"/><path d=\"m81.114 46.754 46.076-8.6684\" clip-path=\"url(#8ffaa88b448)\" fill=\"none\" stroke=\"#737880\" stroke-linecap=\"round\" stroke-opacity=\".5\" stroke-width=\"3.3219\"/><path d=\"m81.114 46.754-14.668 25.301\" clip-path=\"url(#8ffaa88b448)\" fill=\"none\" stroke=\"#737880\" stroke-linecap=\"round\" stroke-opacity=\".5\"/><path d=\"m223.75 44.387-48.317-3.1685\" clip-path=\"url(#8ffaa88b448)\" fill=\"none\" stroke=\"#737880\" stroke-linecap=\"round\" stroke-opacity=\".5\" stroke-width=\"3.3219\"/><path d=\"m223.75 44.387 46.202-8.4917\" clip-path=\"url(#8ffaa88b448)\" fill=\"none\" stroke=\"#737880\" stroke-linecap=\"round\" stroke-opacity=\".5\" stroke-width=\"3.3219\"/><path d=\"m223.75 44.387 5.432 26.989\" clip-path=\"url(#8ffaa88b448)\" fill=\"none\" stroke=\"#737880\" stroke-linecap=\"round\" stroke-opacity=\".5\"/><path d=\"m269.95 35.895 38.981 7.2797\" clip-path=\"url(#8ffaa88b448)\" fill=\"none\" stroke=\"#737880\" stroke-linecap=\"round\" stroke-opacity=\".5\" stroke-width=\"3.3219\"/><path d=\"m269.95 35.895 14.725-25.289\" clip-path=\"url(#8ffaa88b448)\" fill=\"none\" stroke=\"#737880\" stroke-linecap=\"round\" stroke-opacity=\".5\"/><path d=\"m308.93 43.175 30.72 4.3908\" clip-path=\"url(#8ffaa88b448)\" fill=\"none\" stroke=\"#737880\" stroke-linecap=\"round\" stroke-opacity=\".5\"/><path d=\"m127.19 38.086-5.7152-26.988\" clip-path=\"url(#8ffaa88b448)\" fill=\"none\" stroke=\"#737880\" stroke-linecap=\"round\" stroke-opacity=\".5\"/><path d=\"m127.19 38.086 48.239 3.1326\" clip-path=\"url(#8ffaa88b448)\" fill=\"none\" stroke=\"#737880\" stroke-linecap=\"round\" stroke-opacity=\".5\" stroke-width=\"3.3219\"/><path d=\"m11.414 35.459z\" clip-path=\"url(#8ffaa88b448)\" fill=\"#ffffff\"/><path d=\"m66.445 72.055z\" clip-path=\"url(#8ffaa88b448)\" fill=\"#ffffff\"/><path d=\"m229.18 71.376z\" clip-path=\"url(#8ffaa88b448)\" fill=\"#ffffff\"/><path d=\"m284.67 10.606z\" clip-path=\"url(#8ffaa88b448)\" fill=\"#ffffff\"/><path d=\"m339.65 47.565z\" clip-path=\"url(#8ffaa88b448)\" fill=\"#ffffff\"/><path d=\"m121.47 11.098z\" clip-path=\"url(#8ffaa88b448)\" fill=\"#ffffff\"/><path d=\"m42.175 47.325c2.0323 0 3.9817-0.80744 5.4187-2.2445 1.4371-1.4371 2.2445-3.3864 2.2445-5.4187 0-2.0323-0.80744-3.9817-2.2445-5.4187s-3.3864-2.2445-5.4187-2.2445c-2.0323 0-3.9817 0.80744-5.4187 2.2445-1.4371 1.4371-2.2445 3.3864-2.2445 5.4187 0 2.0323 0.80744 3.9817 2.2445 5.4187 1.4371 1.4371 3.3864 2.2445 5.4187 2.2445z\" clip-path=\"url(#8ffaa88b448)\" fill=\"#737880\" stroke=\"#5d6167\" stroke-width=\"1.4932\"/><path d=\"m81.114 54.417c2.0323 0 3.9817-0.80744 5.4187-2.2445 1.4371-1.4371 2.2445-3.3864 2.2445-5.4187 0-2.0323-0.80744-3.9817-2.2445-5.4187-1.4371-1.4371-3.3864-2.2445-5.4187-2.2445-2.0323 0-3.9817 0.80744-5.4187 2.2445-1.4371 1.4371-2.2445 3.3864-2.2445 5.4187 0 2.0323 0.80744 3.9817 2.2445 5.4187s3.3864 2.2445 5.4187 2.2445z\" clip-path=\"url(#8ffaa88b448)\" fill=\"#737880\" stroke=\"#5d6167\" stroke-width=\"1.4932\"/><path d=\"m223.75 52.05c2.0323 0 3.9817-0.80744 5.4187-2.2445 1.4371-1.4371 2.2445-3.3864 2.2445-5.4187 0-2.0323-0.80744-3.9817-2.2445-5.4187-1.4371-1.4371-3.3864-2.2445-5.4187-2.2445-2.0323 0-3.9817 0.80744-5.4187 2.2445s-2.2445 3.3864-2.2445 5.4187c0 2.0323 0.80744 3.9817 2.2445 5.4187 1.4371 1.4371 3.3864 2.2445 5.4187 2.2445z\" clip-path=\"url(#8ffaa88b448)\" fill=\"#737880\" stroke=\"#5d6167\" stroke-width=\"1.4932\"/><path d=\"m269.95 43.558c2.0323 0 3.9817-0.80744 5.4187-2.2445s2.2445-3.3864 2.2445-5.4187c0-2.0323-0.80744-3.9817-2.2445-5.4187-1.4371-1.4371-3.3864-2.2445-5.4187-2.2445-2.0323 0-3.9817 0.80744-5.4187 2.2445-1.4371 1.4371-2.2445 3.3864-2.2445 5.4187 0 2.0323 0.80744 3.9817 2.2445 5.4187 1.4371 1.4371 3.3864 2.2445 5.4187 2.2445z\" clip-path=\"url(#8ffaa88b448)\" fill=\"#737880\" stroke=\"#5d6167\" stroke-width=\"1.4932\"/><path d=\"m308.93 50.838c2.0323 0 3.9817-0.80744 5.4187-2.2445s2.2445-3.3864 2.2445-5.4187-0.80744-3.9817-2.2445-5.4187-3.3864-2.2445-5.4187-2.2445c-2.0323 0-3.9817 0.80744-5.4187 2.2445s-2.2445 3.3864-2.2445 5.4187 0.80744 3.9817 2.2445 5.4187 3.3864 2.2445 5.4187 2.2445z\" clip-path=\"url(#8ffaa88b448)\" fill=\"#737880\" stroke=\"#5d6167\" stroke-width=\"1.4932\"/><path d=\"m127.19 45.749c2.0323 0 3.9817-0.80744 5.4187-2.2445 1.4371-1.4371 2.2445-3.3864 2.2445-5.4187 0-2.0323-0.80744-3.9817-2.2445-5.4187-1.4371-1.4371-3.3864-2.2445-5.4187-2.2445-2.0323 0-3.9817 0.80744-5.4187 2.2445s-2.2445 3.3864-2.2445 5.4187c0 2.0323 0.80744 3.9817 2.2445 5.4187 1.4371 1.4371 3.3864 2.2445 5.4187 2.2445z\" clip-path=\"url(#8ffaa88b448)\" fill=\"#737880\" stroke=\"#5d6167\" stroke-width=\"1.4932\"/><path d=\"m175.43 48.881c2.0323 0 3.9817-0.80744 5.4187-2.2445s2.2445-3.3864 2.2445-5.4187c0-2.0323-0.80744-3.9817-2.2445-5.4187-1.4371-1.4371-3.3864-2.2445-5.4187-2.2445-2.0323 0-3.9817 0.80744-5.4187 2.2445-1.4371 1.4371-2.2445 3.3864-2.2445 5.4187 0 2.0323 0.80744 3.9817 2.2445 5.4187 1.4371 1.4371 3.3864 2.2445 5.4187 2.2445z\" clip-path=\"url(#8ffaa88b448)\" fill=\"#56b4e9\" stroke=\"#4da2d2\" stroke-width=\"1.4932\"/><g transform=\"translate(7.2 37.409) scale(.07 -.07)\" fill=\"#545759\"><defs><path id=\"DejaVuSansMono-6b\" transform=\"scale(.015625)\" d=\"m738 4863h593v-2816l1510 1453h700l-1378-1319 1593-2181h-703l-1294 1806-428-403v-1403h-593v4863z\"/><path id=\"DejaVuSansMono-30\" transform=\"scale(.015625)\" d=\"m1509 2344q0 172 120 297 121 125 290 125 175 0 300-125t125-297q0-175-124-297-123-122-301-122-175 0-293 119-117 119-117 300zm416 1906q-441 0-658-475t-217-1447q0-969 217-1444t658-475q444 0 661 475t217 1444q0 972-217 1447t-661 475zm0 500q747 0 1130-613 383-612 383-1809 0-1194-383-1807-383-612-1130-612t-1128 612q-381 613-381 1807 0 1197 381 1809 381 613 1128 613z\"/></defs><use xlink:href=\"#DejaVuSansMono-6b\"/><use x=\"60.205078\" xlink:href=\"#DejaVuSansMono-30\"/></g><g transform=\"translate(62.231 74.005) scale(.07 -.07)\" fill=\"#545759\"><defs><path id=\"DejaVuSansMono-31\" transform=\"scale(.015625)\" d=\"m844 531h981v3566l-1056-238v575l1050 232h631v-4135h969v-531h-2575v531z\"/></defs><use xlink:href=\"#DejaVuSansMono-6b\"/><use x=\"60.205078\" xlink:href=\"#DejaVuSansMono-31\"/></g><g transform=\"translate(224.96 73.326) scale(.07 -.07)\" fill=\"#545759\"><defs><path id=\"DejaVuSansMono-33\" transform=\"scale(.015625)\" d=\"m2425 2497q459-122 703-433t244-776q0-644-433-1012-433-367-1198-367-322 0-657 60-334 59-656 172v628q319-166 628-247 310-81 616-81 519 0 797 234t278 675q0 406-278 645t-753 239h-482v519h482q434 0 678 190 244 191 244 532 0 359-227 551-227 193-645 193-278 0-575-63-297-62-622-187v581q378 100 673 150 296 50 524 50 681 0 1089-342t408-908q0-384-215-641-214-256-623-362z\"/></defs><use xlink:href=\"#DejaVuSansMono-6b\"/><use x=\"60.205078\" xlink:href=\"#DejaVuSansMono-33\"/></g><g transform=\"translate(280.46 12.556) scale(.07 -.07)\" fill=\"#545759\"><defs><path id=\"DejaVuSansMono-34\" transform=\"scale(.015625)\" d=\"m2297 4091-1472-2466h1472v2466zm-103 575h731v-3041h622v-512h-622v-1113h-628v1113h-1978v596l1875 2957z\"/></defs><use xlink:href=\"#DejaVuSansMono-6b\"/><use x=\"60.205078\" xlink:href=\"#DejaVuSansMono-34\"/></g><g transform=\"translate(335.44 49.515) scale(.07 -.07)\" fill=\"#545759\"><defs><path id=\"DejaVuSansMono-35\" transform=\"scale(.015625)\" d=\"m647 4666h2362v-532h-1787v-1146q134 50 270 73t274 23q725 0 1150-428t425-1159q0-738-446-1163-445-425-1217-425-372 0-680 50-307 50-551 150v641q287-156 578-233 291-76 594-76 522 0 804 275 283 275 283 781 0 500-292 778t-814 278q-253 0-494-58-240-57-459-173v2344z\"/></defs><use xlink:href=\"#DejaVuSansMono-6b\"/><use x=\"60.205078\" xlink:href=\"#DejaVuSansMono-35\"/></g><g transform=\"translate(117.26 13.048) scale(.07 -.07)\" fill=\"#545759\"><defs><path id=\"DejaVuSansMono-32\" transform=\"scale(.015625)\" d=\"m1166 531h2143v-531h-2834v531q584 616 1021 1088 438 472 604 665 313 382 422 618t109 482q0 391-230 613-229 222-629 222-284 0-597-103-312-103-662-313v638q321 153 632 231t614 78q685 0 1102-364t417-955q0-300-139-600t-451-662q-175-203-508-563-333-359-1014-1075z\"/></defs><use xlink:href=\"#DejaVuSansMono-6b\"/><use x=\"60.205078\" xlink:href=\"#DejaVuSansMono-32\"/></g><g transform=\"translate(36.155 42.448) scale(.1 -.1)\" fill=\"#545759\"><defs><path id=\"DejaVuSansMono-49\" transform=\"scale(.015625)\" d=\"m628 4666h2591v-532h-978v-3603h978v-531h-2591v531h978v3603h-978v532z\"/></defs><use xlink:href=\"#DejaVuSansMono-49\"/><use x=\"60.205078\" xlink:href=\"#DejaVuSansMono-30\"/></g><g transform=\"translate(75.093 49.54) scale(.1 -.1)\" fill=\"#545759\"><use xlink:href=\"#DejaVuSansMono-49\"/><use x=\"60.205078\" xlink:href=\"#DejaVuSansMono-31\"/></g><g transform=\"translate(217.73 47.173) scale(.1 -.1)\" fill=\"#545759\"><use xlink:href=\"#DejaVuSansMono-49\"/><use x=\"60.205078\" xlink:href=\"#DejaVuSansMono-33\"/></g><g transform=\"translate(263.93 38.681) scale(.1 -.1)\" fill=\"#545759\"><use xlink:href=\"#DejaVuSansMono-49\"/><use x=\"60.205078\" xlink:href=\"#DejaVuSansMono-34\"/></g><g transform=\"translate(302.91 45.96) scale(.1 -.1)\" fill=\"#545759\"><use xlink:href=\"#DejaVuSansMono-49\"/><use x=\"60.205078\" xlink:href=\"#DejaVuSansMono-35\"/></g><g transform=\"translate(121.17 40.871) scale(.1 -.1)\" fill=\"#545759\"><use xlink:href=\"#DejaVuSansMono-49\"/><use x=\"60.205078\" xlink:href=\"#DejaVuSansMono-32\"/></g><g transform=\"translate(154.36 44.004) scale(.1 -.1)\" fill=\"#545759\"><defs><path id=\"DejaVuSansMono-2c\" transform=\"scale(.015625)\" d=\"m1569 947h787v-647l-615-1197h-482l310 1197v647z\"/><path id=\"DejaVuSansMono-4e\" transform=\"scale(.015625)\" d=\"m434 4666h800l1575-3841v3841h610v-4666h-800l-1575 3841v-3841h-610v4666z\"/><path id=\"DejaVuSansMono-45\" transform=\"scale(.015625)\" d=\"m616 4666h2768v-532h-2137v-1381h2044v-531h-2044v-1691h2197v-531h-2828v4666z\"/><path id=\"DejaVuSansMono-57\" transform=\"scale(.015625)\" d=\"m0 4666h616l447-3788 531 2506h659l538-2512 447 3794h615l-697-4666h-597l-634 2772-631-2772h-597l-697 4666z\"/></defs><use xlink:href=\"#DejaVuSansMono-49\"/><use x=\"60.205078\" xlink:href=\"#DejaVuSansMono-32\"/><use x=\"120.410156\" xlink:href=\"#DejaVuSansMono-2c\"/><use x=\"180.615234\" xlink:href=\"#DejaVuSansMono-20\"/><use x=\"240.820312\" xlink:href=\"#DejaVuSansMono-4e\"/><use x=\"301.025391\" xlink:href=\"#DejaVuSansMono-45\"/><use x=\"361.230469\" xlink:href=\"#DejaVuSansMono-57\"/></g><path d=\"m349.93 50.196h56.081q2 0 2-2v-13.731q0-2-2-2h-56.081q-2 0-2 2v13.731q0 2 2 2z\" fill=\"none\" stroke=\"#999999\" stroke-opacity=\".2\"/><defs><path id=\"cdcd42ca786\" d=\"m0 5c1.326 0 2.5979-0.52683 3.5355-1.4645 0.93763-0.93764 1.4645-2.2095 1.4645-3.5355s-0.52683-2.5979-1.4645-3.5355c-0.93764-0.93763-2.2095-1.4645-3.5355-1.4645s-2.5979 0.52683-3.5355 1.4645c-0.93763 0.93764-1.4645 2.2095-1.4645 3.5355s0.52683 2.5979 1.4645 3.5355c0.93764 0.93763 2.2095 1.4645 3.5355 1.4645z\" stroke=\"#4da2d2\"/></defs><use x=\"361.931866\" y=\"40.616269\" fill=\"#56b4e9\" stroke=\"#4da2d2\" xlink:href=\"#cdcd42ca786\"/><g transform=\"translate(379.93 44.116) scale(.1 -.1)\" fill=\"#545759\"><use xlink:href=\"#DejaVuSansMono-20\"/><use x=\"60.205078\" xlink:href=\"#DejaVuSansMono-4e\"/><use x=\"120.410156\" xlink:href=\"#DejaVuSansMono-45\"/><use x=\"180.615234\" xlink:href=\"#DejaVuSansMono-57\"/></g><defs><clipPath id=\"8ffaa88b448\"><rect x=\"8.1319\" y=\"9.9914\" width=\"334.8\" height=\"62.678\"/></clipPath></defs></svg>"
      ],
      "text/plain": [
       "<Figure size 600x600 with 1 Axes>"
      ]
     },
     "metadata": {
      "needs_background": "light"
     },
     "output_type": "display_data"
    }
   ],
   "source": [
    "psi.split_tensor(\n",
    "    # identify the tensor\n",
    "    tags='I2',\n",
    "    # here we give the right indices\n",
    "    left_inds=None,\n",
    "    right_inds=[psi.bond(2, 3)],\n",
    "    # a new tag for the right factor\n",
    "    rtags='NEW',\n",
    ")\n",
    "\n",
    "psi.draw('NEW')"
   ]
  },
  {
   "cell_type": "markdown",
   "id": "724772fe-8265-4f09-9414-eb742f14525b",
   "metadata": {
    "raw_mimetype": "text/restructuredtext",
    "tags": []
   },
   "source": [
    "### Gauging\n",
    "\n",
    "A key aspect of tensor networks is the freedom to 'gauge' bonds - locally change\n",
    "tensors whilst keeping the overall tensor network object invariant. For example,\n",
    "contracting $G^{-1}$ and $G$ into adjacent tensors (you can do this\n",
    "explicitly with [`TensorNetwork.insert_gauge`](quimb.tensor.tensor_core.TensorNetwork.insert_gauge)).\n",
    "\n",
    "A common example is 'isometrizing' a tensor with respect to all but one of its\n",
    "indices and absorbing an appropriate factor into its neighbor to take this transformation\n",
    "into account. A common way to do this is via the QR decomposition:\n",
    "\n",
    "```{image} _static/canonize-bond.png\n",
    ":width: 1000px\n",
    "```\n",
    "\n",
    "where the inward arrows imply:\n",
    "\n",
    "```{image} _static/isometric-tensor.png\n",
    ":width: 300px\n",
    "```\n",
    "\n",
    "In `quimb` this is called 'canonizing' for short. When used in an MPS for example,\n",
    "it can used to put the TN into a *canonical* form, but this is generally not possible\n",
    "for 'loopy' TNs. The core function that performs this is\n",
    "[`qtn.tensor_canonize_bond`](quimb.tensor.tensor_core.tensor_canonize_bond)."
   ]
  },
  {
   "cell_type": "code",
   "execution_count": 17,
   "id": "d0a57a78-c06b-4cdb-afd8-5fae91409189",
   "metadata": {},
   "outputs": [
    {
     "data": {
      "image/svg+xml": [
       "<?xml version=\"1.0\" encoding=\"UTF-8\"?><!DOCTYPE svg  PUBLIC '-//W3C//DTD SVG 1.1//EN'  'http://www.w3.org/Graphics/SVG/1.1/DTD/svg11.dtd'><svg width=\"290.64pt\" height=\"148.61pt\" version=\"1.1\" viewBox=\"0 0 290.64 148.61\" xmlns=\"http://www.w3.org/2000/svg\" xmlns:xlink=\"http://www.w3.org/1999/xlink\"><defs><style type=\"text/css\">*{stroke-linejoin: round; stroke-linecap: butt}</style></defs><path d=\"m0 148.61h290.64v-148.61h-290.64v148.61z\" opacity=\"0\"/><path d=\"m49.187 70.899 4.222 8.9275-9.8646 0.46358\" clip-path=\"url(#5b27f19965b)\" fill=\"none\" stroke=\"#737880\" stroke-linecap=\"round\" stroke-opacity=\".5\"/><path d=\"m68.083 88.643-58.694-35.266\" clip-path=\"url(#5b27f19965b)\" fill=\"none\" stroke=\"#737880\" stroke-linecap=\"round\" stroke-opacity=\".5\" stroke-width=\"2\"/><path d=\"m46.382 102.75 9.6624-1.9739-1.8942 9.6784\" clip-path=\"url(#5b27f19965b)\" fill=\"none\" stroke=\"#737880\" stroke-linecap=\"round\" stroke-opacity=\".5\"/><path d=\"m68.083 88.643-48.153 48.551\" clip-path=\"url(#5b27f19965b)\" fill=\"none\" stroke=\"#737880\" stroke-linecap=\"round\" stroke-opacity=\".5\" stroke-width=\"2\"/><path d=\"m68.083 88.643 89.938-11.348\" clip-path=\"url(#5b27f19965b)\" fill=\"none\" stroke=\"#737880\" stroke-linecap=\"round\" stroke-opacity=\".5\" stroke-width=\"2\"/><g transform=\"translate(111.21 85.168) rotate(-7.1912) scale(.07 -.07)\" fill=\"#545759\"><defs><path id=\"DejaVuSansMono-63\" transform=\"scale(.015625)\" d=\"m3316 178q-232-134-477-201-245-68-501-68-813 0-1271 487-458 488-458 1351 0 862 458 1349 458 488 1271 488 253 0 493-66 241-65 485-202v-603q-228 203-458 293-230 91-520 91-541 0-832-350-290-350-290-1e3 0-647 292-999 292-351 830-351 300 0 537 92 238 92 441 286v-597z\"/></defs><use xlink:href=\"#DejaVuSansMono-63\"/></g><path d=\"m158.02 77.295 31.664 60.713\" clip-path=\"url(#5b27f19965b)\" fill=\"none\" stroke=\"#737880\" stroke-linecap=\"round\" stroke-opacity=\".5\" stroke-width=\"2\"/><path d=\"m158.02 77.295 70.191-8.77\" clip-path=\"url(#5b27f19965b)\" fill=\"none\" stroke=\"#737880\" stroke-linecap=\"round\" stroke-opacity=\".5\" stroke-width=\"2\"/><path d=\"m158.02 77.295 15.876-66.689\" clip-path=\"url(#5b27f19965b)\" fill=\"none\" stroke=\"#737880\" stroke-linecap=\"round\" stroke-opacity=\".5\" stroke-width=\"2\"/><path d=\"m9.3882 53.377z\" clip-path=\"url(#5b27f19965b)\" fill=\"#ffffff\"/><path d=\"m19.93 137.19z\" clip-path=\"url(#5b27f19965b)\" fill=\"#ffffff\"/><path d=\"m189.68 138.01z\" clip-path=\"url(#5b27f19965b)\" fill=\"#ffffff\"/><path d=\"m228.21 68.525z\" clip-path=\"url(#5b27f19965b)\" fill=\"#ffffff\"/><path d=\"m173.9 10.606z\" clip-path=\"url(#5b27f19965b)\" fill=\"#ffffff\"/><path d=\"m68.083 102.28c3.6176 0 7.0874-1.4373 9.6454-3.9953 2.558-2.558 3.9953-6.0279 3.9953-9.6454 0-3.6176-1.4373-7.0874-3.9953-9.6454-2.558-2.558-6.0279-3.9953-9.6454-3.9953-3.6176 0-7.0874 1.4373-9.6454 3.9953-2.558 2.558-3.9953 6.0279-3.9953 9.6454 0 3.6176 1.4373 7.0874 3.9953 9.6454 2.558 2.558 6.0279 3.9953 9.6454 3.9953z\" clip-path=\"url(#5b27f19965b)\" fill=\"#56b4e9\" stroke=\"#4da2d2\" stroke-width=\"2.1286\"/><path d=\"m158.02 90.936c3.6176 0 7.0874-1.4373 9.6454-3.9953 2.558-2.558 3.9953-6.0279 3.9953-9.6454 0-3.6176-1.4373-7.0874-3.9953-9.6454-2.558-2.558-6.0279-3.9953-9.6454-3.9953-3.6176 0-7.0874 1.4373-9.6454 3.9953-2.558 2.558-3.9953 6.0279-3.9953 9.6454 0 3.6176 1.4373 7.0874 3.9953 9.6454 2.558 2.558 6.0279 3.9953 9.6454 3.9953z\" clip-path=\"url(#5b27f19965b)\" fill=\"#e69f00\" stroke=\"#cf8f00\" stroke-width=\"2.1286\"/><g transform=\"translate(7.2811 55.327) scale(.07 -.07)\" fill=\"#545759\"><defs><path id=\"DejaVuSansMono-61\" transform=\"scale(.015625)\" d=\"m2194 1759h-191q-503 0-758-177-254-176-254-526 0-315 190-490 191-175 528-175 475 0 747 329 272 330 275 911v128h-537zm1115 238v-1997h-578v519q-184-313-464-462-279-148-679-148-535 0-854 302-318 302-318 808 0 584 392 887t1151 303h772v91q-3 419-213 608-209 189-668 189-294 0-594-85-300-84-584-246v575q319 122 611 182 292 61 567 61 434 0 742-128t499-384q118-156 168-386t50-689z\"/></defs><use xlink:href=\"#DejaVuSansMono-61\"/></g><g transform=\"translate(17.823 139.14) scale(.07 -.07)\" fill=\"#545759\"><defs><path id=\"DejaVuSansMono-62\" transform=\"scale(.015625)\" d=\"m2869 1747q0 669-213 1009-212 341-628 341-419 0-635-342-215-342-215-1008 0-663 215-1007 216-343 635-343 416 0 628 340 213 341 213 1010zm-1691 1306q138 256 380 393 242 138 561 138 631 0 993-486 363-485 363-1339 0-865-364-1358-364-492-998-492-313 0-552 136t-383 396v-441h-575v4863h575v-1810z\"/></defs><use xlink:href=\"#DejaVuSansMono-62\"/></g><g transform=\"translate(187.58 139.96) scale(.07 -.07)\" fill=\"#545759\"><defs><path id=\"DejaVuSansMono-64\" transform=\"scale(.015625)\" d=\"m2681 3053v1810h575v-4863h-575v441q-143-260-383-396-239-136-551-136-634 0-999 492-364 493-364 1358 0 854 366 1339 366 486 997 486 316 0 556-136 241-135 378-395zm-1690-1306q0-669 212-1010 213-340 628-340 416 0 633 343 217 344 217 1007 0 666-217 1008t-633 342q-415 0-628-341-212-340-212-1009z\"/></defs><use xlink:href=\"#DejaVuSansMono-64\"/></g><g transform=\"translate(226.1 70.475) scale(.07 -.07)\" fill=\"#545759\"><defs><path id=\"DejaVuSansMono-65\" transform=\"scale(.015625)\" d=\"m3475 1894v-281h-2491v-19q0-572 298-885 299-312 843-312 275 0 575 87 300 88 641 266v-572q-328-134-633-201-305-68-589-68-816 0-1276 489-459 490-459 1349 0 837 450 1337t1200 500q669 0 1055-453t386-1237zm-575 169q-12 506-239 770t-652 264q-415 0-684-275t-319-763l1894 4z\"/></defs><use xlink:href=\"#DejaVuSansMono-65\"/></g><g transform=\"translate(171.79 12.556) scale(.07 -.07)\" fill=\"#545759\"><defs><path id=\"DejaVuSansMono-66\" transform=\"scale(.015625)\" d=\"m3322 4863v-479h-653q-310 0-430-127-120-126-120-448v-309h1203v-447h-1203v-3053h-575v3053h-935v447h935v244q0 575 264 847t823 272h691z\"/></defs><use xlink:href=\"#DejaVuSansMono-66\"/></g><g transform=\"translate(65.072 91.429) scale(.1 -.1)\" fill=\"#545759\"><defs><path id=\"DejaVuSansMono-41\" transform=\"scale(.015625)\" d=\"m1925 4109-666-2387h1332l-666 2387zm-381 557h765l1429-4666h-654l-343 1216h-1635l-337-1216h-653l1428 4666z\"/></defs><use xlink:href=\"#DejaVuSansMono-41\"/></g><g transform=\"translate(155.01 80.081) scale(.1 -.1)\" fill=\"#545759\"><defs><path id=\"DejaVuSansMono-42\" transform=\"scale(.015625)\" d=\"m1153 2228v-1709h747q550 0 784 192 235 192 235 633 0 456-247 670t-772 214h-747zm0 1919v-1406h735q456 0 660 175 205 175 205 565 0 353-202 509-201 157-663 157h-735zm-634 519h1381q716 0 1103-310 388-309 388-875 0-428-205-675t-614-309q459-69 720-393 261-323 261-823 0-634-416-958-415-323-1237-323h-1381v4666z\"/></defs><use xlink:href=\"#DejaVuSansMono-42\"/></g><path d=\"m237.4 90.538h44.041q2 0 2-2v-28.462q0-2-2-2h-44.041q-2 0-2 2v28.462q0 2 2 2z\" fill=\"none\" stroke=\"#999999\" stroke-opacity=\".2\"/><defs><path id=\"636064e454a\" d=\"m0 5c1.326 0 2.5979-0.52683 3.5355-1.4645 0.93763-0.93764 1.4645-2.2095 1.4645-3.5355s-0.52683-2.5979-1.4645-3.5355c-0.93764-0.93763-2.2095-1.4645-3.5355-1.4645s-2.5979 0.52683-3.5355 1.4645c-0.93763 0.93764-1.4645 2.2095-1.4645 3.5355s0.52683 2.5979 1.4645 3.5355c0.93764 0.93763 2.2095 1.4645 3.5355 1.4645z\" stroke=\"#4da2d2\"/></defs><use x=\"249.4\" y=\"66.2274\" fill=\"#56b4e9\" stroke=\"#4da2d2\" xlink:href=\"#636064e454a\"/><g transform=\"translate(267.4 69.727) scale(.1 -.1)\" fill=\"#545759\"><defs></defs><use xlink:href=\"#DejaVuSansMono-20\"/><use x=\"60.205078\" xlink:href=\"#DejaVuSansMono-41\"/></g><defs><path id=\"52ae89fbbb4\" d=\"m0 5c1.326 0 2.5979-0.52683 3.5355-1.4645 0.93763-0.93764 1.4645-2.2095 1.4645-3.5355s-0.52683-2.5979-1.4645-3.5355c-0.93764-0.93763-2.2095-1.4645-3.5355-1.4645s-2.5979 0.52683-3.5355 1.4645c-0.93763 0.93764-1.4645 2.2095-1.4645 3.5355s0.52683 2.5979 1.4645 3.5355c0.93764 0.93763 2.2095 1.4645 3.5355 1.4645z\" stroke=\"#cf8f00\"/></defs><use x=\"249.4\" y=\"80.95865\" fill=\"#e69f00\" stroke=\"#cf8f00\" xlink:href=\"#52ae89fbbb4\"/><g transform=\"translate(267.4 84.459) scale(.1 -.1)\" fill=\"#545759\"><use xlink:href=\"#DejaVuSansMono-20\"/><use x=\"60.205078\" xlink:href=\"#DejaVuSansMono-42\"/></g><defs><clipPath id=\"5b27f19965b\"><rect x=\"7.2\" y=\"9.3319\" width=\"223.2\" height=\"129.95\"/></clipPath></defs></svg>"
      ],
      "text/plain": [
       "<Figure size 400x400 with 1 Axes>"
      ]
     },
     "metadata": {
      "needs_background": "light"
     },
     "output_type": "display_data"
    }
   ],
   "source": [
    "ta = qtn.rand_tensor([4, 4, 4], ['a', 'b', 'c'], 'A')\n",
    "tb = qtn.rand_tensor([4, 4, 4, 4], ['c', 'd', 'e', 'f'], 'B')\n",
    "\n",
    "qtn.tensor_canonize_bond(ta, tb)\n",
    "\n",
    "(ta | tb).draw(['A', 'B'], figsize=(4, 4), show_inds='all')"
   ]
  },
  {
   "cell_type": "markdown",
   "id": "8b990d65-559b-47e8-bd54-282cd4e2357a",
   "metadata": {
    "raw_mimetype": "text/restructuredtext",
    "tags": []
   },
   "source": [
    "You can also perform this within a TN with the method\n",
    "[`TensorNetwork.canonize_between`](quimb.tensor.tensor_core.TensorNetwork.canonize_between)\n",
    "or perform many such operations inwards on an automatically\n",
    "generated spanning tree using\n",
    "[`TensorNetwork.canonize_around`](quimb.tensor.tensor_core.TensorNetwork.canonize_around).\n",
    "\n",
    "### Compressing\n",
    "\n",
    "A similar operation is to 'compress' one or more bonds shared by\n",
    "two tensors. The basic method for doing this is to contract\n",
    "two 'reduced factors' from the neighboring tensors and perform\n",
    "a truncated SVD on this central bond tensor before re-absorbing\n",
    "the new decomposed parts either left or right:\n",
    "\n",
    "```{image} _static/basic-compress.png\n",
    ":width: 1000px\n",
    "```\n",
    "\n",
    "The maximum bond dimension kept is often denoted $\\chi$.\n",
    "The core function that handles this is\n",
    "[`qtn.tensor_compress_bond`](quimb.tensor.tensor_core.tensor_compress_bond)."
   ]
  },
  {
   "cell_type": "code",
   "execution_count": 18,
   "id": "1f706cb8-37e0-4f81-b6e3-9e582afe474c",
   "metadata": {},
   "outputs": [
    {
     "data": {
      "image/svg+xml": [
       "<?xml version=\"1.0\" encoding=\"UTF-8\"?><!DOCTYPE svg  PUBLIC '-//W3C//DTD SVG 1.1//EN'  'http://www.w3.org/Graphics/SVG/1.1/DTD/svg11.dtd'><svg width=\"290.64pt\" height=\"148.61pt\" version=\"1.1\" viewBox=\"0 0 290.64 148.61\" xmlns=\"http://www.w3.org/2000/svg\" xmlns:xlink=\"http://www.w3.org/1999/xlink\"><defs><style type=\"text/css\">*{stroke-linejoin: round; stroke-linecap: butt}</style></defs><path d=\"m0 148.61h290.64v-148.61h-290.64v148.61z\" opacity=\"0\"/><path d=\"m68.083 88.643-58.694-35.266\" clip-path=\"url(#ec8626aa6b7)\" fill=\"none\" stroke=\"#737880\" stroke-linecap=\"round\" stroke-opacity=\".5\" stroke-width=\"2\"/><path d=\"m68.083 88.643-48.153 48.551\" clip-path=\"url(#ec8626aa6b7)\" fill=\"none\" stroke=\"#737880\" stroke-linecap=\"round\" stroke-opacity=\".5\" stroke-width=\"2\"/><path d=\"m68.083 88.643 89.938-11.348\" clip-path=\"url(#ec8626aa6b7)\" fill=\"none\" stroke=\"#737880\" stroke-linecap=\"round\" stroke-opacity=\".5\" stroke-width=\"3.3219\"/><g transform=\"translate(109.11 85.432) rotate(-7.1912) scale(.07 -.07)\" fill=\"#545759\"><defs><path id=\"DejaVuSansMono-31\" transform=\"scale(.015625)\" d=\"m844 531h981v3566l-1056-238v575l1050 232h631v-4135h969v-531h-2575v531z\"/><path id=\"DejaVuSansMono-30\" transform=\"scale(.015625)\" d=\"m1509 2344q0 172 120 297 121 125 290 125 175 0 300-125t125-297q0-175-124-297-123-122-301-122-175 0-293 119-117 119-117 300zm416 1906q-441 0-658-475t-217-1447q0-969 217-1444t658-475q444 0 661 475t217 1444q0 972-217 1447t-661 475zm0 500q747 0 1130-613 383-612 383-1809 0-1194-383-1807-383-612-1130-612t-1128 612q-381 613-381 1807 0 1197 381 1809 381 613 1128 613z\"/></defs><use xlink:href=\"#DejaVuSansMono-31\"/><use x=\"60.205078\" xlink:href=\"#DejaVuSansMono-30\"/></g><path d=\"m158.02 77.295 31.664 60.713\" clip-path=\"url(#ec8626aa6b7)\" fill=\"none\" stroke=\"#737880\" stroke-linecap=\"round\" stroke-opacity=\".5\" stroke-width=\"2\"/><path d=\"m158.02 77.295 70.191-8.77\" clip-path=\"url(#ec8626aa6b7)\" fill=\"none\" stroke=\"#737880\" stroke-linecap=\"round\" stroke-opacity=\".5\" stroke-width=\"2\"/><path d=\"m158.02 77.295 15.876-66.689\" clip-path=\"url(#ec8626aa6b7)\" fill=\"none\" stroke=\"#737880\" stroke-linecap=\"round\" stroke-opacity=\".5\" stroke-width=\"2\"/><path d=\"m9.3882 53.377z\" clip-path=\"url(#ec8626aa6b7)\" fill=\"#ffffff\"/><path d=\"m19.93 137.19z\" clip-path=\"url(#ec8626aa6b7)\" fill=\"#ffffff\"/><path d=\"m189.68 138.01z\" clip-path=\"url(#ec8626aa6b7)\" fill=\"#ffffff\"/><path d=\"m228.21 68.525z\" clip-path=\"url(#ec8626aa6b7)\" fill=\"#ffffff\"/><path d=\"m173.9 10.606z\" clip-path=\"url(#ec8626aa6b7)\" fill=\"#ffffff\"/><path d=\"m68.083 102.28c3.6176 0 7.0874-1.4373 9.6454-3.9953 2.558-2.558 3.9953-6.0279 3.9953-9.6454 0-3.6176-1.4373-7.0874-3.9953-9.6454-2.558-2.558-6.0279-3.9953-9.6454-3.9953-3.6176 0-7.0874 1.4373-9.6454 3.9953-2.558 2.558-3.9953 6.0279-3.9953 9.6454 0 3.6176 1.4373 7.0874 3.9953 9.6454 2.558 2.558 6.0279 3.9953 9.6454 3.9953z\" clip-path=\"url(#ec8626aa6b7)\" fill=\"#56b4e9\" stroke=\"#4da2d2\" stroke-width=\"2.1286\"/><path d=\"m158.02 90.936c3.6176 0 7.0874-1.4373 9.6454-3.9953 2.558-2.558 3.9953-6.0279 3.9953-9.6454 0-3.6176-1.4373-7.0874-3.9953-9.6454-2.558-2.558-6.0279-3.9953-9.6454-3.9953-3.6176 0-7.0874 1.4373-9.6454 3.9953-2.558 2.558-3.9953 6.0279-3.9953 9.6454 0 3.6176 1.4373 7.0874 3.9953 9.6454 2.558 2.558 6.0279 3.9953 9.6454 3.9953z\" clip-path=\"url(#ec8626aa6b7)\" fill=\"#e69f00\" stroke=\"#cf8f00\" stroke-width=\"2.1286\"/><g transform=\"translate(7.2811 55.327) scale(.07 -.07)\" fill=\"#545759\"><defs><path id=\"DejaVuSansMono-34\" transform=\"scale(.015625)\" d=\"m2297 4091-1472-2466h1472v2466zm-103 575h731v-3041h622v-512h-622v-1113h-628v1113h-1978v596l1875 2957z\"/></defs><use xlink:href=\"#DejaVuSansMono-34\"/></g><g transform=\"translate(17.823 139.14) scale(.07 -.07)\" fill=\"#545759\"><use xlink:href=\"#DejaVuSansMono-34\"/></g><g transform=\"translate(187.58 139.96) scale(.07 -.07)\" fill=\"#545759\"><use xlink:href=\"#DejaVuSansMono-34\"/></g><g transform=\"translate(226.1 70.475) scale(.07 -.07)\" fill=\"#545759\"><use xlink:href=\"#DejaVuSansMono-34\"/></g><g transform=\"translate(171.79 12.556) scale(.07 -.07)\" fill=\"#545759\"><use xlink:href=\"#DejaVuSansMono-34\"/></g><g transform=\"translate(65.072 91.429) scale(.1 -.1)\" fill=\"#545759\"><defs><path id=\"DejaVuSansMono-41\" transform=\"scale(.015625)\" d=\"m1925 4109-666-2387h1332l-666 2387zm-381 557h765l1429-4666h-654l-343 1216h-1635l-337-1216h-653l1428 4666z\"/></defs><use xlink:href=\"#DejaVuSansMono-41\"/></g><g transform=\"translate(155.01 80.081) scale(.1 -.1)\" fill=\"#545759\"><defs><path id=\"DejaVuSansMono-42\" transform=\"scale(.015625)\" d=\"m1153 2228v-1709h747q550 0 784 192 235 192 235 633 0 456-247 670t-772 214h-747zm0 1919v-1406h735q456 0 660 175 205 175 205 565 0 353-202 509-201 157-663 157h-735zm-634 519h1381q716 0 1103-310 388-309 388-875 0-428-205-675t-614-309q459-69 720-393 261-323 261-823 0-634-416-958-415-323-1237-323h-1381v4666z\"/></defs><use xlink:href=\"#DejaVuSansMono-42\"/></g><path d=\"m237.4 90.538h44.041q2 0 2-2v-28.462q0-2-2-2h-44.041q-2 0-2 2v28.462q0 2 2 2z\" fill=\"none\" stroke=\"#999999\" stroke-opacity=\".2\"/><defs><path id=\"18d248d7e00\" d=\"m0 5c1.326 0 2.5979-0.52683 3.5355-1.4645 0.93763-0.93764 1.4645-2.2095 1.4645-3.5355s-0.52683-2.5979-1.4645-3.5355c-0.93764-0.93763-2.2095-1.4645-3.5355-1.4645s-2.5979 0.52683-3.5355 1.4645c-0.93763 0.93764-1.4645 2.2095-1.4645 3.5355s0.52683 2.5979 1.4645 3.5355c0.93764 0.93763 2.2095 1.4645 3.5355 1.4645z\" stroke=\"#4da2d2\"/></defs><use x=\"249.4\" y=\"66.2274\" fill=\"#56b4e9\" stroke=\"#4da2d2\" xlink:href=\"#18d248d7e00\"/><g transform=\"translate(267.4 69.727) scale(.1 -.1)\" fill=\"#545759\"><defs></defs><use xlink:href=\"#DejaVuSansMono-20\"/><use x=\"60.205078\" xlink:href=\"#DejaVuSansMono-41\"/></g><defs><path id=\"31c1529d065\" d=\"m0 5c1.326 0 2.5979-0.52683 3.5355-1.4645 0.93763-0.93764 1.4645-2.2095 1.4645-3.5355s-0.52683-2.5979-1.4645-3.5355c-0.93764-0.93763-2.2095-1.4645-3.5355-1.4645s-2.5979 0.52683-3.5355 1.4645c-0.93763 0.93764-1.4645 2.2095-1.4645 3.5355s0.52683 2.5979 1.4645 3.5355c0.93764 0.93763 2.2095 1.4645 3.5355 1.4645z\" stroke=\"#cf8f00\"/></defs><use x=\"249.4\" y=\"80.95865\" fill=\"#e69f00\" stroke=\"#cf8f00\" xlink:href=\"#31c1529d065\"/><g transform=\"translate(267.4 84.459) scale(.1 -.1)\" fill=\"#545759\"><use xlink:href=\"#DejaVuSansMono-20\"/><use x=\"60.205078\" xlink:href=\"#DejaVuSansMono-42\"/></g><defs><clipPath id=\"ec8626aa6b7\"><rect x=\"7.2\" y=\"9.3319\" width=\"223.2\" height=\"129.95\"/></clipPath></defs></svg>"
      ],
      "text/plain": [
       "<Figure size 400x400 with 1 Axes>"
      ]
     },
     "metadata": {
      "needs_background": "light"
     },
     "output_type": "display_data"
    }
   ],
   "source": [
    "ta = qtn.rand_tensor([4, 4, 10], ['a', 'b', 'c'], 'A')\n",
    "tb = qtn.rand_tensor([10, 4, 4, 4], ['c', 'd', 'e', 'f'], 'B')\n",
    "(ta | tb).draw(['A', 'B'], figsize=(4, 4), show_inds='bond-size')"
   ]
  },
  {
   "cell_type": "code",
   "execution_count": 19,
   "id": "18180bab-1d2e-4a3f-aa0e-398c098f985f",
   "metadata": {},
   "outputs": [
    {
     "data": {
      "image/svg+xml": [
       "<?xml version=\"1.0\" encoding=\"UTF-8\"?><!DOCTYPE svg  PUBLIC '-//W3C//DTD SVG 1.1//EN'  'http://www.w3.org/Graphics/SVG/1.1/DTD/svg11.dtd'><svg width=\"290.64pt\" height=\"148.61pt\" version=\"1.1\" viewBox=\"0 0 290.64 148.61\" xmlns=\"http://www.w3.org/2000/svg\" xmlns:xlink=\"http://www.w3.org/1999/xlink\"><defs><style type=\"text/css\">*{stroke-linejoin: round; stroke-linecap: butt}</style></defs><path d=\"m0 148.61h290.64v-148.61h-290.64v148.61z\" opacity=\"0\"/><path d=\"m68.083 88.643-58.694-35.266\" clip-path=\"url(#cb6ee73fdd0)\" fill=\"none\" stroke=\"#737880\" stroke-linecap=\"round\" stroke-opacity=\".5\" stroke-width=\"2\"/><path d=\"m68.083 88.643-48.153 48.551\" clip-path=\"url(#cb6ee73fdd0)\" fill=\"none\" stroke=\"#737880\" stroke-linecap=\"round\" stroke-opacity=\".5\" stroke-width=\"2\"/><path d=\"m68.083 88.643 89.938-11.348\" clip-path=\"url(#cb6ee73fdd0)\" fill=\"none\" stroke=\"#737880\" stroke-linecap=\"round\" stroke-opacity=\".5\"/><g transform=\"translate(111.21 85.168) rotate(-7.1912) scale(.07 -.07)\" fill=\"#545759\"><defs><path id=\"DejaVuSansMono-32\" transform=\"scale(.015625)\" d=\"m1166 531h2143v-531h-2834v531q584 616 1021 1088 438 472 604 665 313 382 422 618t109 482q0 391-230 613-229 222-629 222-284 0-597-103-312-103-662-313v638q321 153 632 231t614 78q685 0 1102-364t417-955q0-300-139-600t-451-662q-175-203-508-563-333-359-1014-1075z\"/></defs><use xlink:href=\"#DejaVuSansMono-32\"/></g><path d=\"m164.88 102.29 1.0573-9.8187 8.6567 4.7524\" clip-path=\"url(#cb6ee73fdd0)\" fill=\"none\" stroke=\"#737880\" stroke-linecap=\"round\" stroke-opacity=\".5\"/><path d=\"m158.02 77.295 31.664 60.713\" clip-path=\"url(#cb6ee73fdd0)\" fill=\"none\" stroke=\"#737880\" stroke-linecap=\"round\" stroke-opacity=\".5\" stroke-width=\"2\"/><path d=\"m184.69 79.666-9.1245-4.5629 7.7213-6.6677\" clip-path=\"url(#cb6ee73fdd0)\" fill=\"none\" stroke=\"#737880\" stroke-linecap=\"round\" stroke-opacity=\".5\"/><path d=\"m158.02 77.295 70.191-8.77\" clip-path=\"url(#cb6ee73fdd0)\" fill=\"none\" stroke=\"#737880\" stroke-linecap=\"round\" stroke-opacity=\".5\" stroke-width=\"2\"/><path d=\"m169.23 53.89-7.2403 6.7326-3.43-9.2728\" clip-path=\"url(#cb6ee73fdd0)\" fill=\"none\" stroke=\"#737880\" stroke-linecap=\"round\" stroke-opacity=\".5\"/><path d=\"m158.02 77.295 15.876-66.689\" clip-path=\"url(#cb6ee73fdd0)\" fill=\"none\" stroke=\"#737880\" stroke-linecap=\"round\" stroke-opacity=\".5\" stroke-width=\"2\"/><path d=\"m9.3882 53.377z\" clip-path=\"url(#cb6ee73fdd0)\" fill=\"#ffffff\"/><path d=\"m19.93 137.19z\" clip-path=\"url(#cb6ee73fdd0)\" fill=\"#ffffff\"/><path d=\"m189.68 138.01z\" clip-path=\"url(#cb6ee73fdd0)\" fill=\"#ffffff\"/><path d=\"m228.21 68.525z\" clip-path=\"url(#cb6ee73fdd0)\" fill=\"#ffffff\"/><path d=\"m173.9 10.606z\" clip-path=\"url(#cb6ee73fdd0)\" fill=\"#ffffff\"/><path d=\"m68.083 102.28c3.6176 0 7.0874-1.4373 9.6454-3.9953 2.558-2.558 3.9953-6.0279 3.9953-9.6454 0-3.6176-1.4373-7.0874-3.9953-9.6454-2.558-2.558-6.0279-3.9953-9.6454-3.9953-3.6176 0-7.0874 1.4373-9.6454 3.9953-2.558 2.558-3.9953 6.0279-3.9953 9.6454 0 3.6176 1.4373 7.0874 3.9953 9.6454 2.558 2.558 6.0279 3.9953 9.6454 3.9953z\" clip-path=\"url(#cb6ee73fdd0)\" fill=\"#56b4e9\" stroke=\"#4da2d2\" stroke-width=\"2.1286\"/><path d=\"m158.02 90.936c3.6176 0 7.0874-1.4373 9.6454-3.9953 2.558-2.558 3.9953-6.0279 3.9953-9.6454 0-3.6176-1.4373-7.0874-3.9953-9.6454-2.558-2.558-6.0279-3.9953-9.6454-3.9953-3.6176 0-7.0874 1.4373-9.6454 3.9953-2.558 2.558-3.9953 6.0279-3.9953 9.6454 0 3.6176 1.4373 7.0874 3.9953 9.6454 2.558 2.558 6.0279 3.9953 9.6454 3.9953z\" clip-path=\"url(#cb6ee73fdd0)\" fill=\"#e69f00\" stroke=\"#cf8f00\" stroke-width=\"2.1286\"/><g transform=\"translate(7.2811 55.327) scale(.07 -.07)\" fill=\"#545759\"><defs><path id=\"DejaVuSansMono-34\" transform=\"scale(.015625)\" d=\"m2297 4091-1472-2466h1472v2466zm-103 575h731v-3041h622v-512h-622v-1113h-628v1113h-1978v596l1875 2957z\"/></defs><use xlink:href=\"#DejaVuSansMono-34\"/></g><g transform=\"translate(17.823 139.14) scale(.07 -.07)\" fill=\"#545759\"><use xlink:href=\"#DejaVuSansMono-34\"/></g><g transform=\"translate(187.58 139.96) scale(.07 -.07)\" fill=\"#545759\"><use xlink:href=\"#DejaVuSansMono-34\"/></g><g transform=\"translate(226.1 70.475) scale(.07 -.07)\" fill=\"#545759\"><use xlink:href=\"#DejaVuSansMono-34\"/></g><g transform=\"translate(171.79 12.556) scale(.07 -.07)\" fill=\"#545759\"><use xlink:href=\"#DejaVuSansMono-34\"/></g><g transform=\"translate(65.072 91.429) scale(.1 -.1)\" fill=\"#545759\"><defs><path id=\"DejaVuSansMono-41\" transform=\"scale(.015625)\" d=\"m1925 4109-666-2387h1332l-666 2387zm-381 557h765l1429-4666h-654l-343 1216h-1635l-337-1216h-653l1428 4666z\"/></defs><use xlink:href=\"#DejaVuSansMono-41\"/></g><g transform=\"translate(155.01 80.081) scale(.1 -.1)\" fill=\"#545759\"><defs><path id=\"DejaVuSansMono-42\" transform=\"scale(.015625)\" d=\"m1153 2228v-1709h747q550 0 784 192 235 192 235 633 0 456-247 670t-772 214h-747zm0 1919v-1406h735q456 0 660 175 205 175 205 565 0 353-202 509-201 157-663 157h-735zm-634 519h1381q716 0 1103-310 388-309 388-875 0-428-205-675t-614-309q459-69 720-393 261-323 261-823 0-634-416-958-415-323-1237-323h-1381v4666z\"/></defs><use xlink:href=\"#DejaVuSansMono-42\"/></g><path d=\"m237.4 90.538h44.041q2 0 2-2v-28.462q0-2-2-2h-44.041q-2 0-2 2v28.462q0 2 2 2z\" fill=\"none\" stroke=\"#999999\" stroke-opacity=\".2\"/><defs><path id=\"4351bbaa222\" d=\"m0 5c1.326 0 2.5979-0.52683 3.5355-1.4645 0.93763-0.93764 1.4645-2.2095 1.4645-3.5355s-0.52683-2.5979-1.4645-3.5355c-0.93764-0.93763-2.2095-1.4645-3.5355-1.4645s-2.5979 0.52683-3.5355 1.4645c-0.93763 0.93764-1.4645 2.2095-1.4645 3.5355s0.52683 2.5979 1.4645 3.5355c0.93764 0.93763 2.2095 1.4645 3.5355 1.4645z\" stroke=\"#4da2d2\"/></defs><use x=\"249.4\" y=\"66.2274\" fill=\"#56b4e9\" stroke=\"#4da2d2\" xlink:href=\"#4351bbaa222\"/><g transform=\"translate(267.4 69.727) scale(.1 -.1)\" fill=\"#545759\"><defs></defs><use xlink:href=\"#DejaVuSansMono-20\"/><use x=\"60.205078\" xlink:href=\"#DejaVuSansMono-41\"/></g><defs><path id=\"684b011a063\" d=\"m0 5c1.326 0 2.5979-0.52683 3.5355-1.4645 0.93763-0.93764 1.4645-2.2095 1.4645-3.5355s-0.52683-2.5979-1.4645-3.5355c-0.93764-0.93763-2.2095-1.4645-3.5355-1.4645s-2.5979 0.52683-3.5355 1.4645c-0.93763 0.93764-1.4645 2.2095-1.4645 3.5355s0.52683 2.5979 1.4645 3.5355c0.93764 0.93763 2.2095 1.4645 3.5355 1.4645z\" stroke=\"#cf8f00\"/></defs><use x=\"249.4\" y=\"80.95865\" fill=\"#e69f00\" stroke=\"#cf8f00\" xlink:href=\"#684b011a063\"/><g transform=\"translate(267.4 84.459) scale(.1 -.1)\" fill=\"#545759\"><use xlink:href=\"#DejaVuSansMono-20\"/><use x=\"60.205078\" xlink:href=\"#DejaVuSansMono-42\"/></g><defs><clipPath id=\"cb6ee73fdd0\"><rect x=\"7.2\" y=\"9.3319\" width=\"223.2\" height=\"129.95\"/></clipPath></defs></svg>"
      ],
      "text/plain": [
       "<Figure size 400x400 with 1 Axes>"
      ]
     },
     "metadata": {
      "needs_background": "light"
     },
     "output_type": "display_data"
    }
   ],
   "source": [
    "# perform the compression\n",
    "qtn.tensor_compress_bond(ta, tb, max_bond=2, absorb='left')\n",
    "\n",
    "# should now see the bond has been reduced in size to 2\n",
    "(ta | tb).draw(['A', 'B'], figsize=(4, 4), show_inds='bond-size')"
   ]
  },
  {
   "cell_type": "markdown",
   "id": "31e643cd-e2d9-41e0-b67d-b39a9ebd4fe4",
   "metadata": {
    "raw_mimetype": "text/restructuredtext",
    "tags": []
   },
   "source": [
    "Again, there are many options for controlling the compression that can be found in\n",
    "{func}`~quimb.tensor.tensor_core.tensor_compress_bond`, which in turn calls\n",
    "{func}`~quimb.tensor.tensor_core.tensor_split` on the central factor.\n",
    "\n",
    "In order to perform compressions in a tensor network based on tags, one can call\n",
    "{meth}`~quimb.tensor.tensor_core.TensorNetwork.compress_between`, which also has\n",
    "options for taking the environment into account and is one of the main drivers\n",
    "for 2D contraction for example.\n",
    "\n",
    "### `TNLinearOperator`\n",
    "\n",
    "Tensor networks can represent very large multi-linear operators implicitly - these are\n",
    "often too large to form a dense representation of explicitly. However, many iterative\n",
    "algorithms exist that only require the action of this operator on a vector, and this can\n",
    "be cast as a contraction that is usually much cheaper.\n",
    "\n",
    "Consider the following contrived TN with overall shape\n",
    "`(1000, 1000, 1000, 1000)`, but which is evidently low rank:"
   ]
  },
  {
   "cell_type": "code",
   "execution_count": 20,
   "id": "a84c0de6-3dcc-4968-a354-ba96acbd62de",
   "metadata": {},
   "outputs": [
    {
     "data": {
      "image/svg+xml": [
       "<?xml version=\"1.0\" encoding=\"UTF-8\"?><!DOCTYPE svg  PUBLIC '-//W3C//DTD SVG 1.1//EN'  'http://www.w3.org/Graphics/SVG/1.1/DTD/svg11.dtd'><svg width=\"400.08pt\" height=\"347.33pt\" version=\"1.1\" viewBox=\"0 0 400.08 347.33\" xmlns=\"http://www.w3.org/2000/svg\" xmlns:xlink=\"http://www.w3.org/1999/xlink\"><defs><style type=\"text/css\">*{stroke-linejoin: round; stroke-linecap: butt}</style></defs><path d=\"m0 347.33h400.08v-347.33h-400.08v347.33z\" opacity=\"0\"/><path d=\"m104.91 243.22-92.249 93.509\" clip-path=\"url(#691f78c5e89)\" fill=\"none\" stroke=\"#737880\" stroke-linecap=\"round\" stroke-opacity=\".5\" stroke-width=\"9.9658\"/><path d=\"m104.91 243.22 138.16-0.93675\" clip-path=\"url(#691f78c5e89)\" fill=\"none\" stroke=\"#737880\" stroke-linecap=\"round\" stroke-opacity=\".5\"/><g transform=\"translate(171.9 244.71) rotate(-.38846) scale(.07 -.07)\" fill=\"#545759\"><defs><path id=\"DejaVuSansMono-77\" transform=\"scale(.015625)\" d=\"m0 3500h569l609-2828 500 1806h491l506-1806 609 2828h569l-819-3500h-550l-559 1919-556-1919h-550l-819 3500z\"/></defs><use xlink:href=\"#DejaVuSansMono-77\"/></g><path d=\"m104.91 243.22-0.93724-138.16\" clip-path=\"url(#691f78c5e89)\" fill=\"none\" stroke=\"#737880\" stroke-linecap=\"round\" stroke-opacity=\".5\"/><g transform=\"translate(102.47 172.04) rotate(89.611) scale(.07 -.07)\" fill=\"#545759\"><defs><path id=\"DejaVuSansMono-78\" transform=\"scale(.015625)\" d=\"m3494 3500-1253-1675 1375-1825h-666l-1025 1403-1022-1403h-665l1375 1825-1254 1675h638l928-1266 922 1266h647z\"/></defs><use xlink:href=\"#DejaVuSansMono-78\"/></g><path d=\"m243.07 242.28 93.509 92.249\" clip-path=\"url(#691f78c5e89)\" fill=\"none\" stroke=\"#737880\" stroke-linecap=\"round\" stroke-opacity=\".5\" stroke-width=\"9.9658\"/><path d=\"m243.07 242.28-0.93724-138.16\" clip-path=\"url(#691f78c5e89)\" fill=\"none\" stroke=\"#737880\" stroke-linecap=\"round\" stroke-opacity=\".5\"/><g transform=\"translate(240.64 171.1) rotate(89.611) scale(.07 -.07)\" fill=\"#545759\"><defs><path id=\"DejaVuSansMono-79\" transform=\"scale(.015625)\" d=\"m2681 1125q-143-366-365-962-310-826-416-1007-144-244-360-365-215-122-502-122h-463v481h341q253 0 396 147 144 147 366 759l-1353 3444h609l1038-2737 1022 2737h609l-922-2375z\"/></defs><use xlink:href=\"#DejaVuSansMono-79\"/></g><path d=\"m103.97 105.05-93.509-92.249\" clip-path=\"url(#691f78c5e89)\" fill=\"none\" stroke=\"#737880\" stroke-linecap=\"round\" stroke-opacity=\".5\" stroke-width=\"9.9658\"/><path d=\"m103.97 105.05 138.16-0.93675\" clip-path=\"url(#691f78c5e89)\" fill=\"none\" stroke=\"#737880\" stroke-linecap=\"round\" stroke-opacity=\".5\"/><g transform=\"translate(170.96 106.55) rotate(-.38846) scale(.07 -.07)\" fill=\"#545759\"><defs><path id=\"DejaVuSansMono-7a\" transform=\"scale(.015625)\" d=\"m709 3506h2541v-525l-2009-2512h2009v-469h-2616v531l2010 2516h-1935v459z\"/></defs><use xlink:href=\"#DejaVuSansMono-7a\"/></g><path d=\"m242.13 104.11 92.249-93.509\" clip-path=\"url(#691f78c5e89)\" fill=\"none\" stroke=\"#737880\" stroke-linecap=\"round\" stroke-opacity=\".5\" stroke-width=\"9.9658\"/><path d=\"m12.658 336.72z\" clip-path=\"url(#691f78c5e89)\" fill=\"#ffffff\"/><path d=\"m336.58 334.53z\" clip-path=\"url(#691f78c5e89)\" fill=\"#ffffff\"/><path d=\"m10.461 12.802z\" clip-path=\"url(#691f78c5e89)\" fill=\"#ffffff\"/><path d=\"m334.38 10.606z\" clip-path=\"url(#691f78c5e89)\" fill=\"#ffffff\"/><path d=\"m104.91 260.69c4.6348 0 9.0803-1.8414 12.358-5.1187 3.2773-3.2773 5.1187-7.7228 5.1187-12.358s-1.8414-9.0803-5.1187-12.358c-3.2773-3.2773-7.7228-5.1187-12.358-5.1187s-9.0803 1.8414-12.358 5.1187c-3.2773 3.2773-5.1187 7.7228-5.1187 12.358s1.8414 9.0803 5.1187 12.358c3.2773 3.2773 7.7228 5.1187 12.358 5.1187z\" clip-path=\"url(#691f78c5e89)\" fill=\"#56b4e9\" stroke=\"#4da2d2\" stroke-width=\"1.9284\"/><path d=\"m243.07 259.75c4.6348 0 9.0803-1.8414 12.358-5.1187 3.2773-3.2773 5.1187-7.7228 5.1187-12.358 0-4.6348-1.8414-9.0803-5.1187-12.358-3.2773-3.2773-7.7228-5.1187-12.358-5.1187-4.6348 0-9.0803 1.8414-12.358 5.1187-3.2773 3.2773-5.1187 7.7228-5.1187 12.358 0 4.6348 1.8414 9.0803 5.1187 12.358s7.7228 5.1187 12.358 5.1187z\" clip-path=\"url(#691f78c5e89)\" fill=\"#e69f00\" stroke=\"#cf8f00\" stroke-width=\"1.9284\"/><path d=\"m103.97 122.53c4.6348 0 9.0803-1.8414 12.358-5.1187 3.2773-3.2773 5.1187-7.7228 5.1187-12.358 0-4.6348-1.8414-9.0803-5.1187-12.358-3.2773-3.2773-7.7228-5.1187-12.358-5.1187s-9.0803 1.8414-12.358 5.1187c-3.2773 3.2773-5.1187 7.7228-5.1187 12.358 0 4.6348 1.8414 9.0803 5.1187 12.358 3.2773 3.2773 7.7228 5.1187 12.358 5.1187z\" clip-path=\"url(#691f78c5e89)\" fill=\"#009e73\" stroke=\"#008e68\" stroke-width=\"1.9284\"/><path d=\"m242.13 121.59c4.6348 0 9.0803-1.8414 12.358-5.1187 3.2773-3.2773 5.1187-7.7228 5.1187-12.358s-1.8414-9.0803-5.1187-12.358c-3.2773-3.2773-7.7228-5.1187-12.358-5.1187-4.6348 0-9.0803 1.8414-12.358 5.1187-3.2773 3.2773-5.1187 7.7228-5.1187 12.358s1.8414 9.0803 5.1187 12.358c3.2773 3.2773 7.7228 5.1187 12.358 5.1187z\" clip-path=\"url(#691f78c5e89)\" fill=\"#d55e00\" stroke=\"#c05500\" stroke-width=\"1.9284\"/><g transform=\"translate(10.551 338.67) scale(.07 -.07)\" fill=\"#545759\"><defs><path id=\"DejaVuSansMono-61\" transform=\"scale(.015625)\" d=\"m2194 1759h-191q-503 0-758-177-254-176-254-526 0-315 190-490 191-175 528-175 475 0 747 329 272 330 275 911v128h-537zm1115 238v-1997h-578v519q-184-313-464-462-279-148-679-148-535 0-854 302-318 302-318 808 0 584 392 887t1151 303h772v91q-3 419-213 608-209 189-668 189-294 0-594-85-300-84-584-246v575q319 122 611 182 292 61 567 61 434 0 742-128t499-384q118-156 168-386t50-689z\"/></defs><use xlink:href=\"#DejaVuSansMono-61\"/></g><g transform=\"translate(334.47 336.48) scale(.07 -.07)\" fill=\"#545759\"><defs><path id=\"DejaVuSansMono-62\" transform=\"scale(.015625)\" d=\"m2869 1747q0 669-213 1009-212 341-628 341-419 0-635-342-215-342-215-1008 0-663 215-1007 216-343 635-343 416 0 628 340 213 341 213 1010zm-1691 1306q138 256 380 393 242 138 561 138 631 0 993-486 363-485 363-1339 0-865-364-1358-364-492-998-492-313 0-552 136t-383 396v-441h-575v4863h575v-1810z\"/></defs><use xlink:href=\"#DejaVuSansMono-62\"/></g><g transform=\"translate(8.3541 14.752) scale(.07 -.07)\" fill=\"#545759\"><defs><path id=\"DejaVuSansMono-63\" transform=\"scale(.015625)\" d=\"m3316 178q-232-134-477-201-245-68-501-68-813 0-1271 487-458 488-458 1351 0 862 458 1349 458 488 1271 488 253 0 493-66 241-65 485-202v-603q-228 203-458 293-230 91-520 91-541 0-832-350-290-350-290-1e3 0-647 292-999 292-351 830-351 300 0 537 92 238 92 441 286v-597z\"/></defs><use xlink:href=\"#DejaVuSansMono-63\"/></g><g transform=\"translate(332.28 12.556) scale(.07 -.07)\" fill=\"#545759\"><defs><path id=\"DejaVuSansMono-64\" transform=\"scale(.015625)\" d=\"m2681 3053v1810h575v-4863h-575v441q-143-260-383-396-239-136-551-136-634 0-999 492-364 493-364 1358 0 854 366 1339 366 486 997 486 316 0 556-136 241-135 378-395zm-1690-1306q0-669 212-1010 213-340 628-340 416 0 633 343 217 344 217 1007 0 666-217 1008t-633 342q-415 0-628-341-212-340-212-1009z\"/></defs><use xlink:href=\"#DejaVuSansMono-64\"/></g><g transform=\"translate(101.9 246) scale(.1 -.1)\" fill=\"#545759\"><defs><path id=\"DejaVuSansMono-41\" transform=\"scale(.015625)\" d=\"m1925 4109-666-2387h1332l-666 2387zm-381 557h765l1429-4666h-654l-343 1216h-1635l-337-1216h-653l1428 4666z\"/></defs><use xlink:href=\"#DejaVuSansMono-41\"/></g><g transform=\"translate(240.06 245.06) scale(.1 -.1)\" fill=\"#545759\"><defs><path id=\"DejaVuSansMono-42\" transform=\"scale(.015625)\" d=\"m1153 2228v-1709h747q550 0 784 192 235 192 235 633 0 456-247 670t-772 214h-747zm0 1919v-1406h735q456 0 660 175 205 175 205 565 0 353-202 509-201 157-663 157h-735zm-634 519h1381q716 0 1103-310 388-309 388-875 0-428-205-675t-614-309q459-69 720-393 261-323 261-823 0-634-416-958-415-323-1237-323h-1381v4666z\"/></defs><use xlink:href=\"#DejaVuSansMono-42\"/></g><g transform=\"translate(100.96 107.84) scale(.1 -.1)\" fill=\"#545759\"><defs><path id=\"DejaVuSansMono-43\" transform=\"scale(.015625)\" d=\"m3353 166q-240-128-494-192-253-65-537-65-897 0-1393 634-495 635-495 1785 0 1144 498 1783 499 639 1390 639 284 0 537-64 254-64 494-192v-647q-231 191-497 291-265 100-534 100-616 0-922-475t-306-1435q0-956 306-1431t922-475q275 0 539 100t492 291v-647z\"/></defs><use xlink:href=\"#DejaVuSansMono-43\"/></g><g transform=\"translate(239.12 106.9) scale(.1 -.1)\" fill=\"#545759\"><defs><path id=\"DejaVuSansMono-44\" transform=\"scale(.015625)\" d=\"m1363 519q796 0 1112 392t316 1417q0 1035-314 1427t-1114 392h-300v-3628h300zm12 4147q1069 0 1575-569t506-1769q0-1194-506-1761t-1575-567h-947v4666h947z\"/></defs><use xlink:href=\"#DejaVuSansMono-44\"/></g><path d=\"m346.84 204.63h44.041q2 0 2-2v-57.925q0-2-2-2h-44.041q-2 0-2 2v57.925q0 2 2 2z\" fill=\"none\" stroke=\"#999999\" stroke-opacity=\".2\"/><defs><path id=\"89e0565feac\" d=\"m0 5c1.326 0 2.5979-0.52683 3.5355-1.4645 0.93763-0.93764 1.4645-2.2095 1.4645-3.5355s-0.52683-2.5979-1.4645-3.5355c-0.93764-0.93763-2.2095-1.4645-3.5355-1.4645s-2.5979 0.52683-3.5355 1.4645c-0.93763 0.93764-1.4645 2.2095-1.4645 3.5355s0.52683 2.5979 1.4645 3.5355c0.93764 0.93763 2.2095 1.4645 3.5355 1.4645z\" stroke=\"#4da2d2\"/></defs><use x=\"358.840732\" y=\"150.853824\" fill=\"#56b4e9\" stroke=\"#4da2d2\" xlink:href=\"#89e0565feac\"/><g transform=\"translate(376.84 154.35) scale(.1 -.1)\" fill=\"#545759\"><defs></defs><use xlink:href=\"#DejaVuSansMono-20\"/><use x=\"60.205078\" xlink:href=\"#DejaVuSansMono-41\"/></g><defs><path id=\"90ade6efc5b\" d=\"m0 5c1.326 0 2.5979-0.52683 3.5355-1.4645 0.93763-0.93764 1.4645-2.2095 1.4645-3.5355s-0.52683-2.5979-1.4645-3.5355c-0.93764-0.93763-2.2095-1.4645-3.5355-1.4645s-2.5979 0.52683-3.5355 1.4645c-0.93763 0.93764-1.4645 2.2095-1.4645 3.5355s0.52683 2.5979 1.4645 3.5355c0.93764 0.93763 2.2095 1.4645 3.5355 1.4645z\" stroke=\"#cf8f00\"/></defs><use x=\"358.840732\" y=\"165.585074\" fill=\"#e69f00\" stroke=\"#cf8f00\" xlink:href=\"#90ade6efc5b\"/><g transform=\"translate(376.84 169.09) scale(.1 -.1)\" fill=\"#545759\"><use xlink:href=\"#DejaVuSansMono-20\"/><use x=\"60.205078\" xlink:href=\"#DejaVuSansMono-42\"/></g><defs><path id=\"aef5113e54b\" d=\"m0 5c1.326 0 2.5979-0.52683 3.5355-1.4645 0.93763-0.93764 1.4645-2.2095 1.4645-3.5355s-0.52683-2.5979-1.4645-3.5355c-0.93764-0.93763-2.2095-1.4645-3.5355-1.4645s-2.5979 0.52683-3.5355 1.4645c-0.93763 0.93764-1.4645 2.2095-1.4645 3.5355s0.52683 2.5979 1.4645 3.5355c0.93764 0.93763 2.2095 1.4645 3.5355 1.4645z\" stroke=\"#008e68\"/></defs><use x=\"358.840732\" y=\"180.316324\" fill=\"#009e73\" stroke=\"#008e68\" xlink:href=\"#aef5113e54b\"/><g transform=\"translate(376.84 183.82) scale(.1 -.1)\" fill=\"#545759\"><use xlink:href=\"#DejaVuSansMono-20\"/><use x=\"60.205078\" xlink:href=\"#DejaVuSansMono-43\"/></g><defs><path id=\"7d0ace23d7e\" d=\"m0 5c1.326 0 2.5979-0.52683 3.5355-1.4645 0.93763-0.93764 1.4645-2.2095 1.4645-3.5355s-0.52683-2.5979-1.4645-3.5355c-0.93764-0.93763-2.2095-1.4645-3.5355-1.4645s-2.5979 0.52683-3.5355 1.4645c-0.93763 0.93764-1.4645 2.2095-1.4645 3.5355s0.52683 2.5979 1.4645 3.5355c0.93764 0.93763 2.2095 1.4645 3.5355 1.4645z\" stroke=\"#c05500\"/></defs><use x=\"358.840732\" y=\"195.047574\" fill=\"#d55e00\" stroke=\"#c05500\" xlink:href=\"#7d0ace23d7e\"/><g transform=\"translate(376.84 198.55) scale(.1 -.1)\" fill=\"#545759\"><use xlink:href=\"#DejaVuSansMono-20\"/><use x=\"60.205078\" xlink:href=\"#DejaVuSansMono-44\"/></g><defs><clipPath id=\"691f78c5e89\"><rect x=\"7.2\" y=\"7.3448\" width=\"332.64\" height=\"332.64\"/></clipPath></defs></svg>"
      ],
      "text/plain": [
       "<Figure size 600x600 with 1 Axes>"
      ]
     },
     "metadata": {
      "needs_background": "light"
     },
     "output_type": "display_data"
    }
   ],
   "source": [
    "ta = qtn.rand_tensor([1000, 2, 2], inds=['a', 'w', 'x'], tags='A')\n",
    "tb = qtn.rand_tensor([1000, 2, 2], inds=['b', 'w', 'y'], tags='B')\n",
    "tc = qtn.rand_tensor([1000, 2, 2], inds=['c', 'x', 'z'], tags='C')\n",
    "td = qtn.rand_tensor([1000, 2, 2], inds=['d', 'y', 'z'], tags='D')\n",
    "tn = (ta | tb | tc | td)\n",
    "tn.draw(['A', 'B', 'C', 'D'], show_inds='all')"
   ]
  },
  {
   "cell_type": "markdown",
   "id": "96df8da5-2c83-4b40-b0f2-e4d75f87405a",
   "metadata": {
    "raw_mimetype": "text/restructuredtext",
    "tags": []
   },
   "source": [
    "View this as a {class}`~quimb.tensor.tensor_core.TNLinearOperator` which is a\n",
    "subclass of a {class}`scipy.sparse.linalg.LinearOperator` and so can be supplied\n",
    "anywhere they can:"
   ]
  },
  {
   "cell_type": "code",
   "execution_count": 21,
   "id": "1a3bcae3-17e3-477a-9f9a-a3f34c4866cc",
   "metadata": {},
   "outputs": [
    {
     "data": {
      "text/plain": [
       "<1000000x1000000 TNLinearOperator with dtype=float64>"
      ]
     },
     "execution_count": 21,
     "metadata": {},
     "output_type": "execute_result"
    }
   ],
   "source": [
    "tnlo = tn.aslinearoperator(['a', 'b'], ['c', 'd'])\n",
    "tnlo"
   ]
  },
  {
   "cell_type": "markdown",
   "id": "19e8585d-eb1d-4814-bb1f-599226801bc5",
   "metadata": {
    "raw_mimetype": "text/restructuredtext",
    "tags": []
   },
   "source": [
    "I.e. it maps a vector of size 1,000,000 spanning the indices `'a'` and `'b'`\n",
    "to a vector of size 1,000,000 spanning the indices `'c'` and `'d'`.\n",
    "\n",
    "We can supply it to iterative functions directly:"
   ]
  },
  {
   "cell_type": "code",
   "execution_count": 22,
   "id": "57136381-6ed2-4135-94bb-3a49dd81cc58",
   "metadata": {},
   "outputs": [
    {
     "data": {
      "text/plain": [
       "array([2900.03154824+0.j])"
      ]
     },
     "execution_count": 22,
     "metadata": {},
     "output_type": "execute_result"
    }
   ],
   "source": [
    "qu.eigvals(tnlo, k=1, which='LM')"
   ]
  },
  {
   "cell_type": "markdown",
   "id": "12c05935-a7eb-4fdb-b0e9-88343b6ee69f",
   "metadata": {
    "raw_mimetype": "text/restructuredtext",
    "tags": []
   },
   "source": [
    "Or the function {func}`~quimb.tensor.tensor_core.tensor_split` also\n",
    "accepts a {class}`~quimb.tensor.tensor_core.TNLinearOperator` instead\n",
    "of a {class}`~quimb.tensor.tensor_core.Tensor`."
   ]
  },
  {
   "cell_type": "code",
   "execution_count": 23,
   "id": "49269f52-20b9-484c-87c7-bef4acd14413",
   "metadata": {},
   "outputs": [
    {
     "data": {
      "image/svg+xml": [
       "<?xml version=\"1.0\" encoding=\"UTF-8\"?><!DOCTYPE svg  PUBLIC '-//W3C//DTD SVG 1.1//EN'  'http://www.w3.org/Graphics/SVG/1.1/DTD/svg11.dtd'><svg width=\"407.39pt\" height=\"187.87pt\" version=\"1.1\" viewBox=\"0 0 407.39 187.87\" xmlns=\"http://www.w3.org/2000/svg\" xmlns:xlink=\"http://www.w3.org/1999/xlink\"><defs><style type=\"text/css\">*{stroke-linejoin: round; stroke-linecap: butt}</style></defs><path d=\"m0 187.87h407.39v-187.87h-407.39v187.87z\" opacity=\"0\"/><path d=\"m255.11 93.363 88.752 81.424\" clip-path=\"url(#72a32c1929d)\" fill=\"none\" stroke=\"#737880\" stroke-linecap=\"round\" stroke-opacity=\".5\" stroke-width=\"9.9658\"/><path d=\"m255.11 93.363 87.51-82.757\" clip-path=\"url(#72a32c1929d)\" fill=\"none\" stroke=\"#737880\" stroke-linecap=\"round\" stroke-opacity=\".5\" stroke-width=\"9.9658\"/><path d=\"m255.11 93.363-150.73 1.1399\" clip-path=\"url(#72a32c1929d)\" fill=\"none\" stroke=\"#737880\" stroke-linecap=\"round\" stroke-opacity=\".5\" stroke-width=\"2\"/><g transform=\"translate(177.65 95.899) rotate(-.4333) scale(.07 -.07)\" fill=\"#545759\"><defs><path id=\"DejaVuSansMono-34\" transform=\"scale(.015625)\" d=\"m2297 4091-1472-2466h1472v2466zm-103 575h731v-3041h622v-512h-622v-1113h-628v1113h-1978v596l1875 2957z\"/></defs><use xlink:href=\"#DejaVuSansMono-34\"/></g><path d=\"m104.38 94.503-88.752-81.424\" clip-path=\"url(#72a32c1929d)\" fill=\"none\" stroke=\"#737880\" stroke-linecap=\"round\" stroke-opacity=\".5\" stroke-width=\"9.9658\"/><path d=\"m104.38 94.503-87.51 82.757\" clip-path=\"url(#72a32c1929d)\" fill=\"none\" stroke=\"#737880\" stroke-linecap=\"round\" stroke-opacity=\".5\" stroke-width=\"9.9658\"/><path d=\"m343.86 174.79z\" clip-path=\"url(#72a32c1929d)\" fill=\"#ffffff\"/><path d=\"m342.62 10.606z\" clip-path=\"url(#72a32c1929d)\" fill=\"#ffffff\"/><path d=\"m15.628 13.079z\" clip-path=\"url(#72a32c1929d)\" fill=\"#ffffff\"/><path d=\"m16.871 177.26z\" clip-path=\"url(#72a32c1929d)\" fill=\"#ffffff\"/><path d=\"m263.23 112.97c5.1978-2.153 9.3318-6.287 11.485-11.485 2.153-5.1978 2.153-11.044 0-16.242l-19.606 8.121z\" clip-path=\"url(#72a32c1929d)\" fill=\"#56b4e9\" stroke=\"#4da2d2\" stroke-width=\"2.0902\"/><path d=\"m274.72 85.242c-2.153-5.1978-6.287-9.3318-11.485-11.485-5.1978-2.153-11.044-2.153-16.242 0l8.121 19.606z\" clip-path=\"url(#72a32c1929d)\" fill=\"#e69f00\" stroke=\"#cf8f00\" stroke-width=\"2.0902\"/><path d=\"m246.99 73.757c-5.1978 2.153-9.3318 6.287-11.485 11.485-2.153 5.1978-2.153 11.044 0 16.242l19.606-8.121z\" clip-path=\"url(#72a32c1929d)\" fill=\"#009e73\" stroke=\"#008e68\" stroke-width=\"2.0902\"/><path d=\"m235.51 101.48c1.0664 2.5746 2.6297 4.9141 4.6002 6.8847 1.9705 1.9705 4.31 3.5337 6.8847 4.6002 2.5746 1.0664 5.3343 1.6154 8.121 1.6154s5.5464-0.54893 8.121-1.6154l-8.121-19.606z\" clip-path=\"url(#72a32c1929d)\" fill=\"#d55e00\" stroke=\"#c05500\" stroke-width=\"2.0902\"/><path d=\"m112.5 114.11c5.1978-2.153 9.3318-6.287 11.485-11.485 2.153-5.1978 2.153-11.044 0-16.242l-19.606 8.121z\" clip-path=\"url(#72a32c1929d)\" fill=\"#56b4e9\" stroke=\"#4da2d2\" stroke-width=\"2.0902\"/><path d=\"m123.99 86.382c-2.153-5.1978-6.287-9.3318-11.485-11.485-5.1978-2.153-11.044-2.153-16.242 0l8.121 19.606z\" clip-path=\"url(#72a32c1929d)\" fill=\"#e69f00\" stroke=\"#cf8f00\" stroke-width=\"2.0902\"/><path d=\"m96.259 74.897c-5.1978 2.153-9.3318 6.287-11.485 11.485-2.153 5.1978-2.153 11.044 0 16.242l19.606-8.121z\" clip-path=\"url(#72a32c1929d)\" fill=\"#009e73\" stroke=\"#008e68\" stroke-width=\"2.0902\"/><path d=\"m84.775 102.62c1.0664 2.5746 2.6297 4.9141 4.6002 6.8847 1.9705 1.9705 4.31 3.5337 6.8847 4.6002s5.3343 1.6154 8.121 1.6154c2.7867 0 5.5464-0.54893 8.121-1.6154l-8.121-19.606z\" clip-path=\"url(#72a32c1929d)\" fill=\"#d55e00\" stroke=\"#c05500\" stroke-width=\"2.0902\"/><g transform=\"translate(335.44 176.74) scale(.07 -.07)\" fill=\"#545759\"><defs><path id=\"DejaVuSansMono-31\" transform=\"scale(.015625)\" d=\"m844 531h981v3566l-1056-238v575l1050 232h631v-4135h969v-531h-2575v531z\"/><path id=\"DejaVuSansMono-30\" transform=\"scale(.015625)\" d=\"m1509 2344q0 172 120 297 121 125 290 125 175 0 300-125t125-297q0-175-124-297-123-122-301-122-175 0-293 119-117 119-117 300zm416 1906q-441 0-658-475t-217-1447q0-969 217-1444t658-475q444 0 661 475t217 1444q0 972-217 1447t-661 475zm0 500q747 0 1130-613 383-612 383-1809 0-1194-383-1807-383-612-1130-612t-1128 612q-381 613-381 1807 0 1197 381 1809 381 613 1128 613z\"/></defs><use xlink:href=\"#DejaVuSansMono-31\"/><use x=\"60.205078\" xlink:href=\"#DejaVuSansMono-30\"/><use x=\"120.410156\" xlink:href=\"#DejaVuSansMono-30\"/><use x=\"180.615234\" xlink:href=\"#DejaVuSansMono-30\"/></g><g transform=\"translate(334.19 12.556) scale(.07 -.07)\" fill=\"#545759\"><use xlink:href=\"#DejaVuSansMono-31\"/><use x=\"60.205078\" xlink:href=\"#DejaVuSansMono-30\"/><use x=\"120.410156\" xlink:href=\"#DejaVuSansMono-30\"/><use x=\"180.615234\" xlink:href=\"#DejaVuSansMono-30\"/></g><g transform=\"translate(7.2 15.029) scale(.07 -.07)\" fill=\"#545759\"><use xlink:href=\"#DejaVuSansMono-31\"/><use x=\"60.205078\" xlink:href=\"#DejaVuSansMono-30\"/><use x=\"120.410156\" xlink:href=\"#DejaVuSansMono-30\"/><use x=\"180.615234\" xlink:href=\"#DejaVuSansMono-30\"/></g><g transform=\"translate(8.4424 179.21) scale(.07 -.07)\" fill=\"#545759\"><use xlink:href=\"#DejaVuSansMono-31\"/><use x=\"60.205078\" xlink:href=\"#DejaVuSansMono-30\"/><use x=\"120.410156\" xlink:href=\"#DejaVuSansMono-30\"/><use x=\"180.615234\" xlink:href=\"#DejaVuSansMono-30\"/></g><g transform=\"translate(225.01 96.149) scale(.1 -.1)\" fill=\"#545759\"><defs><path id=\"DejaVuSansMono-41\" transform=\"scale(.015625)\" d=\"m1925 4109-666-2387h1332l-666 2387zm-381 557h765l1429-4666h-654l-343 1216h-1635l-337-1216h-653l1428 4666z\"/><path id=\"DejaVuSansMono-2c\" transform=\"scale(.015625)\" d=\"m1569 947h787v-647l-615-1197h-482l310 1197v647z\"/><path id=\"DejaVuSansMono-42\" transform=\"scale(.015625)\" d=\"m1153 2228v-1709h747q550 0 784 192 235 192 235 633 0 456-247 670t-772 214h-747zm0 1919v-1406h735q456 0 660 175 205 175 205 565 0 353-202 509-201 157-663 157h-735zm-634 519h1381q716 0 1103-310 388-309 388-875 0-428-205-675t-614-309q459-69 720-393 261-323 261-823 0-634-416-958-415-323-1237-323h-1381v4666z\"/><path id=\"DejaVuSansMono-43\" transform=\"scale(.015625)\" d=\"m3353 166q-240-128-494-192-253-65-537-65-897 0-1393 634-495 635-495 1785 0 1144 498 1783 499 639 1390 639 284 0 537-64 254-64 494-192v-647q-231 191-497 291-265 100-534 100-616 0-922-475t-306-1435q0-956 306-1431t922-475q275 0 539 100t492 291v-647z\"/><path id=\"DejaVuSansMono-44\" transform=\"scale(.015625)\" d=\"m1363 519q796 0 1112 392t316 1417q0 1035-314 1427t-1114 392h-300v-3628h300zm12 4147q1069 0 1575-569t506-1769q0-1194-506-1761t-1575-567h-947v4666h947z\"/></defs><use xlink:href=\"#DejaVuSansMono-41\"/><use x=\"60.205078\" xlink:href=\"#DejaVuSansMono-2c\"/><use x=\"120.410156\" xlink:href=\"#DejaVuSansMono-20\"/><use x=\"180.615234\" xlink:href=\"#DejaVuSansMono-42\"/><use x=\"240.820312\" xlink:href=\"#DejaVuSansMono-2c\"/><use x=\"301.025391\" xlink:href=\"#DejaVuSansMono-20\"/><use x=\"361.230469\" xlink:href=\"#DejaVuSansMono-43\"/><use x=\"421.435547\" xlink:href=\"#DejaVuSansMono-2c\"/><use x=\"481.640625\" xlink:href=\"#DejaVuSansMono-20\"/><use x=\"541.845703\" xlink:href=\"#DejaVuSansMono-44\"/></g><g transform=\"translate(74.279 97.289) scale(.1 -.1)\" fill=\"#545759\"><use xlink:href=\"#DejaVuSansMono-41\"/><use x=\"60.205078\" xlink:href=\"#DejaVuSansMono-2c\"/><use x=\"120.410156\" xlink:href=\"#DejaVuSansMono-20\"/><use x=\"180.615234\" xlink:href=\"#DejaVuSansMono-42\"/><use x=\"240.820312\" xlink:href=\"#DejaVuSansMono-2c\"/><use x=\"301.025391\" xlink:href=\"#DejaVuSansMono-20\"/><use x=\"361.230469\" xlink:href=\"#DejaVuSansMono-43\"/><use x=\"421.435547\" xlink:href=\"#DejaVuSansMono-2c\"/><use x=\"481.640625\" xlink:href=\"#DejaVuSansMono-20\"/><use x=\"541.845703\" xlink:href=\"#DejaVuSansMono-44\"/></g><path d=\"m354.15 124.9h44.041q2 0 2-2v-57.925q0-2-2-2h-44.041q-2 0-2 2v57.925q0 2 2 2z\" fill=\"none\" stroke=\"#999999\" stroke-opacity=\".2\"/><defs><path id=\"c21f355922f\" d=\"m0 5c1.326 0 2.5979-0.52683 3.5355-1.4645 0.93763-0.93764 1.4645-2.2095 1.4645-3.5355s-0.52683-2.5979-1.4645-3.5355c-0.93764-0.93763-2.2095-1.4645-3.5355-1.4645s-2.5979 0.52683-3.5355 1.4645c-0.93763 0.93764-1.4645 2.2095-1.4645 3.5355s0.52683 2.5979 1.4645 3.5355c0.93764 0.93763 2.2095 1.4645 3.5355 1.4645z\" stroke=\"#4da2d2\"/></defs><use x=\"366.146085\" y=\"71.122064\" fill=\"#56b4e9\" stroke=\"#4da2d2\" xlink:href=\"#c21f355922f\"/><g transform=\"translate(384.15 74.622) scale(.1 -.1)\" fill=\"#545759\"><use xlink:href=\"#DejaVuSansMono-20\"/><use x=\"60.205078\" xlink:href=\"#DejaVuSansMono-41\"/></g><defs><path id=\"37d87b7ab9a\" d=\"m0 5c1.326 0 2.5979-0.52683 3.5355-1.4645 0.93763-0.93764 1.4645-2.2095 1.4645-3.5355s-0.52683-2.5979-1.4645-3.5355c-0.93764-0.93763-2.2095-1.4645-3.5355-1.4645s-2.5979 0.52683-3.5355 1.4645c-0.93763 0.93764-1.4645 2.2095-1.4645 3.5355s0.52683 2.5979 1.4645 3.5355c0.93764 0.93763 2.2095 1.4645 3.5355 1.4645z\" stroke=\"#cf8f00\"/></defs><use x=\"366.146085\" y=\"85.853314\" fill=\"#e69f00\" stroke=\"#cf8f00\" xlink:href=\"#37d87b7ab9a\"/><g transform=\"translate(384.15 89.353) scale(.1 -.1)\" fill=\"#545759\"><use xlink:href=\"#DejaVuSansMono-20\"/><use x=\"60.205078\" xlink:href=\"#DejaVuSansMono-42\"/></g><defs><path id=\"97426a8843f\" d=\"m0 5c1.326 0 2.5979-0.52683 3.5355-1.4645 0.93763-0.93764 1.4645-2.2095 1.4645-3.5355s-0.52683-2.5979-1.4645-3.5355c-0.93764-0.93763-2.2095-1.4645-3.5355-1.4645s-2.5979 0.52683-3.5355 1.4645c-0.93763 0.93764-1.4645 2.2095-1.4645 3.5355s0.52683 2.5979 1.4645 3.5355c0.93764 0.93763 2.2095 1.4645 3.5355 1.4645z\" stroke=\"#008e68\"/></defs><use x=\"366.146085\" y=\"100.584564\" fill=\"#009e73\" stroke=\"#008e68\" xlink:href=\"#97426a8843f\"/><g transform=\"translate(384.15 104.08) scale(.1 -.1)\" fill=\"#545759\"><use xlink:href=\"#DejaVuSansMono-20\"/><use x=\"60.205078\" xlink:href=\"#DejaVuSansMono-43\"/></g><defs><path id=\"b7e5f629ec1\" d=\"m0 5c1.326 0 2.5979-0.52683 3.5355-1.4645 0.93763-0.93764 1.4645-2.2095 1.4645-3.5355s-0.52683-2.5979-1.4645-3.5355c-0.93764-0.93763-2.2095-1.4645-3.5355-1.4645s-2.5979 0.52683-3.5355 1.4645c-0.93763 0.93764-1.4645 2.2095-1.4645 3.5355s0.52683 2.5979 1.4645 3.5355c0.93764 0.93763 2.2095 1.4645 3.5355 1.4645z\" stroke=\"#c05500\"/></defs><use x=\"366.146085\" y=\"115.315814\" fill=\"#d55e00\" stroke=\"#c05500\" xlink:href=\"#b7e5f629ec1\"/><g transform=\"translate(384.15 118.82) scale(.1 -.1)\" fill=\"#545759\"><use xlink:href=\"#DejaVuSansMono-20\"/><use x=\"60.205078\" xlink:href=\"#DejaVuSansMono-44\"/></g><defs><clipPath id=\"72a32c1929d\"><rect x=\"12.346\" y=\"8.9394\" width=\"334.8\" height=\"169.99\"/></clipPath></defs></svg>"
      ],
      "text/plain": [
       "<Figure size 600x600 with 1 Axes>"
      ]
     },
     "metadata": {
      "needs_background": "light"
     },
     "output_type": "display_data"
    }
   ],
   "source": [
    "tn_decomp = qtn.tensor_split(\n",
    "    tnlo,\n",
    "    left_inds=tnlo.left_inds,\n",
    "    right_inds=tnlo.right_inds,\n",
    "    # make sure we supply a iterative method\n",
    "    method='svds',  # {'rsvd', 'isvd', 'eigs', ...}\n",
    "    max_bond=4,\n",
    ")\n",
    "\n",
    "tn_decomp.draw(['A', 'B', 'C', 'D'], show_inds='bond-size')"
   ]
  },
  {
   "cell_type": "markdown",
   "id": "51ae6010-83b4-4330-8217-f7eedf119351",
   "metadata": {
    "raw_mimetype": "text/restructuredtext",
    "tags": []
   },
   "source": [
    "Again, this operation can be performed within a TN based on tags using the method\n",
    "{meth}`~quimb.tensor.tensor_core.TensorNetwork.replace_with_svd`. Or you can treat\n",
    "an entire tensor network as an operator to be decomposed with\n",
    "{meth}`~quimb.tensor.tensor_core.TensorNetwork.split`.\n",
    "\n",
    ":::{warning}\n",
    "You are of course here still limited by the size of the left and right\n",
    "vector spaces, which while generally are square root the size of the\n",
    "dense operator, nonetheless grow exponentially in number of indices.\n",
    ":::\n",
    "\n",
    "## Selection\n",
    "\n",
    "Many methods use `tags` to specify which tensors to operator on within a TN.\n",
    "This is often used in conjuction with a `which` kwarg specifying how to match\n",
    "the tags. The following illustrates the options for a 2D TN which has both\n",
    "rows and columns tagged:"
   ]
  },
  {
   "cell_type": "code",
   "execution_count": 24,
   "id": "2a60349b-1ec3-4be5-8296-a59545c29eba",
   "metadata": {},
   "outputs": [],
   "source": [
    "tn = qtn.TN2D_rand(5, 5, D=4)"
   ]
  },
  {
   "cell_type": "markdown",
   "id": "1edad091-4af5-48d6-990e-590d03312557",
   "metadata": {},
   "source": [
    "Get tensors which have **all** of the tags:"
   ]
  },
  {
   "cell_type": "code",
   "execution_count": 25,
   "id": "bb157352-624b-494c-aa97-d8fb5f4c2d0f",
   "metadata": {},
   "outputs": [
    {
     "data": {
      "image/svg+xml": [
       "<?xml version=\"1.0\" encoding=\"UTF-8\"?><!DOCTYPE svg  PUBLIC '-//W3C//DTD SVG 1.1//EN'  'http://www.w3.org/Graphics/SVG/1.1/DTD/svg11.dtd'><svg width=\"245.85pt\" height=\"180.72pt\" version=\"1.1\" viewBox=\"0 0 245.85 180.72\" xmlns=\"http://www.w3.org/2000/svg\" xmlns:xlink=\"http://www.w3.org/1999/xlink\"><defs><style type=\"text/css\">*{stroke-linejoin: round; stroke-linecap: butt}</style></defs><path d=\"m0 180.72h245.85v-180.72h-245.85v180.72z\" opacity=\"0\"/><path d=\"m165.9 16.445-33.935-2.4103\" clip-path=\"url(#6d5af2b25a7)\" fill=\"none\" stroke=\"#737880\" stroke-linecap=\"round\" stroke-opacity=\".5\" stroke-width=\"2\"/><path d=\"m165.9 16.445 1.7309 34.106\" clip-path=\"url(#6d5af2b25a7)\" fill=\"none\" stroke=\"#737880\" stroke-linecap=\"round\" stroke-opacity=\".5\" stroke-width=\"2\"/><path d=\"m131.97 14.035-40.574-1.1969\" clip-path=\"url(#6d5af2b25a7)\" fill=\"none\" stroke=\"#737880\" stroke-linecap=\"round\" stroke-opacity=\".5\" stroke-width=\"2\"/><path d=\"m131.97 14.035 0.70054 35.074\" clip-path=\"url(#6d5af2b25a7)\" fill=\"none\" stroke=\"#737880\" stroke-linecap=\"round\" stroke-opacity=\".5\" stroke-width=\"2\"/><path d=\"m91.391 12.838-40.572 0.20278\" clip-path=\"url(#6d5af2b25a7)\" fill=\"none\" stroke=\"#737880\" stroke-linecap=\"round\" stroke-opacity=\".5\" stroke-width=\"2\"/><path d=\"m91.391 12.838-0.43485 35.319\" clip-path=\"url(#6d5af2b25a7)\" fill=\"none\" stroke=\"#737880\" stroke-linecap=\"round\" stroke-opacity=\".5\" stroke-width=\"2\"/><path d=\"m50.819 13.041-33.988 1.5917\" clip-path=\"url(#6d5af2b25a7)\" fill=\"none\" stroke=\"#737880\" stroke-linecap=\"round\" stroke-opacity=\".5\" stroke-width=\"2\"/><path d=\"m50.819 13.041-1.5786 34.944\" clip-path=\"url(#6d5af2b25a7)\" fill=\"none\" stroke=\"#737880\" stroke-linecap=\"round\" stroke-opacity=\".5\" stroke-width=\"2\"/><path d=\"m16.831 14.632-2.5517 33.872\" clip-path=\"url(#6d5af2b25a7)\" fill=\"none\" stroke=\"#737880\" stroke-linecap=\"round\" stroke-opacity=\".5\" stroke-width=\"2\"/><path d=\"m167.63 50.551-34.965-1.4428\" clip-path=\"url(#6d5af2b25a7)\" fill=\"none\" stroke=\"#737880\" stroke-linecap=\"round\" stroke-opacity=\".5\" stroke-width=\"2\"/><path d=\"m167.63 50.551 0.29714 40.713\" clip-path=\"url(#6d5af2b25a7)\" fill=\"none\" stroke=\"#737880\" stroke-linecap=\"round\" stroke-opacity=\".5\" stroke-width=\"2\"/><path d=\"m132.67 49.109-41.71-0.9517\" clip-path=\"url(#6d5af2b25a7)\" fill=\"none\" stroke=\"#737880\" stroke-linecap=\"round\" stroke-opacity=\".5\" stroke-width=\"2\"/><path d=\"m132.67 49.109-0.033936 41.807\" clip-path=\"url(#6d5af2b25a7)\" fill=\"none\" stroke=\"#737880\" stroke-linecap=\"round\" stroke-opacity=\".5\" stroke-width=\"2\"/><path d=\"m90.956 48.157-41.716-0.17252\" clip-path=\"url(#6d5af2b25a7)\" fill=\"none\" stroke=\"#737880\" stroke-linecap=\"round\" stroke-opacity=\".5\" stroke-width=\"2\"/><path d=\"m90.956 48.157-0.57808 42.149\" clip-path=\"url(#6d5af2b25a7)\" fill=\"none\" stroke=\"#737880\" stroke-linecap=\"round\" stroke-opacity=\".5\" stroke-width=\"2\"/><path d=\"m49.24 47.984-34.961 0.52018\" clip-path=\"url(#6d5af2b25a7)\" fill=\"none\" stroke=\"#737880\" stroke-linecap=\"round\" stroke-opacity=\".5\" stroke-width=\"2\"/><path d=\"m49.24 47.984-1.0603 41.727\" clip-path=\"url(#6d5af2b25a7)\" fill=\"none\" stroke=\"#737880\" stroke-linecap=\"round\" stroke-opacity=\".5\" stroke-width=\"2\"/><path d=\"m14.279 48.504-1.4412 40.53\" clip-path=\"url(#6d5af2b25a7)\" fill=\"none\" stroke=\"#737880\" stroke-linecap=\"round\" stroke-opacity=\".5\" stroke-width=\"2\"/><path d=\"m167.93 91.264-35.296-0.34878\" clip-path=\"url(#6d5af2b25a7)\" fill=\"none\" stroke=\"#737880\" stroke-linecap=\"round\" stroke-opacity=\".5\" stroke-width=\"2\"/><path d=\"m167.93 91.264-1.3261 40.754\" clip-path=\"url(#6d5af2b25a7)\" fill=\"none\" stroke=\"#737880\" stroke-linecap=\"round\" stroke-opacity=\".5\" stroke-width=\"2\"/><path d=\"m132.63 90.916-42.254-0.60941\" clip-path=\"url(#6d5af2b25a7)\" fill=\"none\" stroke=\"#737880\" stroke-linecap=\"round\" stroke-opacity=\".5\" stroke-width=\"2\"/><path d=\"m132.63 90.916-1.0938 41.777\" clip-path=\"url(#6d5af2b25a7)\" fill=\"none\" stroke=\"#737880\" stroke-linecap=\"round\" stroke-opacity=\".5\" stroke-width=\"2\"/><path d=\"m90.378 90.306-42.198-0.59495\" clip-path=\"url(#6d5af2b25a7)\" fill=\"none\" stroke=\"#737880\" stroke-linecap=\"round\" stroke-opacity=\".5\" stroke-width=\"2\"/><path d=\"m90.378 90.306-0.61207 42.307\" clip-path=\"url(#6d5af2b25a7)\" fill=\"none\" stroke=\"#737880\" stroke-linecap=\"round\" stroke-opacity=\".5\" stroke-width=\"2\"/><path d=\"m48.18 89.711-35.342-0.67713\" clip-path=\"url(#6d5af2b25a7)\" fill=\"none\" stroke=\"#737880\" stroke-linecap=\"round\" stroke-opacity=\".5\" stroke-width=\"2\"/><path d=\"m48.18 89.711-0.23854 41.697\" clip-path=\"url(#6d5af2b25a7)\" fill=\"none\" stroke=\"#737880\" stroke-linecap=\"round\" stroke-opacity=\".5\" stroke-width=\"2\"/><path d=\"m12.838 89.034 0.10083 40.636\" clip-path=\"url(#6d5af2b25a7)\" fill=\"none\" stroke=\"#737880\" stroke-linecap=\"round\" stroke-opacity=\".5\" stroke-width=\"2\"/><path d=\"m166.6 132.02-35.064 0.67424\" clip-path=\"url(#6d5af2b25a7)\" fill=\"none\" stroke=\"#737880\" stroke-linecap=\"round\" stroke-opacity=\".5\" stroke-width=\"2\"/><path d=\"m166.6 132.02-2.6381 33.951\" clip-path=\"url(#6d5af2b25a7)\" fill=\"none\" stroke=\"#737880\" stroke-linecap=\"round\" stroke-opacity=\".5\" stroke-width=\"2\"/><path d=\"m131.54 132.69-41.772-0.079224\" clip-path=\"url(#6d5af2b25a7)\" fill=\"none\" stroke=\"#737880\" stroke-linecap=\"round\" stroke-opacity=\".5\" stroke-width=\"2\"/><path d=\"m131.54 132.69-1.6745 34.982\" clip-path=\"url(#6d5af2b25a7)\" fill=\"none\" stroke=\"#737880\" stroke-linecap=\"round\" stroke-opacity=\".5\" stroke-width=\"2\"/><path d=\"m89.766 132.61-41.825-1.2051\" clip-path=\"url(#6d5af2b25a7)\" fill=\"none\" stroke=\"#737880\" stroke-linecap=\"round\" stroke-opacity=\".5\" stroke-width=\"2\"/><path d=\"m89.766 132.61-0.54102 35.269\" clip-path=\"url(#6d5af2b25a7)\" fill=\"none\" stroke=\"#737880\" stroke-linecap=\"round\" stroke-opacity=\".5\" stroke-width=\"2\"/><path d=\"m47.941 131.41-35.002-1.7376\" clip-path=\"url(#6d5af2b25a7)\" fill=\"none\" stroke=\"#737880\" stroke-linecap=\"round\" stroke-opacity=\".5\" stroke-width=\"2\"/><path d=\"m47.941 131.41 0.54888 34.993\" clip-path=\"url(#6d5af2b25a7)\" fill=\"none\" stroke=\"#737880\" stroke-linecap=\"round\" stroke-opacity=\".5\" stroke-width=\"2\"/><path d=\"m12.939 129.67 1.5135 33.936\" clip-path=\"url(#6d5af2b25a7)\" fill=\"none\" stroke=\"#737880\" stroke-linecap=\"round\" stroke-opacity=\".5\" stroke-width=\"2\"/><path d=\"m163.96 165.97-34.1 1.7057\" clip-path=\"url(#6d5af2b25a7)\" fill=\"none\" stroke=\"#737880\" stroke-linecap=\"round\" stroke-opacity=\".5\" stroke-width=\"2\"/><path d=\"m129.86 167.67-40.639 0.20744\" clip-path=\"url(#6d5af2b25a7)\" fill=\"none\" stroke=\"#737880\" stroke-linecap=\"round\" stroke-opacity=\".5\" stroke-width=\"2\"/><path d=\"m89.225 167.88-40.735-1.4815\" clip-path=\"url(#6d5af2b25a7)\" fill=\"none\" stroke=\"#737880\" stroke-linecap=\"round\" stroke-opacity=\".5\" stroke-width=\"2\"/><path d=\"m48.49 166.4-34.038-2.7938\" clip-path=\"url(#6d5af2b25a7)\" fill=\"none\" stroke=\"#737880\" stroke-linecap=\"round\" stroke-opacity=\".5\" stroke-width=\"2\"/><path d=\"m165.9 20.088c0.96611 0 1.8928-0.38384 2.5759-1.067 0.68314-0.68314 1.067-1.6098 1.067-2.5759s-0.38384-1.8928-1.067-2.5759c-0.68314-0.68314-1.6098-1.067-2.5759-1.067-0.96611 0-1.8928 0.38384-2.5759 1.067-0.68314 0.68314-1.067 1.6098-1.067 2.5759s0.38384 1.8928 1.067 2.5759c0.68314 0.68314 1.6098 1.067 2.5759 1.067z\" clip-path=\"url(#6d5af2b25a7)\" fill=\"#737880\" stroke=\"#5d6167\" stroke-width=\"1.1252\"/><path d=\"m131.97 17.678c0.96611 0 1.8928-0.38384 2.5759-1.067 0.68314-0.68314 1.067-1.6098 1.067-2.5759s-0.38384-1.8928-1.067-2.5759c-0.68314-0.68314-1.6098-1.067-2.5759-1.067s-1.8928 0.38384-2.5759 1.067c-0.68314 0.68314-1.067 1.6098-1.067 2.5759s0.38384 1.8928 1.067 2.5759c0.68314 0.68314 1.6098 1.067 2.5759 1.067z\" clip-path=\"url(#6d5af2b25a7)\" fill=\"#737880\" stroke=\"#5d6167\" stroke-width=\"1.1252\"/><path d=\"m91.391 16.481c0.96611 0 1.8928-0.38384 2.5759-1.067 0.68314-0.68314 1.067-1.6098 1.067-2.5759s-0.38384-1.8928-1.067-2.5759c-0.68314-0.68314-1.6098-1.067-2.5759-1.067s-1.8928 0.38384-2.5759 1.067c-0.68314 0.68314-1.067 1.6098-1.067 2.5759s0.38384 1.8928 1.067 2.5759c0.68314 0.68314 1.6098 1.067 2.5759 1.067z\" clip-path=\"url(#6d5af2b25a7)\" fill=\"#737880\" stroke=\"#5d6167\" stroke-width=\"1.1252\"/><path d=\"m50.819 16.683c0.96611 0 1.8928-0.38384 2.5759-1.067 0.68314-0.68314 1.067-1.6098 1.067-2.5759 0-0.96611-0.38384-1.8928-1.067-2.5759-0.68314-0.68314-1.6098-1.067-2.5759-1.067s-1.8928 0.38384-2.5759 1.067c-0.68314 0.68314-1.067 1.6098-1.067 2.5759 0 0.96611 0.38384 1.8928 1.067 2.5759 0.68314 0.68314 1.6098 1.067 2.5759 1.067z\" clip-path=\"url(#6d5af2b25a7)\" fill=\"#737880\" stroke=\"#5d6167\" stroke-width=\"1.1252\"/><path d=\"m16.831 18.275c0.96611 0 1.8928-0.38384 2.5759-1.067 0.68314-0.68314 1.067-1.6098 1.067-2.5759s-0.38384-1.8928-1.067-2.5759c-0.68314-0.68314-1.6098-1.067-2.5759-1.067s-1.8928 0.38384-2.5759 1.067c-0.68314 0.68314-1.067 1.6098-1.067 2.5759s0.38384 1.8928 1.067 2.5759c0.68314 0.68314 1.6098 1.067 2.5759 1.067z\" clip-path=\"url(#6d5af2b25a7)\" fill=\"#737880\" stroke=\"#5d6167\" stroke-width=\"1.1252\"/><path d=\"m167.63 54.194c0.96611 0 1.8928-0.38384 2.5759-1.067 0.68314-0.68314 1.067-1.6098 1.067-2.5759s-0.38384-1.8928-1.067-2.5759c-0.68314-0.68314-1.6098-1.067-2.5759-1.067s-1.8928 0.38384-2.5759 1.067c-0.68314 0.68314-1.067 1.6098-1.067 2.5759s0.38384 1.8928 1.067 2.5759c0.68314 0.68314 1.6098 1.067 2.5759 1.067z\" clip-path=\"url(#6d5af2b25a7)\" fill=\"#737880\" stroke=\"#5d6167\" stroke-width=\"1.1252\"/><path d=\"m132.67 52.751c0.96611 0 1.8928-0.38384 2.5759-1.067 0.68314-0.68314 1.067-1.6098 1.067-2.5759s-0.38384-1.8928-1.067-2.5759c-0.68314-0.68314-1.6098-1.067-2.5759-1.067s-1.8928 0.38384-2.5759 1.067c-0.68314 0.68314-1.067 1.6098-1.067 2.5759s0.38384 1.8928 1.067 2.5759c0.68314 0.68314 1.6098 1.067 2.5759 1.067z\" clip-path=\"url(#6d5af2b25a7)\" fill=\"#737880\" stroke=\"#5d6167\" stroke-width=\"1.1252\"/><path d=\"m90.956 51.8c0.96611 0 1.8928-0.38384 2.5759-1.067 0.68314-0.68314 1.067-1.6098 1.067-2.5759s-0.38384-1.8928-1.067-2.5759c-0.68314-0.68314-1.6098-1.067-2.5759-1.067s-1.8928 0.38384-2.5759 1.067c-0.68314 0.68314-1.067 1.6098-1.067 2.5759s0.38384 1.8928 1.067 2.5759c0.68314 0.68314 1.6098 1.067 2.5759 1.067z\" clip-path=\"url(#6d5af2b25a7)\" fill=\"#737880\" stroke=\"#5d6167\" stroke-width=\"1.1252\"/><path d=\"m49.24 51.627c0.96611 0 1.8928-0.38384 2.5759-1.067 0.68314-0.68314 1.067-1.6098 1.067-2.5759s-0.38384-1.8928-1.067-2.5759c-0.68314-0.68314-1.6098-1.067-2.5759-1.067s-1.8928 0.38384-2.5759 1.067c-0.68314 0.68314-1.067 1.6098-1.067 2.5759s0.38384 1.8928 1.067 2.5759c0.68314 0.68314 1.6098 1.067 2.5759 1.067z\" clip-path=\"url(#6d5af2b25a7)\" fill=\"#737880\" stroke=\"#5d6167\" stroke-width=\"1.1252\"/><path d=\"m14.279 52.147c0.96611 0 1.8928-0.38384 2.5759-1.067 0.68314-0.68314 1.067-1.6098 1.067-2.5759s-0.38384-1.8928-1.067-2.5759c-0.68314-0.68314-1.6098-1.067-2.5759-1.067-0.96611 0-1.8928 0.38384-2.5759 1.067-0.68314 0.68314-1.067 1.6098-1.067 2.5759s0.38384 1.8928 1.067 2.5759c0.68314 0.68314 1.6098 1.067 2.5759 1.067z\" clip-path=\"url(#6d5af2b25a7)\" fill=\"#737880\" stroke=\"#5d6167\" stroke-width=\"1.1252\"/><path d=\"m167.93 94.907c0.96611 0 1.8928-0.38384 2.5759-1.067 0.68314-0.68314 1.067-1.6098 1.067-2.5759 0-0.96611-0.38384-1.8928-1.067-2.5759-0.68314-0.68314-1.6098-1.067-2.5759-1.067s-1.8928 0.38384-2.5759 1.067c-0.68314 0.68314-1.067 1.6098-1.067 2.5759 0 0.96611 0.38384 1.8928 1.067 2.5759 0.68314 0.68314 1.6098 1.067 2.5759 1.067z\" clip-path=\"url(#6d5af2b25a7)\" fill=\"#737880\" stroke=\"#5d6167\" stroke-width=\"1.1252\"/><path d=\"m132.63 94.559c0.96611 0 1.8928-0.38384 2.5759-1.067 0.68314-0.68314 1.067-1.6098 1.067-2.5759s-0.38384-1.8928-1.067-2.5759c-0.68314-0.68314-1.6098-1.067-2.5759-1.067s-1.8928 0.38384-2.5759 1.067c-0.68314 0.68314-1.067 1.6098-1.067 2.5759s0.38384 1.8928 1.067 2.5759c0.68314 0.68314 1.6098 1.067 2.5759 1.067z\" clip-path=\"url(#6d5af2b25a7)\" fill=\"#737880\" stroke=\"#5d6167\" stroke-width=\"1.1252\"/><path d=\"m90.378 93.949c0.96611 0 1.8928-0.38384 2.5759-1.067 0.68314-0.68314 1.067-1.6098 1.067-2.5759s-0.38384-1.8928-1.067-2.5759c-0.68314-0.68314-1.6098-1.067-2.5759-1.067s-1.8928 0.38384-2.5759 1.067c-0.68314 0.68314-1.067 1.6098-1.067 2.5759s0.38384 1.8928 1.067 2.5759c0.68314 0.68314 1.6098 1.067 2.5759 1.067z\" clip-path=\"url(#6d5af2b25a7)\" fill=\"#737880\" stroke=\"#5d6167\" stroke-width=\"1.1252\"/><path d=\"m48.18 93.354c0.96611 0 1.8928-0.38384 2.5759-1.067 0.68314-0.68314 1.067-1.6098 1.067-2.5759 0-0.96611-0.38384-1.8928-1.067-2.5759-0.68314-0.68314-1.6098-1.067-2.5759-1.067s-1.8928 0.38384-2.5759 1.067c-0.68314 0.68314-1.067 1.6098-1.067 2.5759 0 0.96611 0.38384 1.8928 1.067 2.5759 0.68314 0.68314 1.6098 1.067 2.5759 1.067z\" clip-path=\"url(#6d5af2b25a7)\" fill=\"#56b4e9\" stroke=\"#4da2d2\" stroke-width=\"1.1252\"/><path d=\"m12.838 92.677c0.96611 0 1.8928-0.38384 2.5759-1.067 0.68314-0.68314 1.067-1.6098 1.067-2.5759s-0.38384-1.8928-1.067-2.5759c-0.68314-0.68314-1.6098-1.067-2.5759-1.067s-1.8928 0.38384-2.5759 1.067c-0.68314 0.68314-1.067 1.6098-1.067 2.5759s0.38384 1.8928 1.067 2.5759c0.68314 0.68314 1.6098 1.067 2.5759 1.067z\" clip-path=\"url(#6d5af2b25a7)\" fill=\"#737880\" stroke=\"#5d6167\" stroke-width=\"1.1252\"/><path d=\"m166.6 135.66c0.96611 0 1.8928-0.38384 2.5759-1.067 0.68314-0.68314 1.067-1.6098 1.067-2.5759s-0.38384-1.8928-1.067-2.5759c-0.68314-0.68314-1.6098-1.067-2.5759-1.067-0.96611 0-1.8928 0.38384-2.5759 1.067-0.68314 0.68314-1.067 1.6098-1.067 2.5759s0.38384 1.8928 1.067 2.5759c0.68314 0.68314 1.6098 1.067 2.5759 1.067z\" clip-path=\"url(#6d5af2b25a7)\" fill=\"#737880\" stroke=\"#5d6167\" stroke-width=\"1.1252\"/><path d=\"m131.54 136.34c0.96611 0 1.8928-0.38384 2.5759-1.067 0.68314-0.68314 1.067-1.6098 1.067-2.5759s-0.38384-1.8928-1.067-2.5759c-0.68314-0.68314-1.6098-1.067-2.5759-1.067s-1.8928 0.38384-2.5759 1.067c-0.68314 0.68314-1.067 1.6098-1.067 2.5759s0.38384 1.8928 1.067 2.5759c0.68314 0.68314 1.6098 1.067 2.5759 1.067z\" clip-path=\"url(#6d5af2b25a7)\" fill=\"#737880\" stroke=\"#5d6167\" stroke-width=\"1.1252\"/><path d=\"m89.766 136.26c0.96611 0 1.8928-0.38384 2.5759-1.067 0.68314-0.68314 1.067-1.6098 1.067-2.5759s-0.38384-1.8928-1.067-2.5759c-0.68314-0.68314-1.6098-1.067-2.5759-1.067s-1.8928 0.38384-2.5759 1.067c-0.68314 0.68314-1.067 1.6098-1.067 2.5759s0.38384 1.8928 1.067 2.5759c0.68314 0.68314 1.6098 1.067 2.5759 1.067z\" clip-path=\"url(#6d5af2b25a7)\" fill=\"#737880\" stroke=\"#5d6167\" stroke-width=\"1.1252\"/><path d=\"m47.941 135.05c0.96611 0 1.8928-0.38384 2.5759-1.067 0.68314-0.68314 1.067-1.6098 1.067-2.5759s-0.38384-1.8928-1.067-2.5759c-0.68314-0.68314-1.6098-1.067-2.5759-1.067-0.96611 0-1.8928 0.38384-2.5759 1.067-0.68314 0.68314-1.067 1.6098-1.067 2.5759s0.38384 1.8928 1.067 2.5759c0.68314 0.68314 1.6098 1.067 2.5759 1.067z\" clip-path=\"url(#6d5af2b25a7)\" fill=\"#737880\" stroke=\"#5d6167\" stroke-width=\"1.1252\"/><path d=\"m12.939 133.31c0.96611 0 1.8928-0.38384 2.5759-1.067 0.68314-0.68314 1.067-1.6098 1.067-2.5759s-0.38384-1.8928-1.067-2.5759c-0.68314-0.68314-1.6098-1.067-2.5759-1.067-0.96611 0-1.8928 0.38384-2.5759 1.067-0.68314 0.68314-1.067 1.6098-1.067 2.5759s0.38384 1.8928 1.067 2.5759c0.68314 0.68314 1.6098 1.067 2.5759 1.067z\" clip-path=\"url(#6d5af2b25a7)\" fill=\"#737880\" stroke=\"#5d6167\" stroke-width=\"1.1252\"/><path d=\"m163.96 169.61c0.96611 0 1.8928-0.38384 2.5759-1.067 0.68314-0.68314 1.067-1.6098 1.067-2.5759s-0.38384-1.8928-1.067-2.5759c-0.68314-0.68314-1.6098-1.067-2.5759-1.067s-1.8928 0.38384-2.5759 1.067c-0.68314 0.68314-1.067 1.6098-1.067 2.5759s0.38384 1.8928 1.067 2.5759c0.68314 0.68314 1.6098 1.067 2.5759 1.067z\" clip-path=\"url(#6d5af2b25a7)\" fill=\"#737880\" stroke=\"#5d6167\" stroke-width=\"1.1252\"/><path d=\"m129.86 171.32c0.96611 0 1.8928-0.38384 2.5759-1.067 0.68314-0.68314 1.067-1.6098 1.067-2.5759s-0.38384-1.8928-1.067-2.5759c-0.68314-0.68314-1.6098-1.067-2.5759-1.067s-1.8928 0.38384-2.5759 1.067c-0.68314 0.68314-1.067 1.6098-1.067 2.5759s0.38384 1.8928 1.067 2.5759c0.68314 0.68314 1.6098 1.067 2.5759 1.067z\" clip-path=\"url(#6d5af2b25a7)\" fill=\"#737880\" stroke=\"#5d6167\" stroke-width=\"1.1252\"/><path d=\"m89.225 171.53c0.96611 0 1.8928-0.38384 2.5759-1.067 0.68314-0.68314 1.067-1.6098 1.067-2.5759s-0.38384-1.8928-1.067-2.5759c-0.68314-0.68314-1.6098-1.067-2.5759-1.067s-1.8928 0.38384-2.5759 1.067c-0.68314 0.68314-1.067 1.6098-1.067 2.5759s0.38384 1.8928 1.067 2.5759c0.68314 0.68314 1.6098 1.067 2.5759 1.067z\" clip-path=\"url(#6d5af2b25a7)\" fill=\"#737880\" stroke=\"#5d6167\" stroke-width=\"1.1252\"/><path d=\"m48.49 170.04c0.96611 0 1.8928-0.38384 2.5759-1.067 0.68314-0.68314 1.067-1.6098 1.067-2.5759s-0.38384-1.8928-1.067-2.5759c-0.68314-0.68314-1.6098-1.067-2.5759-1.067s-1.8928 0.38384-2.5759 1.067c-0.68314 0.68314-1.067 1.6098-1.067 2.5759s0.38384 1.8928 1.067 2.5759c0.68314 0.68314 1.6098 1.067 2.5759 1.067z\" clip-path=\"url(#6d5af2b25a7)\" fill=\"#737880\" stroke=\"#5d6167\" stroke-width=\"1.1252\"/><path d=\"m14.453 167.25c0.96611 0 1.8928-0.38384 2.5759-1.067 0.68314-0.68314 1.067-1.6098 1.067-2.5759 0-0.96611-0.38384-1.8928-1.067-2.5759-0.68314-0.68314-1.6098-1.067-2.5759-1.067s-1.8928 0.38384-2.5759 1.067c-0.68314 0.68314-1.067 1.6098-1.067 2.5759 0 0.96611 0.38384 1.8928 1.067 2.5759 0.68314 0.68314 1.6098 1.067 2.5759 1.067z\" clip-path=\"url(#6d5af2b25a7)\" fill=\"#737880\" stroke=\"#5d6167\" stroke-width=\"1.1252\"/><path d=\"m180.57 99.226h56.081q2 0 2-2v-13.731q0-2-2-2h-56.081q-2 0-2 2v13.731q0 2 2 2z\" fill=\"none\" stroke=\"#999999\" stroke-opacity=\".2\"/><defs><path id=\"997f8414a18\" d=\"m0 5c1.326 0 2.5979-0.52683 3.5355-1.4645 0.93763-0.93764 1.4645-2.2095 1.4645-3.5355s-0.52683-2.5979-1.4645-3.5355c-0.93764-0.93763-2.2095-1.4645-3.5355-1.4645s-2.5979 0.52683-3.5355 1.4645c-0.93763 0.93764-1.4645 2.2095-1.4645 3.5355s0.52683 2.5979 1.4645 3.5355c0.93764 0.93763 2.2095 1.4645 3.5355 1.4645z\" stroke=\"#4da2d2\"/></defs><use x=\"192.566549\" y=\"89.645938\" fill=\"#56b4e9\" stroke=\"#4da2d2\" xlink:href=\"#997f8414a18\"/><g transform=\"translate(210.57 93.146) scale(.1 -.1)\" fill=\"#545759\"><defs><path id=\"DejaVuSansMono-41\" transform=\"scale(.015625)\" d=\"m1925 4109-666-2387h1332l-666 2387zm-381 557h765l1429-4666h-654l-343 1216h-1635l-337-1216h-653l1428 4666z\"/><path id=\"DejaVuSansMono-4c\" transform=\"scale(.015625)\" d=\"m672 4666h634v-4135h2253v-531h-2887v4666z\"/></defs><use xlink:href=\"#DejaVuSansMono-20\"/><use x=\"60.205078\" xlink:href=\"#DejaVuSansMono-41\"/><use x=\"120.410156\" xlink:href=\"#DejaVuSansMono-4c\"/><use x=\"180.615234\" xlink:href=\"#DejaVuSansMono-4c\"/></g><defs><clipPath id=\"6d5af2b25a7\"><rect x=\"7.2\" y=\"7.2\" width=\"166.37\" height=\"166.32\"/></clipPath></defs></svg>"
      ],
      "text/plain": [
       "<Figure size 300x300 with 1 Axes>"
      ]
     },
     "metadata": {
      "needs_background": "light"
     },
     "output_type": "display_data"
    }
   ],
   "source": [
    "tn.select(tags=['X2', 'Y3'], which='all').add_tag('ALL')\n",
    "tn.draw('ALL', figsize=(3, 3))"
   ]
  },
  {
   "cell_type": "markdown",
   "id": "4fb3d3af-180e-4f3e-844f-9d31140a6172",
   "metadata": {},
   "source": [
    "Get tensors which *don't* have **all** of the tags:"
   ]
  },
  {
   "cell_type": "code",
   "execution_count": 26,
   "id": "9bf6efec-c02d-4af1-86f2-e657464b6a3e",
   "metadata": {},
   "outputs": [
    {
     "data": {
      "image/svg+xml": [
       "<?xml version=\"1.0\" encoding=\"UTF-8\"?><!DOCTYPE svg  PUBLIC '-//W3C//DTD SVG 1.1//EN'  'http://www.w3.org/Graphics/SVG/1.1/DTD/svg11.dtd'><svg width=\"251.87pt\" height=\"180.72pt\" version=\"1.1\" viewBox=\"0 0 251.87 180.72\" xmlns=\"http://www.w3.org/2000/svg\" xmlns:xlink=\"http://www.w3.org/1999/xlink\"><defs><style type=\"text/css\">*{stroke-linejoin: round; stroke-linecap: butt}</style></defs><path d=\"m0 180.72h251.87v-180.72h-251.87v180.72z\" opacity=\"0\"/><path d=\"m165.9 16.445-33.935-2.4103\" clip-path=\"url(#730c62574fc)\" fill=\"none\" stroke=\"#737880\" stroke-linecap=\"round\" stroke-opacity=\".5\" stroke-width=\"2\"/><path d=\"m165.9 16.445 1.7309 34.106\" clip-path=\"url(#730c62574fc)\" fill=\"none\" stroke=\"#737880\" stroke-linecap=\"round\" stroke-opacity=\".5\" stroke-width=\"2\"/><path d=\"m131.97 14.035-40.574-1.1969\" clip-path=\"url(#730c62574fc)\" fill=\"none\" stroke=\"#737880\" stroke-linecap=\"round\" stroke-opacity=\".5\" stroke-width=\"2\"/><path d=\"m131.97 14.035 0.70054 35.074\" clip-path=\"url(#730c62574fc)\" fill=\"none\" stroke=\"#737880\" stroke-linecap=\"round\" stroke-opacity=\".5\" stroke-width=\"2\"/><path d=\"m91.391 12.838-40.572 0.20278\" clip-path=\"url(#730c62574fc)\" fill=\"none\" stroke=\"#737880\" stroke-linecap=\"round\" stroke-opacity=\".5\" stroke-width=\"2\"/><path d=\"m91.391 12.838-0.43485 35.319\" clip-path=\"url(#730c62574fc)\" fill=\"none\" stroke=\"#737880\" stroke-linecap=\"round\" stroke-opacity=\".5\" stroke-width=\"2\"/><path d=\"m50.819 13.041-33.988 1.5917\" clip-path=\"url(#730c62574fc)\" fill=\"none\" stroke=\"#737880\" stroke-linecap=\"round\" stroke-opacity=\".5\" stroke-width=\"2\"/><path d=\"m50.819 13.041-1.5786 34.944\" clip-path=\"url(#730c62574fc)\" fill=\"none\" stroke=\"#737880\" stroke-linecap=\"round\" stroke-opacity=\".5\" stroke-width=\"2\"/><path d=\"m16.831 14.632-2.5517 33.872\" clip-path=\"url(#730c62574fc)\" fill=\"none\" stroke=\"#737880\" stroke-linecap=\"round\" stroke-opacity=\".5\" stroke-width=\"2\"/><path d=\"m167.63 50.551-34.965-1.4428\" clip-path=\"url(#730c62574fc)\" fill=\"none\" stroke=\"#737880\" stroke-linecap=\"round\" stroke-opacity=\".5\" stroke-width=\"2\"/><path d=\"m167.63 50.551 0.29714 40.713\" clip-path=\"url(#730c62574fc)\" fill=\"none\" stroke=\"#737880\" stroke-linecap=\"round\" stroke-opacity=\".5\" stroke-width=\"2\"/><path d=\"m132.67 49.109-41.71-0.9517\" clip-path=\"url(#730c62574fc)\" fill=\"none\" stroke=\"#737880\" stroke-linecap=\"round\" stroke-opacity=\".5\" stroke-width=\"2\"/><path d=\"m132.67 49.109-0.033936 41.807\" clip-path=\"url(#730c62574fc)\" fill=\"none\" stroke=\"#737880\" stroke-linecap=\"round\" stroke-opacity=\".5\" stroke-width=\"2\"/><path d=\"m90.956 48.157-41.716-0.17252\" clip-path=\"url(#730c62574fc)\" fill=\"none\" stroke=\"#737880\" stroke-linecap=\"round\" stroke-opacity=\".5\" stroke-width=\"2\"/><path d=\"m90.956 48.157-0.57808 42.149\" clip-path=\"url(#730c62574fc)\" fill=\"none\" stroke=\"#737880\" stroke-linecap=\"round\" stroke-opacity=\".5\" stroke-width=\"2\"/><path d=\"m49.24 47.984-34.961 0.52018\" clip-path=\"url(#730c62574fc)\" fill=\"none\" stroke=\"#737880\" stroke-linecap=\"round\" stroke-opacity=\".5\" stroke-width=\"2\"/><path d=\"m49.24 47.984-1.0603 41.727\" clip-path=\"url(#730c62574fc)\" fill=\"none\" stroke=\"#737880\" stroke-linecap=\"round\" stroke-opacity=\".5\" stroke-width=\"2\"/><path d=\"m14.279 48.504-1.4412 40.53\" clip-path=\"url(#730c62574fc)\" fill=\"none\" stroke=\"#737880\" stroke-linecap=\"round\" stroke-opacity=\".5\" stroke-width=\"2\"/><path d=\"m167.93 91.264-35.296-0.34878\" clip-path=\"url(#730c62574fc)\" fill=\"none\" stroke=\"#737880\" stroke-linecap=\"round\" stroke-opacity=\".5\" stroke-width=\"2\"/><path d=\"m167.93 91.264-1.3261 40.754\" clip-path=\"url(#730c62574fc)\" fill=\"none\" stroke=\"#737880\" stroke-linecap=\"round\" stroke-opacity=\".5\" stroke-width=\"2\"/><path d=\"m132.63 90.916-42.254-0.60941\" clip-path=\"url(#730c62574fc)\" fill=\"none\" stroke=\"#737880\" stroke-linecap=\"round\" stroke-opacity=\".5\" stroke-width=\"2\"/><path d=\"m132.63 90.916-1.0938 41.777\" clip-path=\"url(#730c62574fc)\" fill=\"none\" stroke=\"#737880\" stroke-linecap=\"round\" stroke-opacity=\".5\" stroke-width=\"2\"/><path d=\"m90.378 90.306-42.198-0.59495\" clip-path=\"url(#730c62574fc)\" fill=\"none\" stroke=\"#737880\" stroke-linecap=\"round\" stroke-opacity=\".5\" stroke-width=\"2\"/><path d=\"m90.378 90.306-0.61207 42.307\" clip-path=\"url(#730c62574fc)\" fill=\"none\" stroke=\"#737880\" stroke-linecap=\"round\" stroke-opacity=\".5\" stroke-width=\"2\"/><path d=\"m48.18 89.711-35.342-0.67713\" clip-path=\"url(#730c62574fc)\" fill=\"none\" stroke=\"#737880\" stroke-linecap=\"round\" stroke-opacity=\".5\" stroke-width=\"2\"/><path d=\"m48.18 89.711-0.23854 41.697\" clip-path=\"url(#730c62574fc)\" fill=\"none\" stroke=\"#737880\" stroke-linecap=\"round\" stroke-opacity=\".5\" stroke-width=\"2\"/><path d=\"m12.838 89.034 0.10083 40.636\" clip-path=\"url(#730c62574fc)\" fill=\"none\" stroke=\"#737880\" stroke-linecap=\"round\" stroke-opacity=\".5\" stroke-width=\"2\"/><path d=\"m166.6 132.02-35.064 0.67424\" clip-path=\"url(#730c62574fc)\" fill=\"none\" stroke=\"#737880\" stroke-linecap=\"round\" stroke-opacity=\".5\" stroke-width=\"2\"/><path d=\"m166.6 132.02-2.6381 33.951\" clip-path=\"url(#730c62574fc)\" fill=\"none\" stroke=\"#737880\" stroke-linecap=\"round\" stroke-opacity=\".5\" stroke-width=\"2\"/><path d=\"m131.54 132.69-41.772-0.079224\" clip-path=\"url(#730c62574fc)\" fill=\"none\" stroke=\"#737880\" stroke-linecap=\"round\" stroke-opacity=\".5\" stroke-width=\"2\"/><path d=\"m131.54 132.69-1.6745 34.982\" clip-path=\"url(#730c62574fc)\" fill=\"none\" stroke=\"#737880\" stroke-linecap=\"round\" stroke-opacity=\".5\" stroke-width=\"2\"/><path d=\"m89.766 132.61-41.825-1.2051\" clip-path=\"url(#730c62574fc)\" fill=\"none\" stroke=\"#737880\" stroke-linecap=\"round\" stroke-opacity=\".5\" stroke-width=\"2\"/><path d=\"m89.766 132.61-0.54102 35.269\" clip-path=\"url(#730c62574fc)\" fill=\"none\" stroke=\"#737880\" stroke-linecap=\"round\" stroke-opacity=\".5\" stroke-width=\"2\"/><path d=\"m47.941 131.41-35.002-1.7376\" clip-path=\"url(#730c62574fc)\" fill=\"none\" stroke=\"#737880\" stroke-linecap=\"round\" stroke-opacity=\".5\" stroke-width=\"2\"/><path d=\"m47.941 131.41 0.54888 34.993\" clip-path=\"url(#730c62574fc)\" fill=\"none\" stroke=\"#737880\" stroke-linecap=\"round\" stroke-opacity=\".5\" stroke-width=\"2\"/><path d=\"m12.939 129.67 1.5135 33.936\" clip-path=\"url(#730c62574fc)\" fill=\"none\" stroke=\"#737880\" stroke-linecap=\"round\" stroke-opacity=\".5\" stroke-width=\"2\"/><path d=\"m163.96 165.97-34.1 1.7057\" clip-path=\"url(#730c62574fc)\" fill=\"none\" stroke=\"#737880\" stroke-linecap=\"round\" stroke-opacity=\".5\" stroke-width=\"2\"/><path d=\"m129.86 167.67-40.639 0.20744\" clip-path=\"url(#730c62574fc)\" fill=\"none\" stroke=\"#737880\" stroke-linecap=\"round\" stroke-opacity=\".5\" stroke-width=\"2\"/><path d=\"m89.225 167.88-40.735-1.4815\" clip-path=\"url(#730c62574fc)\" fill=\"none\" stroke=\"#737880\" stroke-linecap=\"round\" stroke-opacity=\".5\" stroke-width=\"2\"/><path d=\"m48.49 166.4-34.038-2.7938\" clip-path=\"url(#730c62574fc)\" fill=\"none\" stroke=\"#737880\" stroke-linecap=\"round\" stroke-opacity=\".5\" stroke-width=\"2\"/><path d=\"m165.9 20.088c0.96611 0 1.8928-0.38384 2.5759-1.067 0.68314-0.68314 1.067-1.6098 1.067-2.5759s-0.38384-1.8928-1.067-2.5759c-0.68314-0.68314-1.6098-1.067-2.5759-1.067-0.96611 0-1.8928 0.38384-2.5759 1.067-0.68314 0.68314-1.067 1.6098-1.067 2.5759s0.38384 1.8928 1.067 2.5759c0.68314 0.68314 1.6098 1.067 2.5759 1.067z\" clip-path=\"url(#730c62574fc)\" fill=\"#56b4e9\" stroke=\"#4da2d2\" stroke-width=\"1.1252\"/><path d=\"m131.97 17.678c0.96611 0 1.8928-0.38384 2.5759-1.067 0.68314-0.68314 1.067-1.6098 1.067-2.5759s-0.38384-1.8928-1.067-2.5759c-0.68314-0.68314-1.6098-1.067-2.5759-1.067s-1.8928 0.38384-2.5759 1.067c-0.68314 0.68314-1.067 1.6098-1.067 2.5759s0.38384 1.8928 1.067 2.5759c0.68314 0.68314 1.6098 1.067 2.5759 1.067z\" clip-path=\"url(#730c62574fc)\" fill=\"#56b4e9\" stroke=\"#4da2d2\" stroke-width=\"1.1252\"/><path d=\"m91.391 16.481c0.96611 0 1.8928-0.38384 2.5759-1.067 0.68314-0.68314 1.067-1.6098 1.067-2.5759s-0.38384-1.8928-1.067-2.5759c-0.68314-0.68314-1.6098-1.067-2.5759-1.067s-1.8928 0.38384-2.5759 1.067c-0.68314 0.68314-1.067 1.6098-1.067 2.5759s0.38384 1.8928 1.067 2.5759c0.68314 0.68314 1.6098 1.067 2.5759 1.067z\" clip-path=\"url(#730c62574fc)\" fill=\"#56b4e9\" stroke=\"#4da2d2\" stroke-width=\"1.1252\"/><path d=\"m50.819 16.683c0.96611 0 1.8928-0.38384 2.5759-1.067 0.68314-0.68314 1.067-1.6098 1.067-2.5759 0-0.96611-0.38384-1.8928-1.067-2.5759-0.68314-0.68314-1.6098-1.067-2.5759-1.067s-1.8928 0.38384-2.5759 1.067c-0.68314 0.68314-1.067 1.6098-1.067 2.5759 0 0.96611 0.38384 1.8928 1.067 2.5759 0.68314 0.68314 1.6098 1.067 2.5759 1.067z\" clip-path=\"url(#730c62574fc)\" fill=\"#56b4e9\" stroke=\"#4da2d2\" stroke-width=\"1.1252\"/><path d=\"m16.831 18.275c0.96611 0 1.8928-0.38384 2.5759-1.067 0.68314-0.68314 1.067-1.6098 1.067-2.5759s-0.38384-1.8928-1.067-2.5759c-0.68314-0.68314-1.6098-1.067-2.5759-1.067s-1.8928 0.38384-2.5759 1.067c-0.68314 0.68314-1.067 1.6098-1.067 2.5759s0.38384 1.8928 1.067 2.5759c0.68314 0.68314 1.6098 1.067 2.5759 1.067z\" clip-path=\"url(#730c62574fc)\" fill=\"#56b4e9\" stroke=\"#4da2d2\" stroke-width=\"1.1252\"/><path d=\"m167.63 54.194c0.96611 0 1.8928-0.38384 2.5759-1.067 0.68314-0.68314 1.067-1.6098 1.067-2.5759s-0.38384-1.8928-1.067-2.5759c-0.68314-0.68314-1.6098-1.067-2.5759-1.067s-1.8928 0.38384-2.5759 1.067c-0.68314 0.68314-1.067 1.6098-1.067 2.5759s0.38384 1.8928 1.067 2.5759c0.68314 0.68314 1.6098 1.067 2.5759 1.067z\" clip-path=\"url(#730c62574fc)\" fill=\"#56b4e9\" stroke=\"#4da2d2\" stroke-width=\"1.1252\"/><path d=\"m132.67 52.751c0.96611 0 1.8928-0.38384 2.5759-1.067 0.68314-0.68314 1.067-1.6098 1.067-2.5759s-0.38384-1.8928-1.067-2.5759c-0.68314-0.68314-1.6098-1.067-2.5759-1.067s-1.8928 0.38384-2.5759 1.067c-0.68314 0.68314-1.067 1.6098-1.067 2.5759s0.38384 1.8928 1.067 2.5759c0.68314 0.68314 1.6098 1.067 2.5759 1.067z\" clip-path=\"url(#730c62574fc)\" fill=\"#56b4e9\" stroke=\"#4da2d2\" stroke-width=\"1.1252\"/><path d=\"m90.956 51.8c0.96611 0 1.8928-0.38384 2.5759-1.067 0.68314-0.68314 1.067-1.6098 1.067-2.5759s-0.38384-1.8928-1.067-2.5759c-0.68314-0.68314-1.6098-1.067-2.5759-1.067s-1.8928 0.38384-2.5759 1.067c-0.68314 0.68314-1.067 1.6098-1.067 2.5759s0.38384 1.8928 1.067 2.5759c0.68314 0.68314 1.6098 1.067 2.5759 1.067z\" clip-path=\"url(#730c62574fc)\" fill=\"#56b4e9\" stroke=\"#4da2d2\" stroke-width=\"1.1252\"/><path d=\"m49.24 51.627c0.96611 0 1.8928-0.38384 2.5759-1.067 0.68314-0.68314 1.067-1.6098 1.067-2.5759s-0.38384-1.8928-1.067-2.5759c-0.68314-0.68314-1.6098-1.067-2.5759-1.067s-1.8928 0.38384-2.5759 1.067c-0.68314 0.68314-1.067 1.6098-1.067 2.5759s0.38384 1.8928 1.067 2.5759c0.68314 0.68314 1.6098 1.067 2.5759 1.067z\" clip-path=\"url(#730c62574fc)\" fill=\"#56b4e9\" stroke=\"#4da2d2\" stroke-width=\"1.1252\"/><path d=\"m14.279 52.147c0.96611 0 1.8928-0.38384 2.5759-1.067 0.68314-0.68314 1.067-1.6098 1.067-2.5759s-0.38384-1.8928-1.067-2.5759c-0.68314-0.68314-1.6098-1.067-2.5759-1.067-0.96611 0-1.8928 0.38384-2.5759 1.067-0.68314 0.68314-1.067 1.6098-1.067 2.5759s0.38384 1.8928 1.067 2.5759c0.68314 0.68314 1.6098 1.067 2.5759 1.067z\" clip-path=\"url(#730c62574fc)\" fill=\"#56b4e9\" stroke=\"#4da2d2\" stroke-width=\"1.1252\"/><path d=\"m167.93 94.907c0.96611 0 1.8928-0.38384 2.5759-1.067 0.68314-0.68314 1.067-1.6098 1.067-2.5759 0-0.96611-0.38384-1.8928-1.067-2.5759-0.68314-0.68314-1.6098-1.067-2.5759-1.067s-1.8928 0.38384-2.5759 1.067c-0.68314 0.68314-1.067 1.6098-1.067 2.5759 0 0.96611 0.38384 1.8928 1.067 2.5759 0.68314 0.68314 1.6098 1.067 2.5759 1.067z\" clip-path=\"url(#730c62574fc)\" fill=\"#56b4e9\" stroke=\"#4da2d2\" stroke-width=\"1.1252\"/><path d=\"m132.63 94.559c0.96611 0 1.8928-0.38384 2.5759-1.067 0.68314-0.68314 1.067-1.6098 1.067-2.5759s-0.38384-1.8928-1.067-2.5759c-0.68314-0.68314-1.6098-1.067-2.5759-1.067s-1.8928 0.38384-2.5759 1.067c-0.68314 0.68314-1.067 1.6098-1.067 2.5759s0.38384 1.8928 1.067 2.5759c0.68314 0.68314 1.6098 1.067 2.5759 1.067z\" clip-path=\"url(#730c62574fc)\" fill=\"#56b4e9\" stroke=\"#4da2d2\" stroke-width=\"1.1252\"/><path d=\"m90.378 93.949c0.96611 0 1.8928-0.38384 2.5759-1.067 0.68314-0.68314 1.067-1.6098 1.067-2.5759s-0.38384-1.8928-1.067-2.5759c-0.68314-0.68314-1.6098-1.067-2.5759-1.067s-1.8928 0.38384-2.5759 1.067c-0.68314 0.68314-1.067 1.6098-1.067 2.5759s0.38384 1.8928 1.067 2.5759c0.68314 0.68314 1.6098 1.067 2.5759 1.067z\" clip-path=\"url(#730c62574fc)\" fill=\"#56b4e9\" stroke=\"#4da2d2\" stroke-width=\"1.1252\"/><path d=\"m48.18 93.354c0.96611 0 1.8928-0.38384 2.5759-1.067 0.68314-0.68314 1.067-1.6098 1.067-2.5759 0-0.96611-0.38384-1.8928-1.067-2.5759-0.68314-0.68314-1.6098-1.067-2.5759-1.067s-1.8928 0.38384-2.5759 1.067c-0.68314 0.68314-1.067 1.6098-1.067 2.5759 0 0.96611 0.38384 1.8928 1.067 2.5759 0.68314 0.68314 1.6098 1.067 2.5759 1.067z\" clip-path=\"url(#730c62574fc)\" fill=\"#737880\" stroke=\"#5d6167\" stroke-width=\"1.1252\"/><path d=\"m12.838 92.677c0.96611 0 1.8928-0.38384 2.5759-1.067 0.68314-0.68314 1.067-1.6098 1.067-2.5759s-0.38384-1.8928-1.067-2.5759c-0.68314-0.68314-1.6098-1.067-2.5759-1.067s-1.8928 0.38384-2.5759 1.067c-0.68314 0.68314-1.067 1.6098-1.067 2.5759s0.38384 1.8928 1.067 2.5759c0.68314 0.68314 1.6098 1.067 2.5759 1.067z\" clip-path=\"url(#730c62574fc)\" fill=\"#56b4e9\" stroke=\"#4da2d2\" stroke-width=\"1.1252\"/><path d=\"m166.6 135.66c0.96611 0 1.8928-0.38384 2.5759-1.067 0.68314-0.68314 1.067-1.6098 1.067-2.5759s-0.38384-1.8928-1.067-2.5759c-0.68314-0.68314-1.6098-1.067-2.5759-1.067-0.96611 0-1.8928 0.38384-2.5759 1.067-0.68314 0.68314-1.067 1.6098-1.067 2.5759s0.38384 1.8928 1.067 2.5759c0.68314 0.68314 1.6098 1.067 2.5759 1.067z\" clip-path=\"url(#730c62574fc)\" fill=\"#56b4e9\" stroke=\"#4da2d2\" stroke-width=\"1.1252\"/><path d=\"m131.54 136.34c0.96611 0 1.8928-0.38384 2.5759-1.067 0.68314-0.68314 1.067-1.6098 1.067-2.5759s-0.38384-1.8928-1.067-2.5759c-0.68314-0.68314-1.6098-1.067-2.5759-1.067s-1.8928 0.38384-2.5759 1.067c-0.68314 0.68314-1.067 1.6098-1.067 2.5759s0.38384 1.8928 1.067 2.5759c0.68314 0.68314 1.6098 1.067 2.5759 1.067z\" clip-path=\"url(#730c62574fc)\" fill=\"#56b4e9\" stroke=\"#4da2d2\" stroke-width=\"1.1252\"/><path d=\"m89.766 136.26c0.96611 0 1.8928-0.38384 2.5759-1.067 0.68314-0.68314 1.067-1.6098 1.067-2.5759s-0.38384-1.8928-1.067-2.5759c-0.68314-0.68314-1.6098-1.067-2.5759-1.067s-1.8928 0.38384-2.5759 1.067c-0.68314 0.68314-1.067 1.6098-1.067 2.5759s0.38384 1.8928 1.067 2.5759c0.68314 0.68314 1.6098 1.067 2.5759 1.067z\" clip-path=\"url(#730c62574fc)\" fill=\"#56b4e9\" stroke=\"#4da2d2\" stroke-width=\"1.1252\"/><path d=\"m47.941 135.05c0.96611 0 1.8928-0.38384 2.5759-1.067 0.68314-0.68314 1.067-1.6098 1.067-2.5759s-0.38384-1.8928-1.067-2.5759c-0.68314-0.68314-1.6098-1.067-2.5759-1.067-0.96611 0-1.8928 0.38384-2.5759 1.067-0.68314 0.68314-1.067 1.6098-1.067 2.5759s0.38384 1.8928 1.067 2.5759c0.68314 0.68314 1.6098 1.067 2.5759 1.067z\" clip-path=\"url(#730c62574fc)\" fill=\"#56b4e9\" stroke=\"#4da2d2\" stroke-width=\"1.1252\"/><path d=\"m12.939 133.31c0.96611 0 1.8928-0.38384 2.5759-1.067 0.68314-0.68314 1.067-1.6098 1.067-2.5759s-0.38384-1.8928-1.067-2.5759c-0.68314-0.68314-1.6098-1.067-2.5759-1.067-0.96611 0-1.8928 0.38384-2.5759 1.067-0.68314 0.68314-1.067 1.6098-1.067 2.5759s0.38384 1.8928 1.067 2.5759c0.68314 0.68314 1.6098 1.067 2.5759 1.067z\" clip-path=\"url(#730c62574fc)\" fill=\"#56b4e9\" stroke=\"#4da2d2\" stroke-width=\"1.1252\"/><path d=\"m163.96 169.61c0.96611 0 1.8928-0.38384 2.5759-1.067 0.68314-0.68314 1.067-1.6098 1.067-2.5759s-0.38384-1.8928-1.067-2.5759c-0.68314-0.68314-1.6098-1.067-2.5759-1.067s-1.8928 0.38384-2.5759 1.067c-0.68314 0.68314-1.067 1.6098-1.067 2.5759s0.38384 1.8928 1.067 2.5759c0.68314 0.68314 1.6098 1.067 2.5759 1.067z\" clip-path=\"url(#730c62574fc)\" fill=\"#56b4e9\" stroke=\"#4da2d2\" stroke-width=\"1.1252\"/><path d=\"m129.86 171.32c0.96611 0 1.8928-0.38384 2.5759-1.067 0.68314-0.68314 1.067-1.6098 1.067-2.5759s-0.38384-1.8928-1.067-2.5759c-0.68314-0.68314-1.6098-1.067-2.5759-1.067s-1.8928 0.38384-2.5759 1.067c-0.68314 0.68314-1.067 1.6098-1.067 2.5759s0.38384 1.8928 1.067 2.5759c0.68314 0.68314 1.6098 1.067 2.5759 1.067z\" clip-path=\"url(#730c62574fc)\" fill=\"#56b4e9\" stroke=\"#4da2d2\" stroke-width=\"1.1252\"/><path d=\"m89.225 171.53c0.96611 0 1.8928-0.38384 2.5759-1.067 0.68314-0.68314 1.067-1.6098 1.067-2.5759s-0.38384-1.8928-1.067-2.5759c-0.68314-0.68314-1.6098-1.067-2.5759-1.067s-1.8928 0.38384-2.5759 1.067c-0.68314 0.68314-1.067 1.6098-1.067 2.5759s0.38384 1.8928 1.067 2.5759c0.68314 0.68314 1.6098 1.067 2.5759 1.067z\" clip-path=\"url(#730c62574fc)\" fill=\"#56b4e9\" stroke=\"#4da2d2\" stroke-width=\"1.1252\"/><path d=\"m48.49 170.04c0.96611 0 1.8928-0.38384 2.5759-1.067 0.68314-0.68314 1.067-1.6098 1.067-2.5759s-0.38384-1.8928-1.067-2.5759c-0.68314-0.68314-1.6098-1.067-2.5759-1.067s-1.8928 0.38384-2.5759 1.067c-0.68314 0.68314-1.067 1.6098-1.067 2.5759s0.38384 1.8928 1.067 2.5759c0.68314 0.68314 1.6098 1.067 2.5759 1.067z\" clip-path=\"url(#730c62574fc)\" fill=\"#56b4e9\" stroke=\"#4da2d2\" stroke-width=\"1.1252\"/><path d=\"m14.453 167.25c0.96611 0 1.8928-0.38384 2.5759-1.067 0.68314-0.68314 1.067-1.6098 1.067-2.5759 0-0.96611-0.38384-1.8928-1.067-2.5759-0.68314-0.68314-1.6098-1.067-2.5759-1.067s-1.8928 0.38384-2.5759 1.067c-0.68314 0.68314-1.067 1.6098-1.067 2.5759 0 0.96611 0.38384 1.8928 1.067 2.5759 0.68314 0.68314 1.6098 1.067 2.5759 1.067z\" clip-path=\"url(#730c62574fc)\" fill=\"#56b4e9\" stroke=\"#4da2d2\" stroke-width=\"1.1252\"/><path d=\"m180.57 99.226h62.102q2 0 2-2v-13.731q0-2-2-2h-62.102q-2 0-2 2v13.731q0 2 2 2z\" fill=\"none\" stroke=\"#999999\" stroke-opacity=\".2\"/><defs><path id=\"10d7d60dc66\" d=\"m0 5c1.326 0 2.5979-0.52683 3.5355-1.4645 0.93763-0.93764 1.4645-2.2095 1.4645-3.5355s-0.52683-2.5979-1.4645-3.5355c-0.93764-0.93763-2.2095-1.4645-3.5355-1.4645s-2.5979 0.52683-3.5355 1.4645c-0.93763 0.93764-1.4645 2.2095-1.4645 3.5355s0.52683 2.5979 1.4645 3.5355c0.93764 0.93763 2.2095 1.4645 3.5355 1.4645z\" stroke=\"#4da2d2\"/></defs><use x=\"192.566549\" y=\"89.645938\" fill=\"#56b4e9\" stroke=\"#4da2d2\" xlink:href=\"#10d7d60dc66\"/><g transform=\"translate(210.57 93.146) scale(.1 -.1)\" fill=\"#545759\"><defs><path id=\"DejaVuSansMono-21\" transform=\"scale(.015625)\" d=\"m1613 4666h634v-2047l-66-1116h-503l-65 1116v2047zm0-3872h634v-794h-634v794z\"/><path id=\"DejaVuSansMono-41\" transform=\"scale(.015625)\" d=\"m1925 4109-666-2387h1332l-666 2387zm-381 557h765l1429-4666h-654l-343 1216h-1635l-337-1216h-653l1428 4666z\"/><path id=\"DejaVuSansMono-4c\" transform=\"scale(.015625)\" d=\"m672 4666h634v-4135h2253v-531h-2887v4666z\"/></defs><use xlink:href=\"#DejaVuSansMono-20\"/><use x=\"60.205078\" xlink:href=\"#DejaVuSansMono-21\"/><use x=\"120.410156\" xlink:href=\"#DejaVuSansMono-41\"/><use x=\"180.615234\" xlink:href=\"#DejaVuSansMono-4c\"/><use x=\"240.820312\" xlink:href=\"#DejaVuSansMono-4c\"/></g><defs><clipPath id=\"730c62574fc\"><rect x=\"7.2\" y=\"7.2\" width=\"166.37\" height=\"166.32\"/></clipPath></defs></svg>"
      ],
      "text/plain": [
       "<Figure size 300x300 with 1 Axes>"
      ]
     },
     "metadata": {
      "needs_background": "light"
     },
     "output_type": "display_data"
    }
   ],
   "source": [
    "tn.select(tags=['X2', 'Y3'], which='!all').add_tag('!ALL')\n",
    "tn.draw('!ALL', figsize=(3, 3))"
   ]
  },
  {
   "cell_type": "markdown",
   "id": "deabe48d-218b-4197-8e92-457aff1e44ea",
   "metadata": {},
   "source": [
    "Get tensors which have **any** of the tags:"
   ]
  },
  {
   "cell_type": "code",
   "execution_count": 27,
   "id": "49c89b3a-05ee-4ffc-9bc0-a4ea39f69d8b",
   "metadata": {},
   "outputs": [
    {
     "data": {
      "image/svg+xml": [
       "<?xml version=\"1.0\" encoding=\"UTF-8\"?><!DOCTYPE svg  PUBLIC '-//W3C//DTD SVG 1.1//EN'  'http://www.w3.org/Graphics/SVG/1.1/DTD/svg11.dtd'><svg width=\"245.85pt\" height=\"180.72pt\" version=\"1.1\" viewBox=\"0 0 245.85 180.72\" xmlns=\"http://www.w3.org/2000/svg\" xmlns:xlink=\"http://www.w3.org/1999/xlink\"><defs><style type=\"text/css\">*{stroke-linejoin: round; stroke-linecap: butt}</style></defs><path d=\"m0 180.72h245.85v-180.72h-245.85v180.72z\" opacity=\"0\"/><path d=\"m165.9 16.445-33.935-2.4103\" clip-path=\"url(#948b5097e83)\" fill=\"none\" stroke=\"#737880\" stroke-linecap=\"round\" stroke-opacity=\".5\" stroke-width=\"2\"/><path d=\"m165.9 16.445 1.7309 34.106\" clip-path=\"url(#948b5097e83)\" fill=\"none\" stroke=\"#737880\" stroke-linecap=\"round\" stroke-opacity=\".5\" stroke-width=\"2\"/><path d=\"m131.97 14.035-40.574-1.1969\" clip-path=\"url(#948b5097e83)\" fill=\"none\" stroke=\"#737880\" stroke-linecap=\"round\" stroke-opacity=\".5\" stroke-width=\"2\"/><path d=\"m131.97 14.035 0.70054 35.074\" clip-path=\"url(#948b5097e83)\" fill=\"none\" stroke=\"#737880\" stroke-linecap=\"round\" stroke-opacity=\".5\" stroke-width=\"2\"/><path d=\"m91.391 12.838-40.572 0.20278\" clip-path=\"url(#948b5097e83)\" fill=\"none\" stroke=\"#737880\" stroke-linecap=\"round\" stroke-opacity=\".5\" stroke-width=\"2\"/><path d=\"m91.391 12.838-0.43485 35.319\" clip-path=\"url(#948b5097e83)\" fill=\"none\" stroke=\"#737880\" stroke-linecap=\"round\" stroke-opacity=\".5\" stroke-width=\"2\"/><path d=\"m50.819 13.041-33.988 1.5917\" clip-path=\"url(#948b5097e83)\" fill=\"none\" stroke=\"#737880\" stroke-linecap=\"round\" stroke-opacity=\".5\" stroke-width=\"2\"/><path d=\"m50.819 13.041-1.5786 34.944\" clip-path=\"url(#948b5097e83)\" fill=\"none\" stroke=\"#737880\" stroke-linecap=\"round\" stroke-opacity=\".5\" stroke-width=\"2\"/><path d=\"m16.831 14.632-2.5517 33.872\" clip-path=\"url(#948b5097e83)\" fill=\"none\" stroke=\"#737880\" stroke-linecap=\"round\" stroke-opacity=\".5\" stroke-width=\"2\"/><path d=\"m167.63 50.551-34.965-1.4428\" clip-path=\"url(#948b5097e83)\" fill=\"none\" stroke=\"#737880\" stroke-linecap=\"round\" stroke-opacity=\".5\" stroke-width=\"2\"/><path d=\"m167.63 50.551 0.29714 40.713\" clip-path=\"url(#948b5097e83)\" fill=\"none\" stroke=\"#737880\" stroke-linecap=\"round\" stroke-opacity=\".5\" stroke-width=\"2\"/><path d=\"m132.67 49.109-41.71-0.9517\" clip-path=\"url(#948b5097e83)\" fill=\"none\" stroke=\"#737880\" stroke-linecap=\"round\" stroke-opacity=\".5\" stroke-width=\"2\"/><path d=\"m132.67 49.109-0.033936 41.807\" clip-path=\"url(#948b5097e83)\" fill=\"none\" stroke=\"#737880\" stroke-linecap=\"round\" stroke-opacity=\".5\" stroke-width=\"2\"/><path d=\"m90.956 48.157-41.716-0.17252\" clip-path=\"url(#948b5097e83)\" fill=\"none\" stroke=\"#737880\" stroke-linecap=\"round\" stroke-opacity=\".5\" stroke-width=\"2\"/><path d=\"m90.956 48.157-0.57808 42.149\" clip-path=\"url(#948b5097e83)\" fill=\"none\" stroke=\"#737880\" stroke-linecap=\"round\" stroke-opacity=\".5\" stroke-width=\"2\"/><path d=\"m49.24 47.984-34.961 0.52018\" clip-path=\"url(#948b5097e83)\" fill=\"none\" stroke=\"#737880\" stroke-linecap=\"round\" stroke-opacity=\".5\" stroke-width=\"2\"/><path d=\"m49.24 47.984-1.0603 41.727\" clip-path=\"url(#948b5097e83)\" fill=\"none\" stroke=\"#737880\" stroke-linecap=\"round\" stroke-opacity=\".5\" stroke-width=\"2\"/><path d=\"m14.279 48.504-1.4412 40.53\" clip-path=\"url(#948b5097e83)\" fill=\"none\" stroke=\"#737880\" stroke-linecap=\"round\" stroke-opacity=\".5\" stroke-width=\"2\"/><path d=\"m167.93 91.264-35.296-0.34878\" clip-path=\"url(#948b5097e83)\" fill=\"none\" stroke=\"#737880\" stroke-linecap=\"round\" stroke-opacity=\".5\" stroke-width=\"2\"/><path d=\"m167.93 91.264-1.3261 40.754\" clip-path=\"url(#948b5097e83)\" fill=\"none\" stroke=\"#737880\" stroke-linecap=\"round\" stroke-opacity=\".5\" stroke-width=\"2\"/><path d=\"m132.63 90.916-42.254-0.60941\" clip-path=\"url(#948b5097e83)\" fill=\"none\" stroke=\"#737880\" stroke-linecap=\"round\" stroke-opacity=\".5\" stroke-width=\"2\"/><path d=\"m132.63 90.916-1.0938 41.777\" clip-path=\"url(#948b5097e83)\" fill=\"none\" stroke=\"#737880\" stroke-linecap=\"round\" stroke-opacity=\".5\" stroke-width=\"2\"/><path d=\"m90.378 90.306-42.198-0.59495\" clip-path=\"url(#948b5097e83)\" fill=\"none\" stroke=\"#737880\" stroke-linecap=\"round\" stroke-opacity=\".5\" stroke-width=\"2\"/><path d=\"m90.378 90.306-0.61207 42.307\" clip-path=\"url(#948b5097e83)\" fill=\"none\" stroke=\"#737880\" stroke-linecap=\"round\" stroke-opacity=\".5\" stroke-width=\"2\"/><path d=\"m48.18 89.711-35.342-0.67713\" clip-path=\"url(#948b5097e83)\" fill=\"none\" stroke=\"#737880\" stroke-linecap=\"round\" stroke-opacity=\".5\" stroke-width=\"2\"/><path d=\"m48.18 89.711-0.23854 41.697\" clip-path=\"url(#948b5097e83)\" fill=\"none\" stroke=\"#737880\" stroke-linecap=\"round\" stroke-opacity=\".5\" stroke-width=\"2\"/><path d=\"m12.838 89.034 0.10083 40.636\" clip-path=\"url(#948b5097e83)\" fill=\"none\" stroke=\"#737880\" stroke-linecap=\"round\" stroke-opacity=\".5\" stroke-width=\"2\"/><path d=\"m166.6 132.02-35.064 0.67424\" clip-path=\"url(#948b5097e83)\" fill=\"none\" stroke=\"#737880\" stroke-linecap=\"round\" stroke-opacity=\".5\" stroke-width=\"2\"/><path d=\"m166.6 132.02-2.6381 33.951\" clip-path=\"url(#948b5097e83)\" fill=\"none\" stroke=\"#737880\" stroke-linecap=\"round\" stroke-opacity=\".5\" stroke-width=\"2\"/><path d=\"m131.54 132.69-41.772-0.079224\" clip-path=\"url(#948b5097e83)\" fill=\"none\" stroke=\"#737880\" stroke-linecap=\"round\" stroke-opacity=\".5\" stroke-width=\"2\"/><path d=\"m131.54 132.69-1.6745 34.982\" clip-path=\"url(#948b5097e83)\" fill=\"none\" stroke=\"#737880\" stroke-linecap=\"round\" stroke-opacity=\".5\" stroke-width=\"2\"/><path d=\"m89.766 132.61-41.825-1.2051\" clip-path=\"url(#948b5097e83)\" fill=\"none\" stroke=\"#737880\" stroke-linecap=\"round\" stroke-opacity=\".5\" stroke-width=\"2\"/><path d=\"m89.766 132.61-0.54102 35.269\" clip-path=\"url(#948b5097e83)\" fill=\"none\" stroke=\"#737880\" stroke-linecap=\"round\" stroke-opacity=\".5\" stroke-width=\"2\"/><path d=\"m47.941 131.41-35.002-1.7376\" clip-path=\"url(#948b5097e83)\" fill=\"none\" stroke=\"#737880\" stroke-linecap=\"round\" stroke-opacity=\".5\" stroke-width=\"2\"/><path d=\"m47.941 131.41 0.54888 34.993\" clip-path=\"url(#948b5097e83)\" fill=\"none\" stroke=\"#737880\" stroke-linecap=\"round\" stroke-opacity=\".5\" stroke-width=\"2\"/><path d=\"m12.939 129.67 1.5135 33.936\" clip-path=\"url(#948b5097e83)\" fill=\"none\" stroke=\"#737880\" stroke-linecap=\"round\" stroke-opacity=\".5\" stroke-width=\"2\"/><path d=\"m163.96 165.97-34.1 1.7057\" clip-path=\"url(#948b5097e83)\" fill=\"none\" stroke=\"#737880\" stroke-linecap=\"round\" stroke-opacity=\".5\" stroke-width=\"2\"/><path d=\"m129.86 167.67-40.639 0.20744\" clip-path=\"url(#948b5097e83)\" fill=\"none\" stroke=\"#737880\" stroke-linecap=\"round\" stroke-opacity=\".5\" stroke-width=\"2\"/><path d=\"m89.225 167.88-40.735-1.4815\" clip-path=\"url(#948b5097e83)\" fill=\"none\" stroke=\"#737880\" stroke-linecap=\"round\" stroke-opacity=\".5\" stroke-width=\"2\"/><path d=\"m48.49 166.4-34.038-2.7938\" clip-path=\"url(#948b5097e83)\" fill=\"none\" stroke=\"#737880\" stroke-linecap=\"round\" stroke-opacity=\".5\" stroke-width=\"2\"/><path d=\"m165.9 20.088c0.96611 0 1.8928-0.38384 2.5759-1.067 0.68314-0.68314 1.067-1.6098 1.067-2.5759s-0.38384-1.8928-1.067-2.5759c-0.68314-0.68314-1.6098-1.067-2.5759-1.067-0.96611 0-1.8928 0.38384-2.5759 1.067-0.68314 0.68314-1.067 1.6098-1.067 2.5759s0.38384 1.8928 1.067 2.5759c0.68314 0.68314 1.6098 1.067 2.5759 1.067z\" clip-path=\"url(#948b5097e83)\" fill=\"#737880\" stroke=\"#5d6167\" stroke-width=\"1.1252\"/><path d=\"m131.97 17.678c0.96611 0 1.8928-0.38384 2.5759-1.067 0.68314-0.68314 1.067-1.6098 1.067-2.5759s-0.38384-1.8928-1.067-2.5759c-0.68314-0.68314-1.6098-1.067-2.5759-1.067s-1.8928 0.38384-2.5759 1.067c-0.68314 0.68314-1.067 1.6098-1.067 2.5759s0.38384 1.8928 1.067 2.5759c0.68314 0.68314 1.6098 1.067 2.5759 1.067z\" clip-path=\"url(#948b5097e83)\" fill=\"#737880\" stroke=\"#5d6167\" stroke-width=\"1.1252\"/><path d=\"m91.391 16.481c0.96611 0 1.8928-0.38384 2.5759-1.067 0.68314-0.68314 1.067-1.6098 1.067-2.5759s-0.38384-1.8928-1.067-2.5759c-0.68314-0.68314-1.6098-1.067-2.5759-1.067s-1.8928 0.38384-2.5759 1.067c-0.68314 0.68314-1.067 1.6098-1.067 2.5759s0.38384 1.8928 1.067 2.5759c0.68314 0.68314 1.6098 1.067 2.5759 1.067z\" clip-path=\"url(#948b5097e83)\" fill=\"#737880\" stroke=\"#5d6167\" stroke-width=\"1.1252\"/><path d=\"m50.819 16.683c0.96611 0 1.8928-0.38384 2.5759-1.067 0.68314-0.68314 1.067-1.6098 1.067-2.5759 0-0.96611-0.38384-1.8928-1.067-2.5759-0.68314-0.68314-1.6098-1.067-2.5759-1.067s-1.8928 0.38384-2.5759 1.067c-0.68314 0.68314-1.067 1.6098-1.067 2.5759 0 0.96611 0.38384 1.8928 1.067 2.5759 0.68314 0.68314 1.6098 1.067 2.5759 1.067z\" clip-path=\"url(#948b5097e83)\" fill=\"#56b4e9\" stroke=\"#4da2d2\" stroke-width=\"1.1252\"/><path d=\"m16.831 18.275c0.96611 0 1.8928-0.38384 2.5759-1.067 0.68314-0.68314 1.067-1.6098 1.067-2.5759s-0.38384-1.8928-1.067-2.5759c-0.68314-0.68314-1.6098-1.067-2.5759-1.067s-1.8928 0.38384-2.5759 1.067c-0.68314 0.68314-1.067 1.6098-1.067 2.5759s0.38384 1.8928 1.067 2.5759c0.68314 0.68314 1.6098 1.067 2.5759 1.067z\" clip-path=\"url(#948b5097e83)\" fill=\"#737880\" stroke=\"#5d6167\" stroke-width=\"1.1252\"/><path d=\"m167.63 54.194c0.96611 0 1.8928-0.38384 2.5759-1.067 0.68314-0.68314 1.067-1.6098 1.067-2.5759s-0.38384-1.8928-1.067-2.5759c-0.68314-0.68314-1.6098-1.067-2.5759-1.067s-1.8928 0.38384-2.5759 1.067c-0.68314 0.68314-1.067 1.6098-1.067 2.5759s0.38384 1.8928 1.067 2.5759c0.68314 0.68314 1.6098 1.067 2.5759 1.067z\" clip-path=\"url(#948b5097e83)\" fill=\"#737880\" stroke=\"#5d6167\" stroke-width=\"1.1252\"/><path d=\"m132.67 52.751c0.96611 0 1.8928-0.38384 2.5759-1.067 0.68314-0.68314 1.067-1.6098 1.067-2.5759s-0.38384-1.8928-1.067-2.5759c-0.68314-0.68314-1.6098-1.067-2.5759-1.067s-1.8928 0.38384-2.5759 1.067c-0.68314 0.68314-1.067 1.6098-1.067 2.5759s0.38384 1.8928 1.067 2.5759c0.68314 0.68314 1.6098 1.067 2.5759 1.067z\" clip-path=\"url(#948b5097e83)\" fill=\"#737880\" stroke=\"#5d6167\" stroke-width=\"1.1252\"/><path d=\"m90.956 51.8c0.96611 0 1.8928-0.38384 2.5759-1.067 0.68314-0.68314 1.067-1.6098 1.067-2.5759s-0.38384-1.8928-1.067-2.5759c-0.68314-0.68314-1.6098-1.067-2.5759-1.067s-1.8928 0.38384-2.5759 1.067c-0.68314 0.68314-1.067 1.6098-1.067 2.5759s0.38384 1.8928 1.067 2.5759c0.68314 0.68314 1.6098 1.067 2.5759 1.067z\" clip-path=\"url(#948b5097e83)\" fill=\"#737880\" stroke=\"#5d6167\" stroke-width=\"1.1252\"/><path d=\"m49.24 51.627c0.96611 0 1.8928-0.38384 2.5759-1.067 0.68314-0.68314 1.067-1.6098 1.067-2.5759s-0.38384-1.8928-1.067-2.5759c-0.68314-0.68314-1.6098-1.067-2.5759-1.067s-1.8928 0.38384-2.5759 1.067c-0.68314 0.68314-1.067 1.6098-1.067 2.5759s0.38384 1.8928 1.067 2.5759c0.68314 0.68314 1.6098 1.067 2.5759 1.067z\" clip-path=\"url(#948b5097e83)\" fill=\"#56b4e9\" stroke=\"#4da2d2\" stroke-width=\"1.1252\"/><path d=\"m14.279 52.147c0.96611 0 1.8928-0.38384 2.5759-1.067 0.68314-0.68314 1.067-1.6098 1.067-2.5759s-0.38384-1.8928-1.067-2.5759c-0.68314-0.68314-1.6098-1.067-2.5759-1.067-0.96611 0-1.8928 0.38384-2.5759 1.067-0.68314 0.68314-1.067 1.6098-1.067 2.5759s0.38384 1.8928 1.067 2.5759c0.68314 0.68314 1.6098 1.067 2.5759 1.067z\" clip-path=\"url(#948b5097e83)\" fill=\"#737880\" stroke=\"#5d6167\" stroke-width=\"1.1252\"/><path d=\"m167.93 94.907c0.96611 0 1.8928-0.38384 2.5759-1.067 0.68314-0.68314 1.067-1.6098 1.067-2.5759 0-0.96611-0.38384-1.8928-1.067-2.5759-0.68314-0.68314-1.6098-1.067-2.5759-1.067s-1.8928 0.38384-2.5759 1.067c-0.68314 0.68314-1.067 1.6098-1.067 2.5759 0 0.96611 0.38384 1.8928 1.067 2.5759 0.68314 0.68314 1.6098 1.067 2.5759 1.067z\" clip-path=\"url(#948b5097e83)\" fill=\"#56b4e9\" stroke=\"#4da2d2\" stroke-width=\"1.1252\"/><path d=\"m132.63 94.559c0.96611 0 1.8928-0.38384 2.5759-1.067 0.68314-0.68314 1.067-1.6098 1.067-2.5759s-0.38384-1.8928-1.067-2.5759c-0.68314-0.68314-1.6098-1.067-2.5759-1.067s-1.8928 0.38384-2.5759 1.067c-0.68314 0.68314-1.067 1.6098-1.067 2.5759s0.38384 1.8928 1.067 2.5759c0.68314 0.68314 1.6098 1.067 2.5759 1.067z\" clip-path=\"url(#948b5097e83)\" fill=\"#56b4e9\" stroke=\"#4da2d2\" stroke-width=\"1.1252\"/><path d=\"m90.378 93.949c0.96611 0 1.8928-0.38384 2.5759-1.067 0.68314-0.68314 1.067-1.6098 1.067-2.5759s-0.38384-1.8928-1.067-2.5759c-0.68314-0.68314-1.6098-1.067-2.5759-1.067s-1.8928 0.38384-2.5759 1.067c-0.68314 0.68314-1.067 1.6098-1.067 2.5759s0.38384 1.8928 1.067 2.5759c0.68314 0.68314 1.6098 1.067 2.5759 1.067z\" clip-path=\"url(#948b5097e83)\" fill=\"#56b4e9\" stroke=\"#4da2d2\" stroke-width=\"1.1252\"/><path d=\"m48.18 93.354c0.96611 0 1.8928-0.38384 2.5759-1.067 0.68314-0.68314 1.067-1.6098 1.067-2.5759 0-0.96611-0.38384-1.8928-1.067-2.5759-0.68314-0.68314-1.6098-1.067-2.5759-1.067s-1.8928 0.38384-2.5759 1.067c-0.68314 0.68314-1.067 1.6098-1.067 2.5759 0 0.96611 0.38384 1.8928 1.067 2.5759 0.68314 0.68314 1.6098 1.067 2.5759 1.067z\" clip-path=\"url(#948b5097e83)\" fill=\"#56b4e9\" stroke=\"#4da2d2\" stroke-width=\"1.1252\"/><path d=\"m12.838 92.677c0.96611 0 1.8928-0.38384 2.5759-1.067 0.68314-0.68314 1.067-1.6098 1.067-2.5759s-0.38384-1.8928-1.067-2.5759c-0.68314-0.68314-1.6098-1.067-2.5759-1.067s-1.8928 0.38384-2.5759 1.067c-0.68314 0.68314-1.067 1.6098-1.067 2.5759s0.38384 1.8928 1.067 2.5759c0.68314 0.68314 1.6098 1.067 2.5759 1.067z\" clip-path=\"url(#948b5097e83)\" fill=\"#56b4e9\" stroke=\"#4da2d2\" stroke-width=\"1.1252\"/><path d=\"m166.6 135.66c0.96611 0 1.8928-0.38384 2.5759-1.067 0.68314-0.68314 1.067-1.6098 1.067-2.5759s-0.38384-1.8928-1.067-2.5759c-0.68314-0.68314-1.6098-1.067-2.5759-1.067-0.96611 0-1.8928 0.38384-2.5759 1.067-0.68314 0.68314-1.067 1.6098-1.067 2.5759s0.38384 1.8928 1.067 2.5759c0.68314 0.68314 1.6098 1.067 2.5759 1.067z\" clip-path=\"url(#948b5097e83)\" fill=\"#737880\" stroke=\"#5d6167\" stroke-width=\"1.1252\"/><path d=\"m131.54 136.34c0.96611 0 1.8928-0.38384 2.5759-1.067 0.68314-0.68314 1.067-1.6098 1.067-2.5759s-0.38384-1.8928-1.067-2.5759c-0.68314-0.68314-1.6098-1.067-2.5759-1.067s-1.8928 0.38384-2.5759 1.067c-0.68314 0.68314-1.067 1.6098-1.067 2.5759s0.38384 1.8928 1.067 2.5759c0.68314 0.68314 1.6098 1.067 2.5759 1.067z\" clip-path=\"url(#948b5097e83)\" fill=\"#737880\" stroke=\"#5d6167\" stroke-width=\"1.1252\"/><path d=\"m89.766 136.26c0.96611 0 1.8928-0.38384 2.5759-1.067 0.68314-0.68314 1.067-1.6098 1.067-2.5759s-0.38384-1.8928-1.067-2.5759c-0.68314-0.68314-1.6098-1.067-2.5759-1.067s-1.8928 0.38384-2.5759 1.067c-0.68314 0.68314-1.067 1.6098-1.067 2.5759s0.38384 1.8928 1.067 2.5759c0.68314 0.68314 1.6098 1.067 2.5759 1.067z\" clip-path=\"url(#948b5097e83)\" fill=\"#737880\" stroke=\"#5d6167\" stroke-width=\"1.1252\"/><path d=\"m47.941 135.05c0.96611 0 1.8928-0.38384 2.5759-1.067 0.68314-0.68314 1.067-1.6098 1.067-2.5759s-0.38384-1.8928-1.067-2.5759c-0.68314-0.68314-1.6098-1.067-2.5759-1.067-0.96611 0-1.8928 0.38384-2.5759 1.067-0.68314 0.68314-1.067 1.6098-1.067 2.5759s0.38384 1.8928 1.067 2.5759c0.68314 0.68314 1.6098 1.067 2.5759 1.067z\" clip-path=\"url(#948b5097e83)\" fill=\"#56b4e9\" stroke=\"#4da2d2\" stroke-width=\"1.1252\"/><path d=\"m12.939 133.31c0.96611 0 1.8928-0.38384 2.5759-1.067 0.68314-0.68314 1.067-1.6098 1.067-2.5759s-0.38384-1.8928-1.067-2.5759c-0.68314-0.68314-1.6098-1.067-2.5759-1.067-0.96611 0-1.8928 0.38384-2.5759 1.067-0.68314 0.68314-1.067 1.6098-1.067 2.5759s0.38384 1.8928 1.067 2.5759c0.68314 0.68314 1.6098 1.067 2.5759 1.067z\" clip-path=\"url(#948b5097e83)\" fill=\"#737880\" stroke=\"#5d6167\" stroke-width=\"1.1252\"/><path d=\"m163.96 169.61c0.96611 0 1.8928-0.38384 2.5759-1.067 0.68314-0.68314 1.067-1.6098 1.067-2.5759s-0.38384-1.8928-1.067-2.5759c-0.68314-0.68314-1.6098-1.067-2.5759-1.067s-1.8928 0.38384-2.5759 1.067c-0.68314 0.68314-1.067 1.6098-1.067 2.5759s0.38384 1.8928 1.067 2.5759c0.68314 0.68314 1.6098 1.067 2.5759 1.067z\" clip-path=\"url(#948b5097e83)\" fill=\"#737880\" stroke=\"#5d6167\" stroke-width=\"1.1252\"/><path d=\"m129.86 171.32c0.96611 0 1.8928-0.38384 2.5759-1.067 0.68314-0.68314 1.067-1.6098 1.067-2.5759s-0.38384-1.8928-1.067-2.5759c-0.68314-0.68314-1.6098-1.067-2.5759-1.067s-1.8928 0.38384-2.5759 1.067c-0.68314 0.68314-1.067 1.6098-1.067 2.5759s0.38384 1.8928 1.067 2.5759c0.68314 0.68314 1.6098 1.067 2.5759 1.067z\" clip-path=\"url(#948b5097e83)\" fill=\"#737880\" stroke=\"#5d6167\" stroke-width=\"1.1252\"/><path d=\"m89.225 171.53c0.96611 0 1.8928-0.38384 2.5759-1.067 0.68314-0.68314 1.067-1.6098 1.067-2.5759s-0.38384-1.8928-1.067-2.5759c-0.68314-0.68314-1.6098-1.067-2.5759-1.067s-1.8928 0.38384-2.5759 1.067c-0.68314 0.68314-1.067 1.6098-1.067 2.5759s0.38384 1.8928 1.067 2.5759c0.68314 0.68314 1.6098 1.067 2.5759 1.067z\" clip-path=\"url(#948b5097e83)\" fill=\"#737880\" stroke=\"#5d6167\" stroke-width=\"1.1252\"/><path d=\"m48.49 170.04c0.96611 0 1.8928-0.38384 2.5759-1.067 0.68314-0.68314 1.067-1.6098 1.067-2.5759s-0.38384-1.8928-1.067-2.5759c-0.68314-0.68314-1.6098-1.067-2.5759-1.067s-1.8928 0.38384-2.5759 1.067c-0.68314 0.68314-1.067 1.6098-1.067 2.5759s0.38384 1.8928 1.067 2.5759c0.68314 0.68314 1.6098 1.067 2.5759 1.067z\" clip-path=\"url(#948b5097e83)\" fill=\"#56b4e9\" stroke=\"#4da2d2\" stroke-width=\"1.1252\"/><path d=\"m14.453 167.25c0.96611 0 1.8928-0.38384 2.5759-1.067 0.68314-0.68314 1.067-1.6098 1.067-2.5759 0-0.96611-0.38384-1.8928-1.067-2.5759-0.68314-0.68314-1.6098-1.067-2.5759-1.067s-1.8928 0.38384-2.5759 1.067c-0.68314 0.68314-1.067 1.6098-1.067 2.5759 0 0.96611 0.38384 1.8928 1.067 2.5759 0.68314 0.68314 1.6098 1.067 2.5759 1.067z\" clip-path=\"url(#948b5097e83)\" fill=\"#737880\" stroke=\"#5d6167\" stroke-width=\"1.1252\"/><path d=\"m180.57 99.226h56.081q2 0 2-2v-13.731q0-2-2-2h-56.081q-2 0-2 2v13.731q0 2 2 2z\" fill=\"none\" stroke=\"#999999\" stroke-opacity=\".2\"/><defs><path id=\"3635cc4640c\" d=\"m0 5c1.326 0 2.5979-0.52683 3.5355-1.4645 0.93763-0.93764 1.4645-2.2095 1.4645-3.5355s-0.52683-2.5979-1.4645-3.5355c-0.93764-0.93763-2.2095-1.4645-3.5355-1.4645s-2.5979 0.52683-3.5355 1.4645c-0.93763 0.93764-1.4645 2.2095-1.4645 3.5355s0.52683 2.5979 1.4645 3.5355c0.93764 0.93763 2.2095 1.4645 3.5355 1.4645z\" stroke=\"#4da2d2\"/></defs><use x=\"192.566549\" y=\"89.645938\" fill=\"#56b4e9\" stroke=\"#4da2d2\" xlink:href=\"#3635cc4640c\"/><g transform=\"translate(210.57 93.146) scale(.1 -.1)\" fill=\"#545759\"><defs><path id=\"DejaVuSansMono-41\" transform=\"scale(.015625)\" d=\"m1925 4109-666-2387h1332l-666 2387zm-381 557h765l1429-4666h-654l-343 1216h-1635l-337-1216h-653l1428 4666z\"/><path id=\"DejaVuSansMono-4e\" transform=\"scale(.015625)\" d=\"m434 4666h800l1575-3841v3841h610v-4666h-800l-1575 3841v-3841h-610v4666z\"/><path id=\"DejaVuSansMono-59\" transform=\"scale(.015625)\" d=\"m116 4666h672l1137-2060 1134 2060h679l-1497-2572v-2094h-635v2094l-1490 2572z\"/></defs><use xlink:href=\"#DejaVuSansMono-20\"/><use x=\"60.205078\" xlink:href=\"#DejaVuSansMono-41\"/><use x=\"120.410156\" xlink:href=\"#DejaVuSansMono-4e\"/><use x=\"180.615234\" xlink:href=\"#DejaVuSansMono-59\"/></g><defs><clipPath id=\"948b5097e83\"><rect x=\"7.2\" y=\"7.2\" width=\"166.37\" height=\"166.32\"/></clipPath></defs></svg>"
      ],
      "text/plain": [
       "<Figure size 300x300 with 1 Axes>"
      ]
     },
     "metadata": {
      "needs_background": "light"
     },
     "output_type": "display_data"
    }
   ],
   "source": [
    "tn.select(tags=['X2', 'Y3'], which='any').add_tag('ANY')\n",
    "tn.draw('ANY', figsize=(3, 3))"
   ]
  },
  {
   "cell_type": "markdown",
   "id": "48f5f275-faf3-409b-b327-c256d40e33cc",
   "metadata": {},
   "source": [
    "Get tensors which *don't* have **any** of the tags:"
   ]
  },
  {
   "cell_type": "code",
   "execution_count": 28,
   "id": "926bf5c8-85b5-4244-90a8-74cf1de46a27",
   "metadata": {},
   "outputs": [
    {
     "data": {
      "image/svg+xml": [
       "<?xml version=\"1.0\" encoding=\"UTF-8\"?><!DOCTYPE svg  PUBLIC '-//W3C//DTD SVG 1.1//EN'  'http://www.w3.org/Graphics/SVG/1.1/DTD/svg11.dtd'><svg width=\"251.87pt\" height=\"180.72pt\" version=\"1.1\" viewBox=\"0 0 251.87 180.72\" xmlns=\"http://www.w3.org/2000/svg\" xmlns:xlink=\"http://www.w3.org/1999/xlink\"><defs><style type=\"text/css\">*{stroke-linejoin: round; stroke-linecap: butt}</style></defs><path d=\"m0 180.72h251.87v-180.72h-251.87v180.72z\" opacity=\"0\"/><path d=\"m165.9 16.445-33.935-2.4103\" clip-path=\"url(#a46358a2e59)\" fill=\"none\" stroke=\"#737880\" stroke-linecap=\"round\" stroke-opacity=\".5\" stroke-width=\"2\"/><path d=\"m165.9 16.445 1.7309 34.106\" clip-path=\"url(#a46358a2e59)\" fill=\"none\" stroke=\"#737880\" stroke-linecap=\"round\" stroke-opacity=\".5\" stroke-width=\"2\"/><path d=\"m131.97 14.035-40.574-1.1969\" clip-path=\"url(#a46358a2e59)\" fill=\"none\" stroke=\"#737880\" stroke-linecap=\"round\" stroke-opacity=\".5\" stroke-width=\"2\"/><path d=\"m131.97 14.035 0.70054 35.074\" clip-path=\"url(#a46358a2e59)\" fill=\"none\" stroke=\"#737880\" stroke-linecap=\"round\" stroke-opacity=\".5\" stroke-width=\"2\"/><path d=\"m91.391 12.838-40.572 0.20278\" clip-path=\"url(#a46358a2e59)\" fill=\"none\" stroke=\"#737880\" stroke-linecap=\"round\" stroke-opacity=\".5\" stroke-width=\"2\"/><path d=\"m91.391 12.838-0.43485 35.319\" clip-path=\"url(#a46358a2e59)\" fill=\"none\" stroke=\"#737880\" stroke-linecap=\"round\" stroke-opacity=\".5\" stroke-width=\"2\"/><path d=\"m50.819 13.041-33.988 1.5917\" clip-path=\"url(#a46358a2e59)\" fill=\"none\" stroke=\"#737880\" stroke-linecap=\"round\" stroke-opacity=\".5\" stroke-width=\"2\"/><path d=\"m50.819 13.041-1.5786 34.944\" clip-path=\"url(#a46358a2e59)\" fill=\"none\" stroke=\"#737880\" stroke-linecap=\"round\" stroke-opacity=\".5\" stroke-width=\"2\"/><path d=\"m16.831 14.632-2.5517 33.872\" clip-path=\"url(#a46358a2e59)\" fill=\"none\" stroke=\"#737880\" stroke-linecap=\"round\" stroke-opacity=\".5\" stroke-width=\"2\"/><path d=\"m167.63 50.551-34.965-1.4428\" clip-path=\"url(#a46358a2e59)\" fill=\"none\" stroke=\"#737880\" stroke-linecap=\"round\" stroke-opacity=\".5\" stroke-width=\"2\"/><path d=\"m167.63 50.551 0.29714 40.713\" clip-path=\"url(#a46358a2e59)\" fill=\"none\" stroke=\"#737880\" stroke-linecap=\"round\" stroke-opacity=\".5\" stroke-width=\"2\"/><path d=\"m132.67 49.109-41.71-0.9517\" clip-path=\"url(#a46358a2e59)\" fill=\"none\" stroke=\"#737880\" stroke-linecap=\"round\" stroke-opacity=\".5\" stroke-width=\"2\"/><path d=\"m132.67 49.109-0.033936 41.807\" clip-path=\"url(#a46358a2e59)\" fill=\"none\" stroke=\"#737880\" stroke-linecap=\"round\" stroke-opacity=\".5\" stroke-width=\"2\"/><path d=\"m90.956 48.157-41.716-0.17252\" clip-path=\"url(#a46358a2e59)\" fill=\"none\" stroke=\"#737880\" stroke-linecap=\"round\" stroke-opacity=\".5\" stroke-width=\"2\"/><path d=\"m90.956 48.157-0.57808 42.149\" clip-path=\"url(#a46358a2e59)\" fill=\"none\" stroke=\"#737880\" stroke-linecap=\"round\" stroke-opacity=\".5\" stroke-width=\"2\"/><path d=\"m49.24 47.984-34.961 0.52018\" clip-path=\"url(#a46358a2e59)\" fill=\"none\" stroke=\"#737880\" stroke-linecap=\"round\" stroke-opacity=\".5\" stroke-width=\"2\"/><path d=\"m49.24 47.984-1.0603 41.727\" clip-path=\"url(#a46358a2e59)\" fill=\"none\" stroke=\"#737880\" stroke-linecap=\"round\" stroke-opacity=\".5\" stroke-width=\"2\"/><path d=\"m14.279 48.504-1.4412 40.53\" clip-path=\"url(#a46358a2e59)\" fill=\"none\" stroke=\"#737880\" stroke-linecap=\"round\" stroke-opacity=\".5\" stroke-width=\"2\"/><path d=\"m167.93 91.264-35.296-0.34878\" clip-path=\"url(#a46358a2e59)\" fill=\"none\" stroke=\"#737880\" stroke-linecap=\"round\" stroke-opacity=\".5\" stroke-width=\"2\"/><path d=\"m167.93 91.264-1.3261 40.754\" clip-path=\"url(#a46358a2e59)\" fill=\"none\" stroke=\"#737880\" stroke-linecap=\"round\" stroke-opacity=\".5\" stroke-width=\"2\"/><path d=\"m132.63 90.916-42.254-0.60941\" clip-path=\"url(#a46358a2e59)\" fill=\"none\" stroke=\"#737880\" stroke-linecap=\"round\" stroke-opacity=\".5\" stroke-width=\"2\"/><path d=\"m132.63 90.916-1.0938 41.777\" clip-path=\"url(#a46358a2e59)\" fill=\"none\" stroke=\"#737880\" stroke-linecap=\"round\" stroke-opacity=\".5\" stroke-width=\"2\"/><path d=\"m90.378 90.306-42.198-0.59495\" clip-path=\"url(#a46358a2e59)\" fill=\"none\" stroke=\"#737880\" stroke-linecap=\"round\" stroke-opacity=\".5\" stroke-width=\"2\"/><path d=\"m90.378 90.306-0.61207 42.307\" clip-path=\"url(#a46358a2e59)\" fill=\"none\" stroke=\"#737880\" stroke-linecap=\"round\" stroke-opacity=\".5\" stroke-width=\"2\"/><path d=\"m48.18 89.711-35.342-0.67713\" clip-path=\"url(#a46358a2e59)\" fill=\"none\" stroke=\"#737880\" stroke-linecap=\"round\" stroke-opacity=\".5\" stroke-width=\"2\"/><path d=\"m48.18 89.711-0.23854 41.697\" clip-path=\"url(#a46358a2e59)\" fill=\"none\" stroke=\"#737880\" stroke-linecap=\"round\" stroke-opacity=\".5\" stroke-width=\"2\"/><path d=\"m12.838 89.034 0.10083 40.636\" clip-path=\"url(#a46358a2e59)\" fill=\"none\" stroke=\"#737880\" stroke-linecap=\"round\" stroke-opacity=\".5\" stroke-width=\"2\"/><path d=\"m166.6 132.02-35.064 0.67424\" clip-path=\"url(#a46358a2e59)\" fill=\"none\" stroke=\"#737880\" stroke-linecap=\"round\" stroke-opacity=\".5\" stroke-width=\"2\"/><path d=\"m166.6 132.02-2.6381 33.951\" clip-path=\"url(#a46358a2e59)\" fill=\"none\" stroke=\"#737880\" stroke-linecap=\"round\" stroke-opacity=\".5\" stroke-width=\"2\"/><path d=\"m131.54 132.69-41.772-0.079224\" clip-path=\"url(#a46358a2e59)\" fill=\"none\" stroke=\"#737880\" stroke-linecap=\"round\" stroke-opacity=\".5\" stroke-width=\"2\"/><path d=\"m131.54 132.69-1.6745 34.982\" clip-path=\"url(#a46358a2e59)\" fill=\"none\" stroke=\"#737880\" stroke-linecap=\"round\" stroke-opacity=\".5\" stroke-width=\"2\"/><path d=\"m89.766 132.61-41.825-1.2051\" clip-path=\"url(#a46358a2e59)\" fill=\"none\" stroke=\"#737880\" stroke-linecap=\"round\" stroke-opacity=\".5\" stroke-width=\"2\"/><path d=\"m89.766 132.61-0.54102 35.269\" clip-path=\"url(#a46358a2e59)\" fill=\"none\" stroke=\"#737880\" stroke-linecap=\"round\" stroke-opacity=\".5\" stroke-width=\"2\"/><path d=\"m47.941 131.41-35.002-1.7376\" clip-path=\"url(#a46358a2e59)\" fill=\"none\" stroke=\"#737880\" stroke-linecap=\"round\" stroke-opacity=\".5\" stroke-width=\"2\"/><path d=\"m47.941 131.41 0.54888 34.993\" clip-path=\"url(#a46358a2e59)\" fill=\"none\" stroke=\"#737880\" stroke-linecap=\"round\" stroke-opacity=\".5\" stroke-width=\"2\"/><path d=\"m12.939 129.67 1.5135 33.936\" clip-path=\"url(#a46358a2e59)\" fill=\"none\" stroke=\"#737880\" stroke-linecap=\"round\" stroke-opacity=\".5\" stroke-width=\"2\"/><path d=\"m163.96 165.97-34.1 1.7057\" clip-path=\"url(#a46358a2e59)\" fill=\"none\" stroke=\"#737880\" stroke-linecap=\"round\" stroke-opacity=\".5\" stroke-width=\"2\"/><path d=\"m129.86 167.67-40.639 0.20744\" clip-path=\"url(#a46358a2e59)\" fill=\"none\" stroke=\"#737880\" stroke-linecap=\"round\" stroke-opacity=\".5\" stroke-width=\"2\"/><path d=\"m89.225 167.88-40.735-1.4815\" clip-path=\"url(#a46358a2e59)\" fill=\"none\" stroke=\"#737880\" stroke-linecap=\"round\" stroke-opacity=\".5\" stroke-width=\"2\"/><path d=\"m48.49 166.4-34.038-2.7938\" clip-path=\"url(#a46358a2e59)\" fill=\"none\" stroke=\"#737880\" stroke-linecap=\"round\" stroke-opacity=\".5\" stroke-width=\"2\"/><path d=\"m165.9 20.088c0.96611 0 1.8928-0.38384 2.5759-1.067 0.68314-0.68314 1.067-1.6098 1.067-2.5759s-0.38384-1.8928-1.067-2.5759c-0.68314-0.68314-1.6098-1.067-2.5759-1.067-0.96611 0-1.8928 0.38384-2.5759 1.067-0.68314 0.68314-1.067 1.6098-1.067 2.5759s0.38384 1.8928 1.067 2.5759c0.68314 0.68314 1.6098 1.067 2.5759 1.067z\" clip-path=\"url(#a46358a2e59)\" fill=\"#56b4e9\" stroke=\"#4da2d2\" stroke-width=\"1.1252\"/><path d=\"m131.97 17.678c0.96611 0 1.8928-0.38384 2.5759-1.067 0.68314-0.68314 1.067-1.6098 1.067-2.5759s-0.38384-1.8928-1.067-2.5759c-0.68314-0.68314-1.6098-1.067-2.5759-1.067s-1.8928 0.38384-2.5759 1.067c-0.68314 0.68314-1.067 1.6098-1.067 2.5759s0.38384 1.8928 1.067 2.5759c0.68314 0.68314 1.6098 1.067 2.5759 1.067z\" clip-path=\"url(#a46358a2e59)\" fill=\"#56b4e9\" stroke=\"#4da2d2\" stroke-width=\"1.1252\"/><path d=\"m91.391 16.481c0.96611 0 1.8928-0.38384 2.5759-1.067 0.68314-0.68314 1.067-1.6098 1.067-2.5759s-0.38384-1.8928-1.067-2.5759c-0.68314-0.68314-1.6098-1.067-2.5759-1.067s-1.8928 0.38384-2.5759 1.067c-0.68314 0.68314-1.067 1.6098-1.067 2.5759s0.38384 1.8928 1.067 2.5759c0.68314 0.68314 1.6098 1.067 2.5759 1.067z\" clip-path=\"url(#a46358a2e59)\" fill=\"#56b4e9\" stroke=\"#4da2d2\" stroke-width=\"1.1252\"/><path d=\"m50.819 16.683c0.96611 0 1.8928-0.38384 2.5759-1.067 0.68314-0.68314 1.067-1.6098 1.067-2.5759 0-0.96611-0.38384-1.8928-1.067-2.5759-0.68314-0.68314-1.6098-1.067-2.5759-1.067s-1.8928 0.38384-2.5759 1.067c-0.68314 0.68314-1.067 1.6098-1.067 2.5759 0 0.96611 0.38384 1.8928 1.067 2.5759 0.68314 0.68314 1.6098 1.067 2.5759 1.067z\" clip-path=\"url(#a46358a2e59)\" fill=\"#737880\" stroke=\"#5d6167\" stroke-width=\"1.1252\"/><path d=\"m16.831 18.275c0.96611 0 1.8928-0.38384 2.5759-1.067 0.68314-0.68314 1.067-1.6098 1.067-2.5759s-0.38384-1.8928-1.067-2.5759c-0.68314-0.68314-1.6098-1.067-2.5759-1.067s-1.8928 0.38384-2.5759 1.067c-0.68314 0.68314-1.067 1.6098-1.067 2.5759s0.38384 1.8928 1.067 2.5759c0.68314 0.68314 1.6098 1.067 2.5759 1.067z\" clip-path=\"url(#a46358a2e59)\" fill=\"#56b4e9\" stroke=\"#4da2d2\" stroke-width=\"1.1252\"/><path d=\"m167.63 54.194c0.96611 0 1.8928-0.38384 2.5759-1.067 0.68314-0.68314 1.067-1.6098 1.067-2.5759s-0.38384-1.8928-1.067-2.5759c-0.68314-0.68314-1.6098-1.067-2.5759-1.067s-1.8928 0.38384-2.5759 1.067c-0.68314 0.68314-1.067 1.6098-1.067 2.5759s0.38384 1.8928 1.067 2.5759c0.68314 0.68314 1.6098 1.067 2.5759 1.067z\" clip-path=\"url(#a46358a2e59)\" fill=\"#56b4e9\" stroke=\"#4da2d2\" stroke-width=\"1.1252\"/><path d=\"m132.67 52.751c0.96611 0 1.8928-0.38384 2.5759-1.067 0.68314-0.68314 1.067-1.6098 1.067-2.5759s-0.38384-1.8928-1.067-2.5759c-0.68314-0.68314-1.6098-1.067-2.5759-1.067s-1.8928 0.38384-2.5759 1.067c-0.68314 0.68314-1.067 1.6098-1.067 2.5759s0.38384 1.8928 1.067 2.5759c0.68314 0.68314 1.6098 1.067 2.5759 1.067z\" clip-path=\"url(#a46358a2e59)\" fill=\"#56b4e9\" stroke=\"#4da2d2\" stroke-width=\"1.1252\"/><path d=\"m90.956 51.8c0.96611 0 1.8928-0.38384 2.5759-1.067 0.68314-0.68314 1.067-1.6098 1.067-2.5759s-0.38384-1.8928-1.067-2.5759c-0.68314-0.68314-1.6098-1.067-2.5759-1.067s-1.8928 0.38384-2.5759 1.067c-0.68314 0.68314-1.067 1.6098-1.067 2.5759s0.38384 1.8928 1.067 2.5759c0.68314 0.68314 1.6098 1.067 2.5759 1.067z\" clip-path=\"url(#a46358a2e59)\" fill=\"#56b4e9\" stroke=\"#4da2d2\" stroke-width=\"1.1252\"/><path d=\"m49.24 51.627c0.96611 0 1.8928-0.38384 2.5759-1.067 0.68314-0.68314 1.067-1.6098 1.067-2.5759s-0.38384-1.8928-1.067-2.5759c-0.68314-0.68314-1.6098-1.067-2.5759-1.067s-1.8928 0.38384-2.5759 1.067c-0.68314 0.68314-1.067 1.6098-1.067 2.5759s0.38384 1.8928 1.067 2.5759c0.68314 0.68314 1.6098 1.067 2.5759 1.067z\" clip-path=\"url(#a46358a2e59)\" fill=\"#737880\" stroke=\"#5d6167\" stroke-width=\"1.1252\"/><path d=\"m14.279 52.147c0.96611 0 1.8928-0.38384 2.5759-1.067 0.68314-0.68314 1.067-1.6098 1.067-2.5759s-0.38384-1.8928-1.067-2.5759c-0.68314-0.68314-1.6098-1.067-2.5759-1.067-0.96611 0-1.8928 0.38384-2.5759 1.067-0.68314 0.68314-1.067 1.6098-1.067 2.5759s0.38384 1.8928 1.067 2.5759c0.68314 0.68314 1.6098 1.067 2.5759 1.067z\" clip-path=\"url(#a46358a2e59)\" fill=\"#56b4e9\" stroke=\"#4da2d2\" stroke-width=\"1.1252\"/><path d=\"m167.93 94.907c0.96611 0 1.8928-0.38384 2.5759-1.067 0.68314-0.68314 1.067-1.6098 1.067-2.5759 0-0.96611-0.38384-1.8928-1.067-2.5759-0.68314-0.68314-1.6098-1.067-2.5759-1.067s-1.8928 0.38384-2.5759 1.067c-0.68314 0.68314-1.067 1.6098-1.067 2.5759 0 0.96611 0.38384 1.8928 1.067 2.5759 0.68314 0.68314 1.6098 1.067 2.5759 1.067z\" clip-path=\"url(#a46358a2e59)\" fill=\"#737880\" stroke=\"#5d6167\" stroke-width=\"1.1252\"/><path d=\"m132.63 94.559c0.96611 0 1.8928-0.38384 2.5759-1.067 0.68314-0.68314 1.067-1.6098 1.067-2.5759s-0.38384-1.8928-1.067-2.5759c-0.68314-0.68314-1.6098-1.067-2.5759-1.067s-1.8928 0.38384-2.5759 1.067c-0.68314 0.68314-1.067 1.6098-1.067 2.5759s0.38384 1.8928 1.067 2.5759c0.68314 0.68314 1.6098 1.067 2.5759 1.067z\" clip-path=\"url(#a46358a2e59)\" fill=\"#737880\" stroke=\"#5d6167\" stroke-width=\"1.1252\"/><path d=\"m90.378 93.949c0.96611 0 1.8928-0.38384 2.5759-1.067 0.68314-0.68314 1.067-1.6098 1.067-2.5759s-0.38384-1.8928-1.067-2.5759c-0.68314-0.68314-1.6098-1.067-2.5759-1.067s-1.8928 0.38384-2.5759 1.067c-0.68314 0.68314-1.067 1.6098-1.067 2.5759s0.38384 1.8928 1.067 2.5759c0.68314 0.68314 1.6098 1.067 2.5759 1.067z\" clip-path=\"url(#a46358a2e59)\" fill=\"#737880\" stroke=\"#5d6167\" stroke-width=\"1.1252\"/><path d=\"m48.18 93.354c0.96611 0 1.8928-0.38384 2.5759-1.067 0.68314-0.68314 1.067-1.6098 1.067-2.5759 0-0.96611-0.38384-1.8928-1.067-2.5759-0.68314-0.68314-1.6098-1.067-2.5759-1.067s-1.8928 0.38384-2.5759 1.067c-0.68314 0.68314-1.067 1.6098-1.067 2.5759 0 0.96611 0.38384 1.8928 1.067 2.5759 0.68314 0.68314 1.6098 1.067 2.5759 1.067z\" clip-path=\"url(#a46358a2e59)\" fill=\"#737880\" stroke=\"#5d6167\" stroke-width=\"1.1252\"/><path d=\"m12.838 92.677c0.96611 0 1.8928-0.38384 2.5759-1.067 0.68314-0.68314 1.067-1.6098 1.067-2.5759s-0.38384-1.8928-1.067-2.5759c-0.68314-0.68314-1.6098-1.067-2.5759-1.067s-1.8928 0.38384-2.5759 1.067c-0.68314 0.68314-1.067 1.6098-1.067 2.5759s0.38384 1.8928 1.067 2.5759c0.68314 0.68314 1.6098 1.067 2.5759 1.067z\" clip-path=\"url(#a46358a2e59)\" fill=\"#737880\" stroke=\"#5d6167\" stroke-width=\"1.1252\"/><path d=\"m166.6 135.66c0.96611 0 1.8928-0.38384 2.5759-1.067 0.68314-0.68314 1.067-1.6098 1.067-2.5759s-0.38384-1.8928-1.067-2.5759c-0.68314-0.68314-1.6098-1.067-2.5759-1.067-0.96611 0-1.8928 0.38384-2.5759 1.067-0.68314 0.68314-1.067 1.6098-1.067 2.5759s0.38384 1.8928 1.067 2.5759c0.68314 0.68314 1.6098 1.067 2.5759 1.067z\" clip-path=\"url(#a46358a2e59)\" fill=\"#56b4e9\" stroke=\"#4da2d2\" stroke-width=\"1.1252\"/><path d=\"m131.54 136.34c0.96611 0 1.8928-0.38384 2.5759-1.067 0.68314-0.68314 1.067-1.6098 1.067-2.5759s-0.38384-1.8928-1.067-2.5759c-0.68314-0.68314-1.6098-1.067-2.5759-1.067s-1.8928 0.38384-2.5759 1.067c-0.68314 0.68314-1.067 1.6098-1.067 2.5759s0.38384 1.8928 1.067 2.5759c0.68314 0.68314 1.6098 1.067 2.5759 1.067z\" clip-path=\"url(#a46358a2e59)\" fill=\"#56b4e9\" stroke=\"#4da2d2\" stroke-width=\"1.1252\"/><path d=\"m89.766 136.26c0.96611 0 1.8928-0.38384 2.5759-1.067 0.68314-0.68314 1.067-1.6098 1.067-2.5759s-0.38384-1.8928-1.067-2.5759c-0.68314-0.68314-1.6098-1.067-2.5759-1.067s-1.8928 0.38384-2.5759 1.067c-0.68314 0.68314-1.067 1.6098-1.067 2.5759s0.38384 1.8928 1.067 2.5759c0.68314 0.68314 1.6098 1.067 2.5759 1.067z\" clip-path=\"url(#a46358a2e59)\" fill=\"#56b4e9\" stroke=\"#4da2d2\" stroke-width=\"1.1252\"/><path d=\"m47.941 135.05c0.96611 0 1.8928-0.38384 2.5759-1.067 0.68314-0.68314 1.067-1.6098 1.067-2.5759s-0.38384-1.8928-1.067-2.5759c-0.68314-0.68314-1.6098-1.067-2.5759-1.067-0.96611 0-1.8928 0.38384-2.5759 1.067-0.68314 0.68314-1.067 1.6098-1.067 2.5759s0.38384 1.8928 1.067 2.5759c0.68314 0.68314 1.6098 1.067 2.5759 1.067z\" clip-path=\"url(#a46358a2e59)\" fill=\"#737880\" stroke=\"#5d6167\" stroke-width=\"1.1252\"/><path d=\"m12.939 133.31c0.96611 0 1.8928-0.38384 2.5759-1.067 0.68314-0.68314 1.067-1.6098 1.067-2.5759s-0.38384-1.8928-1.067-2.5759c-0.68314-0.68314-1.6098-1.067-2.5759-1.067-0.96611 0-1.8928 0.38384-2.5759 1.067-0.68314 0.68314-1.067 1.6098-1.067 2.5759s0.38384 1.8928 1.067 2.5759c0.68314 0.68314 1.6098 1.067 2.5759 1.067z\" clip-path=\"url(#a46358a2e59)\" fill=\"#56b4e9\" stroke=\"#4da2d2\" stroke-width=\"1.1252\"/><path d=\"m163.96 169.61c0.96611 0 1.8928-0.38384 2.5759-1.067 0.68314-0.68314 1.067-1.6098 1.067-2.5759s-0.38384-1.8928-1.067-2.5759c-0.68314-0.68314-1.6098-1.067-2.5759-1.067s-1.8928 0.38384-2.5759 1.067c-0.68314 0.68314-1.067 1.6098-1.067 2.5759s0.38384 1.8928 1.067 2.5759c0.68314 0.68314 1.6098 1.067 2.5759 1.067z\" clip-path=\"url(#a46358a2e59)\" fill=\"#56b4e9\" stroke=\"#4da2d2\" stroke-width=\"1.1252\"/><path d=\"m129.86 171.32c0.96611 0 1.8928-0.38384 2.5759-1.067 0.68314-0.68314 1.067-1.6098 1.067-2.5759s-0.38384-1.8928-1.067-2.5759c-0.68314-0.68314-1.6098-1.067-2.5759-1.067s-1.8928 0.38384-2.5759 1.067c-0.68314 0.68314-1.067 1.6098-1.067 2.5759s0.38384 1.8928 1.067 2.5759c0.68314 0.68314 1.6098 1.067 2.5759 1.067z\" clip-path=\"url(#a46358a2e59)\" fill=\"#56b4e9\" stroke=\"#4da2d2\" stroke-width=\"1.1252\"/><path d=\"m89.225 171.53c0.96611 0 1.8928-0.38384 2.5759-1.067 0.68314-0.68314 1.067-1.6098 1.067-2.5759s-0.38384-1.8928-1.067-2.5759c-0.68314-0.68314-1.6098-1.067-2.5759-1.067s-1.8928 0.38384-2.5759 1.067c-0.68314 0.68314-1.067 1.6098-1.067 2.5759s0.38384 1.8928 1.067 2.5759c0.68314 0.68314 1.6098 1.067 2.5759 1.067z\" clip-path=\"url(#a46358a2e59)\" fill=\"#56b4e9\" stroke=\"#4da2d2\" stroke-width=\"1.1252\"/><path d=\"m48.49 170.04c0.96611 0 1.8928-0.38384 2.5759-1.067 0.68314-0.68314 1.067-1.6098 1.067-2.5759s-0.38384-1.8928-1.067-2.5759c-0.68314-0.68314-1.6098-1.067-2.5759-1.067s-1.8928 0.38384-2.5759 1.067c-0.68314 0.68314-1.067 1.6098-1.067 2.5759s0.38384 1.8928 1.067 2.5759c0.68314 0.68314 1.6098 1.067 2.5759 1.067z\" clip-path=\"url(#a46358a2e59)\" fill=\"#737880\" stroke=\"#5d6167\" stroke-width=\"1.1252\"/><path d=\"m14.453 167.25c0.96611 0 1.8928-0.38384 2.5759-1.067 0.68314-0.68314 1.067-1.6098 1.067-2.5759 0-0.96611-0.38384-1.8928-1.067-2.5759-0.68314-0.68314-1.6098-1.067-2.5759-1.067s-1.8928 0.38384-2.5759 1.067c-0.68314 0.68314-1.067 1.6098-1.067 2.5759 0 0.96611 0.38384 1.8928 1.067 2.5759 0.68314 0.68314 1.6098 1.067 2.5759 1.067z\" clip-path=\"url(#a46358a2e59)\" fill=\"#56b4e9\" stroke=\"#4da2d2\" stroke-width=\"1.1252\"/><path d=\"m180.57 99.226h62.102q2 0 2-2v-13.731q0-2-2-2h-62.102q-2 0-2 2v13.731q0 2 2 2z\" fill=\"none\" stroke=\"#999999\" stroke-opacity=\".2\"/><defs><path id=\"b44ef692bf1\" d=\"m0 5c1.326 0 2.5979-0.52683 3.5355-1.4645 0.93763-0.93764 1.4645-2.2095 1.4645-3.5355s-0.52683-2.5979-1.4645-3.5355c-0.93764-0.93763-2.2095-1.4645-3.5355-1.4645s-2.5979 0.52683-3.5355 1.4645c-0.93763 0.93764-1.4645 2.2095-1.4645 3.5355s0.52683 2.5979 1.4645 3.5355c0.93764 0.93763 2.2095 1.4645 3.5355 1.4645z\" stroke=\"#4da2d2\"/></defs><use x=\"192.566549\" y=\"89.645938\" fill=\"#56b4e9\" stroke=\"#4da2d2\" xlink:href=\"#b44ef692bf1\"/><g transform=\"translate(210.57 93.146) scale(.1 -.1)\" fill=\"#545759\"><defs><path id=\"DejaVuSansMono-21\" transform=\"scale(.015625)\" d=\"m1613 4666h634v-2047l-66-1116h-503l-65 1116v2047zm0-3872h634v-794h-634v794z\"/><path id=\"DejaVuSansMono-41\" transform=\"scale(.015625)\" d=\"m1925 4109-666-2387h1332l-666 2387zm-381 557h765l1429-4666h-654l-343 1216h-1635l-337-1216h-653l1428 4666z\"/><path id=\"DejaVuSansMono-4e\" transform=\"scale(.015625)\" d=\"m434 4666h800l1575-3841v3841h610v-4666h-800l-1575 3841v-3841h-610v4666z\"/><path id=\"DejaVuSansMono-59\" transform=\"scale(.015625)\" d=\"m116 4666h672l1137-2060 1134 2060h679l-1497-2572v-2094h-635v2094l-1490 2572z\"/></defs><use xlink:href=\"#DejaVuSansMono-20\"/><use x=\"60.205078\" xlink:href=\"#DejaVuSansMono-21\"/><use x=\"120.410156\" xlink:href=\"#DejaVuSansMono-41\"/><use x=\"180.615234\" xlink:href=\"#DejaVuSansMono-4e\"/><use x=\"240.820312\" xlink:href=\"#DejaVuSansMono-59\"/></g><defs><clipPath id=\"a46358a2e59\"><rect x=\"7.2\" y=\"7.2\" width=\"166.37\" height=\"166.32\"/></clipPath></defs></svg>"
      ],
      "text/plain": [
       "<Figure size 300x300 with 1 Axes>"
      ]
     },
     "metadata": {
      "needs_background": "light"
     },
     "output_type": "display_data"
    }
   ],
   "source": [
    "tn.select(tags=['X2', 'Y3'], which='!any').add_tag('!ANY')\n",
    "tn.draw('!ANY', figsize=(3, 3))"
   ]
  },
  {
   "cell_type": "markdown",
   "id": "beffc29c-a696-4dd0-8123-ef3ac7245d28",
   "metadata": {
    "raw_mimetype": "text/restructuredtext",
    "tags": []
   },
   "source": [
    "Several methods exist for returning the tagged tensors directly:\n",
    "\n",
    "- [`TensorNetwork.select`](quimb.tensor.tensor_core.TensorNetwork.select) - get a tagged region as a tensor network\n",
    "- [`TensorNetwork.select_tensors`](quimb.tensor.tensor_core.TensorNetwork.select_tensors) - get tagged tensors directly\n",
    "- [`TensorNetwork.partition`](quimb.tensor.tensor_core.TensorNetwork.partition) - partition into a two tensor networks\n",
    "- [`TensorNetwork.partition_tensors`](quimb.tensor.tensor_core.TensorNetwork.partition_tensors) - partition into two groups of tensors directly\n",
    "- [`TensorNetwork.select_local`](quimb.tensor.tensor_core.TensorNetwork.select_local) - get a local region as a tensor network\n",
    "\n",
    "Using the `tn[tags]` syntax is like calling `tn.select_tensors(tags, which='all')`:"
   ]
  },
  {
   "cell_type": "code",
   "execution_count": 29,
   "id": "6a2c5e06-36d9-479a-acc2-7673e92550e4",
   "metadata": {},
   "outputs": [
    {
     "data": {
      "text/html": [
       "<samp style='font-size: 12px;'><details><summary><b style=\"color: #e55471;\">Tensor</b>(shape=(<b style=\"color: #80d749;\">4</b>, <b style=\"color: #80d749;\">4</b>, <b style=\"color: #80d749;\">4</b>, <b style=\"color: #80d749;\">4</b>), inds=[<b style=\"color: #d8678b;\">_835204AAABZ</b>, <b style=\"color: #ad98dd;\">_835204AAABb</b>, <b style=\"color: #e3ac78;\">_835204AAABc</b>, <b style=\"color: #3093cd;\">_835204AAABT</b>], tags={<b style=\"color: #dfd34b;\">I2,3</b>, <b style=\"color: #c654d5;\">X2</b>, <b style=\"color: #63d5a7;\">Y3</b>, <b style=\"color: #d66a6c;\">ALL</b>, <b style=\"color: #cfaa65;\">ANY</b>}),</summary>backend=<b style=\"color: #7fdd73;\">numpy</b>, dtype=<b style=\"color: #75d2c6;\">float64</b>, data=...</details></samp>"
      ],
      "text/plain": [
       "Tensor(shape=(4, 4, 4, 4), inds=('_835204AAABZ', '_835204AAABb', '_835204AAABc', '_835204AAABT'), tags=oset(['I2,3', 'X2', 'Y3', 'ALL', 'ANY']))"
      ]
     },
     "execution_count": 29,
     "metadata": {},
     "output_type": "execute_result"
    }
   ],
   "source": [
    "tn['X2', 'Y3']"
   ]
  },
  {
   "cell_type": "markdown",
   "id": "92807b3c-63dc-49ce-9c23-0e1fea472672",
   "metadata": {},
   "source": [
    "Although some special tensor networks also accept a lattice coordinate here as well:"
   ]
  },
  {
   "cell_type": "code",
   "execution_count": 30,
   "id": "2a9d0254-3aeb-4b08-8242-34e580a49406",
   "metadata": {},
   "outputs": [
    {
     "data": {
      "text/html": [
       "<samp style='font-size: 12px;'><details><summary><b style=\"color: #e55471;\">Tensor</b>(shape=(<b style=\"color: #80d749;\">4</b>, <b style=\"color: #80d749;\">4</b>, <b style=\"color: #80d749;\">4</b>, <b style=\"color: #80d749;\">4</b>), inds=[<b style=\"color: #d8678b;\">_835204AAABZ</b>, <b style=\"color: #ad98dd;\">_835204AAABb</b>, <b style=\"color: #e3ac78;\">_835204AAABc</b>, <b style=\"color: #3093cd;\">_835204AAABT</b>], tags={<b style=\"color: #dfd34b;\">I2,3</b>, <b style=\"color: #c654d5;\">X2</b>, <b style=\"color: #63d5a7;\">Y3</b>, <b style=\"color: #d66a6c;\">ALL</b>, <b style=\"color: #cfaa65;\">ANY</b>}),</summary>backend=<b style=\"color: #7fdd73;\">numpy</b>, dtype=<b style=\"color: #75d2c6;\">float64</b>, data=...</details></samp>"
      ],
      "text/plain": [
       "Tensor(shape=(4, 4, 4, 4), inds=('_835204AAABZ', '_835204AAABb', '_835204AAABc', '_835204AAABT'), tags=oset(['I2,3', 'X2', 'Y3', 'ALL', 'ANY']))"
      ]
     },
     "execution_count": 30,
     "metadata": {},
     "output_type": "execute_result"
    }
   ],
   "source": [
    "tn[2, 3]"
   ]
  },
  {
   "cell_type": "markdown",
   "id": "fc373c17-3d26-4aaf-9780-ee6ac73622a8",
   "metadata": {
    "raw_mimetype": "text/restructuredtext",
    "tags": []
   },
   "source": [
    ":::{hint}\n",
    "You can iterate over all tensors in a tensor network like so:\n",
    "\n",
    "```python3\n",
    "for t in tn:\n",
    "    ...\n",
    "```\n",
    ":::\n",
    "\n",
    "Behind the scenes, tensors in a tensor network are stored using a unique `tid` - an integer\n",
    "denoting which node they are in the network. See {ref}`tensor-network-design` for a more low\n",
    "level description.\n",
    "\n",
    "### Virtual vs Copies\n",
    "\n",
    "An important concept when selecting tensors from tensor networks is whether the operation\n",
    "takes a copy of the tensors, or is simply viewing them 'virtually'. In the examples above\n",
    "because {meth}`~quimb.tensor.tensor_core.TensorNetwork.select` defaults to `virtual=True`,\n",
    "when we modified the tensors by adding the tags `('ALL', '!ALL', 'ANY', '!ANY')`, we\n",
    "are modifying the tensors in the original network too. Similarly, when we construct a\n",
    "tensor network like so:"
   ]
  },
  {
   "cell_type": "code",
   "execution_count": 31,
   "id": "040ac949-eb3c-4d59-b883-d0b3d5c47dee",
   "metadata": {},
   "outputs": [],
   "source": [
    "tn = qtn.TensorNetwork([ta, tb, tc, td], virtual=True)"
   ]
  },
  {
   "cell_type": "markdown",
   "id": "596ecf1e-615a-43c5-8b32-eebe638b731f",
   "metadata": {},
   "source": [
    "which is equivalent to"
   ]
  },
  {
   "cell_type": "code",
   "execution_count": 32,
   "id": "2a30c5c5-10d4-4be7-9085-1df8c7689e0b",
   "metadata": {},
   "outputs": [],
   "source": [
    "tn = (ta | tb | tc | td)"
   ]
  },
  {
   "cell_type": "markdown",
   "id": "941a79bc-bd1d-4b0c-9f42-cbc7245870b6",
   "metadata": {},
   "source": [
    "the new TN is *viewing* those tensors and so changes to them will affect ``tn``\n",
    "and vice versa. Note this is *not* the default behaviour."
   ]
  },
  {
   "cell_type": "markdown",
   "id": "b8e5c1e7-35ac-4ea9-9ce7-cad5bab6f45a",
   "metadata": {
    "raw_mimetype": "text/restructuredtext",
    "tags": []
   },
   "source": [
    ":::{warning}\n",
    "The underlying tensor arrays - `t.data` - are always assumed to be immutable\n",
    "and for efficiency are never copied by default in `quimb`.\n",
    ":::\n",
    "\n",
    "## Modification\n",
    "\n",
    "Whilst many high level functions handle all the tensor modifications for you, at some\n",
    "point you will likely want to directly update, for example, the data in a\n",
    "{class}`~quimb.tensor.tensor_core.Tensor`. The low-level method for performing arbitrary\n",
    "changes to a tensors `data`, `inds` and `tags` is\n",
    "{meth}`~quimb.tensor.tensor_core.Tensor.modify`.\n",
    "\n",
    "The reason that this is encapsulated thus, which is something to be aware of, is so that\n",
    "the tensor can let any tensor networks viewing it know of the changes. For example, often\n",
    "we want to iterate over tensors in a TN and change them on this atomic level, but not have\n",
    "to worry about the TN's efficient maps which keep track of all the indices and tags going\n",
    "out of sync."
   ]
  },
  {
   "cell_type": "code",
   "execution_count": 33,
   "id": "1af2f302-c742-47a0-95ca-1a24d63d7e60",
   "metadata": {},
   "outputs": [
    {
     "data": {
      "image/svg+xml": [
       "<?xml version=\"1.0\" encoding=\"UTF-8\"?><!DOCTYPE svg  PUBLIC '-//W3C//DTD SVG 1.1//EN'  'http://www.w3.org/Graphics/SVG/1.1/DTD/svg11.dtd'><svg width=\"349.2pt\" height=\"158.83pt\" version=\"1.1\" viewBox=\"0 0 349.2 158.83\" xmlns=\"http://www.w3.org/2000/svg\" xmlns:xlink=\"http://www.w3.org/1999/xlink\"><defs><style type=\"text/css\">*{stroke-linejoin: round; stroke-linecap: butt}</style></defs><path d=\"m0 158.83h349.2v-158.83h-349.2v158.83z\" opacity=\"0\"/><path d=\"m68.94 110.95-46.548-71.88\" clip-path=\"url(#d6d6a0fb679)\" fill=\"none\" stroke=\"#737880\" stroke-linecap=\"round\" stroke-opacity=\".5\" stroke-width=\"1.585\"/><path d=\"m68.94 110.95-51.273-36.864\" clip-path=\"url(#d6d6a0fb679)\" fill=\"none\" stroke=\"#737880\" stroke-linecap=\"round\" stroke-opacity=\".5\" stroke-width=\"1.585\"/><path d=\"m68.94 110.95 101.97 32.079\" clip-path=\"url(#d6d6a0fb679)\" fill=\"none\" stroke=\"#737880\" stroke-linecap=\"round\" stroke-opacity=\".5\" stroke-width=\"1.585\"/><path d=\"m318.37 121.65-55.472-48.642\" clip-path=\"url(#d6d6a0fb679)\" fill=\"none\" stroke=\"#737880\" stroke-linecap=\"round\" stroke-opacity=\".5\" stroke-width=\"1.585\"/><path d=\"m318.37 121.65 13.16-40.67\" clip-path=\"url(#d6d6a0fb679)\" fill=\"none\" stroke=\"#737880\" stroke-linecap=\"round\" stroke-opacity=\".5\" stroke-width=\"1.585\"/><path d=\"m318.37 121.65-76.133-12.748\" clip-path=\"url(#d6d6a0fb679)\" fill=\"none\" stroke=\"#737880\" stroke-linecap=\"round\" stroke-opacity=\".5\" stroke-width=\"1.585\"/><path d=\"m271.21 29.38-28.971 79.525\" clip-path=\"url(#d6d6a0fb679)\" fill=\"none\" stroke=\"#737880\" stroke-linecap=\"round\" stroke-opacity=\".5\" stroke-width=\"1.585\"/><path d=\"m271.21 29.38-81.166-13.579\" clip-path=\"url(#d6d6a0fb679)\" fill=\"none\" stroke=\"#737880\" stroke-linecap=\"round\" stroke-opacity=\".5\" stroke-width=\"1.585\"/><path d=\"m271.21 29.38 60.323 51.603\" clip-path=\"url(#d6d6a0fb679)\" fill=\"none\" stroke=\"#737880\" stroke-linecap=\"round\" stroke-opacity=\".5\" stroke-width=\"1.585\"/><path d=\"m17.667 74.085 64.976-55.748\" clip-path=\"url(#d6d6a0fb679)\" fill=\"none\" stroke=\"#737880\" stroke-linecap=\"round\" stroke-opacity=\".5\" stroke-width=\"1.585\"/><path d=\"m17.667 74.085 4.7251-35.016\" clip-path=\"url(#d6d6a0fb679)\" fill=\"none\" stroke=\"#737880\" stroke-linecap=\"round\" stroke-opacity=\".5\" stroke-width=\"1.585\"/><path d=\"m82.643 18.337 107.4-2.536\" clip-path=\"url(#d6d6a0fb679)\" fill=\"none\" stroke=\"#737880\" stroke-linecap=\"round\" stroke-opacity=\".5\" stroke-width=\"1.585\"/><path d=\"m82.643 18.337-60.251 20.733\" clip-path=\"url(#d6d6a0fb679)\" fill=\"none\" stroke=\"#737880\" stroke-linecap=\"round\" stroke-opacity=\".5\" stroke-width=\"1.585\"/><path d=\"m262.9 73.011-72.856-57.21\" clip-path=\"url(#d6d6a0fb679)\" fill=\"none\" stroke=\"#737880\" stroke-linecap=\"round\" stroke-opacity=\".5\" stroke-width=\"1.585\"/><path d=\"m262.9 73.011 2.031 69.977\" clip-path=\"url(#d6d6a0fb679)\" fill=\"none\" stroke=\"#737880\" stroke-linecap=\"round\" stroke-opacity=\".5\" stroke-width=\"1.585\"/><path d=\"m170.91 143.03 94.023-0.040049\" clip-path=\"url(#d6d6a0fb679)\" fill=\"none\" stroke=\"#737880\" stroke-linecap=\"round\" stroke-opacity=\".5\" stroke-width=\"1.585\"/><path d=\"m170.91 143.03 71.331-34.123\" clip-path=\"url(#d6d6a0fb679)\" fill=\"none\" stroke=\"#737880\" stroke-linecap=\"round\" stroke-opacity=\".5\" stroke-width=\"1.585\"/><path d=\"m264.93 142.99 66.602-62.005\" clip-path=\"url(#d6d6a0fb679)\" fill=\"none\" stroke=\"#737880\" stroke-linecap=\"round\" stroke-opacity=\".5\" stroke-width=\"1.585\"/><path d=\"m68.94 117.48c1.7322 0 3.3938-0.68823 4.6187-1.9131s1.9131-2.8864 1.9131-4.6187c0-1.7322-0.68823-3.3938-1.9131-4.6187-1.2249-1.2249-2.8864-1.9131-4.6187-1.9131-1.7322 0-3.3938 0.68823-4.6187 1.9131-1.2249 1.2249-1.9131 2.8864-1.9131 4.6187 0 1.7322 0.68823 3.3938 1.9131 4.6187 1.2249 1.2249 2.8864 1.9131 4.6187 1.9131z\" clip-path=\"url(#d6d6a0fb679)\" fill=\"#737880\" stroke=\"#5d6167\" stroke-width=\"1.2315\"/><path d=\"m318.37 128.19c1.7322 0 3.3938-0.68823 4.6187-1.9131 1.2249-1.2249 1.9131-2.8864 1.9131-4.6187 0-1.7322-0.68823-3.3938-1.9131-4.6187-1.2249-1.2249-2.8864-1.9131-4.6187-1.9131s-3.3938 0.68823-4.6187 1.9131c-1.2249 1.2249-1.9131 2.8864-1.9131 4.6187 0 1.7322 0.68823 3.3938 1.9131 4.6187 1.2249 1.2249 2.8864 1.9131 4.6187 1.9131z\" clip-path=\"url(#d6d6a0fb679)\" fill=\"#737880\" stroke=\"#5d6167\" stroke-width=\"1.2315\"/><path d=\"m271.21 35.912c1.7322 0 3.3938-0.68823 4.6187-1.9131 1.2249-1.2249 1.9131-2.8864 1.9131-4.6187s-0.68823-3.3938-1.9131-4.6187c-1.2249-1.2249-2.8864-1.9131-4.6187-1.9131-1.7322 0-3.3938 0.68823-4.6187 1.9131-1.2249 1.2249-1.9131 2.8864-1.9131 4.6187s0.68823 3.3938 1.9131 4.6187c1.2249 1.2249 2.8864 1.9131 4.6187 1.9131z\" clip-path=\"url(#d6d6a0fb679)\" fill=\"#737880\" stroke=\"#5d6167\" stroke-width=\"1.2315\"/><path d=\"m17.667 80.617c1.7322 0 3.3938-0.68823 4.6187-1.9131 1.2249-1.2249 1.9131-2.8864 1.9131-4.6187s-0.68823-3.3938-1.9131-4.6187c-1.2249-1.2249-2.8864-1.9131-4.6187-1.9131-1.7322 0-3.3938 0.68823-4.6187 1.9131s-1.9131 2.8864-1.9131 4.6187 0.68823 3.3938 1.9131 4.6187c1.2249 1.2249 2.8864 1.9131 4.6187 1.9131z\" clip-path=\"url(#d6d6a0fb679)\" fill=\"#737880\" stroke=\"#5d6167\" stroke-width=\"1.2315\"/><path d=\"m82.643 24.869c1.7322 0 3.3938-0.68823 4.6187-1.9131 1.2249-1.2249 1.9131-2.8864 1.9131-4.6187 0-1.7322-0.68823-3.3938-1.9131-4.6187-1.2249-1.2249-2.8864-1.9131-4.6187-1.9131-1.7322 0-3.3938 0.68823-4.6187 1.9131-1.2249 1.2249-1.9131 2.8864-1.9131 4.6187 0 1.7322 0.68823 3.3938 1.9131 4.6187 1.2249 1.2249 2.8864 1.9131 4.6187 1.9131z\" clip-path=\"url(#d6d6a0fb679)\" fill=\"#737880\" stroke=\"#5d6167\" stroke-width=\"1.2315\"/><path d=\"m22.392 45.602c1.7322 0 3.3938-0.68823 4.6187-1.9131 1.2249-1.2249 1.9131-2.8864 1.9131-4.6187 0-1.7322-0.68823-3.3938-1.9131-4.6187-1.2249-1.2249-2.8864-1.9131-4.6187-1.9131-1.7322 0-3.3938 0.68823-4.6187 1.9131-1.2249 1.2249-1.9131 2.8864-1.9131 4.6187 0 1.7322 0.68823 3.3938 1.9131 4.6187 1.2249 1.2249 2.8864 1.9131 4.6187 1.9131z\" clip-path=\"url(#d6d6a0fb679)\" fill=\"#737880\" stroke=\"#5d6167\" stroke-width=\"1.2315\"/><path d=\"m262.9 79.543c1.7322 0 3.3938-0.68823 4.6187-1.9131 1.2249-1.2249 1.9131-2.8864 1.9131-4.6187 0-1.7322-0.68823-3.3938-1.9131-4.6187-1.2249-1.2249-2.8864-1.9131-4.6187-1.9131s-3.3938 0.68823-4.6187 1.9131c-1.2249 1.2249-1.9131 2.8864-1.9131 4.6187 0 1.7322 0.68823 3.3938 1.9131 4.6187 1.2249 1.2249 2.8864 1.9131 4.6187 1.9131z\" clip-path=\"url(#d6d6a0fb679)\" fill=\"#737880\" stroke=\"#5d6167\" stroke-width=\"1.2315\"/><path d=\"m170.91 149.56c1.7322 0 3.3938-0.68823 4.6187-1.9131 1.2249-1.2249 1.9131-2.8864 1.9131-4.6187s-0.68823-3.3938-1.9131-4.6187c-1.2249-1.2249-2.8864-1.9131-4.6187-1.9131s-3.3938 0.68823-4.6187 1.9131c-1.2249 1.2249-1.9131 2.8864-1.9131 4.6187s0.68823 3.3938 1.9131 4.6187 2.8864 1.9131 4.6187 1.9131z\" clip-path=\"url(#d6d6a0fb679)\" fill=\"#737880\" stroke=\"#5d6167\" stroke-width=\"1.2315\"/><path d=\"m264.93 149.52c1.7322 0 3.3938-0.68823 4.6187-1.9131 1.2249-1.2249 1.9131-2.8864 1.9131-4.6187 0-1.7322-0.68823-3.3938-1.9131-4.6187-1.2249-1.2249-2.8864-1.9131-4.6187-1.9131-1.7322 0-3.3938 0.68823-4.6187 1.9131-1.2249 1.2249-1.9131 2.8864-1.9131 4.6187 0 1.7322 0.68823 3.3938 1.9131 4.6187s2.8864 1.9131 4.6187 1.9131z\" clip-path=\"url(#d6d6a0fb679)\" fill=\"#737880\" stroke=\"#5d6167\" stroke-width=\"1.2315\"/><path d=\"m331.53 87.515c1.7322 0 3.3938-0.68823 4.6187-1.9131s1.9131-2.8864 1.9131-4.6187c0-1.7322-0.68823-3.3938-1.9131-4.6187-1.2249-1.2249-2.8864-1.9131-4.6187-1.9131-1.7322 0-3.3938 0.68823-4.6187 1.9131-1.2249 1.2249-1.9131 2.8864-1.9131 4.6187 0 1.7322 0.68823 3.3938 1.9131 4.6187 1.2249 1.2249 2.8864 1.9131 4.6187 1.9131z\" clip-path=\"url(#d6d6a0fb679)\" fill=\"#737880\" stroke=\"#5d6167\" stroke-width=\"1.2315\"/><path d=\"m242.24 115.44c1.7322 0 3.3938-0.68823 4.6187-1.9131 1.2249-1.2249 1.9131-2.8864 1.9131-4.6187s-0.68823-3.3938-1.9131-4.6187c-1.2249-1.2249-2.8864-1.9131-4.6187-1.9131s-3.3938 0.68823-4.6187 1.9131c-1.2249 1.2249-1.9131 2.8864-1.9131 4.6187s0.68823 3.3938 1.9131 4.6187c1.2249 1.2249 2.8864 1.9131 4.6187 1.9131z\" clip-path=\"url(#d6d6a0fb679)\" fill=\"#737880\" stroke=\"#5d6167\" stroke-width=\"1.2315\"/><path d=\"m190.04 22.333c1.7322 0 3.3938-0.68823 4.6187-1.9131 1.2249-1.2249 1.9131-2.8864 1.9131-4.6187 0-1.7322-0.68823-3.3938-1.9131-4.6187-1.2249-1.2249-2.8864-1.9131-4.6187-1.9131-1.7322 0-3.3938 0.68823-4.6187 1.9131-1.2249 1.2249-1.9131 2.8864-1.9131 4.6187 0 1.7322 0.68823 3.3938 1.9131 4.6187 1.2249 1.2249 2.8864 1.9131 4.6187 1.9131z\" clip-path=\"url(#d6d6a0fb679)\" fill=\"#737880\" stroke=\"#5d6167\" stroke-width=\"1.2315\"/><g transform=\"translate(62.92 113.74) scale(.1 -.1)\" fill=\"#545759\"><defs><path id=\"DejaVuSansMono-49\" transform=\"scale(.015625)\" d=\"m628 4666h2591v-532h-978v-3603h978v-531h-2591v531h978v3603h-978v532z\"/><path id=\"DejaVuSansMono-30\" transform=\"scale(.015625)\" d=\"m1509 2344q0 172 120 297 121 125 290 125 175 0 300-125t125-297q0-175-124-297-123-122-301-122-175 0-293 119-117 119-117 300zm416 1906q-441 0-658-475t-217-1447q0-969 217-1444t658-475q444 0 661 475t217 1444q0 972-217 1447t-661 475zm0 500q747 0 1130-613 383-612 383-1809 0-1194-383-1807-383-612-1130-612t-1128 612q-381 613-381 1807 0 1197 381 1809 381 613 1128 613z\"/></defs><use xlink:href=\"#DejaVuSansMono-49\"/><use x=\"60.205078\" xlink:href=\"#DejaVuSansMono-30\"/></g><g transform=\"translate(312.35 124.44) scale(.1 -.1)\" fill=\"#545759\"><defs><path id=\"DejaVuSansMono-31\" transform=\"scale(.015625)\" d=\"m844 531h981v3566l-1056-238v575l1050 232h631v-4135h969v-531h-2575v531z\"/></defs><use xlink:href=\"#DejaVuSansMono-49\"/><use x=\"60.205078\" xlink:href=\"#DejaVuSansMono-31\"/></g><g transform=\"translate(265.19 32.166) scale(.1 -.1)\" fill=\"#545759\"><defs><path id=\"DejaVuSansMono-32\" transform=\"scale(.015625)\" d=\"m1166 531h2143v-531h-2834v531q584 616 1021 1088 438 472 604 665 313 382 422 618t109 482q0 391-230 613-229 222-629 222-284 0-597-103-312-103-662-313v638q321 153 632 231t614 78q685 0 1102-364t417-955q0-300-139-600t-451-662q-175-203-508-563-333-359-1014-1075z\"/></defs><use xlink:href=\"#DejaVuSansMono-49\"/><use x=\"60.205078\" xlink:href=\"#DejaVuSansMono-32\"/></g><g transform=\"translate(11.647 76.871) scale(.1 -.1)\" fill=\"#545759\"><defs><path id=\"DejaVuSansMono-33\" transform=\"scale(.015625)\" d=\"m2425 2497q459-122 703-433t244-776q0-644-433-1012-433-367-1198-367-322 0-657 60-334 59-656 172v628q319-166 628-247 310-81 616-81 519 0 797 234t278 675q0 406-278 645t-753 239h-482v519h482q434 0 678 190 244 191 244 532 0 359-227 551-227 193-645 193-278 0-575-63-297-62-622-187v581q378 100 673 150 296 50 524 50 681 0 1089-342t408-908q0-384-215-641-214-256-623-362z\"/></defs><use xlink:href=\"#DejaVuSansMono-49\"/><use x=\"60.205078\" xlink:href=\"#DejaVuSansMono-33\"/></g><g transform=\"translate(76.623 21.123) scale(.1 -.1)\" fill=\"#545759\"><defs><path id=\"DejaVuSansMono-34\" transform=\"scale(.015625)\" d=\"m2297 4091-1472-2466h1472v2466zm-103 575h731v-3041h622v-512h-622v-1113h-628v1113h-1978v596l1875 2957z\"/></defs><use xlink:href=\"#DejaVuSansMono-49\"/><use x=\"60.205078\" xlink:href=\"#DejaVuSansMono-34\"/></g><g transform=\"translate(16.372 41.856) scale(.1 -.1)\" fill=\"#545759\"><defs><path id=\"DejaVuSansMono-35\" transform=\"scale(.015625)\" d=\"m647 4666h2362v-532h-1787v-1146q134 50 270 73t274 23q725 0 1150-428t425-1159q0-738-446-1163-445-425-1217-425-372 0-680 50-307 50-551 150v641q287-156 578-233 291-76 594-76 522 0 804 275 283 275 283 781 0 500-292 778t-814 278q-253 0-494-58-240-57-459-173v2344z\"/></defs><use xlink:href=\"#DejaVuSansMono-49\"/><use x=\"60.205078\" xlink:href=\"#DejaVuSansMono-35\"/></g><g transform=\"translate(256.88 75.797) scale(.1 -.1)\" fill=\"#545759\"><defs><path id=\"DejaVuSansMono-36\" transform=\"scale(.015625)\" d=\"m3097 4563v-582q-197 116-419 177t-462 61q-600 0-910-452-309-451-309-1329 150 312 415 479 266 167 610 167 675 0 1045-414 371-414 371-1173 0-756-382-1172-381-416-1072-416-812 0-1190 583t-378 1836q0 1181 454 1801 455 621 1318 621 231 0 462-49 231-48 447-138zm-1125-1972q-403 0-635-291-231-291-231-803 0-513 231-804 232-290 635-290 419 0 631 276 213 277 213 818 0 544-213 819-212 275-631 275z\"/></defs><use xlink:href=\"#DejaVuSansMono-49\"/><use x=\"60.205078\" xlink:href=\"#DejaVuSansMono-36\"/></g><g transform=\"translate(164.89 145.81) scale(.1 -.1)\" fill=\"#545759\"><defs><path id=\"DejaVuSansMono-37\" transform=\"scale(.015625)\" d=\"m434 4666h2938v-269l-1669-4397h-659l1625 4134h-2235v532z\"/></defs><use xlink:href=\"#DejaVuSansMono-49\"/><use x=\"60.205078\" xlink:href=\"#DejaVuSansMono-37\"/></g><g transform=\"translate(258.91 145.77) scale(.1 -.1)\" fill=\"#545759\"><defs><path id=\"DejaVuSansMono-38\" transform=\"scale(.015625)\" d=\"m1925 2216q-422 0-652-236-229-236-229-667 0-432 232-671 233-239 649-239 425 0 654 236 230 236 230 674 0 428-233 665-232 238-651 238zm-550 262q-403 103-630 384-226 282-226 679 0 556 378 882 378 327 1028 327 653 0 1031-327 378-326 378-882 0-397-227-679-226-281-629-384 469-103 717-416 249-312 249-809 0-631-403-988-403-356-1116-356-712 0-1114 355t-402 983q0 500 248 814 249 314 718 417zm-228 1003q0-375 200-572 200-196 578-196 381 0 581 196 200 197 200 572 0 382-199 582-198 200-582 200-378 0-578-202t-200-580z\"/></defs><use xlink:href=\"#DejaVuSansMono-49\"/><use x=\"60.205078\" xlink:href=\"#DejaVuSansMono-38\"/></g><g transform=\"translate(325.51 83.769) scale(.1 -.1)\" fill=\"#545759\"><defs><path id=\"DejaVuSansMono-39\" transform=\"scale(.015625)\" d=\"m1863 2069q403 0 632 290 230 291 230 804 0 512-230 802-229 291-632 291-419 0-632-277-212-276-212-816 0-544 211-819t633-275zm-1125-1972v581q196-115 418-176t463-61q600 0 907 451 308 452 308 1330-146-313-412-480t-609-167q-675 0-1046 415-370 416-370 1179 0 753 379 1167 380 414 1074 414 813 0 1191-585 378-584 378-1837 0-1178-455-1799-455-620-1320-620-228 0-460 49-231 48-446 139z\"/></defs><use xlink:href=\"#DejaVuSansMono-49\"/><use x=\"60.205078\" xlink:href=\"#DejaVuSansMono-39\"/></g><g transform=\"translate(233.21 111.69) scale(.1 -.1)\" fill=\"#545759\"><use xlink:href=\"#DejaVuSansMono-49\"/><use x=\"60.205078\" xlink:href=\"#DejaVuSansMono-31\"/><use x=\"120.410156\" xlink:href=\"#DejaVuSansMono-30\"/></g><g transform=\"translate(181.01 18.587) scale(.1 -.1)\" fill=\"#545759\"><use xlink:href=\"#DejaVuSansMono-49\"/><use x=\"60.205078\" xlink:href=\"#DejaVuSansMono-31\"/><use x=\"120.410156\" xlink:href=\"#DejaVuSansMono-31\"/></g><defs><clipPath id=\"d6d6a0fb679\"><rect x=\"7.2\" y=\"7.2\" width=\"334.8\" height=\"144.43\"/></clipPath></defs></svg>"
      ],
      "text/plain": [
       "<Figure size 600x600 with 1 Axes>"
      ]
     },
     "metadata": {
      "needs_background": "light"
     },
     "output_type": "display_data"
    }
   ],
   "source": [
    "tn = qtn.TN_rand_reg(12, 3, 3, seed=42)\n",
    "tn.draw()"
   ]
  },
  {
   "cell_type": "code",
   "execution_count": 34,
   "id": "6172d29d-3dda-495b-aeff-9ea75e31a4bd",
   "metadata": {},
   "outputs": [
    {
     "data": {
      "image/svg+xml": [
       "<?xml version=\"1.0\" encoding=\"UTF-8\"?><!DOCTYPE svg  PUBLIC '-//W3C//DTD SVG 1.1//EN'  'http://www.w3.org/Graphics/SVG/1.1/DTD/svg11.dtd'><svg width=\"393.21pt\" height=\"212.81pt\" version=\"1.1\" viewBox=\"0 0 393.21 212.81\" xmlns=\"http://www.w3.org/2000/svg\" xmlns:xlink=\"http://www.w3.org/1999/xlink\"><defs><style type=\"text/css\">*{stroke-linejoin: round; stroke-linecap: butt}</style></defs><path d=\"m0 212.81h393.21v-212.81h-393.21v212.81z\" opacity=\"0\"/><path d=\"m261.47 57.267 43.212 18.543\" clip-path=\"url(#8d7961a6d39)\" fill=\"none\" stroke=\"#737880\" stroke-linecap=\"round\" stroke-opacity=\".5\" stroke-width=\"1.585\"/><path d=\"m261.47 57.267 47.423 38.148\" clip-path=\"url(#8d7961a6d39)\" fill=\"none\" stroke=\"#737880\" stroke-linecap=\"round\" stroke-opacity=\".5\" stroke-width=\"1.585\"/><path d=\"m261.47 57.267-80.077 3.3261\" clip-path=\"url(#8d7961a6d39)\" fill=\"none\" stroke=\"#737880\" stroke-linecap=\"round\" stroke-opacity=\".5\" stroke-width=\"1.585\"/><path d=\"m86.589 117.68 58.986 25.463\" clip-path=\"url(#8d7961a6d39)\" fill=\"none\" stroke=\"#737880\" stroke-linecap=\"round\" stroke-opacity=\".5\" stroke-width=\"1.585\"/><path d=\"m86.589 117.68 3.0845 23.187\" clip-path=\"url(#8d7961a6d39)\" fill=\"none\" stroke=\"#737880\" stroke-linecap=\"round\" stroke-opacity=\".5\" stroke-width=\"1.585\"/><path d=\"m86.589 117.68 31.563-28.47\" clip-path=\"url(#8d7961a6d39)\" fill=\"none\" stroke=\"#737880\" stroke-linecap=\"round\" stroke-opacity=\".5\" stroke-width=\"1.585\"/><path d=\"m130.24 152.85-12.085-63.635\" clip-path=\"url(#8d7961a6d39)\" fill=\"none\" stroke=\"#737880\" stroke-linecap=\"round\" stroke-opacity=\".5\" stroke-width=\"1.585\"/><path d=\"m130.24 152.85 70.372 3.8925\" clip-path=\"url(#8d7961a6d39)\" fill=\"none\" stroke=\"#737880\" stroke-linecap=\"round\" stroke-opacity=\".5\" stroke-width=\"1.585\"/><path d=\"m130.24 152.85-40.564-11.978\" clip-path=\"url(#8d7961a6d39)\" fill=\"none\" stroke=\"#737880\" stroke-linecap=\"round\" stroke-opacity=\".5\" stroke-width=\"1.585\"/><path d=\"m308.89 95.415-33.193 33.714\" clip-path=\"url(#8d7961a6d39)\" fill=\"none\" stroke=\"#737880\" stroke-linecap=\"round\" stroke-opacity=\".5\" stroke-width=\"1.585\"/><path d=\"m308.89 95.415-4.2111-19.605\" clip-path=\"url(#8d7961a6d39)\" fill=\"none\" stroke=\"#737880\" stroke-linecap=\"round\" stroke-opacity=\".5\" stroke-width=\"1.585\"/><path d=\"m275.7 129.13-75.087 27.609\" clip-path=\"url(#8d7961a6d39)\" fill=\"none\" stroke=\"#737880\" stroke-linecap=\"round\" stroke-opacity=\".5\" stroke-width=\"1.585\"/><path d=\"m275.7 129.13 28.982-53.319\" clip-path=\"url(#8d7961a6d39)\" fill=\"none\" stroke=\"#737880\" stroke-linecap=\"round\" stroke-opacity=\".5\" stroke-width=\"1.585\"/><path d=\"m145.57 143.14 55.034 13.594\" clip-path=\"url(#8d7961a6d39)\" fill=\"none\" stroke=\"#737880\" stroke-linecap=\"round\" stroke-opacity=\".5\" stroke-width=\"1.585\"/><path d=\"m145.57 143.14-9.7647-46.717\" clip-path=\"url(#8d7961a6d39)\" fill=\"none\" stroke=\"#737880\" stroke-linecap=\"round\" stroke-opacity=\".5\" stroke-width=\"1.585\"/><path d=\"m181.39 60.593-45.578 35.833\" clip-path=\"url(#8d7961a6d39)\" fill=\"none\" stroke=\"#737880\" stroke-linecap=\"round\" stroke-opacity=\".5\" stroke-width=\"1.585\"/><path d=\"m181.39 60.593-63.237 28.618\" clip-path=\"url(#8d7961a6d39)\" fill=\"none\" stroke=\"#737880\" stroke-linecap=\"round\" stroke-opacity=\".5\" stroke-width=\"1.585\"/><path d=\"m135.81 96.427-46.137 44.441\" clip-path=\"url(#8d7961a6d39)\" fill=\"none\" stroke=\"#737880\" stroke-linecap=\"round\" stroke-opacity=\".5\" stroke-width=\"1.585\"/><path d=\"m261.47 57.267 20.945-45.524\" clip-path=\"url(#8d7961a6d39)\" fill=\"none\" stroke=\"#737880\" stroke-linecap=\"round\" stroke-opacity=\".5\"/><path d=\"m86.589 117.68-54.103-6.9037\" clip-path=\"url(#8d7961a6d39)\" fill=\"none\" stroke=\"#737880\" stroke-linecap=\"round\" stroke-opacity=\".5\"/><path d=\"m130.24 152.85-25.542 48.333\" clip-path=\"url(#8d7961a6d39)\" fill=\"none\" stroke=\"#737880\" stroke-linecap=\"round\" stroke-opacity=\".5\"/><path d=\"m308.89 95.415 51.832 6.8563\" clip-path=\"url(#8d7961a6d39)\" fill=\"none\" stroke=\"#737880\" stroke-linecap=\"round\" stroke-opacity=\".5\"/><path d=\"m275.7 129.13 36.766 33.939\" clip-path=\"url(#8d7961a6d39)\" fill=\"none\" stroke=\"#737880\" stroke-linecap=\"round\" stroke-opacity=\".5\"/><path d=\"m304.68 75.81 45.07-26.347\" clip-path=\"url(#8d7961a6d39)\" fill=\"none\" stroke=\"#737880\" stroke-linecap=\"round\" stroke-opacity=\".5\"/><path d=\"m145.57 143.14 2.9837 51.685\" clip-path=\"url(#8d7961a6d39)\" fill=\"none\" stroke=\"#737880\" stroke-linecap=\"round\" stroke-opacity=\".5\"/><path d=\"m181.39 60.593 1.7161-49.97\" clip-path=\"url(#8d7961a6d39)\" fill=\"none\" stroke=\"#737880\" stroke-linecap=\"round\" stroke-opacity=\".5\"/><path d=\"m135.81 96.427-16.147-48.576\" clip-path=\"url(#8d7961a6d39)\" fill=\"none\" stroke=\"#737880\" stroke-linecap=\"round\" stroke-opacity=\".5\"/><path d=\"m89.673 140.87-47.832 26.549\" clip-path=\"url(#8d7961a6d39)\" fill=\"none\" stroke=\"#737880\" stroke-linecap=\"round\" stroke-opacity=\".5\"/><path d=\"m118.15 89.211-41.502-36.342\" clip-path=\"url(#8d7961a6d39)\" fill=\"none\" stroke=\"#737880\" stroke-linecap=\"round\" stroke-opacity=\".5\"/><path d=\"m200.61 156.74 20.822 45.446\" clip-path=\"url(#8d7961a6d39)\" fill=\"none\" stroke=\"#737880\" stroke-linecap=\"round\" stroke-opacity=\".5\"/><path d=\"m282.41 11.743z\" clip-path=\"url(#8d7961a6d39)\" fill=\"#ffffff\"/><path d=\"m32.485 110.78z\" clip-path=\"url(#8d7961a6d39)\" fill=\"#ffffff\"/><path d=\"m104.7 201.18z\" clip-path=\"url(#8d7961a6d39)\" fill=\"#ffffff\"/><path d=\"m360.72 102.27z\" clip-path=\"url(#8d7961a6d39)\" fill=\"#ffffff\"/><path d=\"m312.46 163.07z\" clip-path=\"url(#8d7961a6d39)\" fill=\"#ffffff\"/><path d=\"m349.75 49.463z\" clip-path=\"url(#8d7961a6d39)\" fill=\"#ffffff\"/><path d=\"m148.56 194.83z\" clip-path=\"url(#8d7961a6d39)\" fill=\"#ffffff\"/><path d=\"m183.1 10.623z\" clip-path=\"url(#8d7961a6d39)\" fill=\"#ffffff\"/><path d=\"m119.66 47.85z\" clip-path=\"url(#8d7961a6d39)\" fill=\"#ffffff\"/><path d=\"m41.841 167.42z\" clip-path=\"url(#8d7961a6d39)\" fill=\"#ffffff\"/><path d=\"m76.649 52.869z\" clip-path=\"url(#8d7961a6d39)\" fill=\"#ffffff\"/><path d=\"m221.43 202.18z\" clip-path=\"url(#8d7961a6d39)\" fill=\"#ffffff\"/><path d=\"m261.47 65.463c2.1737 0 4.2586-0.86361 5.7956-2.4006s2.4006-3.622 2.4006-5.7956-0.86361-4.2586-2.4006-5.7956-3.622-2.4006-5.7956-2.4006-4.2586 0.86361-5.7956 2.4006-2.4006 3.622-2.4006 5.7956 0.86361 4.2586 2.4006 5.7956 3.622 2.4006 5.7956 2.4006z\" clip-path=\"url(#8d7961a6d39)\" fill=\"#737880\" stroke=\"#5d6167\" stroke-width=\"1.3504\"/><path d=\"m86.589 125.88c2.1737 0 4.2586-0.86361 5.7956-2.4006s2.4006-3.622 2.4006-5.7956-0.86361-4.2586-2.4006-5.7956-3.622-2.4006-5.7956-2.4006-4.2586 0.86361-5.7956 2.4006-2.4006 3.622-2.4006 5.7956 0.86361 4.2586 2.4006 5.7956 3.622 2.4006 5.7956 2.4006z\" clip-path=\"url(#8d7961a6d39)\" fill=\"#737880\" stroke=\"#5d6167\" stroke-width=\"1.3504\"/><path d=\"m130.24 161.04c2.1737 0 4.2586-0.86361 5.7956-2.4006s2.4006-3.622 2.4006-5.7956-0.86361-4.2586-2.4006-5.7956-3.622-2.4006-5.7956-2.4006-4.2586 0.86361-5.7956 2.4006-2.4006 3.622-2.4006 5.7956 0.86361 4.2586 2.4006 5.7956 3.622 2.4006 5.7956 2.4006z\" clip-path=\"url(#8d7961a6d39)\" fill=\"#737880\" stroke=\"#5d6167\" stroke-width=\"1.3504\"/><path d=\"m308.89 103.61c2.1737 0 4.2586-0.86361 5.7956-2.4006s2.4006-3.622 2.4006-5.7956-0.86361-4.2586-2.4006-5.7956-3.622-2.4006-5.7956-2.4006-4.2586 0.86361-5.7956 2.4006-2.4006 3.622-2.4006 5.7956 0.86361 4.2586 2.4006 5.7956 3.622 2.4006 5.7956 2.4006z\" clip-path=\"url(#8d7961a6d39)\" fill=\"#737880\" stroke=\"#5d6167\" stroke-width=\"1.3504\"/><path d=\"m275.7 137.33c2.1737 0 4.2586-0.86361 5.7956-2.4006s2.4006-3.622 2.4006-5.7956c0-2.1737-0.86361-4.2586-2.4006-5.7956s-3.622-2.4006-5.7956-2.4006-4.2586 0.86361-5.7956 2.4006-2.4006 3.622-2.4006 5.7956c0 2.1737 0.86361 4.2586 2.4006 5.7956s3.622 2.4006 5.7956 2.4006z\" clip-path=\"url(#8d7961a6d39)\" fill=\"#737880\" stroke=\"#5d6167\" stroke-width=\"1.3504\"/><path d=\"m304.68 84.007c2.1737 0 4.2586-0.86361 5.7956-2.4006 1.537-1.537 2.4006-3.622 2.4006-5.7956s-0.86361-4.2586-2.4006-5.7956c-1.537-1.537-3.622-2.4006-5.7956-2.4006-2.1737 0-4.2586 0.86361-5.7956 2.4006-1.537 1.537-2.4006 3.622-2.4006 5.7956s0.86361 4.2586 2.4006 5.7956c1.537 1.537 3.622 2.4006 5.7956 2.4006z\" clip-path=\"url(#8d7961a6d39)\" fill=\"#737880\" stroke=\"#5d6167\" stroke-width=\"1.3504\"/><path d=\"m145.57 151.34c2.1737 0 4.2586-0.86361 5.7956-2.4006 1.537-1.537 2.4006-3.622 2.4006-5.7956s-0.86361-4.2586-2.4006-5.7956c-1.537-1.537-3.622-2.4006-5.7956-2.4006-2.1737 0-4.2586 0.86361-5.7956 2.4006-1.537 1.537-2.4006 3.622-2.4006 5.7956s0.86361 4.2586 2.4006 5.7956c1.537 1.537 3.622 2.4006 5.7956 2.4006z\" clip-path=\"url(#8d7961a6d39)\" fill=\"#737880\" stroke=\"#5d6167\" stroke-width=\"1.3504\"/><path d=\"m181.39 68.789c2.1737 0 4.2586-0.86361 5.7956-2.4006s2.4006-3.622 2.4006-5.7956-0.86361-4.2586-2.4006-5.7956-3.622-2.4006-5.7956-2.4006-4.2586 0.86361-5.7956 2.4006-2.4006 3.622-2.4006 5.7956 0.86361 4.2586 2.4006 5.7956 3.622 2.4006 5.7956 2.4006z\" clip-path=\"url(#8d7961a6d39)\" fill=\"#737880\" stroke=\"#5d6167\" stroke-width=\"1.3504\"/><path d=\"m135.81 104.62c2.1737 0 4.2586-0.86361 5.7956-2.4006s2.4006-3.622 2.4006-5.7956-0.86361-4.2586-2.4006-5.7956-3.622-2.4006-5.7956-2.4006-4.2586 0.86361-5.7956 2.4006-2.4006 3.622-2.4006 5.7956 0.86361 4.2586 2.4006 5.7956 3.622 2.4006 5.7956 2.4006z\" clip-path=\"url(#8d7961a6d39)\" fill=\"#737880\" stroke=\"#5d6167\" stroke-width=\"1.3504\"/><path d=\"m89.673 149.06c2.1737 0 4.2586-0.86361 5.7956-2.4006s2.4006-3.622 2.4006-5.7956-0.86361-4.2586-2.4006-5.7956-3.622-2.4006-5.7956-2.4006-4.2586 0.86361-5.7956 2.4006-2.4006 3.622-2.4006 5.7956 0.86361 4.2586 2.4006 5.7956 3.622 2.4006 5.7956 2.4006z\" clip-path=\"url(#8d7961a6d39)\" fill=\"#737880\" stroke=\"#5d6167\" stroke-width=\"1.3504\"/><path d=\"m118.15 97.407c2.1737 0 4.2586-0.86361 5.7956-2.4006s2.4006-3.622 2.4006-5.7956-0.86361-4.2586-2.4006-5.7956-3.622-2.4006-5.7956-2.4006-4.2586 0.86361-5.7956 2.4006-2.4006 3.622-2.4006 5.7956 0.86361 4.2586 2.4006 5.7956 3.622 2.4006 5.7956 2.4006z\" clip-path=\"url(#8d7961a6d39)\" fill=\"#737880\" stroke=\"#5d6167\" stroke-width=\"1.3504\"/><path d=\"m200.61 164.93c2.1737 0 4.2586-0.86361 5.7956-2.4006s2.4006-3.622 2.4006-5.7956-0.86361-4.2586-2.4006-5.7956-3.622-2.4006-5.7956-2.4006-4.2586 0.86361-5.7956 2.4006-2.4006 3.622-2.4006 5.7956 0.86361 4.2586 2.4006 5.7956 3.622 2.4006 5.7956 2.4006z\" clip-path=\"url(#8d7961a6d39)\" fill=\"#737880\" stroke=\"#5d6167\" stroke-width=\"1.3504\"/><g transform=\"translate(257.13 13.515) scale(.07 -.07)\" fill=\"#545759\"><defs><path id=\"DejaVuSansMono-5f\" transform=\"scale(.015625)\" d=\"m3853-1259v-250h-3853v250h3853z\"/><path id=\"DejaVuSansMono-38\" transform=\"scale(.015625)\" d=\"m1925 2216q-422 0-652-236-229-236-229-667 0-432 232-671 233-239 649-239 425 0 654 236 230 236 230 674 0 428-233 665-232 238-651 238zm-550 262q-403 103-630 384-226 282-226 679 0 556 378 882 378 327 1028 327 653 0 1031-327 378-326 378-882 0-397-227-679-226-281-629-384 469-103 717-416 249-312 249-809 0-631-403-988-403-356-1116-356-712 0-1114 355t-402 983q0 500 248 814 249 314 718 417zm-228 1003q0-375 200-572 200-196 578-196 381 0 581 196 200 197 200 572 0 382-199 582-198 200-582 200-378 0-578-202t-200-580z\"/><path id=\"DejaVuSansMono-33\" transform=\"scale(.015625)\" d=\"m2425 2497q459-122 703-433t244-776q0-644-433-1012-433-367-1198-367-322 0-657 60-334 59-656 172v628q319-166 628-247 310-81 616-81 519 0 797 234t278 675q0 406-278 645t-753 239h-482v519h482q434 0 678 190 244 191 244 532 0 359-227 551-227 193-645 193-278 0-575-63-297-62-622-187v581q378 100 673 150 296 50 524 50 681 0 1089-342t408-908q0-384-215-641-214-256-623-362z\"/><path id=\"DejaVuSansMono-35\" transform=\"scale(.015625)\" d=\"m647 4666h2362v-532h-1787v-1146q134 50 270 73t274 23q725 0 1150-428t425-1159q0-738-446-1163-445-425-1217-425-372 0-680 50-307 50-551 150v641q287-156 578-233 291-76 594-76 522 0 804 275 283 275 283 781 0 500-292 778t-814 278q-253 0-494-58-240-57-459-173v2344z\"/><path id=\"DejaVuSansMono-32\" transform=\"scale(.015625)\" d=\"m1166 531h2143v-531h-2834v531q584 616 1021 1088 438 472 604 665 313 382 422 618t109 482q0 391-230 613-229 222-629 222-284 0-597-103-312-103-662-313v638q321 153 632 231t614 78q685 0 1102-364t417-955q0-300-139-600t-451-662q-175-203-508-563-333-359-1014-1075z\"/><path id=\"DejaVuSansMono-30\" transform=\"scale(.015625)\" d=\"m1509 2344q0 172 120 297 121 125 290 125 175 0 300-125t125-297q0-175-124-297-123-122-301-122-175 0-293 119-117 119-117 300zm416 1906q-441 0-658-475t-217-1447q0-969 217-1444t658-475q444 0 661 475t217 1444q0 972-217 1447t-661 475zm0 500q747 0 1130-613 383-612 383-1809 0-1194-383-1807-383-612-1130-612t-1128 612q-381 613-381 1807 0 1197 381 1809 381 613 1128 613z\"/><path id=\"DejaVuSansMono-34\" transform=\"scale(.015625)\" d=\"m2297 4091-1472-2466h1472v2466zm-103 575h731v-3041h622v-512h-622v-1113h-628v1113h-1978v596l1875 2957z\"/><path id=\"DejaVuSansMono-41\" transform=\"scale(.015625)\" d=\"m1925 4109-666-2387h1332l-666 2387zm-381 557h765l1429-4666h-654l-343 1216h-1635l-337-1216h-653l1428 4666z\"/><path id=\"DejaVuSansMono-43\" transform=\"scale(.015625)\" d=\"m3353 166q-240-128-494-192-253-65-537-65-897 0-1393 634-495 635-495 1785 0 1144 498 1783 499 639 1390 639 284 0 537-64 254-64 494-192v-647q-231 191-497 291-265 100-534 100-616 0-922-475t-306-1435q0-956 306-1431t922-475q275 0 539 100t492 291v-647z\"/><path id=\"DejaVuSansMono-4a\" transform=\"scale(.015625)\" d=\"m341 191v737q284-253 587-380 303-126 628-126 447 0 623 233 177 233 177 867v2612h-1190v532h1822v-3144q0-881-330-1247t-1102-366q-300 0-597 69-296 69-618 213z\"/></defs><use xlink:href=\"#DejaVuSansMono-5f\"/><use x=\"60.205078\" xlink:href=\"#DejaVuSansMono-38\"/><use x=\"120.410156\" xlink:href=\"#DejaVuSansMono-33\"/><use x=\"180.615234\" xlink:href=\"#DejaVuSansMono-35\"/><use x=\"240.820312\" xlink:href=\"#DejaVuSansMono-32\"/><use x=\"301.025391\" xlink:href=\"#DejaVuSansMono-30\"/><use x=\"361.230469\" xlink:href=\"#DejaVuSansMono-34\"/><use x=\"421.435547\" xlink:href=\"#DejaVuSansMono-41\"/><use x=\"481.640625\" xlink:href=\"#DejaVuSansMono-41\"/><use x=\"541.845703\" xlink:href=\"#DejaVuSansMono-41\"/><use x=\"602.050781\" xlink:href=\"#DejaVuSansMono-43\"/><use x=\"662.255859\" xlink:href=\"#DejaVuSansMono-4a\"/></g><g transform=\"translate(7.2 112.55) scale(.07 -.07)\" fill=\"#545759\"><defs><path id=\"DejaVuSansMono-4b\" transform=\"scale(.015625)\" d=\"m428 4666h635v-2075l1971 2075h741l-1816-1907 1869-2759h-762l-1522 2338-481-513v-1825h-635v4666z\"/></defs><use xlink:href=\"#DejaVuSansMono-5f\"/><use x=\"60.205078\" xlink:href=\"#DejaVuSansMono-38\"/><use x=\"120.410156\" xlink:href=\"#DejaVuSansMono-33\"/><use x=\"180.615234\" xlink:href=\"#DejaVuSansMono-35\"/><use x=\"240.820312\" xlink:href=\"#DejaVuSansMono-32\"/><use x=\"301.025391\" xlink:href=\"#DejaVuSansMono-30\"/><use x=\"361.230469\" xlink:href=\"#DejaVuSansMono-34\"/><use x=\"421.435547\" xlink:href=\"#DejaVuSansMono-41\"/><use x=\"481.640625\" xlink:href=\"#DejaVuSansMono-41\"/><use x=\"541.845703\" xlink:href=\"#DejaVuSansMono-41\"/><use x=\"602.050781\" xlink:href=\"#DejaVuSansMono-43\"/><use x=\"662.255859\" xlink:href=\"#DejaVuSansMono-4b\"/></g><g transform=\"translate(79.41 202.95) scale(.07 -.07)\" fill=\"#545759\"><defs><path id=\"DejaVuSansMono-4c\" transform=\"scale(.015625)\" d=\"m672 4666h634v-4135h2253v-531h-2887v4666z\"/></defs><use xlink:href=\"#DejaVuSansMono-5f\"/><use x=\"60.205078\" xlink:href=\"#DejaVuSansMono-38\"/><use x=\"120.410156\" xlink:href=\"#DejaVuSansMono-33\"/><use x=\"180.615234\" xlink:href=\"#DejaVuSansMono-35\"/><use x=\"240.820312\" xlink:href=\"#DejaVuSansMono-32\"/><use x=\"301.025391\" xlink:href=\"#DejaVuSansMono-30\"/><use x=\"361.230469\" xlink:href=\"#DejaVuSansMono-34\"/><use x=\"421.435547\" xlink:href=\"#DejaVuSansMono-41\"/><use x=\"481.640625\" xlink:href=\"#DejaVuSansMono-41\"/><use x=\"541.845703\" xlink:href=\"#DejaVuSansMono-41\"/><use x=\"602.050781\" xlink:href=\"#DejaVuSansMono-43\"/><use x=\"662.255859\" xlink:href=\"#DejaVuSansMono-4c\"/></g><g transform=\"translate(335.44 104.04) scale(.07 -.07)\" fill=\"#545759\"><defs><path id=\"DejaVuSansMono-4d\" transform=\"scale(.015625)\" d=\"m269 4666h844l806-2375 812 2375h847v-4666h-584v4122l-831-2459h-479l-834 2459v-4122h-581v4666z\"/></defs><use xlink:href=\"#DejaVuSansMono-5f\"/><use x=\"60.205078\" xlink:href=\"#DejaVuSansMono-38\"/><use x=\"120.410156\" xlink:href=\"#DejaVuSansMono-33\"/><use x=\"180.615234\" xlink:href=\"#DejaVuSansMono-35\"/><use x=\"240.820312\" xlink:href=\"#DejaVuSansMono-32\"/><use x=\"301.025391\" xlink:href=\"#DejaVuSansMono-30\"/><use x=\"361.230469\" xlink:href=\"#DejaVuSansMono-34\"/><use x=\"421.435547\" xlink:href=\"#DejaVuSansMono-41\"/><use x=\"481.640625\" xlink:href=\"#DejaVuSansMono-41\"/><use x=\"541.845703\" xlink:href=\"#DejaVuSansMono-41\"/><use x=\"602.050781\" xlink:href=\"#DejaVuSansMono-43\"/><use x=\"662.255859\" xlink:href=\"#DejaVuSansMono-4d\"/></g><g transform=\"translate(287.18 164.84) scale(.07 -.07)\" fill=\"#545759\"><defs><path id=\"DejaVuSansMono-4e\" transform=\"scale(.015625)\" d=\"m434 4666h800l1575-3841v3841h610v-4666h-800l-1575 3841v-3841h-610v4666z\"/></defs><use xlink:href=\"#DejaVuSansMono-5f\"/><use x=\"60.205078\" xlink:href=\"#DejaVuSansMono-38\"/><use x=\"120.410156\" xlink:href=\"#DejaVuSansMono-33\"/><use x=\"180.615234\" xlink:href=\"#DejaVuSansMono-35\"/><use x=\"240.820312\" xlink:href=\"#DejaVuSansMono-32\"/><use x=\"301.025391\" xlink:href=\"#DejaVuSansMono-30\"/><use x=\"361.230469\" xlink:href=\"#DejaVuSansMono-34\"/><use x=\"421.435547\" xlink:href=\"#DejaVuSansMono-41\"/><use x=\"481.640625\" xlink:href=\"#DejaVuSansMono-41\"/><use x=\"541.845703\" xlink:href=\"#DejaVuSansMono-41\"/><use x=\"602.050781\" xlink:href=\"#DejaVuSansMono-43\"/><use x=\"662.255859\" xlink:href=\"#DejaVuSansMono-4e\"/></g><g transform=\"translate(324.46 51.236) scale(.07 -.07)\" fill=\"#545759\"><defs><path id=\"DejaVuSansMono-4f\" transform=\"scale(.015625)\" d=\"m2828 2328q0 1028-211 1469t-692 441q-478 0-689-441t-211-1469q0-1025 211-1466 211-440 689-440 481 0 692 439t211 1467zm660 0q0-1219-386-1819t-1177-600-1175 597-384 1822q0 1222 386 1822t1173 600q791 0 1177-600t386-1822z\"/></defs><use xlink:href=\"#DejaVuSansMono-5f\"/><use x=\"60.205078\" xlink:href=\"#DejaVuSansMono-38\"/><use x=\"120.410156\" xlink:href=\"#DejaVuSansMono-33\"/><use x=\"180.615234\" xlink:href=\"#DejaVuSansMono-35\"/><use x=\"240.820312\" xlink:href=\"#DejaVuSansMono-32\"/><use x=\"301.025391\" xlink:href=\"#DejaVuSansMono-30\"/><use x=\"361.230469\" xlink:href=\"#DejaVuSansMono-34\"/><use x=\"421.435547\" xlink:href=\"#DejaVuSansMono-41\"/><use x=\"481.640625\" xlink:href=\"#DejaVuSansMono-41\"/><use x=\"541.845703\" xlink:href=\"#DejaVuSansMono-41\"/><use x=\"602.050781\" xlink:href=\"#DejaVuSansMono-43\"/><use x=\"662.255859\" xlink:href=\"#DejaVuSansMono-4f\"/></g><g transform=\"translate(123.27 196.6) scale(.07 -.07)\" fill=\"#545759\"><defs><path id=\"DejaVuSansMono-50\" transform=\"scale(.015625)\" d=\"m1247 4147v-1753h731q438 0 683 231t245 647-244 645q-243 230-684 230h-731zm-631 519h1362q781 0 1184-355 404-355 404-1039 0-691-402-1044-401-353-1186-353h-731v-1875h-631v4666z\"/></defs><use xlink:href=\"#DejaVuSansMono-5f\"/><use x=\"60.205078\" xlink:href=\"#DejaVuSansMono-38\"/><use x=\"120.410156\" xlink:href=\"#DejaVuSansMono-33\"/><use x=\"180.615234\" xlink:href=\"#DejaVuSansMono-35\"/><use x=\"240.820312\" xlink:href=\"#DejaVuSansMono-32\"/><use x=\"301.025391\" xlink:href=\"#DejaVuSansMono-30\"/><use x=\"361.230469\" xlink:href=\"#DejaVuSansMono-34\"/><use x=\"421.435547\" xlink:href=\"#DejaVuSansMono-41\"/><use x=\"481.640625\" xlink:href=\"#DejaVuSansMono-41\"/><use x=\"541.845703\" xlink:href=\"#DejaVuSansMono-41\"/><use x=\"602.050781\" xlink:href=\"#DejaVuSansMono-43\"/><use x=\"662.255859\" xlink:href=\"#DejaVuSansMono-50\"/></g><g transform=\"translate(157.82 12.395) scale(.07 -.07)\" fill=\"#545759\"><defs><path id=\"DejaVuSansMono-51\" transform=\"scale(.015625)\" d=\"m2047-84q-22 0-63-3-40-4-65-4-781 0-1167 600t-386 1819q0 1222 386 1822t1173 600q791 0 1177-600t386-1822q0-919-215-1480-214-560-648-785l625-594-472-313-731 760zm781 2412q0 1028-211 1469t-692 441q-478 0-689-441t-211-1469q0-1025 211-1466 211-440 689-440 481 0 692 439t211 1467z\"/></defs><use xlink:href=\"#DejaVuSansMono-5f\"/><use x=\"60.205078\" xlink:href=\"#DejaVuSansMono-38\"/><use x=\"120.410156\" xlink:href=\"#DejaVuSansMono-33\"/><use x=\"180.615234\" xlink:href=\"#DejaVuSansMono-35\"/><use x=\"240.820312\" xlink:href=\"#DejaVuSansMono-32\"/><use x=\"301.025391\" xlink:href=\"#DejaVuSansMono-30\"/><use x=\"361.230469\" xlink:href=\"#DejaVuSansMono-34\"/><use x=\"421.435547\" xlink:href=\"#DejaVuSansMono-41\"/><use x=\"481.640625\" xlink:href=\"#DejaVuSansMono-41\"/><use x=\"541.845703\" xlink:href=\"#DejaVuSansMono-41\"/><use x=\"602.050781\" xlink:href=\"#DejaVuSansMono-43\"/><use x=\"662.255859\" xlink:href=\"#DejaVuSansMono-51\"/></g><g transform=\"translate(94.378 49.623) scale(.07 -.07)\" fill=\"#545759\"><defs><path id=\"DejaVuSansMono-52\" transform=\"scale(.015625)\" d=\"m2375 2203q244-62 416-236 172-173 428-692l634-1275h-678l-556 1178q-241 503-433 648-192 146-502 146h-603v-1972h-634v4666h1300q769 0 1178-347t409-1003q0-463-252-755-251-292-707-358zm-1294 1944v-1656h691q453 0 675 203t222 622q0 403-236 617t-686 214h-666z\"/></defs><use xlink:href=\"#DejaVuSansMono-5f\"/><use x=\"60.205078\" xlink:href=\"#DejaVuSansMono-38\"/><use x=\"120.410156\" xlink:href=\"#DejaVuSansMono-33\"/><use x=\"180.615234\" xlink:href=\"#DejaVuSansMono-35\"/><use x=\"240.820312\" xlink:href=\"#DejaVuSansMono-32\"/><use x=\"301.025391\" xlink:href=\"#DejaVuSansMono-30\"/><use x=\"361.230469\" xlink:href=\"#DejaVuSansMono-34\"/><use x=\"421.435547\" xlink:href=\"#DejaVuSansMono-41\"/><use x=\"481.640625\" xlink:href=\"#DejaVuSansMono-41\"/><use x=\"541.845703\" xlink:href=\"#DejaVuSansMono-41\"/><use x=\"602.050781\" xlink:href=\"#DejaVuSansMono-43\"/><use x=\"662.255859\" xlink:href=\"#DejaVuSansMono-52\"/></g><g transform=\"translate(16.556 169.19) scale(.07 -.07)\" fill=\"#545759\"><defs><path id=\"DejaVuSansMono-53\" transform=\"scale(.015625)\" d=\"m3163 4506v-640q-288 184-577 278t-583 94q-447 0-706-208t-259-561q0-310 170-473 170-162 636-271l331-75q656-153 956-481t300-894q0-666-413-1016-412-350-1199-350-328 0-660 71-331 70-665 211v672q359-229 679-335 321-106 646-106 478 0 743 214 266 214 266 598 0 350-183 534-182 185-636 285l-337 78q-650 147-944 444t-294 797q0 625 420 1001 421 377 1118 377 269 0 565-61 297-61 626-183z\"/></defs><use xlink:href=\"#DejaVuSansMono-5f\"/><use x=\"60.205078\" xlink:href=\"#DejaVuSansMono-38\"/><use x=\"120.410156\" xlink:href=\"#DejaVuSansMono-33\"/><use x=\"180.615234\" xlink:href=\"#DejaVuSansMono-35\"/><use x=\"240.820312\" xlink:href=\"#DejaVuSansMono-32\"/><use x=\"301.025391\" xlink:href=\"#DejaVuSansMono-30\"/><use x=\"361.230469\" xlink:href=\"#DejaVuSansMono-34\"/><use x=\"421.435547\" xlink:href=\"#DejaVuSansMono-41\"/><use x=\"481.640625\" xlink:href=\"#DejaVuSansMono-41\"/><use x=\"541.845703\" xlink:href=\"#DejaVuSansMono-41\"/><use x=\"602.050781\" xlink:href=\"#DejaVuSansMono-43\"/><use x=\"662.255859\" xlink:href=\"#DejaVuSansMono-53\"/></g><g transform=\"translate(51.364 54.642) scale(.07 -.07)\" fill=\"#545759\"><defs><path id=\"DejaVuSansMono-54\" transform=\"scale(.015625)\" d=\"m147 4666h3559v-532h-1459v-4134h-634v4134h-1466v532z\"/></defs><use xlink:href=\"#DejaVuSansMono-5f\"/><use x=\"60.205078\" xlink:href=\"#DejaVuSansMono-38\"/><use x=\"120.410156\" xlink:href=\"#DejaVuSansMono-33\"/><use x=\"180.615234\" xlink:href=\"#DejaVuSansMono-35\"/><use x=\"240.820312\" xlink:href=\"#DejaVuSansMono-32\"/><use x=\"301.025391\" xlink:href=\"#DejaVuSansMono-30\"/><use x=\"361.230469\" xlink:href=\"#DejaVuSansMono-34\"/><use x=\"421.435547\" xlink:href=\"#DejaVuSansMono-41\"/><use x=\"481.640625\" xlink:href=\"#DejaVuSansMono-41\"/><use x=\"541.845703\" xlink:href=\"#DejaVuSansMono-41\"/><use x=\"602.050781\" xlink:href=\"#DejaVuSansMono-43\"/><use x=\"662.255859\" xlink:href=\"#DejaVuSansMono-54\"/></g><g transform=\"translate(196.15 203.96) scale(.07 -.07)\" fill=\"#545759\"><defs><path id=\"DejaVuSansMono-55\" transform=\"scale(.015625)\" d=\"m459 1791v2875h635v-3163q0-340 18-486 19-145 66-223 100-185 289-279 189-93 458-93 272 0 459 93 188 94 291 279 47 78 65 221 19 144 19 482v3169h632v-2875q0-716-89-1018-89-301-308-498-206-184-472-275t-597-91q-328 0-594 91-265 91-475 275-215 194-306 501-91 308-91 1015z\"/></defs><use xlink:href=\"#DejaVuSansMono-5f\"/><use x=\"60.205078\" xlink:href=\"#DejaVuSansMono-38\"/><use x=\"120.410156\" xlink:href=\"#DejaVuSansMono-33\"/><use x=\"180.615234\" xlink:href=\"#DejaVuSansMono-35\"/><use x=\"240.820312\" xlink:href=\"#DejaVuSansMono-32\"/><use x=\"301.025391\" xlink:href=\"#DejaVuSansMono-30\"/><use x=\"361.230469\" xlink:href=\"#DejaVuSansMono-34\"/><use x=\"421.435547\" xlink:href=\"#DejaVuSansMono-41\"/><use x=\"481.640625\" xlink:href=\"#DejaVuSansMono-41\"/><use x=\"541.845703\" xlink:href=\"#DejaVuSansMono-41\"/><use x=\"602.050781\" xlink:href=\"#DejaVuSansMono-43\"/><use x=\"662.255859\" xlink:href=\"#DejaVuSansMono-55\"/></g><g transform=\"translate(255.45 60.053) scale(.1 -.1)\" fill=\"#545759\"><defs><path id=\"DejaVuSansMono-49\" transform=\"scale(.015625)\" d=\"m628 4666h2591v-532h-978v-3603h978v-531h-2591v531h978v3603h-978v532z\"/></defs><use xlink:href=\"#DejaVuSansMono-49\"/><use x=\"60.205078\" xlink:href=\"#DejaVuSansMono-30\"/></g><g transform=\"translate(80.568 120.47) scale(.1 -.1)\" fill=\"#545759\"><defs><path id=\"DejaVuSansMono-31\" transform=\"scale(.015625)\" d=\"m844 531h981v3566l-1056-238v575l1050 232h631v-4135h969v-531h-2575v531z\"/></defs><use xlink:href=\"#DejaVuSansMono-49\"/><use x=\"60.205078\" xlink:href=\"#DejaVuSansMono-31\"/></g><g transform=\"translate(124.22 155.63) scale(.1 -.1)\" fill=\"#545759\"><use xlink:href=\"#DejaVuSansMono-49\"/><use x=\"60.205078\" xlink:href=\"#DejaVuSansMono-32\"/></g><g transform=\"translate(302.87 98.201) scale(.1 -.1)\" fill=\"#545759\"><use xlink:href=\"#DejaVuSansMono-49\"/><use x=\"60.205078\" xlink:href=\"#DejaVuSansMono-33\"/></g><g transform=\"translate(269.68 131.92) scale(.1 -.1)\" fill=\"#545759\"><use xlink:href=\"#DejaVuSansMono-49\"/><use x=\"60.205078\" xlink:href=\"#DejaVuSansMono-34\"/></g><g transform=\"translate(298.66 78.596) scale(.1 -.1)\" fill=\"#545759\"><use xlink:href=\"#DejaVuSansMono-49\"/><use x=\"60.205078\" xlink:href=\"#DejaVuSansMono-35\"/></g><g transform=\"translate(139.55 145.93) scale(.1 -.1)\" fill=\"#545759\"><defs><path id=\"DejaVuSansMono-36\" transform=\"scale(.015625)\" d=\"m3097 4563v-582q-197 116-419 177t-462 61q-600 0-910-452-309-451-309-1329 150 312 415 479 266 167 610 167 675 0 1045-414 371-414 371-1173 0-756-382-1172-381-416-1072-416-812 0-1190 583t-378 1836q0 1181 454 1801 455 621 1318 621 231 0 462-49 231-48 447-138zm-1125-1972q-403 0-635-291-231-291-231-803 0-513 231-804 232-290 635-290 419 0 631 276 213 277 213 818 0 544-213 819-212 275-631 275z\"/></defs><use xlink:href=\"#DejaVuSansMono-49\"/><use x=\"60.205078\" xlink:href=\"#DejaVuSansMono-36\"/></g><g transform=\"translate(175.37 63.379) scale(.1 -.1)\" fill=\"#545759\"><defs><path id=\"DejaVuSansMono-37\" transform=\"scale(.015625)\" d=\"m434 4666h2938v-269l-1669-4397h-659l1625 4134h-2235v532z\"/></defs><use xlink:href=\"#DejaVuSansMono-49\"/><use x=\"60.205078\" xlink:href=\"#DejaVuSansMono-37\"/></g><g transform=\"translate(129.79 99.213) scale(.1 -.1)\" fill=\"#545759\"><use xlink:href=\"#DejaVuSansMono-49\"/><use x=\"60.205078\" xlink:href=\"#DejaVuSansMono-38\"/></g><g transform=\"translate(83.653 143.65) scale(.1 -.1)\" fill=\"#545759\"><defs><path id=\"DejaVuSansMono-39\" transform=\"scale(.015625)\" d=\"m1863 2069q403 0 632 290 230 291 230 804 0 512-230 802-229 291-632 291-419 0-632-277-212-276-212-816 0-544 211-819t633-275zm-1125-1972v581q196-115 418-176t463-61q600 0 907 451 308 452 308 1330-146-313-412-480t-609-167q-675 0-1046 415-370 416-370 1179 0 753 379 1167 380 414 1074 414 813 0 1191-585 378-584 378-1837 0-1178-455-1799-455-620-1320-620-228 0-460 49-231 48-446 139z\"/></defs><use xlink:href=\"#DejaVuSansMono-49\"/><use x=\"60.205078\" xlink:href=\"#DejaVuSansMono-39\"/></g><g transform=\"translate(109.12 91.997) scale(.1 -.1)\" fill=\"#545759\"><use xlink:href=\"#DejaVuSansMono-49\"/><use x=\"60.205078\" xlink:href=\"#DejaVuSansMono-31\"/><use x=\"120.410156\" xlink:href=\"#DejaVuSansMono-30\"/></g><g transform=\"translate(191.58 159.52) scale(.1 -.1)\" fill=\"#545759\"><use xlink:href=\"#DejaVuSansMono-49\"/><use x=\"60.205078\" xlink:href=\"#DejaVuSansMono-31\"/><use x=\"120.410156\" xlink:href=\"#DejaVuSansMono-31\"/></g><defs><clipPath id=\"8d7961a6d39\"><rect x=\"29.203\" y=\"8.7073\" width=\"334.8\" height=\"195.39\"/></clipPath></defs></svg>"
      ],
      "text/plain": [
       "<Figure size 600x600 with 1 Axes>"
      ]
     },
     "metadata": {
      "needs_background": "light"
     },
     "output_type": "display_data"
    }
   ],
   "source": [
    "# add a random dangling index to each tensor\n",
    "for t in tn:\n",
    "    t.new_ind(qtn.rand_uuid(), size=2)\n",
    "\n",
    "tn.draw()"
   ]
  },
  {
   "cell_type": "code",
   "execution_count": 35,
   "id": "155c4539-7be9-48b0-a17e-44c3460a7f4a",
   "metadata": {},
   "outputs": [
    {
     "data": {
      "text/plain": [
       "('_835204AAACJ',\n",
       " '_835204AAACK',\n",
       " '_835204AAACL',\n",
       " '_835204AAACM',\n",
       " '_835204AAACN',\n",
       " '_835204AAACO',\n",
       " '_835204AAACP',\n",
       " '_835204AAACQ',\n",
       " '_835204AAACR',\n",
       " '_835204AAACS',\n",
       " '_835204AAACT',\n",
       " '_835204AAACU')"
      ]
     },
     "execution_count": 35,
     "metadata": {},
     "output_type": "execute_result"
    }
   ],
   "source": [
    "# the TN efficiently keeps track of all indices and tags still\n",
    "tn.outer_inds()"
   ]
  },
  {
   "cell_type": "markdown",
   "id": "31fd7c7e-63e0-4984-99db-31857caf6a4b",
   "metadata": {
    "raw_mimetype": "text/restructuredtext",
    "tags": []
   },
   "source": [
    "See the page {ref}`tensor-network-design` for more details."
   ]
  }
 ],
 "metadata": {
  "celltoolbar": "Raw Cell Format",
  "kernelspec": {
   "display_name": "py312",
   "language": "python",
   "name": "python3"
  },
  "language_info": {
   "codemirror_mode": {
    "name": "ipython",
    "version": 3
   },
   "file_extension": ".py",
   "mimetype": "text/x-python",
   "name": "python",
   "nbconvert_exporter": "python",
   "pygments_lexer": "ipython3",
   "version": "3.12.6"
  }
 },
 "nbformat": 4,
 "nbformat_minor": 4
}
